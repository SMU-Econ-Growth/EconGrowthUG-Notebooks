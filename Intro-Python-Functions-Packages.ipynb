{
 "cells": [
  {
   "cell_type": "markdown",
   "id": "53b3bcfd-9813-42fb-88a7-b50288914788",
   "metadata": {
    "slideshow": {
     "slide_type": "slide"
    },
    "tags": [],
    "user_expressions": []
   },
   "source": [
    "# <center>Introduction to <img src=\"https://www.python.org/static/community_logos/python-logo-inkscape.svg\" alt=\"Python\" width=300/> and <img src=\"https://ipython.org/_static/IPy_header.png\" alt=\"IPython\" width=300/> using <img src=\"https://raw.githubusercontent.com/SMU-Econ-Growth/EconGrowthUG-Notebooks/f432ff2bc8a9dedb01d67399bf526ed1b5c69964//pics/jupyter-logo.png\" alt=\"Jupyter\" width=300/></center>"
   ]
  },
  {
   "cell_type": "markdown",
   "id": "7e02398d-0f57-4539-b4d7-b6d4538245c5",
   "metadata": {
    "slideshow": {
     "slide_type": "slide"
    },
    "tags": [],
    "user_expressions": []
   },
   "source": [
    "# Functions"
   ]
  },
  {
   "cell_type": "markdown",
   "id": "5f246534-a48e-4150-851e-f0da90d26b20",
   "metadata": {
    "slideshow": {
     "slide_type": "fragment"
    },
    "user_expressions": []
   },
   "source": [
    "Many times we need to perform computations or things Python does not know how to do natively. "
   ]
  },
  {
   "cell_type": "markdown",
   "id": "bf89e80a-f017-41ba-8805-a30e66903c04",
   "metadata": {
    "slideshow": {
     "slide_type": "fragment"
    },
    "user_expressions": []
   },
   "source": [
    "Other times, we want the same piece of code to work with other inputs (data, values, etc.)"
   ]
  },
  {
   "cell_type": "markdown",
   "id": "c5751808-07e3-4f61-9899-bc079f452d09",
   "metadata": {
    "slideshow": {
     "slide_type": "fragment"
    },
    "user_expressions": []
   },
   "source": [
    "What can we do?"
   ]
  },
  {
   "cell_type": "markdown",
   "id": "63e987c7-ffd2-4d2d-bd8f-0de396455ec6",
   "metadata": {
    "slideshow": {
     "slide_type": "subslide"
    },
    "tags": [],
    "user_expressions": []
   },
   "source": [
    "### Solution: Write a function"
   ]
  },
  {
   "cell_type": "markdown",
   "id": "fe26dda6-5b49-44fd-a615-6b6b34336ae2",
   "metadata": {
    "slideshow": {
     "slide_type": "fragment"
    },
    "user_expressions": []
   },
   "source": [
    "There are two ways of defining functions in Python:"
   ]
  },
  {
   "cell_type": "markdown",
   "id": "bd48bd9d-b3d7-40f6-aba3-1236b0769dc8",
   "metadata": {
    "slideshow": {
     "slide_type": "fragment"
    },
    "tags": [],
    "user_expressions": []
   },
   "source": [
    "1. Using *anonymous functions* via the `lambda` notation:\n",
    "```python\n",
    "my_function = lambda x: some_computations_based_on_x\n",
    "```  "
   ]
  },
  {
   "cell_type": "markdown",
   "id": "f3e9ba76-553d-457f-adb6-bc29ef05219a",
   "metadata": {
    "slideshow": {
     "slide_type": "fragment"
    },
    "tags": [],
    "user_expressions": []
   },
   "source": [
    "* `lambda` notation is useful to create functions on the go, especially when passing a function to others. We'll see examples and use it quite a bit later when we go into data analyses."
   ]
  },
  {
   "cell_type": "markdown",
   "id": "7e996441-0f4f-4514-850a-fbf4114689eb",
   "metadata": {
    "slideshow": {
     "slide_type": "fragment"
    },
    "tags": [],
    "user_expressions": []
   },
   "source": [
    "* A `lambda` function can take any number of arguments, but can only have one expression, i.e., you cannot perform complex computations."
   ]
  },
  {
   "cell_type": "markdown",
   "id": "61c3fa89-f5a8-4118-9a10-97dbc21eb50d",
   "metadata": {
    "slideshow": {
     "slide_type": "subslide"
    },
    "user_expressions": []
   },
   "source": [
    "2. Using the `def` statement:\n",
    "```python\n",
    "def my_function(x, y, z=Z):\n",
    "    '''\n",
    "    Explanation of what the function does\n",
    "    What are the inputs:\n",
    "    x: variable to be passed\n",
    "    y: variable to be passed\n",
    "    z: variable to be passed, Z is the default value\n",
    "    '''\n",
    "    perform_computations\n",
    "    return some_value_or_computation\n",
    "```"
   ]
  },
  {
   "cell_type": "markdown",
   "id": "12f2d753-cb1e-4077-b7de-d60a6e2f043d",
   "metadata": {
    "slideshow": {
     "slide_type": "subslide"
    },
    "tags": [],
    "user_expressions": []
   },
   "source": [
    "* Functions defined with the `def` statement can take any number of arguments, assign default values to them, and can have as many expressions as needed."
   ]
  },
  {
   "cell_type": "markdown",
   "id": "bd57eab5-bb0a-404f-8ec1-1e6792ee6161",
   "metadata": {
    "slideshow": {
     "slide_type": "fragment"
    },
    "tags": [],
    "user_expressions": []
   },
   "source": [
    "<div class=\"alert alert-block alert-info\">\n",
    "    <b>Note:</b> There is special horizontal spacing below the line that starts with <code>def</code> and all lines below it are aligned in the <code>def</code> statement. This is similar to the other statements we have seen so far.\n",
    "</div>"
   ]
  },
  {
   "cell_type": "markdown",
   "id": "c18dca89-faa3-4786-a33d-9fe66f21f969",
   "metadata": {
    "slideshow": {
     "slide_type": "subslide"
    }
   },
   "source": [
    "# Example"
   ]
  },
  {
   "cell_type": "markdown",
   "id": "9b64ed97-2227-4971-a38d-1f78d24199e1",
   "metadata": {
    "slideshow": {
     "slide_type": "fragment"
    },
    "tags": [],
    "user_expressions": []
   },
   "source": [
    "Let's create a function that computes the square of a number. Let's do it first using an anonymous function."
   ]
  },
  {
   "cell_type": "code",
   "execution_count": 1,
   "id": "170cabfa-2582-4fee-be4a-11809b1f5ae1",
   "metadata": {
    "slideshow": {
     "slide_type": "fragment"
    }
   },
   "outputs": [],
   "source": [
    "my_square = lambda x: x**2"
   ]
  },
  {
   "cell_type": "code",
   "execution_count": 2,
   "id": "f6659361-b1e3-440f-a147-2975f363a187",
   "metadata": {
    "slideshow": {
     "slide_type": "fragment"
    }
   },
   "outputs": [
    {
     "data": {
      "text/plain": [
       "16"
      ]
     },
     "execution_count": 2,
     "metadata": {},
     "output_type": "execute_result"
    }
   ],
   "source": [
    "my_square(4)"
   ]
  },
  {
   "cell_type": "code",
   "execution_count": 3,
   "id": "03d9ac2d-0091-492a-ae9c-059bd7439db6",
   "metadata": {
    "slideshow": {
     "slide_type": "fragment"
    }
   },
   "outputs": [
    {
     "data": {
      "text/plain": [
       "81"
      ]
     },
     "execution_count": 3,
     "metadata": {},
     "output_type": "execute_result"
    }
   ],
   "source": [
    "my_square(9)"
   ]
  },
  {
   "cell_type": "markdown",
   "id": "1deef93d-18b1-42e3-ad65-0535125e0cf7",
   "metadata": {
    "slideshow": {
     "slide_type": "subslide"
    },
    "tags": [],
    "user_expressions": []
   },
   "source": [
    "Now, let's create the same function using the `def` statement, which we will call create/write a function as opposed to an anonymous function."
   ]
  },
  {
   "cell_type": "code",
   "execution_count": 4,
   "id": "30cf0a1d-7507-4089-8842-d16468794f4e",
   "metadata": {
    "slideshow": {
     "slide_type": "fragment"
    }
   },
   "outputs": [],
   "source": [
    "def my_square_fn(x):\n",
    "    '''\n",
    "    This function takes an input x and returns x^2.\n",
    "    Parameters:\n",
    "    -----------\n",
    "    x: float, integer or any other number\n",
    "    \n",
    "    Returns:\n",
    "    --------\n",
    "    out = x**2\n",
    "    \n",
    "    Example:\n",
    "    >>> out = my_square_fn(4)\n",
    "    >>> out\n",
    "        16\n",
    "    '''\n",
    "    return x**2"
   ]
  },
  {
   "cell_type": "code",
   "execution_count": 5,
   "id": "5fd80b81-42f3-41fa-97a0-3a1f4bb07d20",
   "metadata": {
    "slideshow": {
     "slide_type": "subslide"
    }
   },
   "outputs": [
    {
     "data": {
      "text/plain": [
       "16"
      ]
     },
     "execution_count": 5,
     "metadata": {},
     "output_type": "execute_result"
    }
   ],
   "source": [
    "my_square_fn(4)"
   ]
  },
  {
   "cell_type": "code",
   "execution_count": 6,
   "id": "ff522b4f-77a2-493e-a4f0-0cf7c67b840a",
   "metadata": {
    "slideshow": {
     "slide_type": "fragment"
    }
   },
   "outputs": [],
   "source": [
    "my_square_fn??"
   ]
  },
  {
   "cell_type": "markdown",
   "id": "a6826b12-4cef-474a-a4b4-51f47e42d8d1",
   "metadata": {
    "slideshow": {
     "slide_type": "slide"
    },
    "tags": [],
    "user_expressions": []
   },
   "source": [
    "# Some useful functions in Python"
   ]
  },
  {
   "cell_type": "markdown",
   "id": "6048ecfd-c258-4b71-a4a4-e709ee37d7fc",
   "metadata": {
    "slideshow": {
     "slide_type": "subslide"
    },
    "tags": [],
    "user_expressions": []
   },
   "source": [
    "* `range(from, to, step)` creates a sequence of numbers from `from` to `to` increasing by `step`"
   ]
  },
  {
   "cell_type": "code",
   "execution_count": 7,
   "id": "00819892-82d8-4464-a798-7871516ec3ee",
   "metadata": {
    "slideshow": {
     "slide_type": "fragment"
    }
   },
   "outputs": [
    {
     "data": {
      "text/plain": [
       "[2, 5, 8, 11, 14, 17, 20]"
      ]
     },
     "execution_count": 7,
     "metadata": {},
     "output_type": "execute_result"
    }
   ],
   "source": [
    "list(range(2, 21, 3))"
   ]
  },
  {
   "cell_type": "code",
   "execution_count": 8,
   "id": "52b6c707-c2f2-4a3e-9fe3-80cdd0d2a72a",
   "metadata": {
    "slideshow": {
     "slide_type": "fragment"
    }
   },
   "outputs": [
    {
     "data": {
      "text/plain": [
       "[0, 1, 2, 3, 4]"
      ]
     },
     "execution_count": 8,
     "metadata": {},
     "output_type": "execute_result"
    }
   ],
   "source": [
    "list(range(5))"
   ]
  },
  {
   "cell_type": "code",
   "execution_count": 9,
   "id": "6e665946",
   "metadata": {},
   "outputs": [],
   "source": [
    " range?"
   ]
  },
  {
   "cell_type": "markdown",
   "id": "4937f60f-4d17-40fe-afdb-e6e196ebf5da",
   "metadata": {
    "slideshow": {
     "slide_type": "subslide"
    },
    "tags": [],
    "user_expressions": []
   },
   "source": [
    "* `print(string)` prints a string"
   ]
  },
  {
   "cell_type": "code",
   "execution_count": 10,
   "id": "f549b8b8-c7ec-4418-bdcf-f9f9551f5d32",
   "metadata": {
    "slideshow": {
     "slide_type": "fragment"
    }
   },
   "outputs": [
    {
     "name": "stdout",
     "output_type": "stream",
     "text": [
      "The square of 100 is 10000\n",
      "The square of 100 is 10000\n"
     ]
    }
   ],
   "source": [
    "print('The square of 100 is', my_square(100))\n",
    "print('The square of 100 is ' + str(my_square(100)))"
   ]
  },
  {
   "cell_type": "markdown",
   "id": "439d3935-336b-45fe-9631-c15ecb0cdc1e",
   "metadata": {
    "slideshow": {
     "slide_type": "subslide"
    },
    "tags": [],
    "user_expressions": []
   },
   "source": [
    "* `len(x)` returns the length of element `x`"
   ]
  },
  {
   "cell_type": "code",
   "execution_count": 11,
   "id": "33153265-d7e0-446c-b1d6-3cb14c2d2e8a",
   "metadata": {
    "slideshow": {
     "slide_type": "fragment"
    }
   },
   "outputs": [
    {
     "data": {
      "text/plain": [
       "100"
      ]
     },
     "execution_count": 11,
     "metadata": {},
     "output_type": "execute_result"
    }
   ],
   "source": [
    "len(range(100))"
   ]
  },
  {
   "cell_type": "code",
   "execution_count": 12,
   "id": "d9d31fdf-3d30-4146-94b7-9c2e03909657",
   "metadata": {
    "slideshow": {
     "slide_type": "fragment"
    }
   },
   "outputs": [
    {
     "data": {
      "text/plain": [
       "33"
      ]
     },
     "execution_count": 12,
     "metadata": {},
     "output_type": "execute_result"
    }
   ],
   "source": [
    "len('Some random string ndsyafsdasdwne')"
   ]
  },
  {
   "cell_type": "markdown",
   "id": "43dc9647-27ac-43c4-bcd0-3380ca29fe06",
   "metadata": {
    "slideshow": {
     "slide_type": "subslide"
    },
    "tags": [],
    "user_expressions": []
   },
   "source": [
    "* `type(x)` returns the type of `x`"
   ]
  },
  {
   "cell_type": "code",
   "execution_count": 13,
   "id": "f9ae945f-3d3a-42ff-8ff6-c57070b3a306",
   "metadata": {
    "slideshow": {
     "slide_type": "fragment"
    }
   },
   "outputs": [
    {
     "data": {
      "text/plain": [
       "str"
      ]
     },
     "execution_count": 13,
     "metadata": {},
     "output_type": "execute_result"
    }
   ],
   "source": [
    "type('hello')"
   ]
  },
  {
   "cell_type": "code",
   "execution_count": 14,
   "id": "e35a4a01-624e-4865-bc1a-6ed9421e0768",
   "metadata": {
    "slideshow": {
     "slide_type": "fragment"
    }
   },
   "outputs": [
    {
     "data": {
      "text/plain": [
       "float"
      ]
     },
     "execution_count": 14,
     "metadata": {},
     "output_type": "execute_result"
    }
   ],
   "source": [
    "type(3.1415)"
   ]
  },
  {
   "cell_type": "code",
   "execution_count": 15,
   "id": "9f079de8-df33-466b-a55d-beb96f43fdb3",
   "metadata": {
    "slideshow": {
     "slide_type": "fragment"
    }
   },
   "outputs": [
    {
     "data": {
      "text/plain": [
       "int"
      ]
     },
     "execution_count": 15,
     "metadata": {},
     "output_type": "execute_result"
    }
   ],
   "source": [
    "type(10)"
   ]
  },
  {
   "cell_type": "code",
   "execution_count": 16,
   "id": "15a7a8ab-8141-4f87-97fc-6db094ffbeab",
   "metadata": {
    "slideshow": {
     "slide_type": "fragment"
    }
   },
   "outputs": [
    {
     "data": {
      "text/plain": [
       "list"
      ]
     },
     "execution_count": 16,
     "metadata": {},
     "output_type": "execute_result"
    }
   ],
   "source": [
    "type([1, 'a', 3])"
   ]
  },
  {
   "cell_type": "markdown",
   "id": "177c2abc-d07a-4c88-bdd1-5b94e72e5337",
   "metadata": {
    "slideshow": {
     "slide_type": "slide"
    },
    "user_expressions": []
   },
   "source": [
    "## But what if Python does not have the function we need?"
   ]
  },
  {
   "cell_type": "markdown",
   "id": "7675af40-3eac-4db1-ae42-ab56e7e9d564",
   "metadata": {
    "slideshow": {
     "slide_type": "fragment"
    },
    "tags": [],
    "user_expressions": []
   },
   "source": [
    "## Do we need to write all the functions?"
   ]
  },
  {
   "cell_type": "markdown",
   "id": "f8d78b18-f3da-4a69-a44e-22c89bba5dcb",
   "metadata": {
    "slideshow": {
     "slide_type": "fragment"
    },
    "tags": [],
    "user_expressions": []
   },
   "source": [
    "## Luckily...No"
   ]
  },
  {
   "cell_type": "markdown",
   "id": "e51bea53-4d19-448e-8125-9807a803b5c1",
   "metadata": {
    "slideshow": {
     "slide_type": "slide"
    },
    "tags": [],
    "user_expressions": []
   },
   "source": [
    "# Extending Python's Functionality with Packages"
   ]
  },
  {
   "cell_type": "markdown",
   "id": "4bc0b4bd-9f93-407e-967d-f445d4f9461c",
   "metadata": {
    "slideshow": {
     "slide_type": "fragment"
    },
    "tags": [],
    "user_expressions": []
   },
   "source": [
    "One of the reasons people like Python is that there are lots of ready to use functions and solutions out there\n",
    "\n",
    "<center><img src=\"https://github.com/SMU-Econ-Growth/EconGrowthUG-Notebooks/blob/main/pics/X-files-truth-is-out-there.jpg?raw=true\" alt=\"X-files\" width=50%/></center>"
   ]
  },
  {
   "cell_type": "markdown",
   "id": "3b8538bc-fd25-4212-aa69-b5390dc4d2b4",
   "metadata": {
    "slideshow": {
     "slide_type": "subslide"
    },
    "user_expressions": []
   },
   "source": [
    "In order to use a package/module in Python or IPython, say `mypackage`, you need to import it, by executing\n",
    "```python\n",
    "import mypackage\n",
    "```"
   ]
  },
  {
   "cell_type": "markdown",
   "id": "074e410b-c942-44ca-aed4-b4ff33fd7630",
   "metadata": {
    "slideshow": {
     "slide_type": "fragment"
    },
    "user_expressions": []
   },
   "source": [
    "After executing this command, you will have access to the functions and objects defined in `mypackage`. \n",
    "For example, if `mypackage` has a function `squared` that takes a real number `x` and computes its square, \n",
    "we can use this function by calling `mypackage.squared(x)`. "
   ]
  },
  {
   "cell_type": "markdown",
   "id": "a1bb6c9d-fb7b-42d8-9df8-dd36650a9a97",
   "metadata": {
    "slideshow": {
     "slide_type": "subslide"
    },
    "tags": [],
    "user_expressions": []
   },
   "source": [
    "Since the name of some packages might be too long, your can give them a nickname by importing them instead as\n",
    "```python    \n",
    "import mypackage as myp\n",
    "```\n",
    "so now we could compute the square of `x` by calling `myp.squared(x)`."
   ]
  },
  {
   "cell_type": "markdown",
   "id": "f4b6d5a8-eb98-486a-bdc8-6077be55b300",
   "metadata": {
    "slideshow": {
     "slide_type": "subslide"
    },
    "tags": [],
    "user_expressions": []
   },
   "source": [
    "Sometimes we want to import only a function or a subpackage, in which case we use\n",
    "```python\n",
    "from mypackage import mysubpackage as mysp\n",
    "from mypackage import function\n",
    "```"
   ]
  },
  {
   "cell_type": "markdown",
   "id": "da0a1aa0-d2aa-49de-8ec7-94e62237362a",
   "metadata": {
    "slideshow": {
     "slide_type": "fragment"
    },
    "tags": [],
    "user_expressions": []
   },
   "source": [
    "We will use various packages that will be useful to do computations, statistics, plots, data management, etc."
   ]
  },
  {
   "cell_type": "markdown",
   "id": "f8f381fd",
   "metadata": {
    "slideshow": {
     "slide_type": "slide"
    }
   },
   "source": [
    "# Managing the Operating System with os"
   ]
  },
  {
   "cell_type": "markdown",
   "id": "71a3ab7c",
   "metadata": {
    "slideshow": {
     "slide_type": "fragment"
    }
   },
   "source": [
    "[os](https://docs.python.org/3/library/os.html) is the fundamental module to interact with your computer's operating system."
   ]
  },
  {
   "cell_type": "markdown",
   "id": "296b0cf3",
   "metadata": {
    "slideshow": {
     "slide_type": "subslide"
    }
   },
   "source": [
    "With `os` you can:"
   ]
  },
  {
   "cell_type": "markdown",
   "id": "ec7049c8",
   "metadata": {
    "slideshow": {
     "slide_type": "fragment"
    }
   },
   "source": [
    "* Get environment variables"
   ]
  },
  {
   "cell_type": "markdown",
   "id": "1c6b3b66",
   "metadata": {
    "slideshow": {
     "slide_type": "fragment"
    }
   },
   "source": [
    "* Verify if a file or directory exists"
   ]
  },
  {
   "cell_type": "markdown",
   "id": "dd86c3fb",
   "metadata": {
    "slideshow": {
     "slide_type": "fragment"
    }
   },
   "source": [
    "* Change directories"
   ]
  },
  {
   "cell_type": "markdown",
   "id": "56182090",
   "metadata": {
    "slideshow": {
     "slide_type": "fragment"
    }
   },
   "source": [
    "* Create a file or directory"
   ]
  },
  {
   "cell_type": "markdown",
   "id": "d3878ce8",
   "metadata": {
    "slideshow": {
     "slide_type": "fragment"
    }
   },
   "source": [
    "* Delete files or directories"
   ]
  },
  {
   "cell_type": "code",
   "execution_count": 17,
   "id": "2ba43a98",
   "metadata": {
    "slideshow": {
     "slide_type": "subslide"
    }
   },
   "outputs": [],
   "source": [
    "import os"
   ]
  },
  {
   "cell_type": "markdown",
   "id": "d8b7b630",
   "metadata": {
    "slideshow": {
     "slide_type": "fragment"
    }
   },
   "source": [
    "### Get the home directory of current user"
   ]
  },
  {
   "cell_type": "code",
   "execution_count": 18,
   "id": "0a96c92c",
   "metadata": {
    "slideshow": {
     "slide_type": "-"
    }
   },
   "outputs": [
    {
     "data": {
      "text/plain": [
       "'/Users/ozak'"
      ]
     },
     "execution_count": 18,
     "metadata": {},
     "output_type": "execute_result"
    }
   ],
   "source": [
    "os.getenv('HOME')"
   ]
  },
  {
   "cell_type": "markdown",
   "id": "3b2237e0",
   "metadata": {
    "slideshow": {
     "slide_type": "subslide"
    }
   },
   "source": [
    "### Verify if `pics` directory exists"
   ]
  },
  {
   "cell_type": "code",
   "execution_count": 19,
   "id": "794fa641",
   "metadata": {
    "slideshow": {
     "slide_type": "-"
    }
   },
   "outputs": [
    {
     "data": {
      "text/plain": [
       "True"
      ]
     },
     "execution_count": 19,
     "metadata": {},
     "output_type": "execute_result"
    }
   ],
   "source": [
    "os.path.exists('pics')"
   ]
  },
  {
   "cell_type": "markdown",
   "id": "e40d2831",
   "metadata": {
    "slideshow": {
     "slide_type": "subslide"
    }
   },
   "source": [
    "### Check if directory  `data` exists, otherwise create it"
   ]
  },
  {
   "cell_type": "code",
   "execution_count": 20,
   "id": "199a5712",
   "metadata": {},
   "outputs": [],
   "source": [
    "pathout = './data'\n",
    "if os.path.exists(pathout) == False:\n",
    "    os.mkdir(pathout)"
   ]
  },
  {
   "cell_type": "markdown",
   "id": "0338c7da",
   "metadata": {
    "slideshow": {
     "slide_type": "slide"
    }
   },
   "source": [
    "## Embedding websites or iframes or videos"
   ]
  },
  {
   "cell_type": "markdown",
   "id": "d5e6c012",
   "metadata": {
    "slideshow": {
     "slide_type": "subslide"
    }
   },
   "source": [
    "```python \n",
    "from IPython.display import IFrame\n",
    "\n",
    "# Replace 'your_iframe_url' with the actual URL of your iframe\n",
    "iframe_url = 'your_iframe_url'\n",
    "\n",
    "# Create an IFrame with specified width and height\n",
    "iframe = IFrame(iframe_url, width=600, height=400)\n",
    "\n",
    "# Display the IFrame\n",
    "iframe\n",
    "```"
   ]
  },
  {
   "cell_type": "code",
   "execution_count": 21,
   "id": "879315c6",
   "metadata": {
    "slideshow": {
     "slide_type": "subslide"
    }
   },
   "outputs": [
    {
     "data": {
      "text/html": [
       "\n",
       "        <iframe\n",
       "            width=\"100%\"\n",
       "            height=\"600px\"\n",
       "            src=\"https://ourworldindata.org\"\n",
       "            frameborder=\"0\"\n",
       "            allowfullscreen\n",
       "            \n",
       "        ></iframe>\n",
       "        "
      ],
      "text/plain": [
       "<IPython.lib.display.IFrame at 0x153052580>"
      ]
     },
     "execution_count": 21,
     "metadata": {},
     "output_type": "execute_result"
    }
   ],
   "source": [
    "from IPython.display import IFrame\n",
    "\n",
    "url = \"https://ourworldindata.org\"\n",
    "IFrame(url, width=\"100%\", height=\"600px\")\n"
   ]
  },
  {
   "cell_type": "code",
   "execution_count": 22,
   "id": "81545eb1",
   "metadata": {
    "slideshow": {
     "slide_type": "subslide"
    }
   },
   "outputs": [
    {
     "data": {
      "text/html": [
       "\n",
       "        <iframe\n",
       "            width=\"100%\"\n",
       "            height=\"600px\"\n",
       "            src=\"https://ourworldindata.org/grapher/countries-democracies-autocracies-row\"\n",
       "            frameborder=\"0\"\n",
       "            allowfullscreen\n",
       "            \n",
       "        ></iframe>\n",
       "        "
      ],
      "text/plain": [
       "<IPython.lib.display.IFrame at 0x1530524f0>"
      ]
     },
     "execution_count": 22,
     "metadata": {},
     "output_type": "execute_result"
    }
   ],
   "source": [
    "from IPython.display import IFrame\n",
    "\n",
    "IFrame(\"https://ourworldindata.org/grapher/countries-democracies-autocracies-row\", width=\"100%\", height=\"600px\")\n"
   ]
  },
  {
   "cell_type": "markdown",
   "id": "42cbc6bf",
   "metadata": {
    "slideshow": {
     "slide_type": "subslide"
    }
   },
   "source": [
    "### For YouTube videos\n",
    "```python\n",
    "from IPython.display import YouTubeVideo\n",
    "\n",
    "# Replace 'youtube_video_id' with the actual YouTube video ID\n",
    "youtube_video_id = 'your_video_id'\n",
    "\n",
    "# Create a YouTubeVideo object\n",
    "youtube_video = YouTubeVideo(youtube_video_id, width=800, height=600)\n",
    "\n",
    "# Display the YouTube video\n",
    "youtube_video\n",
    "```"
   ]
  },
  {
   "cell_type": "code",
   "execution_count": 23,
   "id": "7a1837e5",
   "metadata": {
    "slideshow": {
     "slide_type": "subslide"
    }
   },
   "outputs": [
    {
     "data": {
      "image/jpeg": "[encoded data removed]",
      "text/html": [
       "\n",
       "        <iframe\n",
       "            width=\"800\"\n",
       "            height=\"600\"\n",
       "            src=\"https://www.youtube.com/embed/WSKi8HfcxEk\"\n",
       "            frameborder=\"0\"\n",
       "            allowfullscreen\n",
       "            \n",
       "        ></iframe>\n",
       "        "
      ],
      "text/plain": [
       "<IPython.lib.display.YouTubeVideo at 0x153052ca0>"
      ]
     },
     "execution_count": 23,
     "metadata": {},
     "output_type": "execute_result"
    }
   ],
   "source": [
    "from IPython.display import YouTubeVideo\n",
    "\n",
    "# Replace 'youtube_video_id' with the actual YouTube video ID\n",
    "youtube_video_id = 'WSKi8HfcxEk'\n",
    "\n",
    "# Create a YouTubeVideo object\n",
    "youtube_video = YouTubeVideo(youtube_video_id, width=800, height=600)\n",
    "\n",
    "# Display the YouTube video\n",
    "youtube_video\n"
   ]
  },
  {
   "cell_type": "markdown",
   "id": "7c9360e5-168b-4218-be7e-bc2fcbe2f763",
   "metadata": {
    "slideshow": {
     "slide_type": "slide"
    },
    "tags": [],
    "user_expressions": []
   },
   "source": [
    "# Plots with \n",
    "<center><img src=\"https://raw.githubusercontent.com/SMU-Econ-Growth/EconGrowthUG-Notebooks/main/pics/matplotlib.svg\" alt=\"matplotlib\" width=25%/></center>"
   ]
  },
  {
   "cell_type": "markdown",
   "id": "409791a5-b70b-40b1-8cfb-b25875eae62e",
   "metadata": {
    "slideshow": {
     "slide_type": "fragment"
    },
    "tags": [],
    "user_expressions": []
   },
   "source": [
    "[Matplotlib](https://matplotlib.org/) is the fundamental package for plotting in Python. \n",
    "\n",
    "All other plotting packages are built on top of it and expand it.\n",
    "\n",
    "You can find examples of plots in their [Gallery](https://matplotlib.org/stable/gallery/index.html)."
   ]
  },
  {
   "cell_type": "markdown",
   "id": "502c990b-1189-46b1-8cbf-702cec718fe3",
   "metadata": {
    "slideshow": {
     "slide_type": "subslide"
    },
    "user_expressions": []
   },
   "source": [
    "It is the norm to import matplotlib and its pyplot component as follows (and I suggest you do the same):\n",
    "```python\n",
    "import matplotlib as mpl\n",
    "import matplotlib.pyplot as plt\n",
    "%matplotlib matlab_type\n",
    "```\n",
    "where `matlab_type` can be `inline` or `widget`. \n",
    "\n",
    "`widget` provides interactive plots, while `inline` generates static plots."
   ]
  },
  {
   "cell_type": "code",
   "execution_count": 24,
   "id": "e775db0c-a012-42ab-a348-919ce32e0460",
   "metadata": {
    "slideshow": {
     "slide_type": "fragment"
    }
   },
   "outputs": [],
   "source": [
    "import matplotlib as mpl\n",
    "import matplotlib.pyplot as plt\n",
    "%matplotlib widget"
   ]
  },
  {
   "cell_type": "markdown",
   "id": "5dbf1723-4aa8-4ff3-92d2-b1e5553cf9df",
   "metadata": {
    "slideshow": {
     "slide_type": "subslide"
    },
    "tags": [],
    "user_expressions": []
   },
   "source": [
    "Let's plot a line connecting a few points in a plot"
   ]
  },
  {
   "cell_type": "code",
   "execution_count": 25,
   "id": "d33f67c3-26a5-473a-8be3-0c9a20a03719",
   "metadata": {
    "slideshow": {
     "slide_type": "fragment"
    }
   },
   "outputs": [
    {
     "data": {
      "application/vnd.jupyter.widget-view+json": {
       "model_id": "2e798b0e00104b4484363a27cd3fb8ad",
       "version_major": 2,
       "version_minor": 0
      },
      "image/png": "[encoded data removed]",
      "text/html": [
       "\n",
       "            <div style=\"display: inline-block;\">\n",
       "                <div class=\"jupyter-widgets widget-label\" style=\"text-align: center;\">\n",
       "                    Figure\n",
       "                </div>\n",
       "                <img src='data:image/png;base64,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' width=640.0/>\n",
       "            </div>\n",
       "        "
      ],
      "text/plain": [
       "Canvas(toolbar=Toolbar(toolitems=[('Home', 'Reset original view', 'home', 'home'), ('Back', 'Back to previous …"
      ]
     },
     "metadata": {},
     "output_type": "display_data"
    }
   ],
   "source": [
    "x = [0, 1, 2, 3]\n",
    "y = [my_square(i) for i in x]\n",
    "plt.plot(x, y, c='r', marker='o', linestyle=':', label=r'$y=x^2$')\n",
    "plt.legend()\n",
    "plt.show()"
   ]
  },
  {
   "cell_type": "markdown",
   "id": "3f23bef1-942d-41f8-b273-13039bfff16e",
   "metadata": {
    "slideshow": {
     "slide_type": "subslide"
    },
    "user_expressions": []
   },
   "source": [
    "Let's plot various lines and points with different colors and styles, and add labels etc."
   ]
  },
  {
   "cell_type": "code",
   "execution_count": 26,
   "id": "f729e37d-2f03-4d11-90c4-d5251fac9e9f",
   "metadata": {
    "slideshow": {
     "slide_type": "fragment"
    }
   },
   "outputs": [],
   "source": [
    "x = [i/10 for i in range(0, 100)]\n",
    "y = [i**2 for i in x]\n",
    "z = [100 - 1/4 * i**2 + i for i in x]"
   ]
  },
  {
   "cell_type": "code",
   "execution_count": 27,
   "id": "4280695d-cc17-44c0-a941-162bd76a46be",
   "metadata": {
    "slideshow": {
     "slide_type": "subslide"
    }
   },
   "outputs": [
    {
     "data": {
      "application/vnd.jupyter.widget-view+json": {
       "model_id": "3e111843b62941be9b5a3df8dadc762e",
       "version_major": 2,
       "version_minor": 0
      },
      "image/png": "[encoded data removed]",
      "text/html": [
       "\n",
       "            <div style=\"display: inline-block;\">\n",
       "                <div class=\"jupyter-widgets widget-label\" style=\"text-align: center;\">\n",
       "                    Figure\n",
       "                </div>\n",
       "                <img src='data:image/png;base64,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' width=800.0/>\n",
       "            </div>\n",
       "        "
      ],
      "text/plain": [
       "Canvas(toolbar=Toolbar(toolitems=[('Home', 'Reset original view', 'home', 'home'), ('Back', 'Back to previous …"
      ]
     },
     "metadata": {},
     "output_type": "display_data"
    }
   ],
   "source": [
    "fig, ax = plt.subplots(figsize=(8,5))\n",
    "ax.plot(x, y, c='r', marker='o', markersize=4, linestyle='-.', label=r'$y=x^2$')\n",
    "ax.plot(x, z, c='b', marker='D', markersize=4, linestyle='-', label=r'$y=100-\\frac{1}{4}x^2 + x$')\n",
    "ax.set_xlabel(r'$x$', fontsize=18)\n",
    "ax.set_ylabel(r'Value', fontsize=18)\n",
    "ax.set_title(r'Some Plots', fontsize=24)\n",
    "ax.legend(fontsize=18)\n",
    "plt.savefig('./pics/some-plots.png')\n",
    "plt.savefig('./pics/some-plots.pdf')\n",
    "plt.show()"
   ]
  },
  {
   "cell_type": "markdown",
   "id": "8994817f-8ec2-412c-baa0-1724e85dc12b",
   "metadata": {
    "slideshow": {
     "slide_type": "slide"
    },
    "tags": [],
    "user_expressions": []
   },
   "source": [
    "# <center>Numerical Computations with NumPy</center>\n",
    "<center><img src=\"https://raw.githubusercontent.com/SMU-Econ-Growth/EconGrowthUG-Notebooks/main/pics/numpy.svg\" alt=\"NumPy\" width=10%/></center>"
   ]
  },
  {
   "cell_type": "markdown",
   "id": "84a13f1f-e844-4995-b533-ddac4794dc73",
   "metadata": {
    "slideshow": {
     "slide_type": "subslide"
    },
    "tags": [],
    "user_expressions": []
   },
   "source": [
    "[NumPy](https://numpy.org/) is one of the fundamental packages for scientific computing with Python.\n",
    "\n",
    "It provides many functions, objects, elements, etc. for doing all kinds of numerical computations, e.g.,\n",
    "* Constants: Euler, Pi\n",
    "* Matrices, vectors, arrays\n",
    "* Functions: Logarithms, roots, inverses\n",
    "* Random number generators\n",
    "* Optimization algorithms"
   ]
  },
  {
   "cell_type": "markdown",
   "id": "85a2b959-003b-470d-a718-76d9d63c66a6",
   "metadata": {
    "slideshow": {
     "slide_type": "subslide"
    },
    "tags": [],
    "user_expressions": []
   },
   "source": [
    "It is the norm to import NumPy as follows (and I suggest you do the same):\n",
    "```python\n",
    "import numpy as np\n",
    "```"
   ]
  },
  {
   "cell_type": "code",
   "execution_count": 28,
   "id": "b78e35ad-20b2-4b5b-9467-419fd3ca4327",
   "metadata": {
    "slideshow": {
     "slide_type": "fragment"
    }
   },
   "outputs": [],
   "source": [
    "import numpy as np"
   ]
  },
  {
   "cell_type": "markdown",
   "id": "63f0ebd1-64c0-4c84-bb9d-2e10608b71db",
   "metadata": {
    "slideshow": {
     "slide_type": "subslide"
    },
    "tags": [],
    "user_expressions": []
   },
   "source": [
    "Once it is imported we can start doing computations with it. \n",
    "\n",
    "The main type of object we will use is a NumPy array, which we create by\n",
    "```python\n",
    "my_array = np.array(list_of_numbers)\n",
    "```\n",
    "e.g.,"
   ]
  },
  {
   "cell_type": "code",
   "execution_count": 29,
   "id": "0b7e8bd4-8dd0-43fa-8368-e62d99a11a8e",
   "metadata": {
    "slideshow": {
     "slide_type": "subslide"
    }
   },
   "outputs": [],
   "source": [
    "c = [1, 2]\n",
    "d = [[1, 2], [3, 4]]\n",
    "ca = np.array(c)\n",
    "da = np.array(d) "
   ]
  },
  {
   "cell_type": "code",
   "execution_count": 30,
   "id": "05ec4d3f-8844-4655-bdf6-1785ada2ff8e",
   "metadata": {
    "slideshow": {
     "slide_type": "fragment"
    }
   },
   "outputs": [
    {
     "data": {
      "text/plain": [
       "array([1, 2])"
      ]
     },
     "execution_count": 30,
     "metadata": {},
     "output_type": "execute_result"
    }
   ],
   "source": [
    "ca"
   ]
  },
  {
   "cell_type": "code",
   "execution_count": 31,
   "id": "fc594fba-5e98-4344-9afd-8f3292a719dd",
   "metadata": {
    "slideshow": {
     "slide_type": "fragment"
    }
   },
   "outputs": [
    {
     "data": {
      "text/plain": [
       "array([[1, 2],\n",
       "       [3, 4]])"
      ]
     },
     "execution_count": 31,
     "metadata": {},
     "output_type": "execute_result"
    }
   ],
   "source": [
    "da"
   ]
  },
  {
   "cell_type": "markdown",
   "id": "21a004ea-bb09-4f7b-a08c-639970402993",
   "metadata": {
    "slideshow": {
     "slide_type": "subslide"
    },
    "user_expressions": []
   },
   "source": [
    "With our arrays we can easily perform computations on each element."
   ]
  },
  {
   "cell_type": "code",
   "execution_count": 32,
   "id": "7672a4f2-6a9a-4ee4-a26e-d27c60b9bc9a",
   "metadata": {
    "slideshow": {
     "slide_type": "fragment"
    }
   },
   "outputs": [
    {
     "data": {
      "text/plain": [
       "array([1, 4])"
      ]
     },
     "execution_count": 32,
     "metadata": {},
     "output_type": "execute_result"
    }
   ],
   "source": [
    "ca**2"
   ]
  },
  {
   "cell_type": "code",
   "execution_count": 33,
   "id": "20dc031c-b714-42d8-885f-04c5cc9a37e1",
   "metadata": {
    "slideshow": {
     "slide_type": "fragment"
    }
   },
   "outputs": [
    {
     "data": {
      "text/plain": [
       "array([[ 3,  6],\n",
       "       [ 9, 12]])"
      ]
     },
     "execution_count": 33,
     "metadata": {},
     "output_type": "execute_result"
    }
   ],
   "source": [
    "da * 3"
   ]
  },
  {
   "cell_type": "code",
   "execution_count": 34,
   "id": "f599a2ca-c891-4638-b6fd-056ddabb565c",
   "metadata": {
    "slideshow": {
     "slide_type": "fragment"
    }
   },
   "outputs": [
    {
     "data": {
      "text/plain": [
       "array([[1, 4],\n",
       "       [3, 8]])"
      ]
     },
     "execution_count": 34,
     "metadata": {},
     "output_type": "execute_result"
    }
   ],
   "source": [
    "ca*da"
   ]
  },
  {
   "cell_type": "markdown",
   "id": "935ce983-9d59-4d26-b683-4369a741ba62",
   "metadata": {
    "slideshow": {
     "slide_type": "subslide"
    },
    "tags": [],
    "user_expressions": []
   },
   "source": [
    "Arrays also have their own functions and properties"
   ]
  },
  {
   "cell_type": "code",
   "execution_count": 35,
   "id": "76579f1a-7160-46c2-b646-9b7f35e3b341",
   "metadata": {
    "slideshow": {
     "slide_type": "fragment"
    }
   },
   "outputs": [
    {
     "name": "stdout",
     "output_type": "stream",
     "text": [
      "(2,)\n",
      "(2, 2)\n"
     ]
    }
   ],
   "source": [
    "print(ca.shape)\n",
    "print(da.shape)"
   ]
  },
  {
   "cell_type": "code",
   "execution_count": 36,
   "id": "efbb7e0c-e949-4520-aafe-608853531e42",
   "metadata": {
    "slideshow": {
     "slide_type": "fragment"
    }
   },
   "outputs": [
    {
     "name": "stdout",
     "output_type": "stream",
     "text": [
      "da= [[1 2]\n",
      " [3 4]]\n",
      "Sum of all elements da.sum()= 10\n",
      "Sum of all elements in each column da.sum(axis=0)= [4 6]\n",
      "Sum of all elements in each row da.sum(axis=1)= [3 7]\n",
      "dot product is ca.dot(da)= [ 7 10]\n"
     ]
    }
   ],
   "source": [
    "print('da=', da)\n",
    "print('Sum of all elements da.sum()=', da.sum())\n",
    "print('Sum of all elements in each column da.sum(axis=0)=', da.sum(axis=0))\n",
    "print('Sum of all elements in each row da.sum(axis=1)=', da.sum(axis=1))\n",
    "print('dot product is ca.dot(da)=', ca.dot(da))"
   ]
  },
  {
   "cell_type": "markdown",
   "id": "9ca44bac-5234-4966-a761-c10107051272",
   "metadata": {
    "slideshow": {
     "slide_type": "subslide"
    },
    "user_expressions": []
   },
   "source": [
    "## We can create special arrays/matrices using Numpy's functions and classes"
   ]
  },
  {
   "cell_type": "code",
   "execution_count": 37,
   "id": "9e6068f6-bb11-414b-8cf4-e47552908dff",
   "metadata": {
    "slideshow": {
     "slide_type": "fragment"
    }
   },
   "outputs": [
    {
     "name": "stdout",
     "output_type": "stream",
     "text": [
      "[[1. 1. 1. 1.]\n",
      " [1. 1. 1. 1.]\n",
      " [1. 1. 1. 1.]]\n",
      "[[0. 0.]\n",
      " [0. 0.]]\n",
      "[[1. 0.]\n",
      " [0. 1.]]\n",
      "[1 1]\n"
     ]
    }
   ],
   "source": [
    "print(np.ones((3,4)))\n",
    "print(np.zeros((2,2)))\n",
    "print(np.eye(2))\n",
    "print(np.ones_like(ca))"
   ]
  },
  {
   "cell_type": "markdown",
   "id": "4d4e5111-5f5c-41c1-8e44-facfc02b8354",
   "metadata": {
    "slideshow": {
     "slide_type": "subslide"
    },
    "user_expressions": []
   },
   "source": [
    "## Random Numbers with `np.random`"
   ]
  },
  {
   "cell_type": "markdown",
   "id": "230b88a1-d657-466e-90e7-9130e509531b",
   "metadata": {
    "slideshow": {
     "slide_type": "fragment"
    },
    "user_expressions": []
   },
   "source": [
    "## Uniform distribution `np.random.uniform(low, high, size)`"
   ]
  },
  {
   "cell_type": "code",
   "execution_count": 38,
   "id": "bb3b2f57-a667-4d69-b3ff-745344f8e8b7",
   "metadata": {
    "slideshow": {
     "slide_type": "fragment"
    }
   },
   "outputs": [
    {
     "data": {
      "text/plain": [
       "array([ 0.68228828, -0.6426828 ,  0.54675652,  0.35216728, -0.02398257,\n",
       "        0.24148688, -0.00960952,  0.06387518,  0.54464288,  0.19230171])"
      ]
     },
     "execution_count": 38,
     "metadata": {},
     "output_type": "execute_result"
    }
   ],
   "source": [
    "np.random.uniform(-1,1,10)"
   ]
  },
  {
   "cell_type": "markdown",
   "id": "39b256cc-6fca-4a0e-9cde-d56f921754df",
   "metadata": {
    "slideshow": {
     "slide_type": "subslide"
    },
    "tags": [],
    "user_expressions": []
   },
   "source": [
    "## Normal Distribution `np.random.normal(loc, scale, size)`"
   ]
  },
  {
   "cell_type": "code",
   "execution_count": 39,
   "id": "a7baaae9-562f-4cb8-9cb7-a55a8e79770f",
   "metadata": {
    "slideshow": {
     "slide_type": "fragment"
    }
   },
   "outputs": [
    {
     "data": {
      "text/plain": [
       "array([[ 9.09276177,  9.45625567,  8.63550373],\n",
       "       [ 9.93681811, 10.18328699,  9.75598398],\n",
       "       [ 7.44914289,  9.17182573, 11.30925929]])"
      ]
     },
     "execution_count": 39,
     "metadata": {},
     "output_type": "execute_result"
    }
   ],
   "source": [
    "np.random.normal(10, 1, size=(3,3))"
   ]
  },
  {
   "cell_type": "markdown",
   "id": "5cf1aa80",
   "metadata": {
    "slideshow": {
     "slide_type": "subslide"
    }
   },
   "source": [
    "# Example"
   ]
  },
  {
   "cell_type": "markdown",
   "id": "8771bc81-897d-4c8e-b5e8-4929a09f5740",
   "metadata": {
    "slideshow": {
     "slide_type": "fragment"
    },
    "tags": [],
    "user_expressions": []
   },
   "source": [
    "Let's create a simple random walk and plot it. A random walk is a variable $x_t$ that satisfies\n",
    "$$\n",
    "x_{t+1} = a_0 + x_t + \\varepsilon_t\n",
    "$$\n",
    "where $a_0$ is some real number, known as *drift*, and $\\varepsilon_t$ is a random variable that is Normally distributed with mean 0 and standard deviation $\\sigma^2$, i.e., \n",
    "$$\n",
    "\\varepsilon_t\\sim\\mathcal{N}(0,\\sigma^2).\n",
    "$$\n",
    "For simplicity, let's assume the drift $a_0=0$."
   ]
  },
  {
   "cell_type": "code",
   "execution_count": 40,
   "id": "425939c6-b70a-4107-92d8-6ce8404f9286",
   "metadata": {
    "slideshow": {
     "slide_type": "subslide"
    }
   },
   "outputs": [
    {
     "data": {
      "application/vnd.jupyter.widget-view+json": {
       "model_id": "a97491a49b2b445699183a2094d5c341",
       "version_major": 2,
       "version_minor": 0
      },
      "image/png": "[encoded data removed]",
      "text/html": [
       "\n",
       "            <div style=\"display: inline-block;\">\n",
       "                <div class=\"jupyter-widgets widget-label\" style=\"text-align: center;\">\n",
       "                    Figure\n",
       "                </div>\n",
       "                <img src='data:image/png;base64,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' width=800.0/>\n",
       "            </div>\n",
       "        "
      ],
      "text/plain": [
       "Canvas(toolbar=Toolbar(toolitems=[('Home', 'Reset original view', 'home', 'home'), ('Back', 'Back to previous …"
      ]
     },
     "metadata": {},
     "output_type": "display_data"
    }
   ],
   "source": [
    "#np.random.seed(123456)\n",
    "x0 = 0\n",
    "x = [x0]\n",
    "[x.append(x[-1] + np.random.normal() ) for i in range(500)]\n",
    "fig, ax = plt.subplots(figsize=(8,5))\n",
    "ax.plot(x)\n",
    "plt.title(r'A simple random walk', fontsize=24)\n",
    "plt.xlabel(r'Period $t$', fontsize=18)\n",
    "plt.ylabel(r'$x_t$', fontsize=18)\n",
    "plt.show()"
   ]
  },
  {
   "cell_type": "markdown",
   "id": "b8ab4165-cd93-4219-8871-cbe63f32689b",
   "metadata": {
    "slideshow": {
     "slide_type": "subslide"
    },
    "tags": [],
    "user_expressions": []
   },
   "source": [
    "<div class=\"alert alert-block alert-warning\">\n",
    "    <b>Exercise 1:</b> Write a function that computes the level of output generated by a constant returns to scale Cobb-Douglas production function, i.e., such that it computes $A\\cdot K^\\alpha \\cdot L^{1-\\alpha}$.\n",
    "</div>"
   ]
  },
  {
   "cell_type": "code",
   "execution_count": 41,
   "id": "433f1c07-9587-41b2-bc14-ec9c62a04782",
   "metadata": {
    "slideshow": {
     "slide_type": "-"
    }
   },
   "outputs": [],
   "source": [
    "def CobbDouglas(K=1, L=1, A=1, alpha=0.3):\n",
    "    '''\n",
    "    This function computes the level of output of a Cobb-Douglas production function.\n",
    "    Given values of K, L, A, and alpha it returns $A\\cdot K^\\alpha \\cdot L^{1-\\alpha}$.\n",
    "    Parameters:\n",
    "    -----------\n",
    "    K: float, integer or any other number, default=1\n",
    "    L: float, integer or any other number, default=1\n",
    "    A: float, integer or any other number, default=1\n",
    "    alpha: float between (0,1), default=0.3\n",
    "    \n",
    "    Returns:\n",
    "    --------\n",
    "    out = A * K**alpha * L**(1-alpha)\n",
    "    \n",
    "    Example:\n",
    "    >>> out = CobbDouglas(4, 9, 2, 1/2)\n",
    "    >>> out\n",
    "        12\n",
    "    '''"
   ]
  },
  {
   "cell_type": "markdown",
   "id": "4108e0e6-b085-4adc-b552-de60240d2af9",
   "metadata": {
    "slideshow": {
     "slide_type": "subslide"
    },
    "tags": [],
    "user_expressions": []
   },
   "source": [
    "<div class=\"alert alert-block alert-warning\">\n",
    "    <b>Exercise 2:</b> Use the function you created and plot the production function as a function of $K$ for given values of $A$ and $L$. <b>Hint:</b> Use the <code>np.linspace(0, 5, 100)</code> function to create an array of values of $K$ with 100 point between 0 and 5.\n",
    "</div>"
   ]
  },
  {
   "cell_type": "markdown",
   "id": "65fadbca-afa5-4032-acab-28834bb3e7b0",
   "metadata": {
    "slideshow": {
     "slide_type": "fragment"
    },
    "tags": [],
    "user_expressions": []
   },
   "source": [
    "<div class=\"alert alert-block alert-warning\">\n",
    "    <b>Exercise 3:</b> Show with a plot the effect of increasing $A$ from 1 to 2, 4, or 5.\n",
    "</div>"
   ]
  },
  {
   "cell_type": "markdown",
   "id": "ff03a853-9ecc-49c8-9b85-0a23cfe0d617",
   "metadata": {
    "slideshow": {
     "slide_type": "fragment"
    },
    "tags": [],
    "user_expressions": []
   },
   "source": [
    "<div class=\"alert alert-block alert-warning\">\n",
    "    <b>Exercise 4:</b> Show with a plot the effect of increasing $L$ from 1 to 2, 4, 5.\n",
    "</div>"
   ]
  },
  {
   "cell_type": "markdown",
   "id": "47d77009",
   "metadata": {
    "slideshow": {
     "slide_type": "fragment"
    },
    "tags": [],
    "user_expressions": []
   },
   "source": [
    "<div class=\"alert alert-block alert-warning\">\n",
    "    <b>Exercise 5:</b> Save the previous plots into <b>png, jpeg, and pdf</b> files using the <code>plt.savefig</code> function.\n",
    "</div>"
   ]
  },
  {
   "cell_type": "markdown",
   "id": "bd043e94",
   "metadata": {
    "slideshow": {
     "slide_type": "subslide"
    },
    "tags": [],
    "user_expressions": []
   },
   "source": [
    "<div class=\"alert alert-block alert-warning\">\n",
    "    <b>Exercise 6:</b> Use the <code>IFrame</code> function to show the website from where you are planning to obtain data.\n",
    "</div>"
   ]
  },
  {
   "cell_type": "markdown",
   "id": "e1c1ad7a",
   "metadata": {
    "slideshow": {
     "slide_type": "fragment"
    }
   },
   "source": [
    "<div class=\"alert alert-block alert-warning\">\n",
    "    <b>Exercise 7:</b> Use the <code>IFrame</code> function to insert an iframe showing the graph for the evolution of <i>patent applications</i> by residents across the world using the <b>World Development Indicators</b> website.\n",
    "</div>"
   ]
  },
  {
   "cell_type": "markdown",
   "id": "7e069b15-d310-4a6f-909f-dc37469f76b7",
   "metadata": {
    "slideshow": {
     "slide_type": "slide"
    },
    "tags": [],
    "user_expressions": []
   },
   "source": [
    "Notebook written by [Ömer Özak](http://omerozak.com) for his students in Economics at [Southern Methodist University](http://www.smu.edu). Feel free to use, distribute, or contribute."
   ]
  },
  {
   "cell_type": "markdown",
   "id": "45b16c47-b621-4de7-bf4d-25e55e8c3509",
   "metadata": {
    "slideshow": {
     "slide_type": "-"
    },
    "tags": [],
    "user_expressions": []
   },
   "source": [
    "[<center><img src=\"https://github.com/measuring-culture/Expanding-Measurement-Culture-Facebook-JRSI/blob/main/pics/SMUlogowWordmarkRB.jpg?raw=true\" width=\"250\"></center>](http://omerozak.com)"
   ]
  }
 ],
 "metadata": {
  "celltoolbar": "Slideshow",
  "kernelspec": {
   "display_name": "Python 3 (ipykernel)",
   "language": "python",
   "name": "python3"
  },
  "language_info": {
   "codemirror_mode": {
    "name": "ipython",
    "version": 3
   },
   "file_extension": ".py",
   "mimetype": "text/x-python",
   "name": "python",
   "nbconvert_exporter": "python",
   "pygments_lexer": "ipython3",
   "version": "3.9.18"
  },
  "nbTranslate": {
   "displayLangs": [
    "*"
   ],
   "hotkey": "alt-t",
   "langInMainMenu": true,
   "sourceLang": "en",
   "targetLang": "fr",
   "useGoogleTranslate": true
  },
  "widgets": {
   "application/vnd.jupyter.widget-state+json": {
    "state": {},
    "version_major": 2,
    "version_minor": 0
   }
  }
 },
 "nbformat": 4,
 "nbformat_minor": 5
}
