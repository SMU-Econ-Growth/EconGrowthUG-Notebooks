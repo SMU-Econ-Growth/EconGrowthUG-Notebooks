{
 "cells": [
  {
   "cell_type": "markdown",
   "id": "53b3bcfd-9813-42fb-88a7-b50288914788",
   "metadata": {
    "slideshow": {
     "slide_type": "slide"
    },
    "tags": [],
    "user_expressions": []
   },
   "source": [
    "# <center>Introduction to <img src=\"https://www.python.org/static/community_logos/python-logo-inkscape.svg\" alt=\"Python\" width=300/> and <img src=\"https://ipython.org/_static/IPy_header.png\" alt=\"IPython\" width=300/> using <img src=\"https://raw.githubusercontent.com/SMU-Econ-Growth/EconGrowthUG-Notebooks/f432ff2bc8a9dedb01d67399bf526ed1b5c69964//pics/jupyter-logo.png\" alt=\"Jupyter\" width=300/></center>"
   ]
  },
  {
   "cell_type": "markdown",
   "id": "d5420d15-e348-48ce-a20c-b2ec54aff405",
   "metadata": {
    "slideshow": {
     "slide_type": "slide"
    }
   },
   "source": [
    "# Iterations"
   ]
  },
  {
   "cell_type": "markdown",
   "id": "9c419c36-2cf6-4625-aeff-b283a90d8cf0",
   "metadata": {
    "slideshow": {
     "slide_type": "subslide"
    }
   },
   "source": [
    "Sometimes we want to iterate over elements of a list, set, string or such in order to perfor operations with each element. This is done using a `for` statement, which looks like this\n",
    "\n",
    "```python\n",
    "for element in list_name:\n",
    "    perform_first_ operation_with_element\n",
    "    perform_another_ operation_with_element_or_result_of_previous_operation\n",
    "```"
   ]
  },
  {
   "cell_type": "markdown",
   "id": "0b05d057",
   "metadata": {
    "slideshow": {
     "slide_type": "fragment"
    },
    "tags": [],
    "user_expressions": []
   },
   "source": [
    "<div class=\"alert alert-block alert-info\">\n",
    "    <b>Note:</b> There is special horizontal spacing below the line that starts with <code>for</code> and all lines below it are aligned in the <code>for</code> statement.\n",
    "</div>"
   ]
  },
  {
   "cell_type": "markdown",
   "id": "d759a61f",
   "metadata": {
    "slideshow": {
     "slide_type": "subslide"
    }
   },
   "source": [
    "# How to write a `for` statement:"
   ]
  },
  {
   "cell_type": "markdown",
   "id": "1e3119e3",
   "metadata": {
    "slideshow": {
     "slide_type": "fragment"
    }
   },
   "source": [
    "1. Start with the word `for`"
   ]
  },
  {
   "cell_type": "markdown",
   "id": "613d04cc",
   "metadata": {
    "slideshow": {
     "slide_type": "fragment"
    }
   },
   "source": [
    "2. In the same line define a name for the variable you will use in the iterations. In the example we used `element`, but we coudl have named it `i`, `j`, `t`, `n`, or any other name. As before it is useful to choose a name that will let you know what it is. "
   ]
  },
  {
   "cell_type": "markdown",
   "id": "d07662cc",
   "metadata": {
    "slideshow": {
     "slide_type": "fragment"
    }
   },
   "source": [
    "3. Write the word `in` followed by the name of the list, set, etc. from which you will take elements to perfrom the operations."
   ]
  },
  {
   "cell_type": "markdown",
   "id": "3a641b4b",
   "metadata": {
    "slideshow": {
     "slide_type": "fragment"
    }
   },
   "source": [
    "4. Put a colon `:` at the end of that line."
   ]
  },
  {
   "cell_type": "markdown",
   "id": "61972adf",
   "metadata": {
    "slideshow": {
     "slide_type": "subslide"
    }
   },
   "source": [
    "5. In a new line, which should have a `tab` or 2 or 4 spaces, write the code for first operation you want to perform using the `element`."
   ]
  },
  {
   "cell_type": "markdown",
   "id": "c1e8a9c6",
   "metadata": {
    "slideshow": {
     "slide_type": "fragment"
    }
   },
   "source": [
    "6. Continue adding lines that start with the same horizontal spacing as in 5., i.e. a `tab` or 2 or 4 spaces."
   ]
  },
  {
   "cell_type": "markdown",
   "id": "a6264c20",
   "metadata": {
    "slideshow": {
     "slide_type": "fragment"
    }
   },
   "source": [
    "7. To finish the `for` statement, just start a line without the same horizontal spacing"
   ]
  },
  {
   "cell_type": "markdown",
   "id": "dc905272",
   "metadata": {
    "slideshow": {
     "slide_type": "subslide"
    }
   },
   "source": [
    "# Example"
   ]
  },
  {
   "cell_type": "markdown",
   "id": "e8db0fe3",
   "metadata": {
    "slideshow": {
     "slide_type": "-"
    }
   },
   "source": [
    "Let's iterate over the set of capitals and print a message saying \"XXX is a capital of a country.\" where we will replace XXX with the name of the capital."
   ]
  },
  {
   "cell_type": "code",
   "execution_count": 1,
   "id": "06b9e4d1",
   "metadata": {
    "slideshow": {
     "slide_type": "fragment"
    }
   },
   "outputs": [
    {
     "name": "stdout",
     "output_type": "stream",
     "text": [
      "Berlin  is a capital of a country.\n",
      "Bogotá  is a capital of a country.\n",
      "Washington, D.C.  is a capital of a country.\n",
      "3\n"
     ]
    }
   ],
   "source": [
    "set_of_capitals = {'Washington, D.C.', 'Bogotá', 'Berlin'}\n",
    "\n",
    "# Next line starts for statement\n",
    "for capital in set_of_capitals:\n",
    "    print(capital, \" is a capital of a country.\")\n",
    "# For statment ends\n",
    "print(1+2)"
   ]
  },
  {
   "cell_type": "markdown",
   "id": "cd213e1b",
   "metadata": {
    "slideshow": {
     "slide_type": "subslide"
    }
   },
   "source": [
    "# Example - Iteration over dictionaries"
   ]
  },
  {
   "cell_type": "markdown",
   "id": "910223ef",
   "metadata": {},
   "source": [
    "Let's iterate over our `top_bands` dictionary and print a message that says `X is a member of Y`."
   ]
  },
  {
   "cell_type": "code",
   "execution_count": 2,
   "id": "25f5dbcc",
   "metadata": {
    "code_folding": [],
    "slideshow": {
     "slide_type": "fragment"
    }
   },
   "outputs": [],
   "source": [
    "top_bands = {'The Beatles':{'John':[\"vocals\", \"guitars\", \"keyboards\", 'harmonica', \"bass\", \n",
    "                                    \"(1960–1969; died 1980)\"],\n",
    "                            'Paul':[\"vocals\", 'bass', 'guitars', 'keyboards', 'drums', \"(1960–1970)\"],\n",
    "                            'George':[\"guitars\", 'vocals', 'sitar', 'keyboards', 'bass', \n",
    "                                      \"(1960–1970; died 2001)\"],\n",
    "                            'Ringo':[\"drums\", 'percussion', 'vocals', \"(1962–1970)\"]\n",
    "                           },\n",
    "             'The Rolling Stones':{'Mick':[\"lead and backing vocals\", 'harmonica', 'rhythm guitar', \n",
    "                                           'percussion', 'keyboards', 'bass guitar', \"(1962–present)\"],\n",
    "                                   'Keith':['rhythm and lead guitars', 'bass guitar', 'keyboards', \n",
    "                                            'percussion', 'backing and lead vocals', '(1962–present)'],\n",
    "                                   'Ronnie':['lead and rhythm guitars', 'bass guitar', 'backing vocals', \n",
    "                                             '(1975–present)']\n",
    "                                  }\n",
    "            }"
   ]
  },
  {
   "cell_type": "code",
   "execution_count": 3,
   "id": "61839714",
   "metadata": {
    "slideshow": {
     "slide_type": "subslide"
    }
   },
   "outputs": [
    {
     "name": "stdout",
     "output_type": "stream",
     "text": [
      "John is a member of The Beatles\n",
      "Paul is a member of The Beatles\n",
      "George is a member of The Beatles\n",
      "Ringo is a member of The Beatles\n",
      "Mick is a member of The Rolling Stones\n",
      "Keith is a member of The Rolling Stones\n",
      "Ronnie is a member of The Rolling Stones\n"
     ]
    }
   ],
   "source": [
    "for key in top_bands:\n",
    "    for key2 in top_bands[key]:\n",
    "        print(key2, \"is a member of\", key)"
   ]
  },
  {
   "cell_type": "markdown",
   "id": "1fe62047",
   "metadata": {
    "slideshow": {
     "slide_type": "slide"
    }
   },
   "source": [
    "# Conditionals"
   ]
  },
  {
   "cell_type": "markdown",
   "id": "26714529",
   "metadata": {
    "slideshow": {
     "slide_type": "subslide"
    }
   },
   "source": [
    "Sometimes we want to execute code or perform a computation **if** a certain condition holds. This is done with an `if`, `elif`, `else` statement, which looks like this\n",
    "```python\n",
    "if condition1:\n",
    "    do_something\n",
    "elif condition2:\n",
    "    do_something_different\n",
    "else:\n",
    "    do_something_else\n",
    "```"
   ]
  },
  {
   "cell_type": "markdown",
   "id": "f4fcd8b3",
   "metadata": {
    "slideshow": {
     "slide_type": "fragment"
    }
   },
   "source": [
    "<div class=\"alert alert-block alert-info\">\n",
    "    <b>Note:</b> There is special horizontal spacing separating each condition that is tested.\n",
    "</div>"
   ]
  },
  {
   "cell_type": "markdown",
   "id": "560c6277",
   "metadata": {
    "slideshow": {
     "slide_type": "subslide"
    }
   },
   "source": [
    "# How to write an `if-elif-else` statement:"
   ]
  },
  {
   "cell_type": "markdown",
   "id": "326de3e1",
   "metadata": {
    "slideshow": {
     "slide_type": "fragment"
    }
   },
   "source": [
    "1. Start with the word `if`"
   ]
  },
  {
   "cell_type": "markdown",
   "id": "7212257b",
   "metadata": {
    "slideshow": {
     "slide_type": "fragment"
    }
   },
   "source": [
    "2. On the same line put the condition you want to be checked `condition1`"
   ]
  },
  {
   "cell_type": "markdown",
   "id": "c9ab27f1",
   "metadata": {
    "slideshow": {
     "slide_type": "fragment"
    }
   },
   "source": [
    "3. End the line with a colon `:`"
   ]
  },
  {
   "cell_type": "markdown",
   "id": "70a2c000",
   "metadata": {
    "slideshow": {
     "slide_type": "fragment"
    }
   },
   "source": [
    "4. On the next line add horizontal spacing (`tab`, 2 or 4 spaces)"
   ]
  },
  {
   "cell_type": "markdown",
   "id": "2d7a0c22",
   "metadata": {
    "slideshow": {
     "slide_type": "fragment"
    }
   },
   "source": [
    "5. On the same line write the code that will perform the computation you want to do **if `condition1` is true**"
   ]
  },
  {
   "cell_type": "markdown",
   "id": "2fb81b5a",
   "metadata": {
    "slideshow": {
     "slide_type": "subslide"
    }
   },
   "source": [
    "6. Continue adding all the code you want to perform **if `condition1` is true** on new lines with the same horizontal spacing"
   ]
  },
  {
   "cell_type": "markdown",
   "id": "b3aca22a",
   "metadata": {
    "slideshow": {
     "slide_type": "fragment"
    }
   },
   "source": [
    "7. If you have other conditions you want to test, start a new line **without horizontal spacing** and the words `elif`"
   ]
  },
  {
   "cell_type": "markdown",
   "id": "5ef0f40d",
   "metadata": {
    "slideshow": {
     "slide_type": "fragment"
    }
   },
   "source": [
    "8. Continue after `elif` with the same steps as in 2-6"
   ]
  },
  {
   "cell_type": "markdown",
   "id": "fc4268eb",
   "metadata": {
    "slideshow": {
     "slide_type": "fragment"
    }
   },
   "source": [
    "9. If you want to perform computation for any case not covered by all the previous conditions, start a new line **without horizontal spacing** with the word `else` and follow steps 2-6 again."
   ]
  },
  {
   "cell_type": "markdown",
   "id": "ba762d64",
   "metadata": {
    "slideshow": {
     "slide_type": "fragment"
    }
   },
   "source": [
    "10. To finish the `if` statement, just start a line without the same horizontal spacing"
   ]
  },
  {
   "cell_type": "markdown",
   "id": "09fa9f6a",
   "metadata": {
    "slideshow": {
     "slide_type": "subslide"
    }
   },
   "source": [
    "# Example"
   ]
  },
  {
   "cell_type": "markdown",
   "id": "1e867f7c",
   "metadata": {
    "slideshow": {
     "slide_type": "-"
    }
   },
   "source": [
    "Let's use our knowledge of conditionals to iterate over our list of cities, but only `print` the message \"XXX is a capital of a country.\" where we will replace XXX with the name of the city if it is a capital. Otherwise, we will `print` the message \"XXX is not a capital of a country.\""
   ]
  },
  {
   "cell_type": "code",
   "execution_count": 4,
   "id": "4d654e9c",
   "metadata": {
    "slideshow": {
     "slide_type": "fragment"
    }
   },
   "outputs": [
    {
     "name": "stdout",
     "output_type": "stream",
     "text": [
      "Dallas is not a capital of a country\n",
      "Berlin is a capital of a country\n",
      "Bogotá is a capital of a country\n",
      "Washington, D.C. is a capital of a country\n",
      "finished\n"
     ]
    }
   ],
   "source": [
    "set_of_cities = {'Washington, D.C.', 'Bogotá', 'Berlin', 'Dallas'}\n",
    "for city in set_of_cities:\n",
    "    if city not in set_of_capitals:\n",
    "        print(city, \"is not a capital of a country\")\n",
    "    else:\n",
    "        print(city, \"is a capital of a country\")\n",
    "print(\"finished\")"
   ]
  },
  {
   "cell_type": "markdown",
   "id": "b030be52",
   "metadata": {
    "slideshow": {
     "slide_type": "slide"
    }
   },
   "source": [
    "# Conditional Iterations"
   ]
  },
  {
   "cell_type": "markdown",
   "id": "31df3481",
   "metadata": {
    "slideshow": {
     "slide_type": "subslide"
    }
   },
   "source": [
    "Sometimes we want to perform some computations, especially iterations, only **while** some condition is true. This is especially useful for repetitive and humerical computations. To do this we use a `while` statement, which looks like this\n",
    "\n",
    "```python\n",
    "while condition_is_true:\n",
    "    perform_computations\n",
    "```"
   ]
  },
  {
   "cell_type": "markdown",
   "id": "09d6381e",
   "metadata": {
    "slideshow": {
     "slide_type": "fragment"
    }
   },
   "source": [
    "<div class=\"alert alert-block alert-info\">\n",
    "    <b>Note:</b> There is special horizontal spacing below the line that starts with <code>while</code> and all lines below it are aligned in the <code>while</code> statement.\n",
    "</div>"
   ]
  },
  {
   "cell_type": "markdown",
   "id": "6e7858a9",
   "metadata": {
    "slideshow": {
     "slide_type": "fragment"
    }
   },
   "source": [
    "<div class=\"alert alert-block alert-danger\">\n",
    "    <b>Careful:</b> If the <code>condition</code> is always true, the computer will continue iterating until the end of time. So you always want to put a condition to force it to stop after certain number of computations\n",
    "</div>"
   ]
  },
  {
   "cell_type": "markdown",
   "id": "17548ffa",
   "metadata": {
    "slideshow": {
     "slide_type": "subslide"
    }
   },
   "source": [
    "# How to write a `while` statement:"
   ]
  },
  {
   "cell_type": "markdown",
   "id": "786e2c37",
   "metadata": {
    "slideshow": {
     "slide_type": "fragment"
    }
   },
   "source": [
    "1. Start with the word `while`"
   ]
  },
  {
   "cell_type": "markdown",
   "id": "d1890228",
   "metadata": {
    "slideshow": {
     "slide_type": "fragment"
    }
   },
   "source": [
    "2. On the same line put the condition you want to hold while performing computations `condition_is_true`"
   ]
  },
  {
   "cell_type": "markdown",
   "id": "7243de67",
   "metadata": {
    "slideshow": {
     "slide_type": "fragment"
    }
   },
   "source": [
    "3. End the line with a colon `:`"
   ]
  },
  {
   "cell_type": "markdown",
   "id": "30e1356c",
   "metadata": {
    "slideshow": {
     "slide_type": "fragment"
    }
   },
   "source": [
    "4. On the next line add horizontal spacing (`tab`, 2 or 4 spaces)"
   ]
  },
  {
   "cell_type": "markdown",
   "id": "afb32d16",
   "metadata": {
    "slideshow": {
     "slide_type": "subslide"
    }
   },
   "source": [
    "5. On the same line write the code that will perform the computation you want to do **while `condition_is_true` holds**"
   ]
  },
  {
   "cell_type": "markdown",
   "id": "0a437845",
   "metadata": {
    "slideshow": {
     "slide_type": "fragment"
    }
   },
   "source": [
    "6. To finish the `while` statement, just start a line without the same horizontal spacing"
   ]
  },
  {
   "cell_type": "markdown",
   "id": "f50680a3",
   "metadata": {
    "slideshow": {
     "slide_type": "subslide"
    }
   },
   "source": [
    "# Example"
   ]
  },
  {
   "cell_type": "markdown",
   "id": "c62aabb5",
   "metadata": {
    "slideshow": {
     "slide_type": "-"
    }
   },
   "source": [
    "Let's find the smallest integer $n$ such that $n^2>100$. \n",
    "\n",
    "To do this, let's add 1 to a variable named `n`, which starts at 0. And let's do this until $n^2>100$."
   ]
  },
  {
   "cell_type": "code",
   "execution_count": 5,
   "id": "81a3a0cb",
   "metadata": {
    "slideshow": {
     "slide_type": "fragment"
    }
   },
   "outputs": [
    {
     "name": "stdout",
     "output_type": "stream",
     "text": [
      "11\n"
     ]
    }
   ],
   "source": [
    "n = 0\n",
    "while n**2<=100:\n",
    "    n = n + 1\n",
    "print(n)"
   ]
  },
  {
   "cell_type": "markdown",
   "id": "7dac2707",
   "metadata": {
    "slideshow": {
     "slide_type": "-"
    },
    "variables": {
     "n": {}
    }
   },
   "source": [
    "The smallest integer such that $n^2>100$ is {{n}}"
   ]
  },
  {
   "cell_type": "markdown",
   "id": "d779a6c6",
   "metadata": {
    "slideshow": {
     "slide_type": "slide"
    }
   },
   "source": [
    "# <center>Exercises</center>"
   ]
  },
  {
   "cell_type": "markdown",
   "id": "e22ff635",
   "metadata": {
    "slideshow": {
     "slide_type": "fragment"
    }
   },
   "source": [
    "<div class=\"alert alert-block alert-warning\">\n",
    "    <b>Exercise 1:</b> Use your dictionary <em>artist_best_song</em> to print messages that say \"X song is the best song of Y\".\n",
    "</div>"
   ]
  },
  {
   "cell_type": "markdown",
   "id": "06702cbf",
   "metadata": {
    "slideshow": {
     "slide_type": "fragment"
    }
   },
   "source": [
    "<div class=\"alert alert-block alert-warning\">\n",
    "    <b>Exercise 2:</b> Use your dictionaries <em>artist_best_song</em> and <em>favorite_song_artist</em> to check whether an artist's best song is also one of your favorite songs. If so, print messages that say \"X is my favorite song of artist Y, and it is also his/her best song\", where the message will correctly specify <em>her</em> or <em>his</em> depending on the gender of the artist. If it is not, it should print a message saying so also. (<b>Hint:</b> You may want to add more information to the dictionary, so it records the gender, or create a <em>gender_artist</em> that keep for each artist her/his gender)\n",
    "</div>"
   ]
  },
  {
   "cell_type": "markdown",
   "id": "f726da89",
   "metadata": {
    "slideshow": {
     "slide_type": "subslide"
    }
   },
   "source": [
    "<div class=\"alert alert-block alert-warning\">\n",
    "    <b>Exercise 3:</b> Use the dictionary <em>top_bands</em> to print messages that say for each member the band he belongs to, then another message that says the instruments they play, then a message that says the years they beloged to the band, and finally a message that says whether they are alive or not.\n",
    "</div>"
   ]
  },
  {
   "cell_type": "markdown",
   "id": "faf2c215",
   "metadata": {
    "slideshow": {
     "slide_type": "fragment"
    }
   },
   "source": [
    "<div class=\"alert alert-block alert-warning\">\n",
    "    <b>Exercise 4:</b> Find the largest integer $n$ such that $n^2<200$ and $n$ is even.\n",
    "</div>"
   ]
  },
  {
   "cell_type": "markdown",
   "id": "7e069b15-d310-4a6f-909f-dc37469f76b7",
   "metadata": {
    "slideshow": {
     "slide_type": "slide"
    },
    "tags": [],
    "user_expressions": []
   },
   "source": [
    "Notebook written by [Ömer Özak](http://omerozak.com) for his students and anyone wanting to learn. Feel free to use, distribute, or contribute."
   ]
  },
  {
   "cell_type": "markdown",
   "id": "45b16c47-b621-4de7-bf4d-25e55e8c3509",
   "metadata": {
    "slideshow": {
     "slide_type": "-"
    },
    "tags": [],
    "user_expressions": []
   },
   "source": [
    "[<center><img src=\"https://github.com/measuring-culture/Expanding-Measurement-Culture-Facebook-JRSI/blob/main/pics/SMUlogowWordmarkRB.jpg?raw=true\" width=\"250\"></center>](http://omerozak.com)"
   ]
  }
 ],
 "metadata": {
  "celltoolbar": "Slideshow",
  "kernelspec": {
   "display_name": "Python 3 (ipykernel)",
   "language": "python",
   "name": "python3"
  },
  "language_info": {
   "codemirror_mode": {
    "name": "ipython",
    "version": 3
   },
   "file_extension": ".py",
   "mimetype": "text/x-python",
   "name": "python",
   "nbconvert_exporter": "python",
   "pygments_lexer": "ipython3",
   "version": "3.9.18"
  },
  "nbTranslate": {
   "displayLangs": [
    "*"
   ],
   "hotkey": "alt-t",
   "langInMainMenu": true,
   "sourceLang": "en",
   "targetLang": "fr",
   "useGoogleTranslate": true
  },
  "widgets": {
   "application/vnd.jupyter.widget-state+json": {
    "state": {},
    "version_major": 2,
    "version_minor": 0
   }
  }
 },
 "nbformat": 4,
 "nbformat_minor": 5
}
