{
  "cells": [
    {
      "cell_type": "markdown",
      "source": "# <center>Using Geographic Information Systems (GIS) in <a href=\"http://www.qgis.org/\"><img src=\"./pics/QGis_Logo.png\" alt=\"QGIS\" style=\"width: 60px;\"/></a>[](http://www.qgis.org/) and <a href=\"http://www.python.org/\"><img src=\"./pics/python-logo.png\" alt=\"Python\" /></a></center>",
      "metadata": {
        "cell_id": "bdac94b02f5345c3b453495f2acce4f1",
        "slideshow": {
          "slide_type": "slide"
        },
        "user_expressions": [],
        "deepnote_cell_type": "markdown"
      },
      "block_group": "bdac94b02f5345c3b453495f2acce4f1"
    },
    {
      "cell_type": "markdown",
      "source": "## Geographic Information Systems (GIS)",
      "metadata": {
        "cell_id": "02aff24ca34f4051b0284d3980d222c3",
        "slideshow": {
          "slide_type": "slide"
        },
        "deepnote_cell_type": "markdown"
      },
      "block_group": "02aff24ca34f4051b0284d3980d222c3"
    },
    {
      "cell_type": "markdown",
      "source": "GIS refers to methods of storing, displaying and analyzing geogaphical information. These methods have become essential in economic analysis (as you have noticed from the reading list for our Ph.D. course on economic growth). For this reason, it is good that you acquaint yourself with these methods. They will prove very useful when doing research, especially to show the spatial distribution of your variables of interest, contructing new measures, or doing spatial analysis.",
      "metadata": {
        "cell_id": "1dfe9bab5ea0466d8c472311c4dff3bd",
        "slideshow": {
          "slide_type": "fragment"
        },
        "deepnote_cell_type": "markdown"
      },
      "block_group": "1dfe9bab5ea0466d8c472311c4dff3bd"
    },
    {
      "cell_type": "markdown",
      "source": "# Software",
      "metadata": {
        "cell_id": "657706f3074d470a89d767292c47ee55",
        "slideshow": {
          "slide_type": "slide"
        },
        "deepnote_cell_type": "markdown"
      },
      "block_group": "657706f3074d470a89d767292c47ee55"
    },
    {
      "cell_type": "markdown",
      "source": "## Commercial\n\nThere are various GIS specialized programs and packages. [ESRI](www.esri.com) produces ArcGIS, which is the most known and commonly used commercial software. It is very easy to use to produce maps and do simple computations. Most universities (including ours) offer it in their computer labs. The main disadvantages are that it requires a computer running Windows, it is costly, and extremely slow for computations. Of course this is changing, e.g., now you can use it online.\n\nNonetheless, I always suggest you use and learn open-source alternatives.",
      "metadata": {
        "cell_id": "492d99c3f48a4277b3fa62b8a684ba19",
        "slideshow": {
          "slide_type": "subslide"
        },
        "deepnote_cell_type": "markdown"
      },
      "block_group": "492d99c3f48a4277b3fa62b8a684ba19"
    },
    {
      "cell_type": "markdown",
      "source": "## Open Source\n\nThere are many open source GIS projects, many of which are supported/gathered at <a href=\"http://www.osgeo.org/\"><img src=\"./pics/OSGEO-logo.png\" alt=\"GRASS\" style=\"width: 80px;\"/></a>. The most known and widely used seem to be <a href=\"http://grass.osgeo.org/\"><img src=\"./pics/GRASS-logo.png\" alt=\"GRASS\" style=\"width: 100px;\"/></a> and <a href=\"http://www.qgis.org/\"><img src=\"./pics/QGis_Logo.png\" alt=\"QGIS\" style=\"width: 50px;\"/></a>, although Python is increasingly becoming the language of GIS. QGIS can be programmed in Python and many web-based GIS services and databases are programmed in Python. Furthermore, there are many new Python packages which allow you to import, export, analyze, visualize, etc. GIS data. THis notebook will serve as a basic introduction, which I hope to develop further with time. Many of the solutions provded here have been implemented by myself or taken from sources on the web (regretfully I did not keep track from where I took some ideas or snipplets of code, so I cannot provide due credit).",
      "metadata": {
        "cell_id": "379ebe6ea9e741a2a03c9963715ceb97",
        "slideshow": {
          "slide_type": "subslide"
        },
        "user_expressions": [],
        "deepnote_cell_type": "markdown"
      },
      "block_group": "379ebe6ea9e741a2a03c9963715ceb97"
    },
    {
      "cell_type": "markdown",
      "source": "# Getting Computational Tools for GIS ",
      "metadata": {
        "cell_id": "3cbcf0bbd5dd433f84f883df987f7e6d",
        "slideshow": {
          "slide_type": "slide"
        },
        "user_expressions": [],
        "deepnote_cell_type": "markdown"
      },
      "block_group": "3cbcf0bbd5dd433f84f883df987f7e6d"
    },
    {
      "cell_type": "markdown",
      "source": "# Anaconda (Suggested)\nIf you followed the steps for installing the Continuum Anaconda Python Distribution and for creating the ``GeoPythonXenv`` ([presented here](https://econgrowth.github.io/pages/Computation.html)), then you are basically set for working with GIS in Python + R. ",
      "metadata": {
        "cell_id": "152568bc1a0441e9b9b6975c6ec5be04",
        "slideshow": {
          "slide_type": "subslide"
        },
        "deepnote_cell_type": "markdown"
      },
      "block_group": "152568bc1a0441e9b9b6975c6ec5be04"
    },
    {
      "cell_type": "markdown",
      "source": "# QGIS\nInstall [QGIS](https://www.qgis.org) using their installers. On OSX you may need to follow the instructions below.",
      "metadata": {
        "cell_id": "8c4dfc82bc4444c79eb2f381f2e05e3d",
        "slideshow": {
          "slide_type": "subslide"
        },
        "deepnote_cell_type": "markdown"
      },
      "block_group": "8c4dfc82bc4444c79eb2f381f2e05e3d"
    },
    {
      "cell_type": "markdown",
      "source": "### Windows\n\nDownload the installers in each of these websites and you should be done!",
      "metadata": {
        "cell_id": "58255ee06f11455a93c1ad69be4ee1a2",
        "slideshow": {
          "slide_type": "subslide"
        },
        "user_expressions": [],
        "deepnote_cell_type": "markdown"
      },
      "block_group": "58255ee06f11455a93c1ad69be4ee1a2"
    },
    {
      "cell_type": "markdown",
      "source": "### Mac OSX\nThere are various methods of getting these on your computer.\n\n   1. Try the installers on each website\n   2. Use the installers provided by [Kyngchaos](http://www.kyngchaos.com/)\n   3. Use [HomeBrew](http://brew.sh/)\n   ",
      "metadata": {
        "tags": [],
        "cell_id": "93da63eb39c940c4bda14dab45a1dc0e",
        "slideshow": {
          "slide_type": "subslide"
        },
        "user_expressions": [],
        "deepnote_cell_type": "markdown"
      },
      "block_group": "93da63eb39c940c4bda14dab45a1dc0e"
    },
    {
      "cell_type": "markdown",
      "source": "I used to install using the installers provided by [Kyngchaos](http://www.kyngchaos.com/). But I have moved to using [HomeBrew](http://brew.sh/), which allows you install many other GNU projects. To do so, open a terminal window (I recommend getting [iTerm2](http://www.iterm2.com/), which is more powerful than the one provided by OSX) and run the following code (I think you will need to have Xcode and its command-line utilities installed)\n\n    ruby -e \"$(curl -fsSL https://raw.github.com/Homebrew/homebrew/go/install)\"\n    brew doctor\n    ",
      "metadata": {
        "tags": [],
        "cell_id": "2b9eb18598ac4a6982fd13abdaefba36",
        "slideshow": {
          "slide_type": "subslide"
        },
        "user_expressions": [],
        "deepnote_cell_type": "markdown"
      },
      "block_group": "2b9eb18598ac4a6982fd13abdaefba36"
    },
    {
      "cell_type": "markdown",
      "source": "This should install HomeBrew on your system and let you know of any issues. Once you have done so and have a working homebrew installation, you will be able to install packages and programs using the ``brew install`` command. Before doing so, you should run the following commands\n\n    brew update\n    brew tap homebrew/science\n    \n This will update HomeBrew's formulas to the latest version. Now issue the command\n \n     brew install --cask qgis\n     \n You should be done and have teh latest vanilla version of ``QGIS`` in your Applications folder.",
      "metadata": {
        "tags": [],
        "cell_id": "39be17d9c9144526823e5b2d2f6eb612",
        "slideshow": {
          "slide_type": "subslide"
        },
        "user_expressions": [],
        "deepnote_cell_type": "markdown"
      },
      "block_group": "39be17d9c9144526823e5b2d2f6eb612"
    },
    {
      "cell_type": "markdown",
      "source": "### Not a vanilla fan?\n\nOk. sometimes you want ``QGIS`` with all the additional blows and whistles, e.g. integration with ``GRASS``, etc. In that case, you need a bit more work. Luckily there are awesome people who are trying to keep this streamlined and working for all of us. Head to [osgeo4mac](https://github.com/OSGeo/homebrew-osgeo4mac) and follow their instructions.",
      "metadata": {
        "cell_id": "68fcc7f90d17442c91917c67fd40f77b",
        "slideshow": {
          "slide_type": "subslide"
        },
        "user_expressions": [],
        "deepnote_cell_type": "markdown"
      },
      "block_group": "68fcc7f90d17442c91917c67fd40f77b"
    },
    {
      "cell_type": "markdown",
      "source": "# Data",
      "metadata": {
        "cell_id": "6b41ee88b3dc41a49c023791a11759e9",
        "slideshow": {
          "slide_type": "slide"
        },
        "deepnote_cell_type": "markdown"
      },
      "block_group": "6b41ee88b3dc41a49c023791a11759e9"
    },
    {
      "cell_type": "markdown",
      "source": "Ok...now that we have a working GIS desktop system, let us talk a little about types of data. All GIS data includes elements with their properties and their geographical information like location, as determined by e.g. latitude and longitude, address, zip code, etc. So, for example an element might be a country, its properties might be GDP per capita, Gini coefficient, etc. and its location. Another example might be a restaurant with its menu and prices, services (dine-in, take-out, delivery), area of service and location. ",
      "metadata": {
        "cell_id": "d045d8fb8a8342f8886624f5d56f96ac",
        "slideshow": {
          "slide_type": "fragment"
        },
        "user_expressions": [],
        "deepnote_cell_type": "markdown"
      },
      "block_group": "d045d8fb8a8342f8886624f5d56f96ac"
    },
    {
      "cell_type": "markdown",
      "source": "## Vector Data\n\nVector data are composed of discrete geometric locations (x, y values) known as vertices that define the “shape” of the spatial object. The organization of the vertices determines the type of vector that you are working with. There are three types of vector data:",
      "metadata": {
        "tags": [],
        "cell_id": "e66f16abfdb2471aa6736af1c0c880d3",
        "slideshow": {
          "slide_type": "subslide"
        },
        "user_expressions": [],
        "deepnote_cell_type": "markdown"
      },
      "block_group": "e66f16abfdb2471aa6736af1c0c880d3"
    },
    {
      "cell_type": "markdown",
      "source": "* Points: Each individual point is defined by a single x, y coordinate. There can be many points in a vector point file. Examples of point data include: sampling locations, the location of individual trees or the location of plots.",
      "metadata": {
        "tags": [],
        "cell_id": "c3e7926f270545679dec64526fe2e121",
        "slideshow": {
          "slide_type": "fragment"
        },
        "user_expressions": [],
        "deepnote_cell_type": "markdown"
      },
      "block_group": "c3e7926f270545679dec64526fe2e121"
    },
    {
      "cell_type": "markdown",
      "source": "* Lines: Lines are composed of many (at least 2) vertices, or points, that are connected. For instance, a road or a stream may be represented by a line. This line is composed of a series of segments, each “bend” in the road or stream represents a vertex that has defined x, y location.",
      "metadata": {
        "tags": [],
        "cell_id": "e794a9bfad17493d81c36a750f418a7d",
        "slideshow": {
          "slide_type": "fragment"
        },
        "user_expressions": [],
        "deepnote_cell_type": "markdown"
      },
      "block_group": "e794a9bfad17493d81c36a750f418a7d"
    },
    {
      "cell_type": "markdown",
      "source": "* Polygons: A polygon consists of 3 or more vertices that are connected and “closed”. Thus the outlines of plot boundaries, lakes, oceans, and states or countries are often represented by polygons. Occasionally, a polygon can have a hole in the middle of it (like a doughnut), this is something to be aware of but not an issue you will deal with in this tutorial.",
      "metadata": {
        "tags": [],
        "cell_id": "92aabe724b4a439fa1f60e93f23f1dd3",
        "slideshow": {
          "slide_type": "fragment"
        },
        "user_expressions": [],
        "deepnote_cell_type": "markdown"
      },
      "block_group": "92aabe724b4a439fa1f60e93f23f1dd3"
    },
    {
      "cell_type": "markdown",
      "source": "<center> <img src=\"./pics/vector-data.png\" alt=\"Vector Data\" style=\"width: 800px;\"/></center>",
      "metadata": {
        "tags": [],
        "cell_id": "2997461268e449bbad361095b0442d1c",
        "slideshow": {
          "slide_type": "subslide"
        },
        "user_expressions": [],
        "deepnote_cell_type": "markdown"
      },
      "block_group": "2997461268e449bbad361095b0442d1c"
    },
    {
      "cell_type": "markdown",
      "source": "##  Spatial Data Attributes",
      "metadata": {
        "tags": [],
        "cell_id": "1ad6e0ec4ce44641a00990f9e9cadf26",
        "slideshow": {
          "slide_type": "subslide"
        },
        "user_expressions": [],
        "deepnote_cell_type": "markdown"
      },
      "block_group": "1ad6e0ec4ce44641a00990f9e9cadf26"
    },
    {
      "cell_type": "markdown",
      "source": "* Each object in a shapefile has one or more attributes associated with it. ",
      "metadata": {
        "tags": [],
        "cell_id": "be50279aa6944b479892b46a85ab6efb",
        "slideshow": {
          "slide_type": "fragment"
        },
        "user_expressions": [],
        "deepnote_cell_type": "markdown"
      },
      "block_group": "be50279aa6944b479892b46a85ab6efb"
    },
    {
      "cell_type": "markdown",
      "source": "* Shapefile attributes are similar to fields or columns in a spreadsheet. \n    * Each row in the spreadsheet has a set of columns associated with it that describe the row element. \n    * In the case of a shapefile, each row represents a spatial object - for example, a road, represented as a line in a line shapefile, will have one “row” of attributes associated with it. ",
      "metadata": {
        "tags": [],
        "cell_id": "0688c1ddd03747a2849e81ad811d6aed",
        "slideshow": {
          "slide_type": "fragment"
        },
        "user_expressions": [],
        "deepnote_cell_type": "markdown"
      },
      "block_group": "0688c1ddd03747a2849e81ad811d6aed"
    },
    {
      "cell_type": "markdown",
      "source": "* These attributes can include different types of information that describe objects stored within a shapefile. Thus, our road, may have a name, length, number of lanes, speed limit, type of road and other attributes stored with it.",
      "metadata": {
        "tags": [],
        "cell_id": "8241f8d7c2b54b1281b3cb13c5c1e24e",
        "slideshow": {
          "slide_type": "fragment"
        },
        "user_expressions": [],
        "deepnote_cell_type": "markdown"
      },
      "block_group": "8241f8d7c2b54b1281b3cb13c5c1e24e"
    },
    {
      "cell_type": "markdown",
      "source": "<center> <img src=\"./pics/vector-data-geospatial-attributes.png\" alt=\"Vector Data\" style=\"width: 800px;\"/></center>",
      "metadata": {
        "tags": [],
        "cell_id": "23fa3bb48a594fdaac9f25a922e59a45",
        "slideshow": {
          "slide_type": "subslide"
        },
        "user_expressions": [],
        "deepnote_cell_type": "markdown"
      },
      "block_group": "23fa3bb48a594fdaac9f25a922e59a45"
    },
    {
      "cell_type": "markdown",
      "source": "## Raster Data",
      "metadata": {
        "tags": [],
        "cell_id": "4c40871f35a947b88b14844adbd2a735",
        "slideshow": {
          "slide_type": "subslide"
        },
        "user_expressions": [],
        "deepnote_cell_type": "markdown"
      },
      "block_group": "4c40871f35a947b88b14844adbd2a735"
    },
    {
      "cell_type": "markdown",
      "source": "* Raster or “gridded” data are stored as a grid of values which are rendered on a map as pixels. Each pixel value represents an area on the Earth’s surface. A raster file is composed of regular grid of cells, all of which are the same size.",
      "metadata": {
        "cell_id": "43bf3b13361c4b6ca8b6ddc829afaad1",
        "slideshow": {
          "slide_type": "fragment"
        },
        "user_expressions": [],
        "deepnote_cell_type": "markdown"
      },
      "block_group": "43bf3b13361c4b6ca8b6ddc829afaad1"
    },
    {
      "cell_type": "markdown",
      "source": "* **Rasters** are basically matrices $R=[R_{ij}]$ of size $m\\times n$ that hold numerical information, where each cell $R_{ij}$ shows the value of interest at a specific location $ij$. Where this location $ij$ is, is determined by the actual format and the projection of the data (this will be clearer below).",
      "metadata": {
        "cell_id": "14ff2a1eec384bd8bcd11f3213078056",
        "slideshow": {
          "slide_type": "fragment"
        },
        "user_expressions": [],
        "deepnote_cell_type": "markdown"
      },
      "block_group": "14ff2a1eec384bd8bcd11f3213078056"
    },
    {
      "cell_type": "markdown",
      "source": "* You’ve looked at and used rasters before if you’ve looked at photographs or imagery in a tool like Google Earth. However, the raster files that you will work with are different from photographs in that they are spatially referenced. Each pixel represents an area of land on the ground. That area is defined by the spatial resolution of the raster.",
      "metadata": {
        "cell_id": "20330be6b99444899bd8d0297cb9ce3a",
        "slideshow": {
          "slide_type": "fragment"
        },
        "user_expressions": [],
        "deepnote_cell_type": "markdown"
      },
      "block_group": "20330be6b99444899bd8d0297cb9ce3a"
    },
    {
      "cell_type": "markdown",
      "source": "<center> <img src=\"./pics/raster-data.png\" alt=\"Vector Data\" style=\"width: 800px;\"/></center>",
      "metadata": {
        "tags": [],
        "cell_id": "32d53078a6d345d9b4527cdd61d02a36",
        "slideshow": {
          "slide_type": "subslide"
        },
        "user_expressions": [],
        "deepnote_cell_type": "markdown"
      },
      "block_group": "32d53078a6d345d9b4527cdd61d02a36"
    },
    {
      "cell_type": "markdown",
      "source": "## Raster Facts\nA few notes about rasters:\n\n* Each cell is called a pixel.\n* And each pixel represents an area on the ground.\n* The resolution of the raster represents the area that each pixel represents on the ground. So, a 1 meter resolution raster, means that each pixel represents a $1m\\times 1m$ area on the ground.\n* A raster dataset can have attributes associated with it as well. For instance in a Lidar derived digital elevation model (DEM), each cell represents an elevation value for that location on the earth. In a LIDAR derived intensity image, each cell represents a Lidar intensity value or the amount of light energy returned to and recorded by the sensor.\n",
      "metadata": {
        "tags": [],
        "cell_id": "b556af2a45024308bd1928c3169d909f",
        "slideshow": {
          "slide_type": "subslide"
        },
        "user_expressions": [],
        "deepnote_cell_type": "markdown"
      },
      "block_group": "b556af2a45024308bd1928c3169d909f"
    },
    {
      "cell_type": "markdown",
      "source": "<center> <img src=\"./pics/raster-data-example.png\" alt=\"Vector Data\" style=\"width: 800px;\"/></center>",
      "metadata": {
        "tags": [],
        "cell_id": "60fb3fb987bd42abbef13a067db0f3da",
        "slideshow": {
          "slide_type": "subslide"
        },
        "user_expressions": [],
        "deepnote_cell_type": "markdown"
      },
      "block_group": "60fb3fb987bd42abbef13a067db0f3da"
    },
    {
      "cell_type": "markdown",
      "source": "## Formats\n\nGIS comes in very different formats, althogh most of them can be categorized into two types **Rasters** and **Vector** formats, depending on the type of data they have. ",
      "metadata": {
        "cell_id": "c31c9864994442c581ba74439a1280aa",
        "slideshow": {
          "slide_type": "subslide"
        },
        "user_expressions": [],
        "deepnote_cell_type": "markdown"
      },
      "block_group": "c31c9864994442c581ba74439a1280aa"
    },
    {
      "cell_type": "markdown",
      "source": "## Examples of Raster file formats:\n\n1. **GeoTiff**: Multipurpose raster format.\n2. **ESRI Grid**: Main ESRI raster format.\n3. **Digital Elevation Model (DEM)**: Used by the US Geological Survey to record elevation data.\n4. **Band Interleaved by Line, Band Interleaved by Pixel, Band Sequential (BIL, BIP, BSQ)**: These data formats are typically used by remote sensing systems.\n5. **Digital Raster Graphic (DRG)**: This format is used to store digital scans of paper maps.",
      "metadata": {
        "cell_id": "f03c9d9a36ec49268d5034c4690e3fd2",
        "slideshow": {
          "slide_type": "subslide"
        },
        "user_expressions": [],
        "deepnote_cell_type": "markdown"
      },
      "block_group": "f03c9d9a36ec49268d5034c4690e3fd2"
    },
    {
      "cell_type": "markdown",
      "source": "## Examples of Vector file formats:\n\n1. **Shapefile**: An open specification, developed by ESRI, for storing and exchanging GIS data. A Shapefile actually consists of a collection of files all with the same base name, for example hawaii.shp, hawaii.shx, hawaii.dbf, and so on. \n2. **Simple Features**: An OpenGIS standard for storing geographical data (points, lines, polygons) along with associated attributes.",
      "metadata": {
        "cell_id": "3a798c8ff8b440eeb3da51b40539f588",
        "slideshow": {
          "slide_type": "subslide"
        },
        "user_expressions": [],
        "deepnote_cell_type": "markdown"
      },
      "block_group": "3a798c8ff8b440eeb3da51b40539f588"
    },
    {
      "cell_type": "markdown",
      "source": "3. **TIGER/Line**: A text-based format previously used by the U.S. Census Bureau to describe geographic features such as roads, buildings, rivers, and coastlines. More recent data comes in the Shapefile format, so the TIGER/Line format is only used for earlier Census Bureau datasets.\n4. **Coverage**: Proprietary data format used by ESRI's ARC/INFO system.",
      "metadata": {
        "cell_id": "efbccbcfeeb24eaf9702f75787d9f47f",
        "slideshow": {
          "slide_type": "subslide"
        },
        "deepnote_cell_type": "markdown"
      },
      "block_group": "efbccbcfeeb24eaf9702f75787d9f47f"
    },
    {
      "cell_type": "markdown",
      "source": "## Other formats:\n\n1. **Well-known Text (WKT)**: text-based format for representing a single geographic feature such as a polygon or line.\n2. **Well-known Binary (WKB)**: similar to WKT uses binary data rather than text to represent a single geographic feature.\n3. **GeoJSON**: An open format for encoding geographic data structures, based on the JSON data interchange format. This is becoming the internet's prefered format.",
      "metadata": {
        "cell_id": "ca30cfc9bb184388931d4d6677023cfe",
        "slideshow": {
          "slide_type": "subslide"
        },
        "deepnote_cell_type": "markdown"
      },
      "block_group": "ca30cfc9bb184388931d4d6677023cfe"
    },
    {
      "cell_type": "markdown",
      "source": "# Sources of Data",
      "metadata": {
        "cell_id": "876bec545ad44da397bc0a2d18b9d2b7",
        "slideshow": {
          "slide_type": "slide"
        },
        "deepnote_cell_type": "markdown"
      },
      "block_group": "876bec545ad44da397bc0a2d18b9d2b7"
    },
    {
      "cell_type": "markdown",
      "source": "There are many places to find data. Some useful links to start are:\n\n* [WorldMap](http://worldmap.harvard.edu/)\n* [FAO's GeoNetwork](http://www.fao.org/geonetwork)\n* [IPUMS USA Boundary files for Censuses](https://usa.ipums.org/usa/volii/boundaries.shtml)\n* [IPUMS International Boundary files for Censuses](https://international.ipums.org/international/gis.shtml)\n* [GADM database of Global Administrative Areas](http://www.gadm.org/)\n* [Global Administrative Unit Layers](http://www.fao.org/geonetwork/srv/en/metadata.show?id=12691)\n* [Natural Earth](http://www.naturalearthdata.com/): Various vector and raster files with all kinds of geographical, cultural and socioeconomic variables",
      "metadata": {
        "cell_id": "27aa5c49b23f404a916b9c805f59b0a6",
        "slideshow": {
          "slide_type": "subslide"
        },
        "deepnote_cell_type": "markdown"
      },
      "block_group": "27aa5c49b23f404a916b9c805f59b0a6"
    },
    {
      "cell_type": "markdown",
      "source": "* [Global Map](http://www.iscgm.org/cgi-bin/fswiki/wiki.cgi?page=Summary)\n* [Digital Chart of the World](http://worldmap.harvard.edu/data/geonode:Digital_Chart_of_the_World)\n* [Sage](http://www.sage.wisc.edu/mapsdatamodels.html) and [Sage Atlas](http://www.sage.wisc.edu/atlas/maps.php)\n* [Ramankutti's Datasets on land use, crops, etc.](http://www.geog.mcgill.ca/~nramankutty/Datasets/Datasets.html)\n* [SEDAC at Columbia University](http://sedac.ciesin.columbia.edu/data/sets/browse): Gridded Population, Hazzards, etc.\n* [World Port Index](http://msi.nga.mil/NGAPortal/MSI.portal?_nfpb=true&_pageLabel=msi_portal_page_62&pubCode=0015)\n* [USGS elevation maps](http://eros.usgs.gov/elevation-products)",
      "metadata": {
        "cell_id": "1972ce67204f4baa886d1a341830c7ec",
        "slideshow": {
          "slide_type": "subslide"
        },
        "deepnote_cell_type": "markdown"
      },
      "block_group": "1972ce67204f4baa886d1a341830c7ec"
    },
    {
      "cell_type": "markdown",
      "source": "* [Caloric Suitability Index CSI](https://ozak.github.io/Caloric-Suitability-Index/): Agricultural suitability data\n* [Peace Research Institute Oslo (PRIO) Conflict Data](https://www.prio.org/Data/)\n* [The Armed Conflict Location & Event Data Project (ACLED)](https://acleddata.com/curated-data-files/)\n* [Global Terrorism Database (START-GTD)](https://www.start.umd.edu/gtd/)",
      "metadata": {
        "cell_id": "ed659198506946be83896a1c42407d0c",
        "slideshow": {
          "slide_type": "subslide"
        },
        "deepnote_cell_type": "markdown"
      },
      "block_group": "ed659198506946be83896a1c42407d0c"
    },
    {
      "cell_type": "markdown",
      "source": "* [NOOA's Global Land One-km Base Elevation Project (GLOBE)](http://www.ngdc.noaa.gov/mgg/topo/globe.html)\n* [NOOA Nightlight data](http://ngdc.noaa.gov/eog/download.html): This is the data used by Henderson, Storeygard, and Weil AER 2012 paper.\n* [Other NOOA Data](http://www.ngdc.noaa.gov/ngdcinfo/onlineaccess.html)\n* [GEcon](http://gecon.yale.edu/)\n* [OpenStreetMap](http://openstreetmap.org)\n* [U.S. Census TIGER](http://www.census.gov/geo/maps-data/data/tiger.html)\n* [Geo-referencing of Ethnic Groups](http://www.icr.ethz.ch/data/other/greg)\n\nSee also [Wikipedia links](http://en.wikipedia.org/wiki/List_of_GIS_data_sources)",
      "metadata": {
        "cell_id": "f58b5432804d4000a96826bf57d23b1a",
        "slideshow": {
          "slide_type": "subslide"
        },
        "deepnote_cell_type": "markdown"
      },
      "block_group": "f58b5432804d4000a96826bf57d23b1a"
    },
    {
      "cell_type": "markdown",
      "source": "# Creating maps and exploring data",
      "metadata": {
        "cell_id": "2e96f1dac83f42b8bd4162bfde0d5a92",
        "slideshow": {
          "slide_type": "slide"
        },
        "deepnote_cell_type": "markdown"
      },
      "block_group": "2e96f1dac83f42b8bd4162bfde0d5a92"
    },
    {
      "cell_type": "markdown",
      "source": "Let us start by creating some simple maps. For this, create a directory called ``mydata`` in your ``$HOME`` directory and download the following datasets and extract them:\n\n1. The full [GADM](https://gadm.org/) shape file is available for download [here](https://biogeo.ucdavis.edu/data/gadm3.6/gadm36_shp.zip), since it is large, also download the file for your country of origin from [here](https://gadm.org/download_country_v3.html).\n2. [Natural Earth's Populated Places dataset](http://www.naturalearthdata.com/http//www.naturalearthdata.com/download/10m/cultural/ne_10m_populated_places.zip) \n3. [Ramankutty's Suitability Index](https://drive.google.com/file/d/1TYw-ys47_oPH4hG7gFhU9PXL-vF5eKz9/view?usp=sharing)\n4. [Lights Data for 2012](http://ngdc.noaa.gov/eog/data/web_data/v4composites/F182012.v4.tar)",
      "metadata": {
        "slideshow": {
          "slide_type": "subslide"
        },
        "cell_id": "dca5577adab8430d8ff2e6d8fe11fe25",
        "deepnote_cell_type": "markdown"
      },
      "block_group": "dca5577adab8430d8ff2e6d8fe11fe25"
    },
    {
      "cell_type": "markdown",
      "source": "Now, open QGIS. You should see something like this\n\n<a href=\"./pics/GIS/QGIS-main.png\"><img src=\"./pics/GIS/QGIS-main.png\" alt=\"QGIS open\" style=\"width: 1000px;\"/></a>",
      "metadata": {
        "cell_id": "5df8d71cfbe84ea5b5353b2da9f69abc",
        "slideshow": {
          "slide_type": "subslide"
        },
        "deepnote_cell_type": "markdown"
      },
      "block_group": "5df8d71cfbe84ea5b5353b2da9f69abc"
    },
    {
      "cell_type": "markdown",
      "source": "To open a file in QGIS you can:\n\n* Use ``Finder`` or ``Windows Explorer`` to navigate to the file and ``double-click`` on it.\n* Use the ``Layer`` menu in QGIS\n\n<a href=\"./pics/GIS/QGIS-Layer-menu.png\"><img src=\"./pics/GIS/QGIS-Layer-menu.png\" alt=\"QGIS Layer Menu\" style=\"width: 1000px;\"/></a>",
      "metadata": {
        "cell_id": "2d9c2641858a4d0eb87b56ae27095baa",
        "slideshow": {
          "slide_type": "subslide"
        },
        "deepnote_cell_type": "markdown"
      },
      "block_group": "2d9c2641858a4d0eb87b56ae27095baa"
    },
    {
      "cell_type": "markdown",
      "source": "* Use the toolbar on the left\n\n<a href=\"./images./pics/GIS/QGIS-file-toolbar.png\"><img src=\"./pics/GIS/QGIS-file-toolbar.png\" alt=\"QGIS File Toolbar\" style=\"width: 20px;\"/></a>",
      "metadata": {
        "cell_id": "6dcd5fb254494cdca98036fd7a00687d",
        "slideshow": {
          "slide_type": "subslide"
        },
        "deepnote_cell_type": "markdown"
      },
      "block_group": "6dcd5fb254494cdca98036fd7a00687d"
    },
    {
      "cell_type": "markdown",
      "source": "## Working with vector layers",
      "metadata": {
        "cell_id": "db05290c24984d2bbe12f844f6acc12e",
        "slideshow": {
          "slide_type": "subslide"
        },
        "deepnote_cell_type": "markdown"
      },
      "block_group": "db05290c24984d2bbe12f844f6acc12e"
    },
    {
      "cell_type": "markdown",
      "source": "Let's start by adding the vector file for your country of origin using the ``add vector layer`` button in the toolbar.\n\n<a href=\"./pics/GIS/QGIS-add-vector-layer.png\"><img src=\"./pics/GIS/QGIS-add-vector-layer.png\" alt=\"QGIS add vector layer\" style=\"width: 1000px;\"/></a>",
      "metadata": {
        "cell_id": "81ecb6dfadfe420cb09156fb2fb9f42b",
        "slideshow": {
          "slide_type": "subslide"
        },
        "deepnote_cell_type": "markdown"
      },
      "block_group": "81ecb6dfadfe420cb09156fb2fb9f42b"
    },
    {
      "cell_type": "markdown",
      "source": "I have added the full GADM dataset, so it looks like this\n\n<a href=\"./pics/GIS/QGIS-GADM.png\"><img src=\"./pics/GIS/QGIS-GADM.png\" alt=\"GADM layer in QGIS\" style=\"width: 1000px;\"/></a>",
      "metadata": {
        "cell_id": "20a0a4847fc64de180e09e1ce40add60",
        "slideshow": {
          "slide_type": "subslide"
        },
        "deepnote_cell_type": "markdown"
      },
      "block_group": "20a0a4847fc64de180e09e1ce40add60"
    },
    {
      "cell_type": "markdown",
      "source": "Now we can use various tools available within QGIS to learn about the data, select the data, analyze the data, etc.\n\n1. The handtool for panning: <a href=\"./pics/GIS/QGIS-handtool.png\"><img src=\"./pics/GIS/QGIS-handtool.png\" alt=\"QGIS-handtool\" /></a> \n\n    * Try it out, use the tool to move your country around the screen.",
      "metadata": {
        "cell_id": "8044394156f24d68b42462275dd861cd",
        "slideshow": {
          "slide_type": "subslide"
        },
        "deepnote_cell_type": "markdown"
      },
      "block_group": "8044394156f24d68b42462275dd861cd"
    },
    {
      "cell_type": "markdown",
      "source": "2. Zoom in/out/to selection/full: <a href=\"./pics/GIS/QGIS-zoom-toolbar.png\"><img src=\"./pics/GIS/QGIS-zoom-toolbar.png\" alt=\"QGIS-Zoom\" /></a> \n\n    * Try it out, by zooming around your city of birth.",
      "metadata": {
        "cell_id": "70d1748f95a340a4aace3cf0a737be28",
        "slideshow": {
          "slide_type": "subslide"
        },
        "deepnote_cell_type": "markdown"
      },
      "block_group": "70d1748f95a340a4aace3cf0a737be28"
    },
    {
      "cell_type": "markdown",
      "source": "    \n3. Identify Features: <a href=\"./pics/GIS/QGIS-identify-features.png\"><img src=\"./pics/GIS/QGIS-identify-features.png\" alt=\"QGIS-identify-features\" /></a> \n\n    * Try it out, click on the feature you just zoomed into. Did you zoom into the correct feature?",
      "metadata": {
        "cell_id": "71f815084f804da79902fc883ad39355",
        "slideshow": {
          "slide_type": "subslide"
        },
        "deepnote_cell_type": "markdown"
      },
      "block_group": "71f815084f804da79902fc883ad39355"
    },
    {
      "cell_type": "markdown",
      "source": "    \n4. Select Features: <a href=\"./pics/GIS/QGIS-select-features.png\"><img src=\"./pics/GIS/QGIS-select-features.png\" alt=\"QGIS-select-features\" /></a> \n\n    * Try it out, select the feature of the region where you were born.",
      "metadata": {
        "cell_id": "3915be677cdf4f14a512507b7a62fa75",
        "slideshow": {
          "slide_type": "subslide"
        },
        "deepnote_cell_type": "markdown"
      },
      "block_group": "3915be677cdf4f14a512507b7a62fa75"
    },
    {
      "cell_type": "markdown",
      "source": "Besides the geometrical information that we observe, most Shape files have other information relating to each feature. This information is contained in the *Attribute Table*, which can be accessed with \n\n* the ``Open Attribute Table`` button <a href=\"./pics/GIS/QGIS-attribute-table.png\"><img src=\"./pics/GIS/QGIS-attribute-table.png\" alt=\"QGIS-attribute-table\" /></a>",
      "metadata": {
        "cell_id": "7959f466f6fe477caa92543b2ad7fdc1",
        "slideshow": {
          "slide_type": "subslide"
        },
        "deepnote_cell_type": "markdown"
      },
      "block_group": "7959f466f6fe477caa92543b2ad7fdc1"
    },
    {
      "cell_type": "markdown",
      "source": "* By ``right-clicking`` on the name of the layer in the left panel\n\n<a href=\"./pics/GIS/QGIS-attribute-table2.png\"><img src=\"./pics/GIS/QGIS-attribute-table2.png\" alt=\"QGIS-attribute-table2\" /></a>",
      "metadata": {
        "cell_id": "2d4a5ab500f64379bf33ae1c369f2f2d",
        "slideshow": {
          "slide_type": "subslide"
        },
        "deepnote_cell_type": "markdown"
      },
      "block_group": "2d4a5ab500f64379bf33ae1c369f2f2d"
    },
    {
      "cell_type": "markdown",
      "source": "Doing so shows you the additional information contained in the shape file. For the GADM file it includes \n\n* the identification number of the feature ``OBJECTID``\n* the identification number of the country (Administrative Level 0) to which the feature belongs ``ID_0``\n* the ISO-3 code of the country to which the feature belongs ``ISO``\n* the name of the country to which the feature belongs ``NAME_0``\n* the identification number of the region in the country (Administrative Level 1) to which the feature belongs ``ID_1``\n\netc.\n\n<a href=\"./pics/GIS/QGIS-attribute-table3.png\"><img src=\"./pics/GIS/QGIS-attribute-table3.png\" alt=\"QGIS-attribute-table3\" /></a>",
      "metadata": {
        "cell_id": "e4be6b9f9cc14d089cee0a6612663777",
        "slideshow": {
          "slide_type": "subslide"
        },
        "deepnote_cell_type": "markdown"
      },
      "block_group": "e4be6b9f9cc14d089cee0a6612663777"
    },
    {
      "cell_type": "markdown",
      "source": "We can use this information to color our maps, or to select features for further analysis. I will use the ``select feature using an expression`` button ![QGIS-select-feature-attributes-button](./pics/GIS/QGIS-select-feature-attributes-button.png) to select all features which have the ISO-3 code for Kenya. Once you click on the ![QGIS-select-feature-attributes-button](./pics/GIS/QGIS-select-feature-attributes-button.png) button, you will see the following window, where you can write the expression to be used to select features. In this case I wrote the expression\n\n    'ISO'='KEN'\n\nto select all features with Kenya's ISO-3 code.",
      "metadata": {
        "cell_id": "b1174e1744614ff6bc9ab44a694b9fca",
        "slideshow": {
          "slide_type": "subslide"
        },
        "deepnote_cell_type": "markdown"
      },
      "block_group": "b1174e1744614ff6bc9ab44a694b9fca"
    },
    {
      "cell_type": "markdown",
      "source": "<a href=\"./pics/GIS/QGIS-select-features-by-ISO.png\"><img src=\"./pics/GIS/QGIS-select-features-by-ISO.png\" alt=\"QGIS-select-features-by-ISO\" /></a>",
      "metadata": {
        "cell_id": "f4a70e7f14814edcade341edb9527185",
        "slideshow": {
          "slide_type": "subslide"
        },
        "deepnote_cell_type": "markdown"
      },
      "block_group": "f4a70e7f14814edcade341edb9527185"
    },
    {
      "cell_type": "markdown",
      "source": "Sometimes we will want to work with a subset of features, especially if the data we are working has many features, like the GADM data. To select a subset of the features and only work with those, use the ``Layer->Query`` option in the ``Menu`` as shown below\n\n<a href=\"./pics/GIS/QGIS-Query.png\"><img src=\"./pics/GIS/QGIS-Query.png\" alt=\"QGIS-Query\" /></a>",
      "metadata": {
        "cell_id": "ad4d8892cc6b48f4af023d92e5b2d251",
        "slideshow": {
          "slide_type": "subslide"
        },
        "deepnote_cell_type": "markdown"
      },
      "block_group": "ad4d8892cc6b48f4af023d92e5b2d251"
    },
    {
      "cell_type": "markdown",
      "source": "This opens a window where you can write expression as the previous one, to select features by their attributes. These are ``SQL`` expressions and have to conform to ``SQL``'s grammar (we will not go into this at this point). Once I execute the same expression as above\n\n    'ISO'='KEN'\n\nQGIS leaves only the features in Kenya for analysis.\n\n<a href=\"./pics/GIS/QGIS-Query-KEN.png\"><img src=\"./pics/GIS/QGIS-Query-KEN.png\" alt=\"QGIS-Query-KEN\" /></a>",
      "metadata": {
        "cell_id": "af1ad0c94d3f4b7b8c943d7e5cfa8180",
        "slideshow": {
          "slide_type": "subslide"
        },
        "deepnote_cell_type": "markdown"
      },
      "block_group": "af1ad0c94d3f4b7b8c943d7e5cfa8180"
    },
    {
      "cell_type": "markdown",
      "source": "Let us zoom into these features by ``right-clicking`` on the name of the layer and choosing ``Zoom to Layer Extent``. This shows the extent of Kenya alone.\n\n<a href=\"./pics/GIS/QGIS-zoomed-KEN.png\"><img src=\"./pics/GIS/QGIS-zoomed-KEN.png\" alt=\"QGIS-zoomed-KEN\" /></a>",
      "metadata": {
        "cell_id": "49c6a2fc6ce447e480b8950a368cb5e9",
        "slideshow": {
          "slide_type": "subslide"
        },
        "deepnote_cell_type": "markdown"
      },
      "block_group": "49c6a2fc6ce447e480b8950a368cb5e9"
    },
    {
      "cell_type": "markdown",
      "source": "Other important tools can be found in ``Layer -> Properties`` or by ``double-clicking`` on the layer's name\n\n",
      "metadata": {
        "cell_id": "666ca6b500c341d08608467d2c892776",
        "slideshow": {
          "slide_type": "subslide"
        },
        "deepnote_cell_type": "markdown"
      },
      "block_group": "666ca6b500c341d08608467d2c892776"
    },
    {
      "cell_type": "markdown",
      "source": "### Exercise\n\n1. Load the complete GADM dataset.\n2. Select the regions of your country of origin, so that you will work only on these.\n3. Save the result to a new layer/shapefile called ``your_country.shp``",
      "metadata": {
        "cell_id": "d7a30f18ae33452c99fa76db77c123bd",
        "slideshow": {
          "slide_type": "subslide"
        },
        "deepnote_cell_type": "markdown"
      },
      "block_group": "d7a30f18ae33452c99fa76db77c123bd"
    },
    {
      "cell_type": "markdown",
      "source": "## Vector Menu",
      "metadata": {
        "cell_id": "33d5a79a38844ea99167737c47591348",
        "slideshow": {
          "slide_type": "slide"
        },
        "deepnote_cell_type": "markdown"
      },
      "block_group": "33d5a79a38844ea99167737c47591348"
    },
    {
      "cell_type": "markdown",
      "source": "The ``Vector`` menu has many tools that can be applied to vector layers. Let's use some of these to create new layers.\n\nUsing the ``Vector -> Geometry Tools -> Singlepart to Mutliparts`` we can generate a new layer and shape file where features are aggregated according to some characteristic. Let us use this tool to aggregate administrative level 2 features to the administrative level 0 (Country) level. Thus,  each feature will be a country (administrative level 0) instead of the current administrative level 2.\n\n<a href=\"./pics/GIS/QGIS-SinglePart-MultiPart.png\"><img src=\"./pics/GIS/QGIS-SinglePart-MultiPart.png\" alt=\"QGIS-SinglePart-MultiPart\" /></a>",
      "metadata": {
        "cell_id": "677e6648bf9e4bd282d4792baf8ee024",
        "slideshow": {
          "slide_type": "subslide"
        },
        "deepnote_cell_type": "markdown"
      },
      "block_group": "677e6648bf9e4bd282d4792baf8ee024"
    },
    {
      "cell_type": "markdown",
      "source": "Using the ``Vector -> Geometry Tools -> Mutliparts to singlepart`` we can generate a new layer and shape file where features are disaggregated.\n\n<a href=\"./pics/GIS/QGIS-MultiPart-SinglePart.png\"><img src=\"./pics/GIS/QGIS-MultiPart-SinglePart.png\" alt=\"QGIS-MultiPart-SinglePart\" /></a>",
      "metadata": {
        "cell_id": "6a234c6cfc754b29af1da003b7246172",
        "deepnote_cell_type": "markdown"
      },
      "block_group": "6a234c6cfc754b29af1da003b7246172"
    },
    {
      "cell_type": "markdown",
      "source": "### Exercises",
      "metadata": {
        "cell_id": "d9f28244705e4d9d927a2f11a3754cbe",
        "slideshow": {
          "slide_type": "subslide"
        },
        "deepnote_cell_type": "markdown"
      },
      "block_group": "d9f28244705e4d9d927a2f11a3754cbe"
    },
    {
      "cell_type": "markdown",
      "source": "1. Load the Populated Places data.\n2. Select the cities that belong to your country and create a new shape file with the selection named ``your_country_places.shp``.\n3. Load the ``your_country.shp`` file you had created in the previous exercise and compute the centroid for each Adminitrative level 1 in your country and export the layer to the file ``your_country_centroids1.shp``.\n4. Search for your place of birth among the most populated places. Where you born in a populated place? If not, identify the closest most populated place. To do so, use [Google](https://www.google.com) or [Wikipedia](http://www.wikipedia.org/) to find the latitude and longitude of your place of birth. Using your mouse and the ``coordinate`` window at the bottom \n\n    <a href=\"./pics/GIS/QGIS-Coordinates.png\"><img src=\"./pics/GIS/QGIS-Coordinates.png\" alt=\"QGIS-Coordinates\" style=\"width: 300px;\"/></a> \n    \n    to search for your location of birth. \n    ",
      "metadata": {
        "cell_id": "7d1b5dc1f5504609bf4b4a95218d9338",
        "slideshow": {
          "slide_type": "fragment"
        },
        "deepnote_cell_type": "markdown"
      },
      "block_group": "7d1b5dc1f5504609bf4b4a95218d9338"
    },
    {
      "cell_type": "markdown",
      "source": "Better yet, using the ``Plugins->Manage and Install Plugins`` menu, install the ``ZoomToCoordinates`` plugin \n\n   <a href=\"./pics/GIS/QGIS-ZoomToCoordinatesPlugin.png\"><img src=\"./pics/GIS/QGIS-ZoomToCoordinatesPlugin.png\" alt=\"QGIS-ZoomToCoordinatesPlugin\" style=\"width: 800px;\"/></a>",
      "metadata": {
        "cell_id": "15b0b2c03a2745ec83c94e425ab75162",
        "slideshow": {
          "slide_type": "subslide"
        },
        "deepnote_cell_type": "markdown"
      },
      "block_group": "15b0b2c03a2745ec83c94e425ab75162"
    },
    {
      "cell_type": "markdown",
      "source": "and use it to find your place of birth as shown below <a href=\"./pics/GIS/QGIS-ZoomToCoordinates.png\"><img src=\"./pics/GIS/QGIS-ZoomToCoordinates.png\" alt=\"QGIS-ZoomToCoordinates\" style=\"width: 800px;\"/></a>",
      "metadata": {
        "cell_id": "3e8636b016eb4625950fc20489ec8d4c",
        "slideshow": {
          "slide_type": "subslide"
        },
        "deepnote_cell_type": "markdown"
      },
      "block_group": "3e8636b016eb4625950fc20489ec8d4c"
    },
    {
      "cell_type": "markdown",
      "source": "5. Compute the distance between your place of birth and both the closest centroid and the closest most populated place. If needed find a Plugin that will do the job for you. I recommend installing among many ``realcentroid``, ``mmqgis``, ``coordinate capture``.\n6. Generate the distance matrix among the most populated places\n7. Generate the distance matrix between most populated places and the centroids\n\n#### Note\n\n_Make sure you can correctly identify the features. For example using ISO codes, ID numbers, etc. If the shape file does not have an ID identifier, it is best to create one, so that you can correctly identify the features. To do so, use the ``Field Calculator`` by double-clicking on the name of the layer, then choosing ``Fields``. After that you need to select the pencil icon to enable editing mode._",
      "metadata": {
        "cell_id": "58a33182632b4de8a051cae14de400bb",
        "slideshow": {
          "slide_type": "subslide"
        },
        "deepnote_cell_type": "markdown"
      },
      "block_group": "58a33182632b4de8a051cae14de400bb"
    },
    {
      "cell_type": "markdown",
      "source": "## Working with Rasters",
      "metadata": {
        "cell_id": "b9df9af60c724ec785ab044ff7b420c1",
        "slideshow": {
          "slide_type": "subslide"
        },
        "deepnote_cell_type": "markdown"
      },
      "block_group": "b9df9af60c724ec785ab044ff7b420c1"
    },
    {
      "cell_type": "markdown",
      "source": "Let us load the Ramankutty raster using the ``add raster layer`` button in the toolbar.\n\n<a href=\"./pics/GIS/QGIS-add-raster-layer.png\"><img src=\"./pics/GIS/QGIS-add-raster-layer.png\" alt=\"QGIS add raster layer\" style=\"width: 1000px;\"/></a>",
      "metadata": {
        "cell_id": "3f78b8d860324fc68f380faeb40572a1",
        "slideshow": {
          "slide_type": "subslide"
        },
        "deepnote_cell_type": "markdown"
      },
      "block_group": "3f78b8d860324fc68f380faeb40572a1"
    },
    {
      "cell_type": "markdown",
      "source": "``Double-click`` on the name of the raster in order to change the coloring scheme.\n\n<a href=\"./pics/GIS/QGIS-raster-color-scheme.png\"><img src=\"./pics/GIS/QGIS-raster-color-scheme.png\" alt=\"QGIS-raster-color-scheme\" style=\"width: 1000px;\"/></a>",
      "metadata": {
        "cell_id": "92c08f2b5fe145a49275288926c7889c",
        "slideshow": {
          "slide_type": "subslide"
        },
        "deepnote_cell_type": "markdown"
      },
      "block_group": "92c08f2b5fe145a49275288926c7889c"
    },
    {
      "cell_type": "markdown",
      "source": "So it looks something like this\n\n<a href=\"./pics/GIS/QGIS-raster-with-color.png\"><img src=\"./pics/GIS/QGIS-raster-with-color.png\" alt=\"QGIS-raster-with-color\" style=\"width: 1000px;\"/></a>",
      "metadata": {
        "cell_id": "a3e1ae122c5f4b99893ba5fcf487b5cf",
        "slideshow": {
          "slide_type": "subslide"
        },
        "deepnote_cell_type": "markdown"
      },
      "block_group": "a3e1ae122c5f4b99893ba5fcf487b5cf"
    },
    {
      "cell_type": "markdown",
      "source": "Load your ``your_country.shp`` and ``your_country_places.shp`` on top of the Ramankutty data. It might look something like this.\n\n<a href=\"./pics/GIS/QGIS-Raster-KEN.png\"><img src=\"./pics/GIS/QGIS-Raster-KEN.png\" alt=\"QGIS-Raster-KEN\" style=\"width: 1000px;\"/></a>",
      "metadata": {
        "cell_id": "625cbf9ee4aa44ab944fed0616bb920c",
        "slideshow": {
          "slide_type": "subslide"
        },
        "deepnote_cell_type": "markdown"
      },
      "block_group": "625cbf9ee4aa44ab944fed0616bb920c"
    },
    {
      "cell_type": "markdown",
      "source": "Since we do not want to work with all the Ramankutty data, but only with the data for our country, let us ``clip`` the part of the Ramankutty data that belongs to our country. To do this, use the ``Raster->Extraction->Clipper`` tool.\n\n<a href=\"./pics/GIS/QGIS-Clipper.png\"><img src=\"./pics/GIS/QGIS-Clipper.png\" alt=\"QGIS-Clipper\" style=\"width: 1000px;\"/></a>",
      "metadata": {
        "cell_id": "0ae1bab9391346df994bb9c7b3cc62f4",
        "slideshow": {
          "slide_type": "subslide"
        },
        "deepnote_cell_type": "markdown"
      },
      "block_group": "0ae1bab9391346df994bb9c7b3cc62f4"
    },
    {
      "cell_type": "markdown",
      "source": "In the window that comes up, choose a name for the clipped raster ``suit_your_country`` and choose the ``save as GeoTiff`` option, so that your file is saved as in GeoTiff format. Then click on the ``Mask layer`` button, make sure ``your_country`` layer is chosen as the mask. If you want choose a different ``No data value``. Then click ``ok``.\n\n<a href=\"./pics/GIS/QGIS-clip-KEN.png\"><img src=\"./pics/GIS/QGIS-clip-KEN.png\" alt=\"QGIS-clip-KEN\" style=\"width: 1000px;\"/></a>",
      "metadata": {
        "cell_id": "669d9338a92d4d43b83d43ff4277789a",
        "slideshow": {
          "slide_type": "subslide"
        },
        "deepnote_cell_type": "markdown"
      },
      "block_group": "669d9338a92d4d43b83d43ff4277789a"
    },
    {
      "cell_type": "markdown",
      "source": "This will clip the Ramankutty data to the extent of your country of origin. Notice that in the big text box there is a command written, something like\n\n    gdalwarp -q -cutline \"gadm2.shp|layerid=0|subset=\\\"ISO\\\" = 'KEN'\" -crop_to_cutline -of GTiff \"suit/w001001.adf\" GitHub/CompEcon/notebooks/QGIS/suit-KEN.tif\n    \nThis is a the command QGIS uses to create the clip. QGIS is actually calling GDAL to perform this operation. This command line will be very useful when you are planning to use Python or other scripting languages to perform an operation many times. You can do it by hand once and copy the command executed by QGIS and use it to create an iterable version...more on this later.\n\n### Note \nYou might have to assign a projection to the Suitability Raster. To do so, use the ``Raster->Projection->Assign Projection`` option in the menu.",
      "metadata": {
        "cell_id": "0073b21800704f149d9073ca29d2ff68",
        "slideshow": {
          "slide_type": "subslide"
        },
        "deepnote_cell_type": "markdown"
      },
      "block_group": "0073b21800704f149d9073ca29d2ff68"
    },
    {
      "cell_type": "markdown",
      "source": "The output should look like this\n\n<a href=\"./pics/GIS/QGIS-KEN-Raster.png\"><img src=\"./pics/GIS/QGIS-KEN-Raster.png\" alt=\"QGIS-KEN-Raster\" style=\"width: 1000px;\"/></a>",
      "metadata": {
        "cell_id": "99ae450119fa4379bc785b9f1b5bc704",
        "slideshow": {
          "slide_type": "subslide"
        },
        "deepnote_cell_type": "markdown"
      },
      "block_group": "99ae450119fa4379bc785b9f1b5bc704"
    },
    {
      "cell_type": "markdown",
      "source": "Notice that given the large size of the cells in the raster, the clipping tool creates a lot of measurement error. It might be better to decrease the size of cells an then clip, so that the clipping is less erroneous. Let's try setting the cell size to $5''$ instead of $0.5^o$. To do so, ``right-click`` on the raster name and select ``Save as``. Then set the *Resolution* to $5''=1/12=0.08333$ for both ``Horizontal`` and ``Vertical``.\n\n<a href=\"./pics/GIS/QGIS-change-raster-size.png\"><img src=\"./pics/GIS/QGIS-change-raster-size.png\" alt=\"QGIS-change-raster-size\" style=\"width: 1000px;\"/></a>",
      "metadata": {
        "cell_id": "fcf96fdc11124077b58941d859f2a36e",
        "slideshow": {
          "slide_type": "subslide"
        },
        "deepnote_cell_type": "markdown"
      },
      "block_group": "fcf96fdc11124077b58941d859f2a36e"
    },
    {
      "cell_type": "markdown",
      "source": "Now use the clip tool again. Much better! Obviously, the smaller the cell size, the more similar the clipped raster and the polygon will look like. \n\n<a href=\"./pics/GIS/QGIS-KEN-Raster5.png\"><img src=\"./pics/GIS/QGIS-KEN-Raster5.png\" alt=\"QGIS-KEN-Raster5\" style=\"width: 1000px;\"/></a>",
      "metadata": {
        "cell_id": "bff83aee2d304ee895ec333494fe4f81",
        "slideshow": {
          "slide_type": "subslide"
        },
        "deepnote_cell_type": "markdown"
      },
      "block_group": "bff83aee2d304ee895ec333494fe4f81"
    },
    {
      "cell_type": "markdown",
      "source": "### Note:\n\n_Care has to be taken when converting raster's cells size, since values have to be interpolated. QGIS seems to have taken away your choice for setting it. Luckily, GDAL can help out. You can use its tools to change the cells size, the projection, clip, etc. We will see some tools in another lecture._\n\nLet us use this raster to assign the average suitability in each administrative region. But before doing so, we need to reproject both the raster and shape files to a format that ensures the areas are correctly take into account. One such projection is the equal area projection. Right click on the raster or shape and select ``save as...``. Then in the ``CRS`` option choose ``Selected CRS`` and click on ``browse`` and choose the following CRS (or create it if not present by using the ``Settings->Custom CRS`` menu)\n\n    +proj=cea +lon_0=0 +lat_ts=0 +x_0=0 +y_0=0 +ellps=WGS84 +towgs84=0,0,0,0,0,0,0 +units=m +no_defs\n\n<a href=\"./pics/GIS/QGIS-Cylindrical.png\"><img src=\"./pics/GIS/QGIS-Cylindrical.png\" alt=\"QGIS-Cylindrical\" style=\"width: 1000px;\"/></a>",
      "metadata": {
        "cell_id": "d10163a6c7f347ddb7b2d5b5ea83500b",
        "slideshow": {
          "slide_type": "subslide"
        },
        "deepnote_cell_type": "markdown"
      },
      "block_group": "d10163a6c7f347ddb7b2d5b5ea83500b"
    },
    {
      "cell_type": "markdown",
      "source": "Now save the file adding the postfix ``cyl`` so that you know it is the cylindrical equal area rojected one. Now, select ``Raster->Zonal Statistics->Zonal Statistics``.\n\n<a href=\"./pics/GIS/QGIS-Zonal-Stats.png\"><img src=\"./pics/GIS/QGIS-Zonal-Stats.png\" alt=\"QGIS-Zonal-Stats\" style=\"width: 1000px;\"/></a>",
      "metadata": {
        "cell_id": "5c445987443a4fafa71a4f38a1b3aecd",
        "slideshow": {
          "slide_type": "subslide"
        },
        "deepnote_cell_type": "markdown"
      },
      "block_group": "5c445987443a4fafa71a4f38a1b3aecd"
    },
    {
      "cell_type": "markdown",
      "source": "Select the cylindrical versions of the raster and shape files and ``suitcyl`` as the ``Output column prefix``. Now, in the attribute table you will find three new columns with the prefix ``suitcyl`` that show the ``sum``, ``count``, and ``mean`` suitability in in each feature. If you repeat the analysis with the unprojected (non-cyl) versions of the raster and shape files, you will see that the results vary (sometimes significantly). Whenever you do this type of analysis, it is important to make sure you are using the correct projection for the analysis.",
      "metadata": {
        "cell_id": "7e9ae012e7f24409b9ffa91e2482613c",
        "slideshow": {
          "slide_type": "subslide"
        },
        "deepnote_cell_type": "markdown"
      },
      "block_group": "7e9ae012e7f24409b9ffa91e2482613c"
    },
    {
      "cell_type": "markdown",
      "source": "### Other Raster Tools",
      "metadata": {
        "cell_id": "8c16c6fde01c42e58fb2d48b4dc06bf1",
        "slideshow": {
          "slide_type": "subslide"
        },
        "deepnote_cell_type": "markdown"
      },
      "block_group": "8c16c6fde01c42e58fb2d48b4dc06bf1"
    },
    {
      "cell_type": "markdown",
      "source": "In the ``Raster`` menu you will find other useful tools to work with rasters. Especially useful is the ``Raster Calculator``, with which you can do computations on one or more rasters.",
      "metadata": {
        "cell_id": "c209d9a36ba54199a8cf261bfddb6125",
        "slideshow": {
          "slide_type": "fragment"
        },
        "deepnote_cell_type": "markdown"
      },
      "block_group": "c209d9a36ba54199a8cf261bfddb6125"
    },
    {
      "cell_type": "markdown",
      "source": "## Exercises",
      "metadata": {
        "cell_id": "43c4d9bb05524ba897aef3f3fa2be8f8",
        "slideshow": {
          "slide_type": "subslide"
        },
        "deepnote_cell_type": "markdown"
      },
      "block_group": "43c4d9bb05524ba897aef3f3fa2be8f8"
    },
    {
      "cell_type": "markdown",
      "source": "1. Import the Night Lights raster, convert it to a $5''$ raster, and clip it using your country's shapefile.\n2. Compute the average light in each region in your country.\n3. Generate a buffer of 100kms around each populated place and compute the average suitability and night lights for these buffers.",
      "metadata": {
        "cell_id": "a1467dfabc264ac0a4c073cfa7681c26",
        "slideshow": {
          "slide_type": "fragment"
        },
        "deepnote_cell_type": "markdown"
      },
      "block_group": "a1467dfabc264ac0a4c073cfa7681c26"
    },
    {
      "cell_type": "markdown",
      "source": "# Adding Information and Using Colors",
      "metadata": {
        "cell_id": "e833cd09d7da4e2d981599ad3f03c5a5",
        "slideshow": {
          "slide_type": "subslide"
        },
        "deepnote_cell_type": "markdown"
      },
      "block_group": "e833cd09d7da4e2d981599ad3f03c5a5"
    },
    {
      "cell_type": "markdown",
      "source": "Now that you have the average agricultural suitability for each administrative region. Let's color code it so we can visually observe the regional differences. For this double-click on the ``your_country_cyl`` layer, which should open a new window in the ``style`` tab of the ``Layer->Properties`` menu.\n\n<a href=\"./pics/GIS/QGIS-Style-Properties.png\"><img src=\"./pics/GIS/QGIS-Style-Properties.png\" alt=\"QGIS-Style-Properties\" style=\"width: 1000px;\"/></a>",
      "metadata": {
        "cell_id": "6ae1f11800a744aba28086ec593aea5b",
        "slideshow": {
          "slide_type": "subslide"
        },
        "deepnote_cell_type": "markdown"
      },
      "block_group": "6ae1f11800a744aba28086ec593aea5b"
    },
    {
      "cell_type": "markdown",
      "source": "Now, click on ``Single Symbol`` and choose ``Graduated``. This allows us to use colors to show the different values of a field/variable of interest.\n\n<a href=\"./pics/GIS/QGIS-Style-Category.png\"><img src=\"./pics/GIS/QGIS-Style-Category.png\" alt=\"QGIS-Style-Category\" style=\"width: 1000px;\"/></a>",
      "metadata": {
        "cell_id": "c52e124c1c2a475180ec2167bd41018f",
        "slideshow": {
          "slide_type": "subslide"
        },
        "deepnote_cell_type": "markdown"
      },
      "block_group": "c52e124c1c2a475180ec2167bd41018f"
    },
    {
      "cell_type": "markdown",
      "source": "Next let us select the field of interest in the attribues table, namely, ``suitmean``. To do so, click on ``column`` and choose the variable/field of interest, inthis case ``suitmean``.\n\n<a href=\"./pics/GIS/QGIS-Style-Field.png\"><img src=\"./pics/GIS/QGIS-Style-Field.png\" alt=\"QGIS-Style-Field\" style=\"width: 1000px;\"/></a>",
      "metadata": {
        "cell_id": "a0c5d48d270747cbadfaba0c2dcb1a1f",
        "slideshow": {
          "slide_type": "subslide"
        },
        "deepnote_cell_type": "markdown"
      },
      "block_group": "a0c5d48d270747cbadfaba0c2dcb1a1f"
    },
    {
      "cell_type": "markdown",
      "source": "You can choose how many gradations to draw, e.g. increasing it from 5 to 10; change the color ramp, or the mode of creating the gradation. Try it out. You should get something like this\n\n<a href=\"./pics/GIS/QGIS-KEN-Graduated-suit.png\"><img src=\"./pics/GIS/QGIS-KEN-Graduated-suit.png\" alt=\"QGIS-KEN-Graduated-suit\" style=\"width: 1000px;\"/></a>",
      "metadata": {
        "cell_id": "4f6de19e92574a2994a76fb97022879a",
        "slideshow": {
          "slide_type": "subslide"
        },
        "deepnote_cell_type": "markdown"
      },
      "block_group": "4f6de19e92574a2994a76fb97022879a"
    },
    {
      "cell_type": "markdown",
      "source": "<a style='text-decoration:none;line-height:16px;display:flex;color:#5B5B62;padding:10px;justify-content:end;' href='https://deepnote.com?utm_source=created-in-deepnote-cell&projectId=83892306-4f09-4a22-8200-613cb6d5534e' target=\"_blank\">\n<img alt='Created in deepnote.com' style='display:inline;max-height:16px;margin:0px;margin-right:7.5px;' src='data:image/svg+xml;base64,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' > </img>\nCreated in <span style='font-weight:600;margin-left:4px;'>Deepnote</span></a>",
      "metadata": {
        "created_in_deepnote_cell": true,
        "deepnote_cell_type": "markdown"
      }
    }
  ],
  "nbformat": 4,
  "nbformat_minor": 0,
  "metadata": {
    "deepnote_notebook_id": "ea190ddf3ba54996a8959c775231ece7",
    "deepnote_execution_queue": []
  }
}