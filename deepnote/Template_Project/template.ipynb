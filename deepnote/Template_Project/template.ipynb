{
  "cells": [
    {
      "cell_type": "markdown",
      "source": "# <center>Introduction to <img src=\"https://www.python.org/static/community_logos/python-logo-inkscape.svg\" alt=\"Python\" width=300/> and <img src=\"https://ipython.org/_static/IPy_header.png\" alt=\"IPython\" width=300/> using <img src=\"https://upload.wikimedia.org/wikipedia/commons/3/38/Jupyter_logo.svg\" alt=\"Jupyter\" width=75/></center>",
      "metadata": {
        "tags": [],
        "slideshow": {
          "slide_type": "slide"
        },
        "user_expressions": [],
        "cell_id": "bcfd170c98ec4864a5f176f75e0107e6",
        "deepnote_cell_type": "markdown"
      },
      "block_group": "e62d16e5383e4147907641bfa629736f"
    },
    {
      "cell_type": "markdown",
      "source": "# Import Modules and set Paths",
      "metadata": {
        "user_expressions": [],
        "cell_id": "85001209856f4e76bcdfd998f74f29cb",
        "deepnote_cell_type": "markdown"
      },
      "block_group": "c9e6f3c644f54aa0b004cdce9ce7737a"
    },
    {
      "cell_type": "code",
      "source": "# Basic Packages\nfrom __future__ import division\nimport os\nfrom datetime import datetime\n\n# Web & file access\nimport requests\nimport io\n\n# Plotting\nimport matplotlib as mpl\nimport matplotlib.pyplot as plt\nimport matplotlib.ticker as mtick\n\n%pylab --no-import-all\n%matplotlib inline\n\nimport seaborn as sns\nsns.set(rc={'figure.figsize':(11.7,8.27)})\nsns.set_context(\"talk\")\n\nimport plotly.express as px\nimport plotly.graph_objects as go\n\nfrom plotnine import ggplot, geom_point, aes, stat_smooth, facet_wrap\n# Next line can import all of plotnine, but may overwrite things? Better import each function/object you need\n#from plotnine import *\n\n# Data\nimport pandas as pd\nimport numpy as np\nfrom pandas_datareader import data, wb\n\n# GIS & maps\nimport geopandas as gpd\ngp = gpd\nimport georasters as gr\nimport geoplot as gplt\nimport geoplot.crs as gcrs\nimport mapclassify as mc\nimport textwrap\n\n# Data Munging\nfrom itertools import product, combinations\nimport difflib\nimport pycountry\nimport geocoder\nfrom geonamescache.mappers import country\nmapper = country(from_key='name', to_key='iso3')\nmapper2 = country(from_key='iso3', to_key='iso')\nmapper3 = country(from_key='iso3', to_key='name')\n\n# Regressions & Stats\nfrom scipy.stats import norm\nimport statsmodels.formula.api as smf\nfrom stargazer.stargazer import Stargazer, LineLocation\n\n# Paths\npathout = './data/'\n\nif not os.path.exists(pathout):\n    os.mkdir(pathout)\n    \npathgraphs = './graphs/'\nif not os.path.exists(pathgraphs):\n    os.mkdir(pathgraphs)",
      "metadata": {
        "cell_id": "27a25efc55e14b50bc9befeaef9c6ea7",
        "deepnote_cell_type": "code"
      },
      "outputs": [
        {
          "name": "stdout",
          "output_type": "stream",
          "text": "Using matplotlib backend: MacOSX\nPopulating the interactive namespace from numpy and matplotlib\n"
        }
      ],
      "outputs_reference": null,
      "execution_count": 1,
      "block_group": "0ea8f15c588c4a5fb19ce4532f59ca0f",
      "content_dependencies": null
    },
    {
      "cell_type": "markdown",
      "source": "<div class=\"alert alert-block alert-info\">\n    <b>Note:</b>\n</div>",
      "metadata": {
        "tags": [],
        "user_expressions": [],
        "cell_id": "fdcd62e60d544048928c6bbff4278f75",
        "deepnote_cell_type": "markdown"
      },
      "block_group": "59b01b67b1dc48dd887f9b51d8f5da86"
    },
    {
      "cell_type": "markdown",
      "source": "<div class=\"alert alert-block alert-danger\">\n<b>Careful:</b> \n</div>",
      "metadata": {
        "tags": [],
        "user_expressions": [],
        "cell_id": "120e96925403412c94d75c7c6d239545",
        "deepnote_cell_type": "markdown"
      },
      "block_group": "3263ba6bd74a4a5c84c384c4769542de"
    },
    {
      "cell_type": "markdown",
      "source": "<div class=\"alert alert-block alert-warning\">\n<b>Exercise 1:</b>\n</div>",
      "metadata": {
        "tags": [],
        "user_expressions": [],
        "cell_id": "857645274ab144149191c4053704bfb0",
        "deepnote_cell_type": "markdown"
      },
      "block_group": "b1f7fcc014fd45bb9bdb807c67a82db8"
    },
    {
      "cell_type": "code",
      "source": "def my_xy_plot(dfin, \n               x='SP.POP.GROW', \n               y='ln_gdp_pc', \n               labelvar='iso3c', \n               dx=0.006125, \n               dy=0.006125, \n               xlogscale=False, \n               ylogscale=False,\n               xlabel='Growth Rate of Population', \n               ylabel='Log[Income per capita in ' +  str(year) + ']',\n               labels=False,\n               xpct=False,\n               ypct=False,\n               OLS=False,\n               OLSlinelabel='OLS',\n               ssline=False,\n               sslinelabel='45 Degree Line',\n               filename='income-pop-growth.pdf',\n               hue='region',\n               hue_order=['East Asia & Pacific', 'Europe & Central Asia',\n                          'Latin America & Caribbean', 'Middle East & North Africa',\n                          'North America', 'South Asia', 'Sub-Saharan Africa'],\n               style='incomeLevel', \n               style_order=['High Income', 'Upper Middle Income', 'Lower Middle Income', 'Low Income'],\n               palette=None,\n               size=None,\n               sizes=None,\n               s=50,\n               legend_fontsize=10,\n               label_font_size=12,\n               xlabel_font_size=12,\n               ylabel_font_size=12,\n               weight=None,\n               save=True):\n    '''\n    Plot the association between x and y in the dataframe using labelvar for labels.\n    \n    Parameters:\n    - dfin: DataFrame containing the data to plot.\n    - x: Column name to be used for x-axis values.\n    - y: Column name to be used for y-axis values.\n    - labelvar: Column name for the labels of the points.\n    - dx: Horizontal adjustment for the labels.\n    - dy: Vertical adjustment for the labels.\n    - xlogscale: Boolean to use logarithmic scale for x-axis.\n    - ylogscale: Boolean to use logarithmic scale for y-axis.\n    - xlabel: Label for x-axis.\n    - ylabel: Label for y-axis.\n    - labels: Boolean to display labels.\n    - xpct: Boolean to display x-axis values as percentages.\n    - ypct: Boolean to display y-axis values as percentages.\n    - OLS: Boolean to add an Ordinary Least Squares regression line.\n    - OLSlinelabel: Label for the OLS regression line.\n    - ssline: Boolean to add a 45-degree line.\n    - sslinelabel: Label for the 45-degree line.\n    - filename: Filename to save the plot.\n    - hue: Column name for color encoding.\n    - hue_order: Order of categories for the hue.\n    - style: Column name for style encoding.\n    - style_order: Order of categories for the style.\n    - palette: Color palette.\n    - size: Column name for size encoding.\n    - sizes: Sizes of the points.\n    - s: Size of the points.\n    - legend_fontsize: Font size of the legend.\n    - label_font_size: Font size of the labels.\n    - xlabel_font_size: Font size of the x-axis label.\n    - ylabel_font_size: Font size of the y-axis label.\n    - weight: Font weight for labels.\n    - save: Boolean to save the plot.\n    \n    Returns:\n    - fig: The resulting plot figure.\n\n    Example usage\n    - Assuming 'df' is a pandas DataFrame with the relevant data:\n    fig = my_xy_plot(df, x='population_growth', y='gdp_per_capita', labelvar='country_code', labels=True, OLS=True)\n\n    '''\n    \n    # Set plot size and context\n    sns.set(rc={'figure.figsize': (11.7, 8.27)})\n    sns.set_context(\"talk\")\n    \n    # Create a copy of the dataframe and drop rows with NaNs in x or y\n    df = dfin.copy()\n    df = df.dropna(subset=[x, y]).reset_index(drop=True)\n    \n    # Initialize plot\n    fig, ax = plt.subplots()\n    \n    # Create scatterplot\n    sns.scatterplot(x=x, y=y, data=df, ax=ax, \n                    hue=hue,\n                    hue_order=hue_order,\n                    alpha=1, \n                    style=style, \n                    style_order=style_order,\n                    palette=palette,\n                    size=size,\n                    sizes=sizes,\n                    s=s)\n    \n    # Add OLS regression line if specified\n    if OLS:\n        sns.regplot(x=x, y=y, data=df, ax=ax, label=OLSlinelabel, scatter=False)\n    \n    # Add 45-degree line if specified\n    if ssline:\n        ax.plot([df[x].min() * 0.99, df[x].max() * 1.01], \n                [df[x].min() * 0.99, df[x].max() * 1.01], \n                c='r', label=sslinelabel)\n    \n    # Add labels to points if specified\n    if labels:\n        movex = df[x].mean() * dx\n        movey = df[y].mean() * dy\n        for line in range(df.shape[0]):\n            ax.text(df[x][line] + movex, df[y][line] + movey, \n                    df[labelvar][line], horizontalalignment='left', \n                    fontsize=label_font_size, color='black')\n    \n    # Set axis labels with specified font sizes and weights\n    ax.set_xlabel(xlabel, weight=weight, fontsize=xlabel_font_size)\n    ax.set_ylabel(ylabel, weight=weight, fontsize=ylabel_font_size)\n    \n    # Format x-axis as percentage if specified\n    if xpct:\n        fmt = '%.0f%%' \n        xticks = mtick.FormatStrFormatter(fmt)\n        ax.xaxis.set_major_formatter(xticks)\n    \n    # Format y-axis as percentage if specified\n    if ypct:\n        fmt = '%.0f%%'\n        yticks = mtick.FormatStrFormatter(fmt)\n        ax.yaxis.set_major_formatter(yticks)\n    \n    # Set logarithmic scale for x-axis if specified\n    if xlogscale:\n        ax.set(xscale=\"log\")\n    \n    # Set logarithmic scale for y-axis if specified\n    if ylogscale:\n        ax.set(yscale=\"log\")\n    \n    # Customize legend\n    handles, labels = ax.get_legend_handles_labels()\n    handles = np.array(handles)\n    labels = np.array(labels)\n    handles = list(handles[(labels != hue) & (labels != style) & (labels != size)])\n    labels = list(labels[(labels != hue) & (labels != style) & (labels != size)])\n    ax.legend(handles=handles, labels=labels, fontsize=legend_fontsize)\n    \n    # Save plot if specified\n    if save:\n        plt.savefig(filename, dpi=300, bbox_inches='tight')\n    \n    return fig\n",
      "metadata": {
        "cell_id": "2ae15361ddcc41b685abcdea78e13f5f",
        "deepnote_cell_type": "code"
      },
      "outputs": [],
      "outputs_reference": null,
      "execution_count": null,
      "block_group": "2b6b16d36432486391e2f08a119a8d89",
      "content_dependencies": null
    },
    {
      "cell_type": "code",
      "source": "def my_xy_line_plot(dfin, \n                   x='SP.POP.GROW', \n                   y='ln_gdp_pc', \n                   labelvar='iso3c', \n                   dx=0.006125, \n                   dy=0.006125, \n                   xlogscale=False, \n                   ylogscale=False,\n                   xlabel='Growth Rate of Population', \n                   ylabel='Log[Income per capita in ' + str(year) + ']',\n                   labels=False,\n                   xpct=False,\n                   ypct=False,\n                   OLS=False,\n                   OLSlinelabel='OLS',\n                   ssline=False,\n                   sslinelabel='45 Degree Line',\n                   filename='income-pop-growth.pdf',\n                   hue='region',\n                   hue_order=['East Asia & Pacific', 'Europe & Central Asia',\n                              'Latin America & Caribbean', 'Middle East & North Africa',\n                              'North America', 'South Asia', 'Sub-Saharan Africa'],\n                   style='incomeLevel', \n                   style_order=['High Income', 'Upper Middle Income', 'Lower Middle Income', 'Low Income'],\n                   palette=None,\n                   legend_fontsize=10,\n                   label_font_size=12,\n                   save=True):\n    '''\n    Plot the association between x and y in the dataframe using labelvar for labels.\n    \n    Parameters:\n    - dfin: DataFrame containing the data to plot.\n    - x: Column name to be used for x-axis values.\n    - y: Column name to be used for y-axis values.\n    - labelvar: Column name for the labels of the points.\n    - dx: Horizontal adjustment for the labels.\n    - dy: Vertical adjustment for the labels.\n    - xlogscale: Boolean to use logarithmic scale for x-axis.\n    - ylogscale: Boolean to use logarithmic scale for y-axis.\n    - xlabel: Label for x-axis.\n    - ylabel: Label for y-axis.\n    - labels: Boolean to display labels.\n    - xpct: Boolean to display x-axis values as percentages.\n    - ypct: Boolean to display y-axis values as percentages.\n    - OLS: Boolean to add an Ordinary Least Squares regression line.\n    - OLSlinelabel: Label for the OLS regression line.\n    - ssline: Boolean to add a 45-degree line.\n    - sslinelabel: Label for the 45-degree line.\n    - filename: Filename to save the plot.\n    - hue: Column name for color encoding.\n    - hue_order: Order of categories for the hue.\n    - style: Column name for style encoding.\n    - style_order: Order of categories for the style.\n    - palette: Color palette.\n    - legend_fontsize: Font size of the legend.\n    - label_font_size: Font size of the labels.\n    - save: Boolean to save the plot.\n    \n    Returns:\n    - fig: The resulting plot figure.\n    \n    Example usage:\n    Assuming 'df' is a pandas DataFrame with the relevant data:\n    fig = my_xy_line_plot(df, x='population_growth', y='gdp_per_capita', labelvar='country_code', labels=True, OLS=True)\n    '''\n    \n    # Set plot size and context\n    sns.set(rc={'figure.figsize': (11.7, 8.27)})\n    sns.set_context(\"talk\")\n    \n    # Create a copy of the dataframe and drop rows with NaNs in x or y\n    df = dfin.copy()\n    df = df.dropna(subset=[x, y]).reset_index(drop=True)\n    \n    # Initialize plot\n    fig, ax = plt.subplots()\n    \n    # Create line plot\n    sns.lineplot(x=x, y=y, data=df, ax=ax, \n                 hue=hue,\n                 hue_order=hue_order,\n                 alpha=1, \n                 style=style, \n                 style_order=style_order,\n                 palette=palette)\n    \n    # Add OLS regression line if specified\n    if OLS:\n        sns.regplot(x=x, y=y, data=df, ax=ax, label=OLSlinelabel, scatter=False)\n    \n    # Add 45-degree line if specified\n    if ssline:\n        ax.plot([df[x].min() * 0.99, df[x].max() * 1.01], \n                [df[x].min() * 0.99, df[x].max() * 1.01], \n                c='r', label=sslinelabel)\n    \n    # Add labels to points if specified\n    if labels:\n        movex = df[x].mean() * dx\n        movey = df[y].mean() * dy\n        for line in range(df.shape[0]):\n            ax.text(df[x][line] + movex, df[y][line] + movey, \n                    df[labelvar][line], horizontalalignment='left', \n                    fontsize=label_font_size, color='black')\n    \n    # Set axis labels\n    ax.set_xlabel(xlabel)\n    ax.set_ylabel(ylabel)\n    \n    # Format x-axis as percentage if specified\n    if xpct:\n        fmt = '%.0f%%'\n        xticks = mtick.FormatStrFormatter(fmt)\n        ax.xaxis.set_major_formatter(xticks)\n    \n    # Format y-axis as percentage if specified\n    if ypct:\n        fmt = '%.0f%%'\n        yticks = mtick.FormatStrFormatter(fmt)\n        ax.yaxis.set_major_formatter(yticks)\n    \n    # Set logarithmic scale for x-axis if specified\n    if xlogscale:\n        ax.set(xscale=\"log\")\n    \n    # Set logarithmic scale for y-axis if specified\n    if ylogscale:\n        ax.set(yscale=\"log\")\n    \n    # Customize legend\n    handles, labels = ax.get_legend_handles_labels()\n    handles = np.array(handles)\n    labels = np.array(labels)\n    handles = list(handles[(labels != 'region') & (labels != 'incomeLevel')])\n    labels = list(labels[(labels != 'region') & (labels != 'incomeLevel')])\n    ax.legend(handles=handles, labels=labels, fontsize=legend_fontsize)\n    \n    # Save plot if specified\n    if save:\n        plt.savefig(filename, dpi=300, bbox_inches='tight')\n    \n    return fig",
      "metadata": {
        "cell_id": "40b78a3ca17b46f695ebc5ebcadecd30",
        "deepnote_cell_type": "code"
      },
      "outputs": [],
      "outputs_reference": null,
      "execution_count": 181,
      "block_group": "5058196d8d6b4e819400e9256d3b8b56",
      "content_dependencies": null
    },
    {
      "cell_type": "code",
      "source": "# Functions for plotting\ndef center_wrap(text, cwidth=32, **kw):\n    '''Center Text (to be used in legend)'''\n    lines = text\n    #lines = textwrap.wrap(text, **kw)\n    return \"\\n\".join(line.center(cwidth) for line in lines)\n\ndef MyChoropleth(mydf, \n                 myfile='', \n                 myvar='',\n                 mylegend='', \n                 k=5,\n                 extent=[-180, -90, 180, 90],\n                 figsize=(24, 16),\n                 bbox_to_anchor=(0.2, 0.5),\n                 fontsize=12, \n                 title_fontsize=12,\n                 edgecolor='white', \n                 facecolor='lightgray',\n                 scheme='FisherJenks', \n                 bins=None, \n                 pct=None,\n                 legend=True, \n                 legend_labels=None, \n                 legend_kwargs=None,\n                 legend_values=None,\n                 bold=True,\n                 rasterized=False,\n                 save=True,\n                 percent=False,\n                 rn=0,\n                 cmap='Reds',\n                 reverse=False,\n                 **kwargs):\n    '''\n    Create a choropleth map with the specified parameters.\n    \n    Parameters:\n    - mydf: DataFrame containing the geographical data to plot.\n    - myfile: File name for saving the plot.\n    - myvar: Column name for the variable to be mapped.\n    - mylegend: Title for the legend.\n    - k: Number of classes for the choropleth.\n    - extent: Geographical extent of the plot. Example: [min_longitude, min_latitude, max_longitude, max_latitude]\n    - figsize: Size of the plot figure.\n    - bbox_to_anchor: Bounding box for the legend.\n    - fontsize: Font size for the legend text.\n    - title_fontsize: Font size for the legend title.\n    - edgecolor: Color of the edges of the polygons.\n    - facecolor: Background color of the plot.\n    - scheme: Classification scheme for the choropleth. Possible values: 'EqualInterval', 'Quantiles', 'BoxPlot', 'FisherJenks', 'FisherJenksSampled', 'HeadTailBreaks', 'JenksCaspall', 'JenksCaspallForced', 'JenksCaspallSampled', 'KClassifiers', 'Percentiles', 'UserDefined'\n    - bins: Bins for user-defined classification scheme.\n    - pct: Percentiles for percentile-based classification scheme.\n    - legend: Boolean to display the legend.\n    - legend_labels: Custom labels for the legend.\n    - legend_kwargs: Additional keyword arguments for the legend.\n    - legend_values: Custom values for the legend.\n    - bold: Boolean to make the legend title bold.\n    - rasterized: Boolean to rasterize the plot.\n    - save: Boolean to save the plot.\n    - percent: Boolean to format the legend labels as percentages.\n    - rn: Number of decimal places for the legend labels.\n    - cmap: Color map for the choropleth.\n    - reverse: Boolean to reverse the order of the legend labels.\n    - kwargs: Additional keyword arguments for the plot.\n    \n    Returns:\n    - ax: The resulting plot axis.\n    \n    Example usage:\n    Assuming 'gdf' is a GeoDataFrame with the relevant data:\n    ax = MyChoropleth(gdf, myfile='map', myvar='population_density', mylegend='Population Density', k=5)\n    '''\n    \n    # Determine classification scheme\n    if scheme == 'EqualInterval':\n        scheme = mc.EqualInterval(mydf[myvar], k=k)\n    elif scheme == 'Quantiles':\n        scheme = mc.Quantiles(mydf[myvar], k=k)\n    elif scheme == 'BoxPlot':\n        scheme = mc.BoxPlot(mydf[myvar], k=k)\n    elif scheme == 'FisherJenks':\n        scheme = mc.FisherJenks(mydf[myvar], k=k)\n    elif scheme == 'FisherJenksSampled':\n        scheme = mc.FisherJenksSampled(mydf[myvar], k=k)\n    elif scheme == 'HeadTailBreaks':\n        scheme = mc.HeadTailBreaks(mydf[myvar], k=k)\n    elif scheme == 'JenksCaspall':\n        scheme = mc.JenksCaspall(mydf[myvar], k=k)\n    elif scheme == 'JenksCaspallForced':\n        scheme = mc.JenksCaspallForced(mydf[myvar], k=k)\n    elif scheme == 'JenksCaspallSampled':\n        scheme = mc.JenksCaspallSampled(mydf[myvar], k=k)\n    elif scheme == 'KClassifiers':\n        scheme = mc.KClassifiers(mydf[myvar], k=k)\n    elif scheme == 'Percentiles':\n        scheme = mc.Percentiles(mydf[myvar], pct=pct)\n    elif scheme == 'UserDefined':\n        scheme = mc.UserDefined(mydf[myvar], bins=bins)\n    \n    # Configure legend settings if legend is to be displayed\n    if legend:\n        legend_kwargs = {'bbox_to_anchor': bbox_to_anchor,\n                         'frameon': True,\n                         'title': mylegend,\n                         'fontsize': fontsize,\n                         'title_fontsize': title_fontsize}\n        \n        if legend_labels is None:\n            # Format legend labels\n            upper_bounds = scheme.bins\n            bounds = []\n            for index, upper_bound in enumerate(upper_bounds):\n                if index == 0:\n                    lower_bound = mydf[myvar].min()\n                else:\n                    lower_bound = upper_bounds[index - 1]\n                # Format numerical legend\n                if percent:\n                    bound = f'{lower_bound:.{rn}%} - {upper_bound:.{rn}%}'.format(width=rn)\n                else:\n                    bound = f'{float(lower_bound):,.{rn}f} - {float(upper_bound):,.{rn}f}'.format(width=rn)\n                bounds.append(bound)\n            legend_labels = bounds\n        \n        # Reverse legend labels if specified\n        if reverse:\n            legend_labels = legend_labels[::-1]\n            legend_values = list(range(len(legend_labels)))[::-1]\n    \n    # Plot choropleth\n    ax = gplt.choropleth(\n        mydf, hue=myvar, projection=gcrs.PlateCarree(central_longitude=0.0),\n        edgecolor=edgecolor, linewidth=1,\n        cmap=cmap, legend=legend,\n        scheme=scheme,\n        legend_kwargs=legend_kwargs,\n        legend_labels=legend_labels,\n        legend_values=legend_values,\n        figsize=figsize,\n        rasterized=rasterized,\n        **kwargs\n    )\n    \n    # Plot country borders\n    gplt.polyplot(\n        gpd.read_file(gpd.datasets.get_path('naturalearth_lowres')),\n        projection=gcrs.PlateCarree(central_longitude=0.0),\n        edgecolor=edgecolor, facecolor=facecolor,\n        ax=ax,\n        rasterized=rasterized,\n        extent=extent\n    )\n    \n    # Make legend title bold if specified\n    if bold:\n        ax.get_legend().get_title().set_fontweight('bold')\n    \n    # Save plot if specified\n    if save:\n        plt.savefig(myfile + '_' + myvar.replace(' ', '_') + '.jpg', dpi=300, bbox_inches='tight')\n    \n    return ax",
      "metadata": {
        "cell_id": "40a2fef9937145a49d36bea28b1834ef",
        "deepnote_cell_type": "code"
      },
      "outputs": [],
      "outputs_reference": null,
      "execution_count": null,
      "block_group": "6736eb5352234cfd8e48fca1504dbcea",
      "content_dependencies": null
    },
    {
      "cell_type": "code",
      "source": "def my_kde_plots_gdppc(dataset='pwt', myyear=2010):\n    '''\n    This function plots the KDE-plot of log income per capita, where\n    \n    dataset: is either pwt or wdi (you need to ensure the variable 'gdp_pc' exists)\n    myyear: is the year you want the distribution\n    '''\n    df = eval(dataset + '.loc[' + dataset +'.year==' + str(myyear) + '].copy().reset_index(drop=True)')\n    # Plot\n    fig, ax = plt.subplots()\n    sns.kdeplot(df.gdp_pc.apply(np.log), ax=ax, fill=True, label=str(myyear), linewidth=2)\n    ax.set_xlabel('Log[Income per capita, '+ dataset.upper() + ']')\n    ax.set_ylabel('Density of Countries')\n    ax.legend()\n    plt.savefig(pathgraphs + dataset +'_gdppc_' + str(myyear) + '.pdf', dpi=300, bbox_inches='tight')\n    plt.draw()\n    return \"Done\"",
      "metadata": {
        "cell_id": "0c95946f6b2d4f71992e18a2de44e599",
        "deepnote_cell_type": "code"
      },
      "outputs": [],
      "outputs_reference": null,
      "execution_count": null,
      "block_group": "384f5f0678da4ff68edea35eef9c7caf",
      "content_dependencies": null
    },
    {
      "cell_type": "code",
      "source": "def my_kde_plots_gdppc_joint(dataset='pwt', myyears=[2000, 2020]):\n    '''\n    This function plots the KDE-plot of log income per capita in two years, where\n    \n    dataset: is either pwt or wdi (you need to ensure the variable 'gdp_pc' exists)\n    myyears: is a list of years\n    '''\n    df = eval(dataset + '.loc[' + dataset +'.year.isin(myyears)].copy().reset_index(drop=True)')\n    # Plot\n    fig, ax = plt.subplots()\n    t in range(len(myyears)):\n        sns.kdeplot(df.loc[df.year==myyears[t]].gdp_pc.apply(np.log), ax=ax, fill=True, label=str(myyears[t]), linewidth=2, color='r')\n    ax.set_xlabel('Log[Income per capita, '+ dataset.upper() + ']')\n    ax.set_ylabel('Density of Countries')\n    ax.legend()\n    plt.savefig(pathgraphs + dataset +'_gdppc_' + str(myyears[0]) + '_' + str(myyears[-1]) + '.pdf', dpi=300, bbox_inches='tight')\n    plt.savefig(pathgraphs + dataset +'_gdppc_' + str(myyears[0]) + '_' + str(myyears[-1]) + '.png', dpi=300, bbox_inches='tight')\n    plt.draw()\n    return \"Done\"",
      "metadata": {
        "cell_id": "849e09157a0c4fec88f812b7e5e03e17",
        "deepnote_cell_type": "code"
      },
      "outputs": [],
      "outputs_reference": null,
      "execution_count": null,
      "block_group": "35800bf4c5714a7b9f39e39cb5175a6f",
      "content_dependencies": null
    },
    {
      "cell_type": "code",
      "source": "def my_kde_plots(dataset='pwt', myyear=2010, myvar='gdp_pc_e', myvar_label='Income per capita'):\n    '''\n    This function plots the KDE-plot of myvar in a given year.\n    \n    Parameters:\n    - dataset: The dataset to use ('pwt' or 'wdi'). Ensure the variable 'gdp_pc' exists in the dataset.\n    - myyear: The year for which the distribution is to be plotted.\n    - myvar: The variable to plot the KDE for.\n    - myvar_label: The label for the x-axis.\n    \n    Returns:\n    - str: \"Done\" when the plot is completed and saved.\n    \n    Example usage:\n    Assuming 'pwt' or 'wdi' is a DataFrame with the relevant data:\n    result = my_kde_plots(dataset='pwt', myyear=2010, myvar='gdp_pc_e', myvar_label='Income per capita')\n    '''\n    \n    # Evaluate the dataset and filter it for the given year\n    df = eval(dataset + '.loc[' + dataset + '.year==' + str(myyear) + '].copy().reset_index(drop=True)')\n    \n    # Initialize plot\n    fig, ax = plt.subplots()\n    \n    # Plot KDE\n    sns.kdeplot(df[myvar], ax=ax, fill=True, label=str(myyear), linewidth=2)\n    \n    # Set axis labels\n    ax.set_xlabel(myvar_label)\n    ax.set_ylabel('Density of Countries')\n    \n    # Add legend\n    ax.legend()\n    \n    # Save plot\n    plt.savefig(dataset + '_gdppc_' + str(myyear) + '.pdf', dpi=300, bbox_inches='tight')\n    \n    # Draw plot\n    plt.draw()\n    \n    return \"Done\"",
      "metadata": {
        "cell_id": "27e56ae2c3a8422e904d9cc3a781b55a",
        "deepnote_cell_type": "code"
      },
      "outputs": [],
      "outputs_reference": null,
      "execution_count": null,
      "block_group": "0ae24b84d4e14bfbbc143bf10cccf8d7",
      "content_dependencies": null
    },
    {
      "cell_type": "code",
      "source": "def my_kde_plots_joint(dataset='pwt', myyears=[2000, 2010, 2020], myvar='gdp_pc_e', myvar_label='Income per capita'):\n    '''\n    This function plots the KDE-plot of myvar for all years in the given range.\n    \n    Parameters:\n    - dataset: The dataset to use ('pwt' or 'wdi'). Ensure the variable 'gdp_pc' exists in the dataset.\n    - myyears: A list of years to plot the KDE for.\n    - myvar: The variable to plot the KDE for.\n    - myvar_label: The label for the x-axis.\n    \n    Returns:\n    - str: \"Done\" when the plot is completed and saved.\n    \n    Example usage:\n    Assuming 'pwt' or 'wdi' is a DataFrame with the relevant data:\n    result = my_kde_plots_joint(dataset='pwt', myyears=[2000, 2010, 2020], myvar='gdp_pc_e', myvar_label='Income per capita')\n    '''\n    \n    # Evaluate the dataset and filter it for the given years\n    df = eval(dataset + '.loc[' + dataset + '.year.isin(myyears)].copy().reset_index(drop=True)')\n    \n    # Initialize plot\n    mycolors = sns.color_palette(\"Paired\", n_colors=len(myyears))\n    fig, ax = plt.subplots()\n    \n    # Plot KDE for each year\n    for t in range(len(myyears)):\n        sns.kdeplot(df.loc[df.year == myyears[t], myvar], ax=ax, fill=True, label=str(myyears[t]), linewidth=2, color=mycolors[t])\n    \n    # Set axis labels\n    ax.set_xlabel(myvar_label)\n    ax.set_ylabel('Density of Countries')\n    \n    # Add legend\n    ax.legend()\n    \n    # Save plot\n    plt.savefig(dataset + '-' + myvar + '_' + str(myyears[0]) + '-' + str(myyears[-1]) + '.pdf', dpi=300, bbox_inches='tight')\n    \n    # Draw plot\n    plt.draw()\n    \n    return \"Done\"",
      "metadata": {
        "cell_id": "e9016394dfb34ca9bbfa800b7a8d449e",
        "deepnote_cell_type": "code"
      },
      "outputs": [],
      "outputs_reference": null,
      "execution_count": null,
      "block_group": "484b8621a31f4f8abf716feb138ec1f9",
      "content_dependencies": null
    },
    {
      "cell_type": "markdown",
      "source": "Notebook written by [Ömer Özak](http://omerozak.com) for his students in Economics at [Southern Methodist University](http://www.smu.edu). Feel free to use, distribute, or contribute.",
      "metadata": {
        "tags": [],
        "slideshow": {
          "slide_type": "slide"
        },
        "user_expressions": [],
        "cell_id": "5b43caa9eafa48948c27b5c442226b13",
        "deepnote_cell_type": "markdown"
      },
      "block_group": "43c165c4d4b7466ca7d42f658597d151"
    },
    {
      "cell_type": "markdown",
      "source": "[<center><img src=\"https://github.com/measuring-culture/Expanding-Measurement-Culture-Facebook-JRSI/blob/main/pics/SMUlogowWordmarkRB.jpg?raw=true\" width=\"250\"></center>](http://omerozak.com)",
      "metadata": {
        "tags": [],
        "slideshow": {
          "slide_type": "-"
        },
        "user_expressions": [],
        "cell_id": "fe35f8211bc04a53ad631f06bee5efa0",
        "deepnote_cell_type": "markdown"
      },
      "block_group": "0fd97ed10e5d42b0bdfa366652e659aa"
    },
    {
      "cell_type": "markdown",
      "source": "<a style='text-decoration:none;line-height:16px;display:flex;color:#5B5B62;padding:10px;justify-content:end;' href='https://deepnote.com?utm_source=created-in-deepnote-cell&projectId=4e22fe6b-8ce8-4ee0-aabf-b3ced0204580' target=\"_blank\">\n<img alt='Created in deepnote.com' style='display:inline;max-height:16px;margin:0px;margin-right:7.5px;' src='data:image/svg+xml;base64,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' > </img>\nCreated in <span style='font-weight:600;margin-left:4px;'>Deepnote</span></a>",
      "metadata": {
        "created_in_deepnote_cell": true,
        "deepnote_cell_type": "markdown"
      }
    }
  ],
  "nbformat": 4,
  "nbformat_minor": 0,
  "metadata": {
    "deepnote_notebook_id": "33f6ea9253254b1a827ee6b8512ca12c",
    "deepnote_execution_queue": []
  }
}