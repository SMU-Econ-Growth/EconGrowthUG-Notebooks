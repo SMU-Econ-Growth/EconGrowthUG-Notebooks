{
  "cells": [
    {
      "cell_type": "markdown",
      "source": "<table>\n  <tr>\n    <td>\n      <img src=\"./pics/data-viz.png\" alt=\"data-viz.png\" width=\"2000\"/>\n    </td>\n    <td>\n      <h1>Introduction to Data Visualization in Python</h1>\n    </td>\n  </tr>\n</table>",
      "metadata": {
        "tags": [],
        "editable": true,
        "slideshow": {
          "slide_type": "slide"
        },
        "cell_id": "e1c90c8704b042b39ea53855cf411d15",
        "deepnote_cell_type": "markdown"
      },
      "block_group": "7f9aa63504cd4ec8a0f1608cf747500b"
    },
    {
      "cell_type": "markdown",
      "source": "## Why Visualize Data?",
      "metadata": {
        "tags": [],
        "editable": true,
        "slideshow": {
          "slide_type": "slide"
        },
        "cell_id": "46f3e76ebe3b4361877ba0033ec81aff",
        "deepnote_cell_type": "markdown"
      },
      "block_group": "eacf68313df344ed84250a7db09b9b26"
    },
    {
      "cell_type": "markdown",
      "source": "- Understand and communicate insights",
      "metadata": {
        "tags": [],
        "editable": true,
        "slideshow": {
          "slide_type": "fragment"
        },
        "cell_id": "d95b6b49d410497f9240ce1819e7b647",
        "deepnote_cell_type": "markdown"
      },
      "block_group": "8bb81b0496834f09aba1375eddaafefc"
    },
    {
      "cell_type": "markdown",
      "source": "- Identify patterns and trends",
      "metadata": {
        "tags": [],
        "editable": true,
        "slideshow": {
          "slide_type": "fragment"
        },
        "cell_id": "734e92c0bae14540b9afffe188f16589",
        "deepnote_cell_type": "markdown"
      },
      "block_group": "e28a7938eef64fe6bf3f9ae0c902c698"
    },
    {
      "cell_type": "markdown",
      "source": "- Make data-driven decisions",
      "metadata": {
        "tags": [],
        "editable": true,
        "slideshow": {
          "slide_type": "fragment"
        },
        "cell_id": "c83b459d7b504f3f9eef726be1049f02",
        "deepnote_cell_type": "markdown"
      },
      "block_group": "ccc57e38ccbc45fda234e33c20f5eaec"
    },
    {
      "cell_type": "code",
      "source": "%%capture\nfrom IPython.display import IFrame, HTML",
      "metadata": {
        "tags": [],
        "editable": true,
        "slideshow": {
          "slide_type": "skip"
        },
        "source_hash": "400f472d",
        "execution_start": 1731457390758,
        "execution_millis": 1,
        "execution_context_id": "65a4f268-16cc-437b-ac2e-f56117415ba9",
        "cell_id": "e7285f1da6ea470993d988c4b583ded8",
        "deepnote_cell_type": "code"
      },
      "outputs": [],
      "outputs_reference": null,
      "execution_count": 1,
      "block_group": "37a97c481acc425b9b1d06418bde87a1",
      "content_dependencies": null
    },
    {
      "cell_type": "markdown",
      "source": "# Elements of a Good Graph",
      "metadata": {
        "tags": [],
        "editable": true,
        "slideshow": {
          "slide_type": "slide"
        },
        "cell_id": "bccc9c1704e346f783519d46b71b1fe2",
        "deepnote_cell_type": "markdown"
      },
      "block_group": "a384a00add414461b6ddc26a40421c47"
    },
    {
      "cell_type": "markdown",
      "source": "## Key Components",
      "metadata": {
        "tags": [],
        "editable": true,
        "slideshow": {
          "slide_type": "subslide"
        },
        "cell_id": "7892c15bfa6a4f819f22e24efbf4bc30",
        "deepnote_cell_type": "markdown"
      },
      "block_group": "ee2de5304e5d4a5c9cbabf3fe655c40a"
    },
    {
      "cell_type": "markdown",
      "source": "- **Title**: Clearly describes the graph's purpose",
      "metadata": {
        "tags": [],
        "editable": true,
        "slideshow": {
          "slide_type": "fragment"
        },
        "cell_id": "6adea49fe0684d9d9a0dd9e7a8f8a889",
        "deepnote_cell_type": "markdown"
      },
      "block_group": "b59b0b97fc2746fa82f7b991e260f692"
    },
    {
      "cell_type": "markdown",
      "source": "- **Axis Labels**: Indicate the data and units on each axis",
      "metadata": {
        "tags": [],
        "editable": true,
        "slideshow": {
          "slide_type": "fragment"
        },
        "cell_id": "098db671fc4f4494ac6fabc5ed8212ce",
        "deepnote_cell_type": "markdown"
      },
      "block_group": "6aae48986ce543028ea783886b7edd72"
    },
    {
      "cell_type": "markdown",
      "source": "- **Legend**: Identifies data series",
      "metadata": {
        "tags": [],
        "editable": true,
        "slideshow": {
          "slide_type": "fragment"
        },
        "cell_id": "205e4c26ad8e4f5faf6e796432b7fe54",
        "deepnote_cell_type": "markdown"
      },
      "block_group": "e949cf89aaf04df98b4896e5bd35a8ca"
    },
    {
      "cell_type": "markdown",
      "source": "- **Gridlines**: Optional, but can enhance readability",
      "metadata": {
        "tags": [],
        "editable": true,
        "slideshow": {
          "slide_type": "fragment"
        },
        "cell_id": "e05f4772b6d24c499619cc609f335dce",
        "deepnote_cell_type": "markdown"
      },
      "block_group": "c027b4f1e4514d80ad3ff74268b4b9a8"
    },
    {
      "cell_type": "markdown",
      "source": "## Design Principles",
      "metadata": {
        "tags": [],
        "editable": true,
        "slideshow": {
          "slide_type": "subslide"
        },
        "cell_id": "6efa2fb532c647ec8672713a24a01ed3",
        "deepnote_cell_type": "markdown"
      },
      "block_group": "25332aa3a04c4a32a7891fb8e6a985c3"
    },
    {
      "cell_type": "markdown",
      "source": "- Clarity: Avoid clutter and distractions",
      "metadata": {
        "tags": [],
        "editable": true,
        "slideshow": {
          "slide_type": "fragment"
        },
        "cell_id": "19ac714588ab4d718cb86e8772bfe059",
        "deepnote_cell_type": "markdown"
      },
      "block_group": "2f76729d2d59438b9e45cb472813f0e4"
    },
    {
      "cell_type": "markdown",
      "source": "- Accuracy: Ensure scales and labels reflect data accurately",
      "metadata": {
        "tags": [],
        "editable": true,
        "slideshow": {
          "slide_type": "fragment"
        },
        "cell_id": "d7a33fcdcf0c4f8eabee577b3f4401c0",
        "deepnote_cell_type": "markdown"
      },
      "block_group": "65f40779ccef4e4a9a921186111ef25c"
    },
    {
      "cell_type": "markdown",
      "source": "- Simplicity: Highlight the main story without unnecessary elements",
      "metadata": {
        "tags": [],
        "editable": true,
        "slideshow": {
          "slide_type": "fragment"
        },
        "cell_id": "334ef6f043554bdab5773c5bf60e307d",
        "deepnote_cell_type": "markdown"
      },
      "block_group": "cac6b56fd1bc41bbbcbb842925b691dc"
    },
    {
      "cell_type": "markdown",
      "source": "# Examples of Bad Data Visualizations",
      "metadata": {
        "tags": [],
        "editable": true,
        "slideshow": {
          "slide_type": "slide"
        },
        "cell_id": "a3968374077a407daceaf2371ae9cf7f",
        "deepnote_cell_type": "markdown"
      },
      "block_group": "837f8e3457464b2fa2cb544f8191fe22"
    },
    {
      "cell_type": "markdown",
      "source": "<table>\n  <tr>\n    <td>\n      <img src=\"./pics/bad-3d-bar.png\" alt=\"data-viz.png\" width=\"2000\"/>\n    </td>\n    <td>\n      <h1>A 3D bar chart gone wrong</h1>\n    </td>\n  </tr>\n</table>",
      "metadata": {
        "tags": [],
        "editable": true,
        "slideshow": {
          "slide_type": "subslide"
        },
        "cell_id": "25a77abc8f424587857b3a2641944f5b",
        "deepnote_cell_type": "markdown"
      },
      "block_group": "3fc3940a87e74ce593be71335c350225"
    },
    {
      "cell_type": "markdown",
      "source": "### Critique of 3D Bar Chart",
      "metadata": {
        "tags": [],
        "editable": true,
        "slideshow": {
          "slide_type": "subslide"
        },
        "cell_id": "7c0046aaaad54bbb820727f417823896",
        "deepnote_cell_type": "markdown"
      },
      "block_group": "3a2149aaed6548aaa01dd2a691bfb532"
    },
    {
      "cell_type": "markdown",
      "source": "- **3D Effects**: \n  - Distorts data, making it hard to compare bar heights accurately.\n  - **Solution**: Use 2D to avoid distortion and make comparisons easier.",
      "metadata": {
        "tags": [],
        "editable": true,
        "slideshow": {
          "slide_type": "fragment"
        },
        "cell_id": "56ee15501e3647e9b1f222c49327645b",
        "deepnote_cell_type": "markdown"
      },
      "block_group": "5d1325f517cf4c4094cd4aef564eb437"
    },
    {
      "cell_type": "markdown",
      "source": "- **Overlapping Bars**: \n  - Bars overlap, increasing cognitive load to separate them visually.\n  - **Solution**: Use side-by-side bars in 2D.",
      "metadata": {
        "tags": [],
        "editable": true,
        "slideshow": {
          "slide_type": "fragment"
        },
        "cell_id": "c950dbca122149ea95ce8581b6dd4c36",
        "deepnote_cell_type": "markdown"
      },
      "block_group": "2f37cc9087f14b03b8f9b01a6fa856d0"
    },
    {
      "cell_type": "markdown",
      "source": "- **Color Choices**: \n  - Colors lack clear meaning, potentially distracting viewers.\n  - **Solution**: Use colors with purpose or a monochromatic scheme.",
      "metadata": {
        "tags": [],
        "editable": true,
        "slideshow": {
          "slide_type": "fragment"
        },
        "cell_id": "0965d13ee53c4e079befee900c221b87",
        "deepnote_cell_type": "markdown"
      },
      "block_group": "d485853342b94129b53cf9bf5356ca37"
    },
    {
      "cell_type": "markdown",
      "source": "- **Lack of Clear Labels**: \n  - Missing clear axis titles and legends for color groups.\n  - **Solution**: Add descriptive axis labels and a legend if needed.",
      "metadata": {
        "tags": [],
        "editable": true,
        "slideshow": {
          "slide_type": "fragment"
        },
        "cell_id": "4536e739158f4979a1e730f42c278ba5",
        "deepnote_cell_type": "markdown"
      },
      "block_group": "0a152043b32c4a5086e1ab7b142d2a7e"
    },
    {
      "cell_type": "markdown",
      "source": "- **Complex Gridlines**: \n  - Cluttered, making it hard to focus on data.\n  - **Solution**: Reduce gridlines or make them subtler.",
      "metadata": {
        "tags": [],
        "editable": true,
        "slideshow": {
          "slide_type": "fragment"
        },
        "cell_id": "593d1d591a5e484ca6c0d6e082ec45c0",
        "deepnote_cell_type": "markdown"
      },
      "block_group": "27cb0e2cdbe142d39f8ece1e5818d665"
    },
    {
      "cell_type": "markdown",
      "source": "- **Tilted Labels**: \n  - X-axis labels are hard to read.\n  - **Solution**: Use horizontal or abbreviated labels.",
      "metadata": {
        "tags": [],
        "editable": true,
        "slideshow": {
          "slide_type": "subslide"
        },
        "cell_id": "4d0d37fba0cd46be93918087e411cc6f",
        "deepnote_cell_type": "markdown"
      },
      "block_group": "78bab173860948c4bc26ee949e35eeb2"
    },
    {
      "cell_type": "markdown",
      "source": "- **Unclear Grouping**: \n  - No clear explanation of “Dose Quartile” and “Hematocrit Group.”\n  - **Solution**: Clarify grouping with annotations or labels.",
      "metadata": {
        "tags": [],
        "editable": true,
        "slideshow": {
          "slide_type": "fragment"
        },
        "cell_id": "cc26d476358e4dde8a4909f9c42c6348",
        "deepnote_cell_type": "markdown"
      },
      "block_group": "430bb8cd81db44cc9a670402a1aa7998"
    },
    {
      "cell_type": "markdown",
      "source": "### Recommendation\nSwitch to a 2D grouped bar chart with clear labels, simplified colors, and reduced clutter for better readability.",
      "metadata": {
        "tags": [],
        "editable": true,
        "slideshow": {
          "slide_type": "fragment"
        },
        "cell_id": "16e794f607ab4864bd55d385c30bc4e7",
        "deepnote_cell_type": "markdown"
      },
      "block_group": "eec4bf3e7d684b9cad14d3014516614b"
    },
    {
      "cell_type": "markdown",
      "source": "<center><img src=\"./pics/bad-3d-bar-corrected.png\" alt=\"data-viz.png\" width=\"1000\"/></center>",
      "metadata": {
        "tags": [],
        "editable": true,
        "slideshow": {
          "slide_type": "subslide"
        },
        "cell_id": "30c4425a8337480bba44c35dac8905a9",
        "deepnote_cell_type": "markdown"
      },
      "block_group": "f61b14b245c5445ebc3887c2de5d2f65"
    },
    {
      "cell_type": "markdown",
      "source": "<table>\n  <tr>\n    <td>\n      <img src=\"./pics/bad-pie-chart.png\" alt=\"data-viz.png\" width=\"2000\"/>\n    </td>\n    <td>\n      <h1>A pie chart that should have been a bar chart</h1>\n    </td>\n  </tr>\n</table>",
      "metadata": {
        "tags": [],
        "editable": true,
        "slideshow": {
          "slide_type": "subslide"
        },
        "cell_id": "0761e3b23ae54af4881427169f90d1bc",
        "deepnote_cell_type": "markdown"
      },
      "block_group": "b88d131a0ffa4ba2a5b32d5e8db1e33c"
    },
    {
      "cell_type": "markdown",
      "source": "### Critique of Donut Chart",
      "metadata": {
        "tags": [],
        "editable": true,
        "slideshow": {
          "slide_type": "subslide"
        },
        "cell_id": "52cdc7948e9c4ffd932f9f1954df291e",
        "deepnote_cell_type": "markdown"
      },
      "block_group": "355914da90494304a7cab918ca169083"
    },
    {
      "cell_type": "markdown",
      "source": "- **Comparison Difficulty**: \n  - Circular format makes it hard to compare segment sizes accurately.\n  - **Solution**: Use a bar chart for easier comparison.",
      "metadata": {
        "tags": [],
        "editable": true,
        "slideshow": {
          "slide_type": "fragment"
        },
        "cell_id": "c8452c619ef84da2aca19461a059bf11",
        "deepnote_cell_type": "markdown"
      },
      "block_group": "b7a0efe7509f41c3b94797fe2ac81e10"
    },
    {
      "cell_type": "markdown",
      "source": "- **Color Usage**:\n  - Colors lack a clear scheme and some are too similar.\n  - **Solution**: Use a consistent color scheme or colorblind-friendly palette.",
      "metadata": {
        "tags": [],
        "editable": true,
        "slideshow": {
          "slide_type": "fragment"
        },
        "cell_id": "733a951415154f61a1d6489e57a771dc",
        "deepnote_cell_type": "markdown"
      },
      "block_group": "f7f3d84eea3646f29a672c80d9d592d2"
    },
    {
      "cell_type": "markdown",
      "source": "- **Misleading Circular Format**:\n  - Donut charts imply parts of a whole, which isn’t the case here.\n  - **Solution**: Use a bar chart to display individual values.",
      "metadata": {
        "tags": [],
        "editable": true,
        "slideshow": {
          "slide_type": "fragment"
        },
        "cell_id": "7b4828d2b0684424b13e69c167d830b8",
        "deepnote_cell_type": "markdown"
      },
      "block_group": "aaa0554fd9f64b4888e9e466b3589144"
    },
    {
      "cell_type": "markdown",
      "source": "- **Text Readability**:\n  - Text size and contrast vary, making it hard to read.\n  - **Solution**: Increase font size and improve contrast.",
      "metadata": {
        "tags": [],
        "editable": true,
        "slideshow": {
          "slide_type": "subslide"
        },
        "cell_id": "53ddefe466c94ceaa3ceedcbcad92e58",
        "deepnote_cell_type": "markdown"
      },
      "block_group": "0e3e2c0b39464520b7bc6166ed564879"
    },
    {
      "cell_type": "markdown",
      "source": "- **Lack of Order**:\n  - No clear ordering of segments by value.\n  - **Solution**: Order segments by descending value for clarity.",
      "metadata": {
        "tags": [],
        "editable": true,
        "slideshow": {
          "slide_type": "fragment"
        },
        "cell_id": "9ef072edd01d42b2a37143bbe10c5097",
        "deepnote_cell_type": "markdown"
      },
      "block_group": "75fc794f8bcf4fc482f31a763e1890ff"
    },
    {
      "cell_type": "markdown",
      "source": "### Recommendation\nSwitch to a bar chart with consistent colors, clearer labels, and value ordering for better readability and comparison.",
      "metadata": {
        "tags": [],
        "editable": true,
        "slideshow": {
          "slide_type": "fragment"
        },
        "cell_id": "1bbbb32915e5497a9e7e5c9edcb47253",
        "deepnote_cell_type": "markdown"
      },
      "block_group": "e70f26bf681244b1b397af95d1a0d042"
    },
    {
      "cell_type": "markdown",
      "source": "<table>\n  <tr>\n      <img src=\"./pics/bad-pie-chart-corrected.png\" alt=\"Player Scores Chart\" width=\"100%\">\n    <td width=\"40%\">\n      <h3>Critique & Improvements</h3>\n      <ul style=\"font-size: 1em;\">\n        <li style=\"font-size: 1em;\"><strong>Chart Type</strong>: Used a horizontal bar chart, which allows for easier comparison of player scores.</li>\n        <li style=\"font-size: 1em;\"><strong>Color Scheme</strong>: Selected a colorblind-friendly palette, ensuring accessibility.</li>\n        <li style=\"font-size: 1em;\"><strong>Ordering</strong>: Sorted bars in descending order, with the highest score at the top, making it easy to identify top performers.</li>\n        <li style=\"font-size: 1em;\"><strong>Readability</strong>: Displayed score labels at the end of each bar, enhancing readability without clutter.</li>\n      </ul>\n      <h3>Benefits</h3>\n      <p style=\"font-size: 1em;\">This design improves clarity, accessibility, and makes comparisons straightforward for viewers.</p>\n    </td>\n  </tr>\n</table>",
      "metadata": {
        "tags": [],
        "editable": true,
        "slideshow": {
          "slide_type": "subslide"
        },
        "cell_id": "5716ff19f40f4025b74e4b2d1a71461e",
        "deepnote_cell_type": "markdown"
      },
      "block_group": "cd4232b7fa9e42eebc6ffb323f298aed"
    },
    {
      "cell_type": "markdown",
      "source": "<table>\n  <tr>\n    <td>\n      <img src=\"./pics/bad-line-chart.png\" alt=\"data-viz.png\" width=\"2000\"/>\n    </td>\n    <td>\n      <h1>A continuous line chart used to show discrete data</h1>\n    </td>\n  </tr>\n</table>",
      "metadata": {
        "tags": [],
        "editable": true,
        "slideshow": {
          "slide_type": "subslide"
        },
        "cell_id": "8312a120d4f44616bb3e225fea56e58f",
        "deepnote_cell_type": "markdown"
      },
      "block_group": "21aa002e15094b9e817b90ca1f808233"
    },
    {
      "cell_type": "markdown",
      "source": "### Critique of Line Chart",
      "metadata": {
        "tags": [],
        "editable": true,
        "slideshow": {
          "slide_type": "subslide"
        },
        "cell_id": "0990780ddf0c46048738ab78349d2337",
        "deepnote_cell_type": "markdown"
      },
      "block_group": "23720cc3b1684e9eb9079d83a7550403"
    },
    {
      "cell_type": "markdown",
      "source": "- **Discrete Data Misrepresented as Continuous**:\n  - Continuous lines imply trends between data points, which misrepresents annual, discrete data.\n  - **Solution**: Use a step chart or discrete markers.",
      "metadata": {
        "tags": [],
        "editable": true,
        "slideshow": {
          "slide_type": "fragment"
        },
        "cell_id": "cbb008a3743148cc9b7750ed05d46fff",
        "deepnote_cell_type": "markdown"
      },
      "block_group": "d3f4e02525c34eb6a93264fd94af137b"
    },
    {
      "cell_type": "markdown",
      "source": "- **Line Style and Color**:\n  - Dashed lines with low-contrast colors may confuse viewers, especially colorblind readers.\n  - **Solution**: Use solid lines with a colorblind-friendly palette (e.g., blue and orange).",
      "metadata": {
        "tags": [],
        "editable": true,
        "slideshow": {
          "slide_type": "fragment"
        },
        "cell_id": "d03bebddfbaf48fa95f0c1ee22cea361",
        "deepnote_cell_type": "markdown"
      },
      "block_group": "5e0c6955ff6f4d18ae6961c93a6e4b94"
    },
    {
      "cell_type": "markdown",
      "source": "- **Lack of Data Labels**:\n  - Difficult to determine exact values for each year.\n  - **Solution**: Add data labels or grid lines for easier value estimation.",
      "metadata": {
        "tags": [],
        "editable": true,
        "slideshow": {
          "slide_type": "fragment"
        },
        "cell_id": "444a329a514a45d4823b60bb80d71fa1",
        "deepnote_cell_type": "markdown"
      },
      "block_group": "b32bebd05fc34cf28eb173d753e8d207"
    },
    {
      "cell_type": "markdown",
      "source": "- **Biased Title**:\n  - Title is styled as a slogan rather than a neutral description.\n  - **Solution**: Use a factual title like “Market Share (%) of Britannia vs. Competitor Over Time.”",
      "metadata": {
        "tags": [],
        "editable": true,
        "slideshow": {
          "slide_type": "subslide"
        },
        "cell_id": "8c59f3b718e04054ac798fbf5cf408fc",
        "deepnote_cell_type": "markdown"
      },
      "block_group": "5c4687d5acc841a19190aaea68890f28"
    },
    {
      "cell_type": "markdown",
      "source": "- **Excessive Background Styling**:\n  - Decorative elements distract from the data.\n  - **Solution**: Remove background elements for a cleaner look.",
      "metadata": {
        "tags": [],
        "editable": true,
        "slideshow": {
          "slide_type": "fragment"
        },
        "cell_id": "7c089da8ad1a410abad116ad53d60be9",
        "deepnote_cell_type": "markdown"
      },
      "block_group": "a22fa32aba4f4a5fb5d0b6b62e56e830"
    },
    {
      "cell_type": "markdown",
      "source": "### Recommendation\nUse a step chart or discrete markers, solid lines in high-contrast colors, a clear title, and minimalistic styling for clarity and accurate representation.",
      "metadata": {
        "tags": [],
        "editable": true,
        "slideshow": {
          "slide_type": "fragment"
        },
        "cell_id": "caf4582a71b6452fb719d01386ae895e",
        "deepnote_cell_type": "markdown"
      },
      "block_group": "9ee3156e0fe342f3ba3ff43b284817ec"
    },
    {
      "cell_type": "markdown",
      "source": "<table>\n  <tr>\n    <td width=\"50%\">\n      <img src=\"./pics/bad-line-chart-corrected.png\" alt=\"data-viz.png\" width=\"2000\"/>\n    </td>\n    <td width=\"50%\">\n      <img src=\"./pics/bad-line-chart-better.png\" alt=\"data-viz.png\" width=\"2000\"/>\n    </td>\n  </tr>\n</table>",
      "metadata": {
        "tags": [],
        "editable": true,
        "slideshow": {
          "slide_type": "subslide"
        },
        "cell_id": "ee9a6e0c62a3411188825bec03e80eb9",
        "deepnote_cell_type": "markdown"
      },
      "block_group": "3d0d5781d45a41aca12c877648d3dc75"
    },
    {
      "cell_type": "markdown",
      "source": "<table>\n  <tr>\n    <td>\n      <img src=\"./pics/bad-geo-visual.png\" alt=\"data-viz.png\" width=\"2000\"/>\n    </td>\n    <td>\n      <h1>A misleading geography visual</h1>\n    </td>\n  </tr>\n</table>",
      "metadata": {
        "tags": [],
        "editable": true,
        "slideshow": {
          "slide_type": "subslide"
        },
        "cell_id": "3cd7478b0c2a472994bd077f0b95c9a8",
        "deepnote_cell_type": "markdown"
      },
      "block_group": "13b055da47624efc9c476805ed939066"
    },
    {
      "cell_type": "markdown",
      "source": "### Critique of Map Visualization",
      "metadata": {
        "tags": [],
        "editable": true,
        "slideshow": {
          "slide_type": "subslide"
        },
        "cell_id": "c70ba68e514c4d9a91b8ca4a7a96cb29",
        "deepnote_cell_type": "markdown"
      },
      "block_group": "b1621ae0c0994a8cb9dc39d5b31fcd14"
    },
    {
      "cell_type": "markdown",
      "source": "- **Misleading Use of Map**:\n  - Map implies geographic variation that isn’t present in national population percentages.\n  - **Solution**: Use a stacked bar chart or line chart.",
      "metadata": {
        "tags": [],
        "editable": true,
        "slideshow": {
          "slide_type": "fragment"
        },
        "cell_id": "55705fca94b244dca2db0a83677e16da",
        "deepnote_cell_type": "markdown"
      },
      "block_group": "6e4c99adacdf46ef93c141a5132021df"
    },
    {
      "cell_type": "markdown",
      "source": "- **Ineffective Color Scheme**:\n  - Bold colors may not be colorblind-friendly; \"Asian\" and \"Other\" are hard to distinguish.\n  - **Solution**: Use a colorblind-friendly palette with clear contrasts.",
      "metadata": {
        "tags": [],
        "editable": true,
        "slideshow": {
          "slide_type": "fragment"
        },
        "cell_id": "2d3417e1d2b14d729bb32a38bcd9a0fc",
        "deepnote_cell_type": "markdown"
      },
      "block_group": "a58a488338e344128807828e502b15fc"
    },
    {
      "cell_type": "markdown",
      "source": "- **Overwhelming Red Color**:\n  - Strong red for \"White\" category draws excessive attention.\n  - **Solution**: Choose a balanced color scheme to avoid emphasis on one group.",
      "metadata": {
        "tags": [],
        "editable": true,
        "slideshow": {
          "slide_type": "fragment"
        },
        "cell_id": "aaafef140f8147aab8d12b0644f753a9",
        "deepnote_cell_type": "markdown"
      },
      "block_group": "77a97ab4bbf84d04b01896d075900315"
    },
    {
      "cell_type": "markdown",
      "source": "- **Cluttered Labels**:\n  - Labels are hard to read, especially where they overlap.\n  - **Solution**: Separate labels clearly or use a data table for percentages.",
      "metadata": {
        "tags": [],
        "editable": true,
        "slideshow": {
          "slide_type": "fragment"
        },
        "cell_id": "0d1ff82dfc9245a5a270881bce2bdf20",
        "deepnote_cell_type": "markdown"
      },
      "block_group": "778da3e68d714946a7f624b14e20d802"
    },
    {
      "cell_type": "markdown",
      "source": "- **Lack of Context**:\n  - Title is vague and doesn’t provide sufficient context for data.\n  - **Solution**: Add a descriptive title and subtitle explaining data scope.",
      "metadata": {
        "tags": [],
        "editable": true,
        "slideshow": {
          "slide_type": "fragment"
        },
        "cell_id": "f88b1c0ddab041e09fc3cc2ec56c6d87",
        "deepnote_cell_type": "markdown"
      },
      "block_group": "38e32bcb8fe0470e99bfe5cf22491c26"
    },
    {
      "cell_type": "markdown",
      "source": "### Recommendation\nSwitch to a stacked bar chart or line chart with balanced colors, clear labels, and a descriptive title for a more accurate and readable presentation.",
      "metadata": {
        "tags": [],
        "editable": true,
        "slideshow": {
          "slide_type": "subslide"
        },
        "cell_id": "2335c38f79304140960b0c5b0154438d",
        "deepnote_cell_type": "markdown"
      },
      "block_group": "cf6cc21c4ace42b7854a4a9755828cbf"
    },
    {
      "cell_type": "markdown",
      "source": "<center><img src=\"./pics/bad-geo-visual-corrected.png\" alt=\"data-viz.png\" width=\"80%\"/></center>",
      "metadata": {
        "tags": [],
        "editable": true,
        "slideshow": {
          "slide_type": ""
        },
        "cell_id": "a559bc0cacc84f26919a082cacdaaa21",
        "deepnote_cell_type": "markdown"
      },
      "block_group": "9da109ed0df348798ec5c589ef701e15"
    },
    {
      "cell_type": "markdown",
      "source": "<table>\n  <tr>\n    <td>\n      <img src=\"./pics/bad-wtf.png\" alt=\"data-viz.png\" width=\"2000\"/>\n    </td>\n    <td>\n      <h1>What is this?</h1>\n    </td>\n  </tr>\n</table>",
      "metadata": {
        "tags": [],
        "editable": true,
        "slideshow": {
          "slide_type": "subslide"
        },
        "cell_id": "a2163af5b4554d46a609459d361f1cf3",
        "deepnote_cell_type": "markdown"
      },
      "block_group": "769bffedfa3f40a28b44dbe5699716fa"
    },
    {
      "cell_type": "markdown",
      "source": "### Critique of MLS Salary Visualization",
      "metadata": {
        "tags": [],
        "editable": true,
        "slideshow": {
          "slide_type": "subslide"
        },
        "cell_id": "a0e438143de3498b856f4991f0d57107",
        "deepnote_cell_type": "markdown"
      },
      "block_group": "b57297c037be4e0189e8424573394766"
    },
    {
      "cell_type": "markdown",
      "source": "- **Overwhelming Colors**:\n  - Too many colors make it visually overwhelming.\n  - **Solution**: Simplify color scheme or group by role/salary range.",
      "metadata": {
        "tags": [],
        "editable": true,
        "slideshow": {
          "slide_type": "fragment"
        },
        "cell_id": "1d4ebe94411a4f4aa7c5dd9b434f4821",
        "deepnote_cell_type": "markdown"
      },
      "block_group": "8bdecd04c7d54196b94318d179b8ed62"
    },
    {
      "cell_type": "markdown",
      "source": "- **Inconsistent Layout**:\n  - Bar lengths vary, making it hard to compare teams.\n  - **Solution**: Use a consistent scale for bars.",
      "metadata": {
        "tags": [],
        "editable": true,
        "slideshow": {
          "slide_type": "fragment"
        },
        "cell_id": "3e9e0723f2534fdf8cf1cd18a65f6350",
        "deepnote_cell_type": "markdown"
      },
      "block_group": "d67753a97b84418d9851f2a0f7d895c1"
    },
    {
      "cell_type": "markdown",
      "source": "- **Lack of Data Labels**:\n  - Small blocks lack player details, making interpretation difficult.\n  - **Solution**: Add labels or interactive tooltips for player name and salary.",
      "metadata": {
        "tags": [],
        "editable": true,
        "slideshow": {
          "slide_type": "fragment"
        },
        "cell_id": "ae0d6f04d8804ed68bd708f7a6d82c14",
        "deepnote_cell_type": "markdown"
      },
      "block_group": "a031b6b644604d42ad06481ae76158fd"
    },
    {
      "cell_type": "markdown",
      "source": "- **Tiny Legend**:\n  - Legend is small and hard to read.\n  - **Solution**: Enlarge legend with clearer labels.",
      "metadata": {
        "tags": [],
        "editable": true,
        "slideshow": {
          "slide_type": "fragment"
        },
        "cell_id": "310e662b049242238a9dc79e5a1fb065",
        "deepnote_cell_type": "markdown"
      },
      "block_group": "da6076a7387145f69814a1d92917940a"
    },
    {
      "cell_type": "markdown",
      "source": "- **Excessive Text on Right**:\n  - Title and text crowd the visualization area.\n  - **Solution**: Move title and explanation above chart.",
      "metadata": {
        "tags": [],
        "editable": true,
        "slideshow": {
          "slide_type": "subslide"
        },
        "cell_id": "0fe122eb3b7d4efb859e637691ad5f24",
        "deepnote_cell_type": "markdown"
      },
      "block_group": "b112777bcdfa4fafadb244fe33f9b001"
    },
    {
      "cell_type": "markdown",
      "source": "- **Hard to Compare Across Teams**:\n  - Difficult to understand team salary distribution.\n  - **Solution**: Group players by salary range or create a separate summary chart.",
      "metadata": {
        "tags": [],
        "editable": true,
        "slideshow": {
          "slide_type": "fragment"
        },
        "cell_id": "10f79c70d92e4b31a4d2f0e946214321",
        "deepnote_cell_type": "markdown"
      },
      "block_group": "a490aa016f44402b820ec625d8dc7d68"
    },
    {
      "cell_type": "markdown",
      "source": "### Recommendation\nStreamline the design with a simpler color scheme, clearer labels, consistent scales, and more space for data to enhance readability and comparison.",
      "metadata": {
        "tags": [],
        "editable": true,
        "slideshow": {
          "slide_type": "fragment"
        },
        "cell_id": "aceb731b832344d99791aa15af44cac7",
        "deepnote_cell_type": "markdown"
      },
      "block_group": "eba76f836e1a4c7ba8dab2057e04584b"
    },
    {
      "cell_type": "markdown",
      "source": "<table>\n  <tr>\n      <img src=\"./pics/bad-wtf-corrected.png\" alt=\"Player Scores Chart\" width=\"200%\">\n    <td width=\"20%\">\n      <h3>Critique & Improvements</h3>\n      <ul style=\"font-size: 1em;\">\n        <li style=\"font-size: 1em;\"><strong>Individual Player Representation</strong>: Each segment represents an individual player's salary, maintaining the original intent to display salaries within each team.</li>\n        <li style=\"font-size: 1em;\"><strong>Color Scheme</strong>: Used a limited, colorblind-friendly palette to distinguish players without overwhelming the viewer.</li>\n        <li style=\"font-size: 1em;\"><strong>Consistent Scale Across Teams</strong>: Each team’s bar has the same scale, making comparisons across teams easier.</li>\n        <li style=\"font-size: 1em;\"><strong>Simplified Legend</strong>: The legend is clear and concise, improving readability and focusing on essential information.</li>\n      </ul>\n      <h3>Benefits</h3>\n      <p style=\"font-size: 1em;\">This design enhances clarity, accessibility, and facilitates straightforward comparisons of player salaries across MLS teams.</p>\n    </td>\n  </tr>\n</table>",
      "metadata": {
        "tags": [],
        "editable": true,
        "slideshow": {
          "slide_type": "subslide"
        },
        "cell_id": "ec0a655b80344328915a0a2da1311bae",
        "deepnote_cell_type": "markdown"
      },
      "block_group": "90c9f5502de845dab024dd692f82abac"
    },
    {
      "cell_type": "markdown",
      "source": "<table>\n  <tr>\n    <td>\n      <img src=\"./pics/bad-bubble-graph.png\" alt=\"data-viz.png\" width=\"2000\"/>\n    </td>\n    <td>\n      <h1>A bubble chart gone wrong</h1>\n    </td>\n  </tr>\n</table>",
      "metadata": {
        "tags": [],
        "editable": true,
        "slideshow": {
          "slide_type": "subslide"
        },
        "cell_id": "5e5b01e947c34d89a80b70ed3800dcf3",
        "deepnote_cell_type": "markdown"
      },
      "block_group": "d2d76181a7d8480eb6b742e8fd26a289"
    },
    {
      "cell_type": "markdown",
      "source": "# More bad viz",
      "metadata": {
        "tags": [],
        "editable": true,
        "slideshow": {
          "slide_type": "subslide"
        },
        "cell_id": "51f3d088dd0b4fc1a2ca6d3bc0c482ca",
        "deepnote_cell_type": "markdown"
      },
      "block_group": "ed1c41d1c01544b69b38410885b1e529"
    },
    {
      "cell_type": "code",
      "source": "url ='https://viz.wtf/'\nIFrame(url, width=\"100%\", height=\"700\")",
      "metadata": {
        "tags": [],
        "editable": true,
        "slideshow": {
          "slide_type": ""
        },
        "source_hash": "34467f31",
        "execution_start": 1731457390823,
        "execution_millis": 1,
        "execution_context_id": "65a4f268-16cc-437b-ac2e-f56117415ba9",
        "cell_id": "577b8bfdac684c049907efabdca15d18",
        "deepnote_cell_type": "code"
      },
      "outputs": [],
      "outputs_reference": null,
      "execution_count": 2,
      "block_group": "b621426b3aa64673b7c43f16080c46d6",
      "content_dependencies": null
    },
    {
      "cell_type": "markdown",
      "source": "# Bad viz or lying with graphs?",
      "metadata": {
        "tags": [],
        "editable": true,
        "slideshow": {
          "slide_type": "subslide"
        },
        "cell_id": "335fbb8f679d4b13955125e9a5e8c7ff",
        "deepnote_cell_type": "markdown"
      },
      "block_group": "0d6dd5785d83464d857956e48ee17f4b"
    },
    {
      "cell_type": "markdown",
      "source": "<table>\n    <h1>Truncated Y-Axis</h1>\n  <tr>\n    <td width=\"50%\">\n      <img src=\"./pics/blog-misleading-y-axis.avif\" alt=\"Lying yaxis Chart - source: https://www.heap.io/blog/how-to-lie-with-data-visualization\" width=\"100%\">\n    </td>\n    <td width=\"50%\">\n      <img src=\"./pics/blog-misleading-tax-rate-graph.avif\" alt=\"Lying yaxis Chart 2\" width=\"100%\">\n    </td>\n    <td width=\"50%\">\n      <img src=\"./pics/blog-misleading-baseball-graph.avif\" alt=\"Lying yaxis Chart 3\" width=\"100%\">\n    </td>\n  </tr>\n</table>",
      "metadata": {
        "tags": [],
        "editable": true,
        "slideshow": {
          "slide_type": ""
        },
        "cell_id": "0ba4045015044fea991020002fb26458",
        "deepnote_cell_type": "markdown"
      },
      "block_group": "aa35501318b34de2896d945e4cdd53bd"
    },
    {
      "cell_type": "markdown",
      "source": "<table>\n    <h1>Cumulative graphs</h1>\n  <tr>\n    <td width=\"50%\">\n      <img src=\"./pics/blog-cumulative-annual-revenue.avif\" alt=\"Cumulative Chart\" width=\"100%\">\n    </td>\n    <td width=\"50%\">\n      <img src=\"./pics/blog-misleading-annual-revenue-graph.avif\" alt=\"Changes Chart\" width=\"100%\">\n    </td>\n    <td width=\"50%\">\n      <img src=\"./pics/blog-misleading-annual-revenue-graph.avif\" alt=\"Changes Chart\" width=\"100%\">\n    </td>\n  </tr>\n</table>",
      "metadata": {
        "tags": [],
        "editable": true,
        "slideshow": {
          "slide_type": "subslide"
        },
        "cell_id": "f2ed8870d43b4201a24c0a30f3f7be7a",
        "deepnote_cell_type": "markdown"
      },
      "block_group": "e0924e22577a45a19d06688c652c9a2d"
    },
    {
      "cell_type": "markdown",
      "source": "<table>\n    <h1>Ignoring conventions</h1>\n  <tr>\n    <td width=\"50%\">\n      <img src=\"./pics/blog-misleading-presidential-results.avif\" alt=\"Conventions Chart\" width=\"100%\">\n    </td>\n    <td width=\"50%\">\n      <img src=\"./pics/blog-misleading-gun-deaths-graph.avif\" alt=\"Conventions Chart\" width=\"100%\">\n    </td>\n    <td width=\"50%\">\n      <img src=\"./pics/blog-misleading-gun-deaths-graph.avif\" alt=\"Conventions Chart\" width=\"100%\">\n    </td>\n  </tr>\n</table>",
      "metadata": {
        "tags": [],
        "editable": true,
        "slideshow": {
          "slide_type": "subslide"
        },
        "cell_id": "4f809ecb2d0b4cbba5d1597cfffdd60b",
        "deepnote_cell_type": "markdown"
      },
      "block_group": "561d2aa0b0144c5eb0931b452e336ce1"
    },
    {
      "cell_type": "markdown",
      "source": "# Further Examples\n- [How to Spot Visualization Lies](https://flowingdata.com/2017/02/09/how-to-spot-visualization-lies/)\n- [How charts lie](https://www.youtube.com/watch?v=oX74Nge8Wkw)\n- [Lies, Distortions, and Misrepresentations in Visualization](https://www.youtube.com/watch?v=IFA-3uXEcb0)\n- [How People Actually Lie With Charts](https://vdl.sci.utah.edu/blog/2023/04/17/misleading/)\n- [VisLies](https://www.vislies.org/)",
      "metadata": {
        "tags": [],
        "editable": true,
        "slideshow": {
          "slide_type": "subslide"
        },
        "cell_id": "c66bd2bbb65a468cb1a2b075d2558a85",
        "deepnote_cell_type": "markdown"
      },
      "block_group": "54860034b1054915b4cb08196b3af205"
    },
    {
      "cell_type": "markdown",
      "source": "# Examples of Good Data Visualizations",
      "metadata": {
        "tags": [],
        "editable": true,
        "slideshow": {
          "slide_type": "slide"
        },
        "cell_id": "82a0f9302eda42959b8d703dfc0dd2b5",
        "deepnote_cell_type": "markdown"
      },
      "block_group": "1832a36dd8724e3cb37f54fb1a6e96a9"
    },
    {
      "cell_type": "code",
      "source": "IFrame(\"https://informationisbeautiful.net/\", width=\"100%\", height=\"700\")",
      "metadata": {
        "tags": [],
        "editable": true,
        "slideshow": {
          "slide_type": "subslide"
        },
        "source_hash": "5529dd0f",
        "execution_start": 1731457390883,
        "execution_millis": 1,
        "execution_context_id": "65a4f268-16cc-437b-ac2e-f56117415ba9",
        "cell_id": "936ca64ede2e4a59aefee889071466ec",
        "deepnote_cell_type": "code"
      },
      "outputs": [],
      "outputs_reference": null,
      "execution_count": 3,
      "block_group": "2c7ffafb6c2b4cbba7867009daf1733f",
      "content_dependencies": null
    },
    {
      "cell_type": "markdown",
      "source": "# NYTimes",
      "metadata": {
        "tags": [],
        "editable": true,
        "slideshow": {
          "slide_type": "subslide"
        },
        "cell_id": "1b972a76eabf42c58640cbbbc2745652",
        "deepnote_cell_type": "markdown"
      },
      "block_group": "376c6b0cdcd949ab9ca9b85824410c26"
    },
    {
      "cell_type": "code",
      "source": "IFrame(\"https://www.nytimes.com/newsgraphics/2014/01/05/poverty-map/index.html\", width=\"100%\", height=\"700\")",
      "metadata": {
        "tags": [],
        "editable": true,
        "slideshow": {
          "slide_type": ""
        },
        "source_hash": "a4541eef",
        "execution_start": 1731457390934,
        "execution_millis": 1,
        "execution_context_id": "65a4f268-16cc-437b-ac2e-f56117415ba9",
        "cell_id": "d63239b6466a436db9e2301aa907c673",
        "deepnote_cell_type": "code"
      },
      "outputs": [],
      "outputs_reference": null,
      "execution_count": 4,
      "block_group": "b6451ba1168d4968970454ac081d6061",
      "content_dependencies": null
    },
    {
      "cell_type": "markdown",
      "source": "# The Economist",
      "metadata": {
        "tags": [],
        "editable": true,
        "slideshow": {
          "slide_type": ""
        },
        "cell_id": "eeca5cea3ed84967a8d187fcd8ecb273",
        "deepnote_cell_type": "markdown"
      },
      "block_group": "463ac6384ffe4ad9a692262c55ddd07f"
    },
    {
      "cell_type": "code",
      "source": "IFrame(\"./pics/economist.jpg\", width=\"100%\", height=\"300\")",
      "metadata": {
        "tags": [],
        "editable": true,
        "slideshow": {
          "slide_type": ""
        },
        "source_hash": "da87903b",
        "execution_start": 1731457390986,
        "execution_millis": 1,
        "execution_context_id": "65a4f268-16cc-437b-ac2e-f56117415ba9",
        "cell_id": "2ace50d68106448fb51227a70a939c12",
        "deepnote_cell_type": "code"
      },
      "outputs": [],
      "outputs_reference": null,
      "execution_count": 5,
      "block_group": "f0d19b9ea9ee4a44aec3a0307a441452",
      "content_dependencies": null
    },
    {
      "cell_type": "markdown",
      "source": "# Tools and Advice for Data Visualization",
      "metadata": {
        "tags": [],
        "editable": true,
        "slideshow": {
          "slide_type": "slide"
        },
        "cell_id": "27104f30f1924bcc986d0e3fad83b052",
        "deepnote_cell_type": "markdown"
      },
      "block_group": "5a65dd2c0dbf4320aa74e4570d0fdf21"
    },
    {
      "cell_type": "markdown",
      "source": "- **[Data to Viz](https://www.data-to-viz.com/)**: A comprehensive guide that helps users choose the most effective chart type based on their dataset's structure. It provides examples, best practices, and explanations for a wide range of visualizations.",
      "metadata": {
        "tags": [],
        "editable": true,
        "slideshow": {
          "slide_type": "subslide"
        },
        "cell_id": "70a21294af5c4824bb8eb9338d546be2",
        "deepnote_cell_type": "markdown"
      },
      "block_group": "ca598afaaf024911ab897c9d72c3a6b2"
    },
    {
      "cell_type": "code",
      "source": "IFrame(\"https://www.data-to-viz.com/\", width=\"100%\", height=\"700\")",
      "metadata": {
        "tags": [],
        "editable": true,
        "slideshow": {
          "slide_type": ""
        },
        "source_hash": "f5b49300",
        "execution_start": 1731457403340,
        "execution_millis": 2,
        "execution_context_id": "65a4f268-16cc-437b-ac2e-f56117415ba9",
        "cell_id": "bcae89c2a1914f959265f7c9cd0de54d",
        "deepnote_cell_type": "code"
      },
      "outputs": [],
      "outputs_reference": null,
      "execution_count": 27,
      "block_group": "1b4965ad144e499386164e5bdbd10f72",
      "content_dependencies": null
    },
    {
      "cell_type": "markdown",
      "source": "- **[Data Viz Project](https://datavizproject.com/)**: A comprehensive collection of data visualization types, categorized and explained in detail. It offers inspiration and guidance on choosing the right visualization based on data type and intended message.",
      "metadata": {
        "tags": [],
        "editable": true,
        "slideshow": {
          "slide_type": "subslide"
        },
        "cell_id": "15c3da0a70644d6182c458c5f9da0178",
        "deepnote_cell_type": "markdown"
      },
      "block_group": "0cfcade560fc4cdbb22d7fc9922236a4"
    },
    {
      "cell_type": "code",
      "source": "IFrame(\"https://datavizproject.com/\", width=\"100%\", height=\"700\")",
      "metadata": {
        "tags": [],
        "editable": true,
        "slideshow": {
          "slide_type": ""
        },
        "source_hash": "67da6d8f",
        "execution_start": 1731457391094,
        "execution_millis": 1,
        "execution_context_id": "65a4f268-16cc-437b-ac2e-f56117415ba9",
        "cell_id": "06dd08535d0442b3aac147117d192a22",
        "deepnote_cell_type": "code"
      },
      "outputs": [],
      "outputs_reference": null,
      "execution_count": 7,
      "block_group": "f441140372904a8fa8b464b83d812fc8",
      "content_dependencies": null
    },
    {
      "cell_type": "markdown",
      "source": "- **[Datawrapper](https://www.datawrapper.de/)**: A user-friendly online tool for creating professional charts, maps, and tables. Datawrapper is popular for data journalists and anyone looking to create clean, interactive visualizations without coding.",
      "metadata": {
        "tags": [],
        "editable": true,
        "slideshow": {
          "slide_type": "subslide"
        },
        "cell_id": "9b76e43d0b14471bb0d00c1958419bda",
        "deepnote_cell_type": "markdown"
      },
      "block_group": "968587f30fae4dd8ba86762986219d0a"
    },
    {
      "cell_type": "code",
      "source": "IFrame(\"https://www.datawrapper.de/\", width=\"100%\", height=\"700\")",
      "metadata": {
        "tags": [],
        "editable": true,
        "slideshow": {
          "slide_type": ""
        },
        "source_hash": "15cdeefd",
        "execution_start": 1731457391150,
        "execution_millis": 2,
        "execution_context_id": "65a4f268-16cc-437b-ac2e-f56117415ba9",
        "cell_id": "b301a87264a14178a1354d3883dd25ed",
        "deepnote_cell_type": "code"
      },
      "outputs": [],
      "outputs_reference": null,
      "execution_count": 8,
      "block_group": "4d87ea89c3b641ef8a26a2c66f025e7c",
      "content_dependencies": null
    },
    {
      "cell_type": "markdown",
      "source": "- **[Python Graph Gallery](https://python-graph-gallery.com/)**: A resource for creating visualizations in Python, with code examples and tutorials for various chart types, including bar charts, line charts, and advanced data visualizations.",
      "metadata": {
        "tags": [],
        "editable": true,
        "slideshow": {
          "slide_type": "subslide"
        },
        "cell_id": "20545b81844e496caa153e5f8d9ce60d",
        "deepnote_cell_type": "markdown"
      },
      "block_group": "454d4e00fff1455d9bbf84fd3b44c4b2"
    },
    {
      "cell_type": "code",
      "source": "IFrame(\"https://python-graph-gallery.com/\", width=\"100%\", height=\"700\")",
      "metadata": {
        "tags": [],
        "editable": true,
        "slideshow": {
          "slide_type": ""
        },
        "source_hash": "bff80461",
        "execution_start": 1731457391206,
        "execution_millis": 1,
        "execution_context_id": "65a4f268-16cc-437b-ac2e-f56117415ba9",
        "cell_id": "c30a0c60fa1a4ea5a5988e57e196704a",
        "deepnote_cell_type": "code"
      },
      "outputs": [],
      "outputs_reference": null,
      "execution_count": 9,
      "block_group": "46527814c5d8474ca4ab5a68f903b534",
      "content_dependencies": null
    },
    {
      "cell_type": "markdown",
      "source": "# Tools for Visualization in Python",
      "metadata": {
        "tags": [],
        "editable": true,
        "slideshow": {
          "slide_type": "subslide"
        },
        "cell_id": "b14ffc6ec7334911bb6fd752eebc4474",
        "deepnote_cell_type": "markdown"
      },
      "block_group": "f28d09772bcf4ce58c5a5ca014b25079"
    },
    {
      "cell_type": "markdown",
      "source": "- **[matplotlib](https://matplotlib.org/)**: The foundational Python library for creating static, animated, and interactive visualizations.\n<iframe src=\"https://matplotlib.org/\" width=\"100%\" height=\"400\"></iframe>",
      "metadata": {
        "tags": [],
        "editable": true,
        "slideshow": {
          "slide_type": "subslide"
        },
        "cell_id": "3837b8bdb27e400680df148efb0f1985",
        "deepnote_cell_type": "markdown"
      },
      "block_group": "5994a3e87815414e8ac8eb5080f7f064"
    },
    {
      "cell_type": "code",
      "source": "# @hidden_cell\n# Display an iframe with the specified URL\nIFrame(\"https://matplotlib.org/\", width=\"100%\", height=\"700\")",
      "metadata": {
        "tags": [],
        "editable": true,
        "slideshow": {
          "slide_type": ""
        },
        "source_hash": "29a08aca",
        "execution_start": 1731457391259,
        "execution_millis": 0,
        "execution_context_id": "65a4f268-16cc-437b-ac2e-f56117415ba9",
        "cell_id": "03bb803f70054c41b3eca8590696bec4",
        "deepnote_cell_type": "code"
      },
      "outputs": [],
      "outputs_reference": null,
      "execution_count": 10,
      "block_group": "8bebfcafc7d944c181e779c046cd9426",
      "content_dependencies": null
    },
    {
      "cell_type": "markdown",
      "source": "- **[pandas plotting](https://pandas.pydata.org/pandas-docs/stable/user_guide/visualization.html)**: The Pandas library includes simple plotting capabilities built on matplotlib, making it easy to create basic visualizations directly from DataFrames.",
      "metadata": {
        "tags": [],
        "editable": true,
        "slideshow": {
          "slide_type": "subslide"
        },
        "cell_id": "2f2a686af0a543dbbb3d2d2ca3eab0df",
        "deepnote_cell_type": "markdown"
      },
      "block_group": "12ef2fc182c641afa7db45f4b5ee468c"
    },
    {
      "cell_type": "code",
      "source": "# Pandas Plotting\nIFrame(\"https://pandas.pydata.org/pandas-docs/stable/user_guide/visualization.html#basic-plotting-plot\", width=\"100%\", height=\"700\")",
      "metadata": {
        "tags": [],
        "editable": true,
        "slideshow": {
          "slide_type": ""
        },
        "source_hash": "31a0514e",
        "execution_start": 1731457391314,
        "execution_millis": 1,
        "execution_context_id": "65a4f268-16cc-437b-ac2e-f56117415ba9",
        "cell_id": "1c8192848da444ecb87e92b3f73ff9b6",
        "deepnote_cell_type": "code"
      },
      "outputs": [],
      "outputs_reference": null,
      "execution_count": 11,
      "block_group": "9fd725ac898a4c689673186284a21556",
      "content_dependencies": null
    },
    {
      "cell_type": "markdown",
      "source": "- **[Geopandas](https://geopandas.org/)**: Extends Pandas to work with geospatial data and provides easy-to-use tools for plotting maps and geospatial data.",
      "metadata": {
        "tags": [],
        "editable": true,
        "slideshow": {
          "slide_type": "subslide"
        },
        "cell_id": "82897ff0b01c47d28d4ca6bf8d198b92",
        "deepnote_cell_type": "markdown"
      },
      "block_group": "b34e9c79beeb481ca7892c62bfcb1721"
    },
    {
      "cell_type": "code",
      "source": "# Geopandas\nIFrame(\"https://geopandas.org/en/stable/getting_started/introduction.html#Making-maps\", width=\"100%\", height=\"700\")",
      "metadata": {
        "tags": [],
        "editable": true,
        "slideshow": {
          "slide_type": ""
        },
        "source_hash": "2608e84d",
        "execution_start": 1731457391366,
        "execution_millis": 1,
        "execution_context_id": "65a4f268-16cc-437b-ac2e-f56117415ba9",
        "cell_id": "5da4caf8313f49459e302ea48b0dc35d",
        "deepnote_cell_type": "code"
      },
      "outputs": [],
      "outputs_reference": null,
      "execution_count": 12,
      "block_group": "ed25a5a1635f40e58b12205a106671b9",
      "content_dependencies": null
    },
    {
      "cell_type": "markdown",
      "source": "- **[seaborn](https://seaborn.pydata.org/)**: Built on top of matplotlib, seaborn provides a high-level interface for drawing attractive statistical graphics.",
      "metadata": {
        "tags": [],
        "editable": true,
        "slideshow": {
          "slide_type": "subslide"
        },
        "cell_id": "7737737ae827447d96454bdea68c8a2b",
        "deepnote_cell_type": "markdown"
      },
      "block_group": "7ffb7c774af54ed6b90688adfe25f15a"
    },
    {
      "cell_type": "code",
      "source": "# Seaborn\nIFrame(\"https://seaborn.pydata.org/\", width=\"100%\", height=\"700\")",
      "metadata": {
        "tags": [],
        "editable": true,
        "slideshow": {
          "slide_type": ""
        },
        "source_hash": "d8cc125c",
        "execution_start": 1731457391422,
        "execution_millis": 1,
        "execution_context_id": "65a4f268-16cc-437b-ac2e-f56117415ba9",
        "cell_id": "342be519a9a4497e8cb5d6110a63dcad",
        "deepnote_cell_type": "code"
      },
      "outputs": [],
      "outputs_reference": null,
      "execution_count": 13,
      "block_group": "6b5e4e69e9e14f8da58697fb9568582c",
      "content_dependencies": null
    },
    {
      "cell_type": "markdown",
      "source": "- **[geoplot](https://residentmario.github.io/geoplot/)**: A high-level Python geospatial plotting library, designed to work with geopandas and matplotlib. It simplifies the creation of thematic maps and allows for various types of geographic data visualization, such as choropleths, cartograms, and point maps.",
      "metadata": {
        "tags": [],
        "editable": true,
        "slideshow": {
          "slide_type": "subslide"
        },
        "cell_id": "5b797408b96d4d2dbee615b7aa7d987a",
        "deepnote_cell_type": "markdown"
      },
      "block_group": "4ab651eb250d41199b1bcfdd568e5229"
    },
    {
      "cell_type": "code",
      "source": "# Geoplot\nIFrame(\"https://residentmario.github.io/geoplot/\", width=\"100%\", height=\"700\")",
      "metadata": {
        "tags": [],
        "editable": true,
        "slideshow": {
          "slide_type": ""
        },
        "source_hash": "823ff198",
        "execution_start": 1731457391478,
        "execution_millis": 1,
        "execution_context_id": "65a4f268-16cc-437b-ac2e-f56117415ba9",
        "cell_id": "6b5a106d92544742945a2b8da8c2adb6",
        "deepnote_cell_type": "code"
      },
      "outputs": [],
      "outputs_reference": null,
      "execution_count": 14,
      "block_group": "26db2414e5dd48bfb34ce63aaf8fccb7",
      "content_dependencies": null
    },
    {
      "cell_type": "markdown",
      "source": "- **[Plotly](https://plotly.com/python/)**: A versatile library for creating interactive and web-based plots. Plotly Express, a part of Plotly, offers a simple syntax for creating complex visualizations quickly.",
      "metadata": {
        "tags": [],
        "editable": true,
        "slideshow": {
          "slide_type": "subslide"
        },
        "cell_id": "31c0ef3f90d54ee78e07b3a93d27d756",
        "deepnote_cell_type": "markdown"
      },
      "block_group": "326985c3443d4fe8ac98503a3b362003"
    },
    {
      "cell_type": "code",
      "source": "# Plotly\nIFrame(\"https://plotly.com/python/\", width=\"100%\", height=\"700\")",
      "metadata": {
        "tags": [],
        "editable": true,
        "slideshow": {
          "slide_type": ""
        },
        "source_hash": "bd2dff42",
        "execution_start": 1731457391535,
        "execution_millis": 0,
        "execution_context_id": "65a4f268-16cc-437b-ac2e-f56117415ba9",
        "cell_id": "f7c6c1aa7ada4c7099605102895131c2",
        "deepnote_cell_type": "code"
      },
      "outputs": [],
      "outputs_reference": null,
      "execution_count": 15,
      "block_group": "f76fac7b974046f98adf31308152bc08",
      "content_dependencies": null
    },
    {
      "cell_type": "markdown",
      "source": "- **[lets-plot](https://lets-plot.org/)**: A plotting library developed by JetBrains that brings the ggplot2-like API to Python. It supports interactive and static visualizations and is particularly suited for data scientists familiar with the grammar of graphics approach.",
      "metadata": {
        "tags": [],
        "editable": true,
        "slideshow": {
          "slide_type": "subslide"
        },
        "cell_id": "cce58e5aff6a4780af2b17bdb1d5e290",
        "deepnote_cell_type": "markdown"
      },
      "block_group": "3fece2c9117743d8b37295eb716aa959"
    },
    {
      "cell_type": "code",
      "source": "# Lets-Plot\nIFrame(\"https://lets-plot.org/\", width=\"100%\", height=\"700\")",
      "metadata": {
        "tags": [],
        "editable": true,
        "slideshow": {
          "slide_type": ""
        },
        "source_hash": "d4ea4d61",
        "execution_start": 1731457391594,
        "execution_millis": 1,
        "execution_context_id": "65a4f268-16cc-437b-ac2e-f56117415ba9",
        "cell_id": "601a85e8d0cc450aa50a386d234e02b2",
        "deepnote_cell_type": "code"
      },
      "outputs": [],
      "outputs_reference": null,
      "execution_count": 16,
      "block_group": "b8582c683c094119a9c664415f6ae745",
      "content_dependencies": null
    },
    {
      "cell_type": "markdown",
      "source": "- **[plotnine](https://plotnine.readthedocs.io/)**: A Python library that replicates the ggplot2 syntax from R. Based on the grammar of graphics, plotnine makes it easy to create complex and layered visualizations, especially for users with an R or ggplot2 background.",
      "metadata": {
        "tags": [],
        "editable": true,
        "slideshow": {
          "slide_type": "subslide"
        },
        "cell_id": "dcdff0a4f5fc458cac0f094412090113",
        "deepnote_cell_type": "markdown"
      },
      "block_group": "7177118aeb4d42d0a6fd8dbce48ec854"
    },
    {
      "cell_type": "code",
      "source": "# Plotnine\nIFrame(\"https://plotnine.readthedocs.io/\", width=\"100%\", height=\"700\")",
      "metadata": {
        "tags": [],
        "editable": true,
        "slideshow": {
          "slide_type": ""
        },
        "source_hash": "4a873a11",
        "execution_start": 1731457391655,
        "execution_millis": 0,
        "execution_context_id": "65a4f268-16cc-437b-ac2e-f56117415ba9",
        "cell_id": "5f88691651f642c9bf4d853627721875",
        "deepnote_cell_type": "code"
      },
      "outputs": [],
      "outputs_reference": null,
      "execution_count": 17,
      "block_group": "614298c1727349abb3a10d4102f0c35a",
      "content_dependencies": null
    },
    {
      "cell_type": "markdown",
      "source": "- **[Bokeh](https://bokeh.org/)**: Designed for creating interactive visualizations that are ideal for web applications, Bokeh allows detailed control over both visual presentation and interactivity.",
      "metadata": {
        "tags": [],
        "editable": true,
        "slideshow": {
          "slide_type": "subslide"
        },
        "cell_id": "155930d787f84668baa5ad2cff6f030d",
        "deepnote_cell_type": "markdown"
      },
      "block_group": "4f905f5f2331406ab326c4f8709fd281"
    },
    {
      "cell_type": "code",
      "source": "# Bokeh\nIFrame(\"https://bokeh.org/\", width=\"100%\", height=\"700\")",
      "metadata": {
        "tags": [],
        "editable": true,
        "slideshow": {
          "slide_type": ""
        },
        "source_hash": "debd0345",
        "execution_start": 1731457391706,
        "execution_millis": 2,
        "execution_context_id": "65a4f268-16cc-437b-ac2e-f56117415ba9",
        "cell_id": "eb98853f0b3a49b092d48a0f1a65ea66",
        "deepnote_cell_type": "code"
      },
      "outputs": [],
      "outputs_reference": null,
      "execution_count": 18,
      "block_group": "0fcb5d0097ba44ecb6dae45e83d1e2cc",
      "content_dependencies": null
    },
    {
      "cell_type": "markdown",
      "source": "- **[Altair](https://altair-viz.github.io/)**: A declarative statistical visualization library based on the Vega and Vega-Lite visualization grammars, known for its simplicity and effectiveness for creating statistical plots.",
      "metadata": {
        "tags": [],
        "editable": true,
        "slideshow": {
          "slide_type": "subslide"
        },
        "cell_id": "a7c964f8a9a046b98ebc675ab7d88407",
        "deepnote_cell_type": "markdown"
      },
      "block_group": "91369c8c96984824b2b360932c165e6c"
    },
    {
      "cell_type": "code",
      "source": "# Altair\nIFrame(\"https://altair-viz.github.io/\", width=\"100%\", height=\"700\")",
      "metadata": {
        "tags": [],
        "editable": true,
        "slideshow": {
          "slide_type": ""
        },
        "source_hash": "62f49598",
        "execution_start": 1731457391762,
        "execution_millis": 1,
        "execution_context_id": "65a4f268-16cc-437b-ac2e-f56117415ba9",
        "cell_id": "ee7efc23bd404405abd0407b800e4c2b",
        "deepnote_cell_type": "code"
      },
      "outputs": [],
      "outputs_reference": null,
      "execution_count": 19,
      "block_group": "5a72b1214c2d4fd7b5e4c27cdbc26bf1",
      "content_dependencies": null
    },
    {
      "cell_type": "markdown",
      "source": "- **[Holoviews](https://holoviews.org/)**: A high-level library for interactive data exploration, built on top of Bokeh and Matplotlib. It allows users to create complex visualizations with minimal code.",
      "metadata": {
        "tags": [],
        "editable": true,
        "slideshow": {
          "slide_type": "subslide"
        },
        "cell_id": "e98b4901ae7d4396a7ee334de3d9e271",
        "deepnote_cell_type": "markdown"
      },
      "block_group": "e7b74a8816b84d7d8a5f407b2af1607f"
    },
    {
      "cell_type": "code",
      "source": "# Holoviews\nIFrame(\"https://holoviews.org/\", width=\"100%\", height=\"700\")",
      "metadata": {
        "tags": [],
        "editable": true,
        "slideshow": {
          "slide_type": ""
        },
        "source_hash": "d411d23c",
        "execution_start": 1731457391814,
        "execution_millis": 1,
        "execution_context_id": "65a4f268-16cc-437b-ac2e-f56117415ba9",
        "cell_id": "fde170c175af45948e3519321dae6e5d",
        "deepnote_cell_type": "code"
      },
      "outputs": [],
      "outputs_reference": null,
      "execution_count": 20,
      "block_group": "7b7c182102ae46d4aecf379ac066a4cf",
      "content_dependencies": null
    },
    {
      "cell_type": "markdown",
      "source": "- **[Dash](https://dash.plotly.com/)**: A framework by Plotly for building interactive web applications with Python. Dash is especially useful for creating interactive, data-driven web apps with complex visualizations.",
      "metadata": {
        "tags": [],
        "editable": true,
        "slideshow": {
          "slide_type": "subslide"
        },
        "cell_id": "3ef6257900454bdb99d1ccd483847c7e",
        "deepnote_cell_type": "markdown"
      },
      "block_group": "aff6abc535c54fa48fbc1de7c2fb6a1b"
    },
    {
      "cell_type": "code",
      "source": "# Dash\nIFrame(\"https://dash.plotly.com/\", width=\"100%\", height=\"700\")",
      "metadata": {
        "tags": [],
        "editable": true,
        "slideshow": {
          "slide_type": ""
        },
        "source_hash": "a2e1aa2a",
        "execution_start": 1731457391878,
        "execution_millis": 1,
        "execution_context_id": "65a4f268-16cc-437b-ac2e-f56117415ba9",
        "cell_id": "848b79b74985421391afed85af78cf73",
        "deepnote_cell_type": "code"
      },
      "outputs": [],
      "outputs_reference": null,
      "execution_count": 21,
      "block_group": "8f1bcaf6e6f545e298ec1100a2e2641a",
      "content_dependencies": null
    },
    {
      "cell_type": "markdown",
      "source": "# Creating a Simple Visualization in Python",
      "metadata": {
        "tags": [],
        "editable": true,
        "slideshow": {
          "slide_type": "slide"
        },
        "cell_id": "e6ecd3eb28a142c2b17f252921edde3b",
        "deepnote_cell_type": "markdown"
      },
      "block_group": "fbb5535730d142249705b7ce41a183c5"
    },
    {
      "cell_type": "code",
      "source": "import matplotlib.pyplot as plt\n\n# Sample data\nx = [1, 2, 3, 4, 5]\ny = [10, 20, 25, 30, 40]\n\n# Plotting a basic line chart\nplt.plot(x, y, marker='o')\nplt.title(\"Sample Line Chart\")\nplt.xlabel(\"X Axis\")\nplt.ylabel(\"Y Axis\")\nplt.grid(True)\nplt.show()",
      "metadata": {
        "tags": [],
        "editable": true,
        "slideshow": {
          "slide_type": "subslide"
        },
        "source_hash": "79e69d66",
        "execution_start": 1731457391930,
        "execution_millis": 1336,
        "execution_context_id": "65a4f268-16cc-437b-ac2e-f56117415ba9",
        "cell_id": "c96fb9b819e8431899e62c6cab5b2585",
        "deepnote_cell_type": "code"
      },
      "outputs": [],
      "outputs_reference": null,
      "execution_count": 22,
      "block_group": "73789f0dcf914b71ae6082ff735766b3",
      "content_dependencies": null
    },
    {
      "cell_type": "code",
      "source": "# Enhanced line chart with gray background and red line\nimport seaborn as sns\nimport matplotlib.pyplot as plt\n\n# Set Seaborn style for a darker background\nsns.set(style=\"darkgrid\", context=\"talk\")  # \"darkgrid\" for gray background\nsns.set(rc={'figure.figsize':(11.7,8.27)})\nsns.set_context(\"talk\")\n\n# Create the plot with a red line and customized labels\nplt.figure(figsize=(10, 6))\nsns.lineplot(x=x, y=y, marker='o', color='red', linewidth=2.5)\n\n# Customizing title and axis labels\nplt.title(\"Sample Line Chart\", fontsize=20, fontweight='bold')\nplt.xlabel(\"X Axis\", fontsize=16, fontweight='bold')\nplt.ylabel(\"Y Axis\", fontsize=16, fontweight='bold')\n\n# Customize tick parameters to make them smaller relative to the axis labels\nplt.tick_params(axis='both', labelsize=12)\n\n# Adjust grid appearance with thicker white lines for visibility on a gray background\nplt.grid(True, linestyle='-', linewidth=1.2, color='white', alpha=0.6)\n\n# Show the plot\nplt.show()",
      "metadata": {
        "tags": [],
        "editable": true,
        "slideshow": {
          "slide_type": "subslide"
        },
        "source_hash": "38551a33",
        "execution_start": 1731457393318,
        "execution_millis": 1131,
        "execution_context_id": "65a4f268-16cc-437b-ac2e-f56117415ba9",
        "cell_id": "b62532b99dbd4440b13fb6381e867e0f",
        "deepnote_cell_type": "code"
      },
      "outputs": [],
      "outputs_reference": null,
      "execution_count": 23,
      "block_group": "a49fcd36b63c484b88839077529a9f73",
      "content_dependencies": null
    },
    {
      "cell_type": "code",
      "source": "import plotly.graph_objects as go\n\n# Sample data\nx = [1, 2, 3, 4, 5]\ny = [10, 20, 25, 30, 40]\n\n# Create the line chart using Plotly with adjusted aspect ratio\nfig = go.Figure()\n\n# Add trace for the line with markers\nfig.add_trace(go.Scatter(\n    x=x, y=y, mode='lines+markers', marker=dict(color='red', size=8), line=dict(color='red', width=2.5)\n))\n\n# Customize layout for a white background with gray grid lines and square aspect ratio\nfig.update_layout(\n    title=dict(text=\"Sample Line Chart\", font=dict(size=20, family='Arial', color='black')),\n    xaxis=dict(title=\"X Axis\", titlefont=dict(size=16, color='black'), tickfont=dict(size=12, color='black')),\n    yaxis=dict(title=\"Y Axis\", titlefont=dict(size=16, color='black'), tickfont=dict(size=12, color='black')),\n    plot_bgcolor='white',\n    paper_bgcolor='white',\n    xaxis_showgrid=True, \n    yaxis_showgrid=True,\n    xaxis_gridcolor='lightgray',\n    yaxis_gridcolor='lightgray',\n    width=1170*.7,  # Set width and height to be equal for a square aspect ratio\n    height=827*.7\n)\n\n# Display the plot\nfig.show()",
      "metadata": {
        "tags": [],
        "editable": true,
        "slideshow": {
          "slide_type": "subslide"
        },
        "source_hash": "52d7216f",
        "execution_start": 1731457394507,
        "execution_millis": 141,
        "execution_context_id": "65a4f268-16cc-437b-ac2e-f56117415ba9",
        "cell_id": "9bc6129356e94d4ba17e68492d382a7c",
        "deepnote_cell_type": "code"
      },
      "outputs": [],
      "outputs_reference": null,
      "execution_count": 24,
      "block_group": "9ef84583391f4f609386477cd3bb20aa",
      "content_dependencies": null
    },
    {
      "cell_type": "code",
      "source": "from lets_plot import *\nimport pandas as pd\n\n# Initialize Lets-Plot for display\nLetsPlot.setup_html()\n\n# Sample data\nx = [1, 2, 3, 4, 5]\ny = [10, 20, 25, 30, 40]\ndata = pd.DataFrame({'x': x, 'y': y})\n\n# Set width and height based on the specified dimensions\nwidth = int(1170 * 0.7)\nheight = int(827 * 0.7)\n\n# Create the plot with labeled axes\np = (ggplot(data, aes(x='x', y='y'))\n     + geom_line(color='red', size=1.5)\n     + geom_point(color='red', size=3)\n     + ggtitle(\"Sample Line Chart\")\n     + xlab(\"X Axis\")   # Label for X-axis\n     + ylab(\"Y Axis\")   # Label for Y-axis\n     + theme(\n         plot_background=element_rect(fill='white'),       # Set overall background to white\n         panel_background=element_rect(fill='white'),      # Background behind the plot area\n         panel_grid_major=element_line(color='lightgray', size=0.7),  # Light gray grid lines\n         plot_title=element_text(size=20, face='bold', color='black'), # Title styling\n         axis_title_x=element_text(size=16, face='bold', color='black'), # X-axis label styling\n         axis_title_y=element_text(size=16, face='bold', color='black'), # Y-axis label styling\n         axis_text=element_text(size=12, color='black')    # Axis tick labels\n     )\n     + ggsize(width, height)  # Adjust the size of the plot\n)\n\n# Display the plot\np.show()",
      "metadata": {
        "tags": [],
        "editable": true,
        "slideshow": {
          "slide_type": "subslide"
        },
        "source_hash": "cb3c5744",
        "execution_start": 1731457394699,
        "execution_millis": 795,
        "execution_context_id": "65a4f268-16cc-437b-ac2e-f56117415ba9",
        "cell_id": "22e4aaa5484a434392c945f1171c5031",
        "deepnote_cell_type": "code"
      },
      "outputs": [],
      "outputs_reference": null,
      "execution_count": 25,
      "block_group": "271495571d64433796d981b1c216ae12",
      "content_dependencies": null
    },
    {
      "cell_type": "code",
      "source": "",
      "metadata": {
        "tags": [],
        "editable": true,
        "slideshow": {
          "slide_type": ""
        },
        "execution_context_id": "65a4f268-16cc-437b-ac2e-f56117415ba9",
        "deepnote_to_be_reexecuted": true,
        "cell_id": "c993fd6d82024b64bb03366543c87fc6",
        "deepnote_cell_type": "code"
      },
      "outputs": [],
      "outputs_reference": null,
      "execution_count": null,
      "block_group": "6750a5ae0b7f4eedbc471c418597b462",
      "content_dependencies": null
    },
    {
      "cell_type": "markdown",
      "source": "<a style='text-decoration:none;line-height:16px;display:flex;color:#5B5B62;padding:10px;justify-content:end;' href='https://deepnote.com?utm_source=created-in-deepnote-cell&projectId=bf601dcc-fd47-4740-9d61-f01d1c864e97' target=\"_blank\">\n<img alt='Created in deepnote.com' style='display:inline;max-height:16px;margin:0px;margin-right:7.5px;' src='data:image/svg+xml;base64,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' > </img>\nCreated in <span style='font-weight:600;margin-left:4px;'>Deepnote</span></a>",
      "metadata": {
        "created_in_deepnote_cell": true,
        "deepnote_cell_type": "markdown"
      }
    }
  ],
  "nbformat": 4,
  "nbformat_minor": 0,
  "metadata": {
    "deepnote_persisted_session": {
      "createdAt": "2024-11-13T00:12:12.051Z"
    },
    "deepnote_notebook_id": "f3410801144048ec9a4190410e4ca8ab"
  }
}