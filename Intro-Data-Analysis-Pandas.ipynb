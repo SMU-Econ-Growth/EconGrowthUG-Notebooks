{
 "cells": [
  {
   "cell_type": "markdown",
   "metadata": {
    "slideshow": {
     "slide_type": "slide"
    },
    "tags": []
   },
   "source": [
    "<h1><center>Introduction to Data Analysis in </center></h1>\n",
    "    \n",
    "<center><img src=\"https://www.python.org/static/community_logos/python-logo-inkscape.svg\" alt=\"Python\" width=300/> </center>\n",
    "\n",
    "<h1><center>using </center></h1>\n",
    "\n",
    "<center><a href=\"https://pandas.pydata.org/docs/index.html\"><img src=\"https://raw.githubusercontent.com/SMU-Econ-Growth/EconGrowthUG-Notebooks/c004a90a03c3633fd05cdbce96647e229fdc21d8/pics/Pandas_logo.svg\" alt=\"Pandas\" width=300/></a></center>"
   ]
  },
  {
   "cell_type": "code",
   "execution_count": null,
   "metadata": {},
   "outputs": [],
   "source": []
  },
  {
   "cell_type": "markdown",
   "metadata": {
    "slideshow": {
     "slide_type": "slide"
    },
    "tags": []
   },
   "source": [
    "# <center>What is <img src=\"https://raw.githubusercontent.com/SMU-Econ-Growth/EconGrowthUG-Notebooks/c004a90a03c3633fd05cdbce96647e229fdc21d8/pics/Pandas_logo.svg\" alt=\"Pandas\" width=150/>?</center>"
   ]
  },
  {
   "cell_type": "markdown",
   "metadata": {
    "slideshow": {
     "slide_type": "fragment"
    }
   },
   "source": [
    "**pandas** is a fast, powerful, flexible and easy to use open source data analysis and manipulation tool, built on top of the Python programming language."
   ]
  },
  {
   "cell_type": "markdown",
   "metadata": {
    "slideshow": {
     "slide_type": "slide"
    },
    "tags": []
   },
   "source": [
    "# <center>What is <img src=\"https://raw.githubusercontent.com/SMU-Econ-Growth/EconGrowthUG-Notebooks/c004a90a03c3633fd05cdbce96647e229fdc21d8/pics/Pandas_logo.svg\" alt=\"Pandas\" width=150/> for?</center>"
   ]
  },
  {
   "cell_type": "markdown",
   "metadata": {
    "slideshow": {
     "slide_type": "fragment"
    },
    "tags": []
   },
   "source": [
    "* **pandas** is the right tool when working with tabular data\n",
    "    * such as data stored in spreadsheets or databases "
   ]
  },
  {
   "cell_type": "markdown",
   "metadata": {
    "slideshow": {
     "slide_type": "subslide"
    },
    "tags": []
   },
   "source": [
    "* **pandas** will help you to \n",
    "    * explore\n",
    "    * clean\n",
    "    * transform\n",
    "    * merge \n",
    "    * process"
   ]
  },
  {
   "cell_type": "markdown",
   "metadata": {
    "slideshow": {
     "slide_type": "slide"
    },
    "tags": []
   },
   "source": [
    "* In **pandas**, a data table is called a ``DataFrame``\n",
    "<center><a href=\"https://pandas.pydata.org/docs/getting_started/index.html\"><img src=\"https://raw.githubusercontent.com/SMU-Econ-Growth/EconGrowthUG-Notebooks/c004a90a03c3633fd05cdbce96647e229fdc21d8/pics/01_table_dataframe.svg\" alt=\"Pandas DataFrame\" width=500/></a></center>"
   ]
  },
  {
   "cell_type": "markdown",
   "metadata": {
    "slideshow": {
     "slide_type": "subslide"
    },
    "tags": []
   },
   "source": [
    "* In **pandas**, a column of a data table is called a `Series`\n",
    "    * A `DataFrame` is a collection of `Series`"
   ]
  },
  {
   "cell_type": "markdown",
   "metadata": {
    "slideshow": {
     "slide_type": "subslide"
    }
   },
   "source": [
    "With [pandas](http://pandas.pydata.org) you can \n",
    "1. Import many types of data, including\n",
    "    * CSV files\n",
    "    * Tab or other types of delimited files \n",
    "    * Excel (xls, xlsx) files\n",
    "    * Stata files"
   ]
  },
  {
   "cell_type": "markdown",
   "metadata": {
    "slideshow": {
     "slide_type": "subslide"
    }
   },
   "source": [
    "2. Open files directly from a website\n",
    "3. Merge, select, join data\n",
    "4. Perform statistical analyses\n",
    "5. Create plots of your data\n",
    "\n",
    "and much more."
   ]
  },
  {
   "cell_type": "markdown",
   "metadata": {
    "slideshow": {
     "slide_type": "subslide"
    },
    "tags": []
   },
   "source": [
    "* **pandas** is imported as\n",
    "```python\n",
    "import pandas as pd\n",
    "```\n",
    "I suggest you follow this convention, which will make using other people's code and snippets easier."
   ]
  },
  {
   "cell_type": "code",
   "execution_count": 1,
   "metadata": {
    "slideshow": {
     "slide_type": "fragment"
    },
    "tags": []
   },
   "outputs": [],
   "source": [
    "# Let's import pandas and some other basic packages we will use \n",
    "from __future__ import division\n",
    "%matplotlib inline\n",
    "import os\n",
    "import matplotlib.pyplot as plt\n",
    "import numpy as np\n",
    "np.random.seed(123456)\n",
    "import pandas as pd"
   ]
  },
  {
   "cell_type": "markdown",
   "metadata": {
    "slideshow": {
     "slide_type": "slide"
    },
    "tags": []
   },
   "source": [
    "# <center>How to create a <img src=\"https://raw.githubusercontent.com/SMU-Econ-Growth/EconGrowthUG-Notebooks/c004a90a03c3633fd05cdbce96647e229fdc21d8/pics/Pandas_logo.svg\" alt=\"Pandas\" width=150/> `Series`?</center>"
   ]
  },
  {
   "cell_type": "markdown",
   "metadata": {
    "slideshow": {
     "slide_type": "subslide"
    },
    "tags": []
   },
   "source": [
    "# Create a New `Series`\n",
    "<center><a href=\"https://pandas.pydata.org/docs/getting_started/intro_tutorials/01_table_oriented.html#min-tut-01-tableoriented\"><img src=\"https://raw.githubusercontent.com/SMU-Econ-Growth/EconGrowthUG-Notebooks/main/pics/01_table_series.svg\" alt=\"Pandas DataFrame\" width=20%/></a></center>"
   ]
  },
  {
   "cell_type": "markdown",
   "metadata": {
    "slideshow": {
     "slide_type": "subslide"
    },
    "tags": []
   },
   "source": [
    "* To create a new [`Series`](https://pandas.pydata.org/docs/reference/api/pandas.Series.html)\n",
    "```python\n",
    "my_new_series = pd.Series(a_list_with_data, \n",
    "                          name='Name of Column in data table')\n",
    "```"
   ]
  },
  {
   "cell_type": "code",
   "execution_count": 2,
   "metadata": {
    "slideshow": {
     "slide_type": "subslide"
    },
    "tags": []
   },
   "outputs": [
    {
     "data": {
      "text/plain": [
       "0    Taylor\n",
       "1      John\n",
       "2      Fela\n",
       "3      Manu\n",
       "4    Şebnem\n",
       "Name: First Name, dtype: object"
      ]
     },
     "execution_count": 2,
     "metadata": {},
     "output_type": "execute_result"
    }
   ],
   "source": [
    "first_names = pd.Series(['Taylor', 'John', 'Fela', 'Manu', 'Şebnem'], name='First Name')\n",
    "first_names"
   ]
  },
  {
   "cell_type": "code",
   "execution_count": 3,
   "metadata": {
    "slideshow": {
     "slide_type": "subslide"
    },
    "tags": []
   },
   "outputs": [
    {
     "data": {
      "text/plain": [
       "0     Swift\n",
       "1    Lennon\n",
       "2      Kuti\n",
       "3      Chau\n",
       "4    Ferrah\n",
       "Name: Last Name, dtype: object"
      ]
     },
     "execution_count": 3,
     "metadata": {},
     "output_type": "execute_result"
    }
   ],
   "source": [
    "last_names = pd.Series({0:'Swift',\n",
    "                        1:'Lennon',\n",
    "                        2:'Kuti',\n",
    "                        3:'Chau', \n",
    "                        4:'Ferrah'}, name='Last Name')\n",
    "last_names"
   ]
  },
  {
   "cell_type": "code",
   "execution_count": 4,
   "metadata": {
    "slideshow": {
     "slide_type": "subslide"
    },
    "tags": []
   },
   "outputs": [
    {
     "data": {
      "text/plain": [
       "0    34\n",
       "1    75\n",
       "2    83\n",
       "3    82\n",
       "4    76\n",
       "Name: Age, dtype: int64"
      ]
     },
     "execution_count": 4,
     "metadata": {},
     "output_type": "execute_result"
    }
   ],
   "source": [
    "age = pd.Series(np.random.randint(33, 85, size=5), name='Age')\n",
    "age"
   ]
  },
  {
   "cell_type": "markdown",
   "metadata": {
    "slideshow": {
     "slide_type": "slide"
    },
    "tags": []
   },
   "source": [
    "# <center>How to create a <img src=\"https://raw.githubusercontent.com/SMU-Econ-Growth/EconGrowthUG-Notebooks/c004a90a03c3633fd05cdbce96647e229fdc21d8/pics/Pandas_logo.svg\" alt=\"Pandas\" width=150/> `DataFrame`?</center>"
   ]
  },
  {
   "cell_type": "markdown",
   "metadata": {
    "slideshow": {
     "slide_type": "subslide"
    },
    "tags": []
   },
   "source": [
    "# Create a New `DataFrame`\n",
    "<center><a href=\"https://pandas.pydata.org/docs/getting_started/intro_tutorials/01_table_oriented.html#min-tut-01-tableoriented\"><img src=\"https://raw.githubusercontent.com/SMU-Econ-Growth/EconGrowthUG-Notebooks/c004a90a03c3633fd05cdbce96647e229fdc21d8/pics/01_table_dataframe.svg\" alt=\"Pandas DataFrame\" width=500/></a></center>"
   ]
  },
  {
   "cell_type": "markdown",
   "metadata": {
    "slideshow": {
     "slide_type": "subslide"
    },
    "tags": []
   },
   "source": [
    "* To create a new [`DataFrame`](https://pandas.pydata.org/docs/reference/api/pandas.DataFrame.html)\n",
    "```python\n",
    "df = pd.DataFrame({'Column1 Name':column_1_data, \n",
    "                   'Column2 Name':column_2_data, \n",
    "                   'Column3 Name':column_3_data, \n",
    "                   ...\n",
    "                  })\n",
    "```"
   ]
  },
  {
   "cell_type": "code",
   "execution_count": 5,
   "metadata": {
    "slideshow": {
     "slide_type": "subslide"
    },
    "tags": []
   },
   "outputs": [
    {
     "data": {
      "text/html": [
       "<div>\n",
       "<style scoped>\n",
       "    .dataframe tbody tr th:only-of-type {\n",
       "        vertical-align: middle;\n",
       "    }\n",
       "\n",
       "    .dataframe tbody tr th {\n",
       "        vertical-align: top;\n",
       "    }\n",
       "\n",
       "    .dataframe thead th {\n",
       "        text-align: right;\n",
       "    }\n",
       "</style>\n",
       "<table border=\"1\" class=\"dataframe\">\n",
       "  <thead>\n",
       "    <tr style=\"text-align: right;\">\n",
       "      <th></th>\n",
       "      <th>First Name</th>\n",
       "      <th>Last Name</th>\n",
       "      <th>Age</th>\n",
       "    </tr>\n",
       "  </thead>\n",
       "  <tbody>\n",
       "    <tr>\n",
       "      <th>0</th>\n",
       "      <td>Taylor</td>\n",
       "      <td>Swift</td>\n",
       "      <td>34</td>\n",
       "    </tr>\n",
       "    <tr>\n",
       "      <th>1</th>\n",
       "      <td>John</td>\n",
       "      <td>Lennon</td>\n",
       "      <td>75</td>\n",
       "    </tr>\n",
       "    <tr>\n",
       "      <th>2</th>\n",
       "      <td>Fela</td>\n",
       "      <td>Kuti</td>\n",
       "      <td>83</td>\n",
       "    </tr>\n",
       "    <tr>\n",
       "      <th>3</th>\n",
       "      <td>Manu</td>\n",
       "      <td>Chau</td>\n",
       "      <td>82</td>\n",
       "    </tr>\n",
       "    <tr>\n",
       "      <th>4</th>\n",
       "      <td>Şebnem</td>\n",
       "      <td>Ferrah</td>\n",
       "      <td>76</td>\n",
       "    </tr>\n",
       "  </tbody>\n",
       "</table>\n",
       "</div>"
      ],
      "text/plain": [
       "  First Name Last Name  Age\n",
       "0     Taylor     Swift   34\n",
       "1       John    Lennon   75\n",
       "2       Fela      Kuti   83\n",
       "3       Manu      Chau   82\n",
       "4     Şebnem    Ferrah   76"
      ]
     },
     "execution_count": 5,
     "metadata": {},
     "output_type": "execute_result"
    }
   ],
   "source": [
    "musicians = pd.DataFrame({'First Name':first_names, \n",
    "                          'Last Name':last_names, \n",
    "                          'Age':age})\n",
    "musicians"
   ]
  },
  {
   "cell_type": "code",
   "execution_count": 6,
   "metadata": {
    "slideshow": {
     "slide_type": "subslide"
    },
    "tags": []
   },
   "outputs": [
    {
     "data": {
      "text/plain": [
       "First Name    object\n",
       "Last Name     object\n",
       "Age            int64\n",
       "dtype: object"
      ]
     },
     "execution_count": 6,
     "metadata": {},
     "output_type": "execute_result"
    }
   ],
   "source": [
    "musicians.dtypes"
   ]
  },
  {
   "cell_type": "code",
   "execution_count": 7,
   "metadata": {
    "slideshow": {
     "slide_type": "subslide"
    },
    "tags": []
   },
   "outputs": [],
   "source": [
    "musicians['Age'] = musicians['Age'].astype(int)"
   ]
  },
  {
   "cell_type": "code",
   "execution_count": 8,
   "metadata": {
    "slideshow": {
     "slide_type": "-"
    },
    "tags": []
   },
   "outputs": [
    {
     "data": {
      "text/plain": [
       "First Name    object\n",
       "Last Name     object\n",
       "Age            int64\n",
       "dtype: object"
      ]
     },
     "execution_count": 8,
     "metadata": {},
     "output_type": "execute_result"
    }
   ],
   "source": [
    "musicians.dtypes"
   ]
  },
  {
   "cell_type": "markdown",
   "metadata": {
    "slideshow": {
     "slide_type": "subslide"
    },
    "tags": []
   },
   "source": [
    "* To create a new [`DataFrame`](https://pandas.pydata.org/docs/reference/api/pandas.DataFrame.html)\n",
    "```python\n",
    "df = pd.DataFrame(a_list_of_series_or_raw_data,\n",
    "                  columns=list_with_column_names,\n",
    "                  index=list_of_indices_if_you_need).T\n",
    "```"
   ]
  },
  {
   "cell_type": "code",
   "execution_count": 9,
   "metadata": {
    "slideshow": {
     "slide_type": "subslide"
    },
    "tags": []
   },
   "outputs": [
    {
     "data": {
      "text/html": [
       "<div>\n",
       "<style scoped>\n",
       "    .dataframe tbody tr th:only-of-type {\n",
       "        vertical-align: middle;\n",
       "    }\n",
       "\n",
       "    .dataframe tbody tr th {\n",
       "        vertical-align: top;\n",
       "    }\n",
       "\n",
       "    .dataframe thead th {\n",
       "        text-align: right;\n",
       "    }\n",
       "</style>\n",
       "<table border=\"1\" class=\"dataframe\">\n",
       "  <thead>\n",
       "    <tr style=\"text-align: right;\">\n",
       "      <th></th>\n",
       "      <th>First Name</th>\n",
       "      <th>Last Name</th>\n",
       "      <th>Age</th>\n",
       "    </tr>\n",
       "  </thead>\n",
       "  <tbody>\n",
       "    <tr>\n",
       "      <th>0</th>\n",
       "      <td>Taylor</td>\n",
       "      <td>Swift</td>\n",
       "      <td>34</td>\n",
       "    </tr>\n",
       "    <tr>\n",
       "      <th>1</th>\n",
       "      <td>John</td>\n",
       "      <td>Lennon</td>\n",
       "      <td>75</td>\n",
       "    </tr>\n",
       "    <tr>\n",
       "      <th>2</th>\n",
       "      <td>Fela</td>\n",
       "      <td>Kuti</td>\n",
       "      <td>83</td>\n",
       "    </tr>\n",
       "    <tr>\n",
       "      <th>3</th>\n",
       "      <td>Manu</td>\n",
       "      <td>Chau</td>\n",
       "      <td>82</td>\n",
       "    </tr>\n",
       "    <tr>\n",
       "      <th>4</th>\n",
       "      <td>Şebnem</td>\n",
       "      <td>Ferrah</td>\n",
       "      <td>76</td>\n",
       "    </tr>\n",
       "  </tbody>\n",
       "</table>\n",
       "</div>"
      ],
      "text/plain": [
       "  First Name Last Name Age\n",
       "0     Taylor     Swift  34\n",
       "1       John    Lennon  75\n",
       "2       Fela      Kuti  83\n",
       "3       Manu      Chau  82\n",
       "4     Şebnem    Ferrah  76"
      ]
     },
     "execution_count": 9,
     "metadata": {},
     "output_type": "execute_result"
    }
   ],
   "source": [
    "musicians = pd.DataFrame([first_names, last_names, age]).T\n",
    "musicians"
   ]
  },
  {
   "cell_type": "code",
   "execution_count": 10,
   "metadata": {
    "slideshow": {
     "slide_type": "subslide"
    },
    "tags": []
   },
   "outputs": [
    {
     "data": {
      "text/plain": [
       "First Name    object\n",
       "Last Name     object\n",
       "Age           object\n",
       "dtype: object"
      ]
     },
     "execution_count": 10,
     "metadata": {},
     "output_type": "execute_result"
    }
   ],
   "source": [
    "musicians.dtypes"
   ]
  },
  {
   "cell_type": "code",
   "execution_count": 11,
   "metadata": {
    "slideshow": {
     "slide_type": "subslide"
    },
    "tags": []
   },
   "outputs": [],
   "source": [
    "musicians['Age'] = musicians['Age'].astype(int)"
   ]
  },
  {
   "cell_type": "code",
   "execution_count": 12,
   "metadata": {
    "slideshow": {
     "slide_type": "-"
    },
    "tags": []
   },
   "outputs": [
    {
     "data": {
      "text/plain": [
       "First Name    object\n",
       "Last Name     object\n",
       "Age            int64\n",
       "dtype: object"
      ]
     },
     "execution_count": 12,
     "metadata": {},
     "output_type": "execute_result"
    }
   ],
   "source": [
    "musicians.dtypes"
   ]
  },
  {
   "cell_type": "markdown",
   "metadata": {
    "slideshow": {
     "slide_type": "subslide"
    },
    "tags": []
   },
   "source": [
    "* To create a new [`DataFrame`](https://pandas.pydata.org/docs/reference/api/pandas.DataFrame.html)\n",
    "```python\n",
    "df = pd.DataFrame(a_list_of_series_or_raw_data,\n",
    "                  columns=list_with_column_names,\n",
    "                  index=list_of_indices_if_you_need).T\n",
    "```"
   ]
  },
  {
   "cell_type": "code",
   "execution_count": 13,
   "metadata": {
    "slideshow": {
     "slide_type": "subslide"
    },
    "tags": []
   },
   "outputs": [
    {
     "data": {
      "text/html": [
       "<div>\n",
       "<style scoped>\n",
       "    .dataframe tbody tr th:only-of-type {\n",
       "        vertical-align: middle;\n",
       "    }\n",
       "\n",
       "    .dataframe tbody tr th {\n",
       "        vertical-align: top;\n",
       "    }\n",
       "\n",
       "    .dataframe thead th {\n",
       "        text-align: right;\n",
       "    }\n",
       "</style>\n",
       "<table border=\"1\" class=\"dataframe\">\n",
       "  <thead>\n",
       "    <tr style=\"text-align: right;\">\n",
       "      <th></th>\n",
       "      <th>Random Series 1</th>\n",
       "      <th>Random Series 2</th>\n",
       "      <th>Random Series 3</th>\n",
       "    </tr>\n",
       "  </thead>\n",
       "  <tbody>\n",
       "    <tr>\n",
       "      <th>0</th>\n",
       "      <td>-0.254309</td>\n",
       "      <td>0.819640</td>\n",
       "      <td>-0.589863</td>\n",
       "    </tr>\n",
       "    <tr>\n",
       "      <th>1</th>\n",
       "      <td>-1.986831</td>\n",
       "      <td>-2.173147</td>\n",
       "      <td>0.736309</td>\n",
       "    </tr>\n",
       "    <tr>\n",
       "      <th>2</th>\n",
       "      <td>-1.066293</td>\n",
       "      <td>-0.149640</td>\n",
       "      <td>0.255856</td>\n",
       "    </tr>\n",
       "    <tr>\n",
       "      <th>3</th>\n",
       "      <td>0.287392</td>\n",
       "      <td>-1.218527</td>\n",
       "      <td>-0.664951</td>\n",
       "    </tr>\n",
       "    <tr>\n",
       "      <th>4</th>\n",
       "      <td>0.474348</td>\n",
       "      <td>1.385173</td>\n",
       "      <td>-0.563933</td>\n",
       "    </tr>\n",
       "  </tbody>\n",
       "</table>\n",
       "</div>"
      ],
      "text/plain": [
       "   Random Series 1  Random Series 2  Random Series 3\n",
       "0        -0.254309         0.819640        -0.589863\n",
       "1        -1.986831        -2.173147         0.736309\n",
       "2        -1.066293        -0.149640         0.255856\n",
       "3         0.287392        -1.218527        -0.664951\n",
       "4         0.474348         1.385173        -0.563933"
      ]
     },
     "execution_count": 13,
     "metadata": {},
     "output_type": "execute_result"
    }
   ],
   "source": [
    "random_data = pd.DataFrame(np.random.normal(size=(5,3)), columns=['Random Series 1', 'Random Series 2', 'Random Series 3'])\n",
    "random_data"
   ]
  },
  {
   "cell_type": "markdown",
   "metadata": {
    "slideshow": {
     "slide_type": "subslide"
    }
   },
   "source": [
    "# Import and Export Data"
   ]
  },
  {
   "cell_type": "markdown",
   "metadata": {
    "slideshow": {
     "slide_type": "-"
    },
    "tags": []
   },
   "source": [
    "<center><a href=\"https://pandas.pydata.org/docs/getting_started/intro_tutorials/02_read_write.html#min-tut-02-read-write\"><img src=\"https://raw.githubusercontent.com/SMU-Econ-Growth/EconGrowthUG-Notebooks/c004a90a03c3633fd05cdbce96647e229fdc21d8/pics/02_io_readwrite.svg\" alt=\"Pandas\" width=700/></center>"
   ]
  },
  {
   "cell_type": "markdown",
   "metadata": {
    "slideshow": {
     "slide_type": "subslide"
    }
   },
   "source": [
    "# Import Existing Data"
   ]
  },
  {
   "cell_type": "markdown",
   "metadata": {
    "slideshow": {
     "slide_type": "fragment"
    }
   },
   "source": [
    "**pandas** supports the integration with many file formats or data sources\n",
    "* csv\n",
    "* excel\n",
    "* sql\n",
    "* json\n",
    "* parquet\n",
    "* Stata\n",
    "* HTML"
   ]
  },
  {
   "cell_type": "markdown",
   "metadata": {
    "slideshow": {
     "slide_type": "subslide"
    },
    "tags": []
   },
   "source": [
    "To import data in a specific format you use the function with the prefix `read_*`, e.g.,  \n",
    "* csv: [`pd.read_csv(path_to_file, other options and settings)`](https://pandas.pydata.org/docs/reference/api/pandas.read_csv.html)\n",
    "* excel: [`pd.read_excel(path_to_file, other options and settings)`](https://pandas.pydata.org/docs/reference/api/pandas.read_excel.html)\n",
    "* stata: [`pd.read_stata(path_to_file, other options and settings)`](https://pandas.pydata.org/docs/reference/api/pandas.read_stata.html)\n",
    "* html: [`pd.read_html(url_or_path_to_file, other options and settings)`](https://pandas.pydata.org/docs/reference/api/pandas.read_html.html)"
   ]
  },
  {
   "cell_type": "markdown",
   "metadata": {
    "slideshow": {
     "slide_type": "subslide"
    }
   },
   "source": [
    "# Export Data"
   ]
  },
  {
   "cell_type": "markdown",
   "metadata": {
    "slideshow": {
     "slide_type": "fragment"
    },
    "tags": []
   },
   "source": [
    "To export data in a specific format you use the function with the prefix `to_*`, e.g.,  \n",
    "* csv: [`pd.to_csv(path_to_file, other options and settings)`](https://pandas.pydata.org/docs/reference/api/pandas.DataFrame.to_csv.html)\n",
    "* excel: [`pd.to_excel(path_to_file, other options and settings)`](https://pandas.pydata.org/docs/reference/api/pandas.DataFrame.to_excel.html)\n",
    "* stata: [`pd.to_stata(path_to_file, other options and settings)`](https://pandas.pydata.org/docs/reference/api/pandas.DataFrame.to_stata.html)"
   ]
  },
  {
   "cell_type": "markdown",
   "metadata": {
    "slideshow": {
     "slide_type": "subslide"
    },
    "tags": []
   },
   "source": [
    "## Let's write our dataframe to file (try different formats)"
   ]
  },
  {
   "cell_type": "code",
   "execution_count": 14,
   "metadata": {
    "slideshow": {
     "slide_type": "-"
    },
    "tags": []
   },
   "outputs": [
    {
     "name": "stderr",
     "output_type": "stream",
     "text": [
      "/var/folders/2r/7vb_23y1427bffj2wbz7mxfc0000gq/T/ipykernel_20030/1893305794.py:4: InvalidColumnName: \n",
      "Not all pandas column names were valid Stata variable names.\n",
      "The following replacements have been made:\n",
      "\n",
      "    First Name   ->   First_Name\n",
      "    Last Name   ->   Last_Name\n",
      "\n",
      "If this is not what you expect, please make sure you have Stata-compliant\n",
      "column names in your DataFrame (strings only, max 32 characters, only\n",
      "alphanumerics and underscores, no Stata reserved words)\n",
      "\n",
      "  musicians.to_stata(pathout + 'musicians.dta', write_index=False, version=118)\n"
     ]
    }
   ],
   "source": [
    "pathout = './data/'\n",
    "musicians.to_csv(pathout + 'musicians.csv', encoding='utf8', index=False)\n",
    "musicians.to_excel(pathout + 'musicians.xlsx', index=False)\n",
    "musicians.to_stata(pathout + 'musicians.dta', write_index=False, version=118)"
   ]
  },
  {
   "cell_type": "markdown",
   "metadata": {
    "slideshow": {
     "slide_type": "subslide"
    },
    "tags": []
   },
   "source": [
    "## Let's read our dataframe from file (try different formats) and put it into different dataframes"
   ]
  },
  {
   "cell_type": "code",
   "execution_count": 15,
   "metadata": {
    "slideshow": {
     "slide_type": "-"
    },
    "tags": []
   },
   "outputs": [
    {
     "data": {
      "text/html": [
       "<div>\n",
       "<style scoped>\n",
       "    .dataframe tbody tr th:only-of-type {\n",
       "        vertical-align: middle;\n",
       "    }\n",
       "\n",
       "    .dataframe tbody tr th {\n",
       "        vertical-align: top;\n",
       "    }\n",
       "\n",
       "    .dataframe thead th {\n",
       "        text-align: right;\n",
       "    }\n",
       "</style>\n",
       "<table border=\"1\" class=\"dataframe\">\n",
       "  <thead>\n",
       "    <tr style=\"text-align: right;\">\n",
       "      <th></th>\n",
       "      <th>First Name</th>\n",
       "      <th>Last Name</th>\n",
       "      <th>Age</th>\n",
       "    </tr>\n",
       "  </thead>\n",
       "  <tbody>\n",
       "    <tr>\n",
       "      <th>0</th>\n",
       "      <td>Taylor</td>\n",
       "      <td>Swift</td>\n",
       "      <td>34</td>\n",
       "    </tr>\n",
       "    <tr>\n",
       "      <th>1</th>\n",
       "      <td>John</td>\n",
       "      <td>Lennon</td>\n",
       "      <td>75</td>\n",
       "    </tr>\n",
       "    <tr>\n",
       "      <th>2</th>\n",
       "      <td>Fela</td>\n",
       "      <td>Kuti</td>\n",
       "      <td>83</td>\n",
       "    </tr>\n",
       "    <tr>\n",
       "      <th>3</th>\n",
       "      <td>Manu</td>\n",
       "      <td>Chau</td>\n",
       "      <td>82</td>\n",
       "    </tr>\n",
       "    <tr>\n",
       "      <th>4</th>\n",
       "      <td>Şebnem</td>\n",
       "      <td>Ferrah</td>\n",
       "      <td>76</td>\n",
       "    </tr>\n",
       "  </tbody>\n",
       "</table>\n",
       "</div>"
      ],
      "text/plain": [
       "  First Name Last Name  Age\n",
       "0     Taylor     Swift   34\n",
       "1       John    Lennon   75\n",
       "2       Fela      Kuti   83\n",
       "3       Manu      Chau   82\n",
       "4     Şebnem    Ferrah   76"
      ]
     },
     "execution_count": 15,
     "metadata": {},
     "output_type": "execute_result"
    }
   ],
   "source": [
    "pathout = './data/'\n",
    "musicians_csv = pd.read_csv(pathout + 'musicians.csv', encoding='utf8')\n",
    "musicians_csv"
   ]
  },
  {
   "cell_type": "code",
   "execution_count": 16,
   "metadata": {
    "slideshow": {
     "slide_type": "subslide"
    },
    "tags": []
   },
   "outputs": [
    {
     "data": {
      "text/html": [
       "<div>\n",
       "<style scoped>\n",
       "    .dataframe tbody tr th:only-of-type {\n",
       "        vertical-align: middle;\n",
       "    }\n",
       "\n",
       "    .dataframe tbody tr th {\n",
       "        vertical-align: top;\n",
       "    }\n",
       "\n",
       "    .dataframe thead th {\n",
       "        text-align: right;\n",
       "    }\n",
       "</style>\n",
       "<table border=\"1\" class=\"dataframe\">\n",
       "  <thead>\n",
       "    <tr style=\"text-align: right;\">\n",
       "      <th></th>\n",
       "      <th>First Name</th>\n",
       "      <th>Last Name</th>\n",
       "      <th>Age</th>\n",
       "    </tr>\n",
       "  </thead>\n",
       "  <tbody>\n",
       "    <tr>\n",
       "      <th>0</th>\n",
       "      <td>Taylor</td>\n",
       "      <td>Swift</td>\n",
       "      <td>34</td>\n",
       "    </tr>\n",
       "    <tr>\n",
       "      <th>1</th>\n",
       "      <td>John</td>\n",
       "      <td>Lennon</td>\n",
       "      <td>75</td>\n",
       "    </tr>\n",
       "    <tr>\n",
       "      <th>2</th>\n",
       "      <td>Fela</td>\n",
       "      <td>Kuti</td>\n",
       "      <td>83</td>\n",
       "    </tr>\n",
       "    <tr>\n",
       "      <th>3</th>\n",
       "      <td>Manu</td>\n",
       "      <td>Chau</td>\n",
       "      <td>82</td>\n",
       "    </tr>\n",
       "    <tr>\n",
       "      <th>4</th>\n",
       "      <td>Şebnem</td>\n",
       "      <td>Ferrah</td>\n",
       "      <td>76</td>\n",
       "    </tr>\n",
       "  </tbody>\n",
       "</table>\n",
       "</div>"
      ],
      "text/plain": [
       "  First Name Last Name  Age\n",
       "0     Taylor     Swift   34\n",
       "1       John    Lennon   75\n",
       "2       Fela      Kuti   83\n",
       "3       Manu      Chau   82\n",
       "4     Şebnem    Ferrah   76"
      ]
     },
     "execution_count": 16,
     "metadata": {},
     "output_type": "execute_result"
    }
   ],
   "source": [
    "musicians_excel = pd.read_excel(pathout + 'musicians.xlsx')\n",
    "musicians_excel"
   ]
  },
  {
   "cell_type": "markdown",
   "metadata": {
    "slideshow": {
     "slide_type": "slide"
    },
    "tags": []
   },
   "source": [
    "# Create New Columns/Variables"
   ]
  },
  {
   "cell_type": "markdown",
   "metadata": {
    "slideshow": {
     "slide_type": "-"
    },
    "tags": []
   },
   "source": [
    "<center><a href=\"https://pandas.pydata.org/docs/getting_started/intro_tutorials/05_add_columns.html#min-tut-05-columns\"><img src=\"https://raw.githubusercontent.com/SMU-Econ-Growth/EconGrowthUG-Notebooks/c004a90a03c3633fd05cdbce96647e229fdc21d8/pics/05_newcolumn_2.svg\" alt=\"New Columns\" width=700/></a></center>"
   ]
  },
  {
   "cell_type": "markdown",
   "metadata": {
    "slideshow": {
     "slide_type": "subslide"
    },
    "tags": []
   },
   "source": [
    "# From Other Columns/Variables"
   ]
  },
  {
   "cell_type": "markdown",
   "metadata": {
    "slideshow": {
     "slide_type": "fragment"
    },
    "tags": []
   },
   "source": [
    "* To create a new column in a dataframe from other columns in the dataframe just perform any operations on the existing variables"
   ]
  },
  {
   "cell_type": "markdown",
   "metadata": {
    "slideshow": {
     "slide_type": "fragment"
    },
    "tags": []
   },
   "source": [
    "* All operations are performed across all rows"
   ]
  },
  {
   "cell_type": "markdown",
   "metadata": {
    "slideshow": {
     "slide_type": "fragment"
    },
    "tags": []
   },
   "source": [
    "* E.g., to create the new variable $Y$ defined as $Y=2\\cdot X^2-\\ln(Z)$, where $X$ and $Z$ are existing variables\n",
    "```python\n",
    "df['Y'] = 2 * df['X']**2 - df['Z'].apply(np.log)\n",
    "```"
   ]
  },
  {
   "cell_type": "markdown",
   "metadata": {
    "slideshow": {
     "slide_type": "subslide"
    },
    "tags": []
   },
   "source": [
    "# From a `list` or `numpy.array`"
   ]
  },
  {
   "cell_type": "markdown",
   "metadata": {
    "slideshow": {
     "slide_type": "fragment"
    }
   },
   "source": [
    "* To create a new column in the dataframe from a list or array, just define the new column to be equal to the list or array\n",
    "```python\n",
    "df['new variable'] = list_or_array\n",
    "```"
   ]
  },
  {
   "cell_type": "markdown",
   "metadata": {
    "slideshow": {
     "slide_type": "fragment"
    },
    "tags": []
   },
   "source": [
    "<div class=\"alert alert-block alert-danger\">\n",
    "<b>Careful:</b> The list or array must have the same dimension as the dataframe. Check it using <code>df.shape</code> and <code>array.shape</code> or <code>len(list)</code>\n",
    "</div>"
   ]
  },
  {
   "cell_type": "code",
   "execution_count": 17,
   "metadata": {
    "slideshow": {
     "slide_type": "subslide"
    },
    "tags": []
   },
   "outputs": [
    {
     "data": {
      "text/html": [
       "<div>\n",
       "<style scoped>\n",
       "    .dataframe tbody tr th:only-of-type {\n",
       "        vertical-align: middle;\n",
       "    }\n",
       "\n",
       "    .dataframe tbody tr th {\n",
       "        vertical-align: top;\n",
       "    }\n",
       "\n",
       "    .dataframe thead th {\n",
       "        text-align: right;\n",
       "    }\n",
       "</style>\n",
       "<table border=\"1\" class=\"dataframe\">\n",
       "  <thead>\n",
       "    <tr style=\"text-align: right;\">\n",
       "      <th></th>\n",
       "      <th>First Name</th>\n",
       "      <th>Last Name</th>\n",
       "      <th>Age</th>\n",
       "      <th>Gender</th>\n",
       "    </tr>\n",
       "  </thead>\n",
       "  <tbody>\n",
       "    <tr>\n",
       "      <th>0</th>\n",
       "      <td>Taylor</td>\n",
       "      <td>Swift</td>\n",
       "      <td>34</td>\n",
       "      <td>Female</td>\n",
       "    </tr>\n",
       "    <tr>\n",
       "      <th>1</th>\n",
       "      <td>John</td>\n",
       "      <td>Lennon</td>\n",
       "      <td>75</td>\n",
       "      <td>Male</td>\n",
       "    </tr>\n",
       "    <tr>\n",
       "      <th>2</th>\n",
       "      <td>Fela</td>\n",
       "      <td>Kuti</td>\n",
       "      <td>83</td>\n",
       "      <td>Male</td>\n",
       "    </tr>\n",
       "    <tr>\n",
       "      <th>3</th>\n",
       "      <td>Manu</td>\n",
       "      <td>Chau</td>\n",
       "      <td>82</td>\n",
       "      <td>Male</td>\n",
       "    </tr>\n",
       "    <tr>\n",
       "      <th>4</th>\n",
       "      <td>Şebnem</td>\n",
       "      <td>Ferrah</td>\n",
       "      <td>76</td>\n",
       "      <td>Female</td>\n",
       "    </tr>\n",
       "  </tbody>\n",
       "</table>\n",
       "</div>"
      ],
      "text/plain": [
       "  First Name Last Name  Age  Gender\n",
       "0     Taylor     Swift   34  Female\n",
       "1       John    Lennon   75    Male\n",
       "2       Fela      Kuti   83    Male\n",
       "3       Manu      Chau   82    Male\n",
       "4     Şebnem    Ferrah   76  Female"
      ]
     },
     "execution_count": 17,
     "metadata": {},
     "output_type": "execute_result"
    }
   ],
   "source": [
    "musicians['Gender'] = ['Female', 'Male', 'Male', 'Male', 'Female']\n",
    "musicians"
   ]
  },
  {
   "cell_type": "code",
   "execution_count": 18,
   "metadata": {
    "slideshow": {
     "slide_type": "subslide"
    },
    "tags": []
   },
   "outputs": [
    {
     "data": {
      "text/html": [
       "<div>\n",
       "<style scoped>\n",
       "    .dataframe tbody tr th:only-of-type {\n",
       "        vertical-align: middle;\n",
       "    }\n",
       "\n",
       "    .dataframe tbody tr th {\n",
       "        vertical-align: top;\n",
       "    }\n",
       "\n",
       "    .dataframe thead th {\n",
       "        text-align: right;\n",
       "    }\n",
       "</style>\n",
       "<table border=\"1\" class=\"dataframe\">\n",
       "  <thead>\n",
       "    <tr style=\"text-align: right;\">\n",
       "      <th></th>\n",
       "      <th>Random Series 1</th>\n",
       "      <th>Random Series 2</th>\n",
       "      <th>Random Series 3</th>\n",
       "      <th>New Series</th>\n",
       "    </tr>\n",
       "  </thead>\n",
       "  <tbody>\n",
       "    <tr>\n",
       "      <th>0</th>\n",
       "      <td>-0.254309</td>\n",
       "      <td>0.819640</td>\n",
       "      <td>-0.589863</td>\n",
       "      <td>-0.208442</td>\n",
       "    </tr>\n",
       "    <tr>\n",
       "      <th>1</th>\n",
       "      <td>-1.986831</td>\n",
       "      <td>-2.173147</td>\n",
       "      <td>0.736309</td>\n",
       "      <td>4.317676</td>\n",
       "    </tr>\n",
       "    <tr>\n",
       "      <th>2</th>\n",
       "      <td>-1.066293</td>\n",
       "      <td>-0.149640</td>\n",
       "      <td>0.255856</td>\n",
       "      <td>0.159560</td>\n",
       "    </tr>\n",
       "    <tr>\n",
       "      <th>3</th>\n",
       "      <td>0.287392</td>\n",
       "      <td>-1.218527</td>\n",
       "      <td>-0.664951</td>\n",
       "      <td>-0.350195</td>\n",
       "    </tr>\n",
       "    <tr>\n",
       "      <th>4</th>\n",
       "      <td>0.474348</td>\n",
       "      <td>1.385173</td>\n",
       "      <td>-0.563933</td>\n",
       "      <td>0.657054</td>\n",
       "    </tr>\n",
       "  </tbody>\n",
       "</table>\n",
       "</div>"
      ],
      "text/plain": [
       "   Random Series 1  Random Series 2  Random Series 3  New Series\n",
       "0        -0.254309         0.819640        -0.589863   -0.208442\n",
       "1        -1.986831        -2.173147         0.736309    4.317676\n",
       "2        -1.066293        -0.149640         0.255856    0.159560\n",
       "3         0.287392        -1.218527        -0.664951   -0.350195\n",
       "4         0.474348         1.385173        -0.563933    0.657054"
      ]
     },
     "execution_count": 18,
     "metadata": {},
     "output_type": "execute_result"
    }
   ],
   "source": [
    "random_data['New Series'] = random_data['Random Series 1'] * random_data['Random Series 2']\n",
    "random_data"
   ]
  },
  {
   "cell_type": "markdown",
   "metadata": {
    "slideshow": {
     "slide_type": "subslide"
    }
   },
   "source": [
    "# Applying Functions to Dataframe"
   ]
  },
  {
   "cell_type": "markdown",
   "metadata": {
    "slideshow": {
     "slide_type": "-"
    },
    "tags": []
   },
   "source": [
    "<center><a href=\"https://pandas.pydata.org/docs/getting_started/intro_tutorials/05_add_columns.html#min-tut-05-columns\"><img src=\"https://raw.githubusercontent.com/SMU-Econ-Growth/EconGrowthUG-Notebooks/c004a90a03c3633fd05cdbce96647e229fdc21d8/pics/05_newcolumn_2.svg\" alt=\"New Columns\" width=700/></a></center>"
   ]
  },
  {
   "cell_type": "markdown",
   "metadata": {
    "slideshow": {
     "slide_type": "subslide"
    },
    "tags": []
   },
   "source": [
    "* **pandas** also let's you apply a function to a column or to the whole dataset using the `apply` function."
   ]
  },
  {
   "cell_type": "markdown",
   "metadata": {
    "slideshow": {
     "slide_type": "fragment"
    },
    "tags": []
   },
   "source": [
    "* To apply a function to the whole dataset:\n",
    "```python\n",
    "df.apply(my_function, axis=1)\n",
    "```\n",
    "This is useful when the function uses data from various columns"
   ]
  },
  {
   "cell_type": "markdown",
   "metadata": {
    "slideshow": {
     "slide_type": "subslide"
    },
    "tags": []
   },
   "source": [
    "* To apply a function to only a column:\n",
    "```python\n",
    "df['My Column'].apply(my_function, axis=1)\n",
    "```\n",
    "or\n",
    "```python\n",
    "df.my_column.apply(my_function, axis=1)\n",
    "```"
   ]
  },
  {
   "cell_type": "code",
   "execution_count": 19,
   "metadata": {
    "slideshow": {
     "slide_type": "subslide"
    },
    "tags": []
   },
   "outputs": [
    {
     "data": {
      "text/html": [
       "<div>\n",
       "<style scoped>\n",
       "    .dataframe tbody tr th:only-of-type {\n",
       "        vertical-align: middle;\n",
       "    }\n",
       "\n",
       "    .dataframe tbody tr th {\n",
       "        vertical-align: top;\n",
       "    }\n",
       "\n",
       "    .dataframe thead th {\n",
       "        text-align: right;\n",
       "    }\n",
       "</style>\n",
       "<table border=\"1\" class=\"dataframe\">\n",
       "  <thead>\n",
       "    <tr style=\"text-align: right;\">\n",
       "      <th></th>\n",
       "      <th>First Name</th>\n",
       "      <th>Last Name</th>\n",
       "      <th>Age</th>\n",
       "      <th>Gender</th>\n",
       "      <th>Young Female</th>\n",
       "      <th>Young Female (as integer)</th>\n",
       "    </tr>\n",
       "  </thead>\n",
       "  <tbody>\n",
       "    <tr>\n",
       "      <th>0</th>\n",
       "      <td>Taylor</td>\n",
       "      <td>Swift</td>\n",
       "      <td>34</td>\n",
       "      <td>Female</td>\n",
       "      <td>True</td>\n",
       "      <td>1</td>\n",
       "    </tr>\n",
       "    <tr>\n",
       "      <th>1</th>\n",
       "      <td>John</td>\n",
       "      <td>Lennon</td>\n",
       "      <td>75</td>\n",
       "      <td>Male</td>\n",
       "      <td>False</td>\n",
       "      <td>0</td>\n",
       "    </tr>\n",
       "    <tr>\n",
       "      <th>2</th>\n",
       "      <td>Fela</td>\n",
       "      <td>Kuti</td>\n",
       "      <td>83</td>\n",
       "      <td>Male</td>\n",
       "      <td>False</td>\n",
       "      <td>0</td>\n",
       "    </tr>\n",
       "    <tr>\n",
       "      <th>3</th>\n",
       "      <td>Manu</td>\n",
       "      <td>Chau</td>\n",
       "      <td>82</td>\n",
       "      <td>Male</td>\n",
       "      <td>False</td>\n",
       "      <td>0</td>\n",
       "    </tr>\n",
       "    <tr>\n",
       "      <th>4</th>\n",
       "      <td>Şebnem</td>\n",
       "      <td>Ferrah</td>\n",
       "      <td>76</td>\n",
       "      <td>Female</td>\n",
       "      <td>False</td>\n",
       "      <td>0</td>\n",
       "    </tr>\n",
       "  </tbody>\n",
       "</table>\n",
       "</div>"
      ],
      "text/plain": [
       "  First Name Last Name  Age  Gender  Young Female  Young Female (as integer)\n",
       "0     Taylor     Swift   34  Female          True                          1\n",
       "1       John    Lennon   75    Male         False                          0\n",
       "2       Fela      Kuti   83    Male         False                          0\n",
       "3       Manu      Chau   82    Male         False                          0\n",
       "4     Şebnem    Ferrah   76  Female         False                          0"
      ]
     },
     "execution_count": 19,
     "metadata": {},
     "output_type": "execute_result"
    }
   ],
   "source": [
    "musicians['Young Female'] = (musicians['Age']<35) * (musicians['Gender']=='Female')\n",
    "musicians['Young Female (as integer)'] = (musicians['Age']<35) * (musicians['Gender']=='Female').astype(int)\n",
    "musicians"
   ]
  },
  {
   "cell_type": "code",
   "execution_count": 20,
   "metadata": {
    "slideshow": {
     "slide_type": "subslide"
    },
    "tags": []
   },
   "outputs": [
    {
     "data": {
      "text/html": [
       "<div>\n",
       "<style scoped>\n",
       "    .dataframe tbody tr th:only-of-type {\n",
       "        vertical-align: middle;\n",
       "    }\n",
       "\n",
       "    .dataframe tbody tr th {\n",
       "        vertical-align: top;\n",
       "    }\n",
       "\n",
       "    .dataframe thead th {\n",
       "        text-align: right;\n",
       "    }\n",
       "</style>\n",
       "<table border=\"1\" class=\"dataframe\">\n",
       "  <thead>\n",
       "    <tr style=\"text-align: right;\">\n",
       "      <th></th>\n",
       "      <th>Random Series 1</th>\n",
       "      <th>Random Series 2</th>\n",
       "      <th>Random Series 3</th>\n",
       "      <th>New Series</th>\n",
       "      <th>Some Transformation</th>\n",
       "    </tr>\n",
       "  </thead>\n",
       "  <tbody>\n",
       "    <tr>\n",
       "      <th>0</th>\n",
       "      <td>-0.254309</td>\n",
       "      <td>0.819640</td>\n",
       "      <td>-0.589863</td>\n",
       "      <td>-0.208442</td>\n",
       "      <td>0.381421</td>\n",
       "    </tr>\n",
       "    <tr>\n",
       "      <th>1</th>\n",
       "      <td>-1.986831</td>\n",
       "      <td>-2.173147</td>\n",
       "      <td>0.736309</td>\n",
       "      <td>4.317676</td>\n",
       "      <td>3.581367</td>\n",
       "    </tr>\n",
       "    <tr>\n",
       "      <th>2</th>\n",
       "      <td>-1.066293</td>\n",
       "      <td>-0.149640</td>\n",
       "      <td>0.255856</td>\n",
       "      <td>0.159560</td>\n",
       "      <td>-0.096295</td>\n",
       "    </tr>\n",
       "    <tr>\n",
       "      <th>3</th>\n",
       "      <td>0.287392</td>\n",
       "      <td>-1.218527</td>\n",
       "      <td>-0.664951</td>\n",
       "      <td>-0.350195</td>\n",
       "      <td>0.314757</td>\n",
       "    </tr>\n",
       "    <tr>\n",
       "      <th>4</th>\n",
       "      <td>0.474348</td>\n",
       "      <td>1.385173</td>\n",
       "      <td>-0.563933</td>\n",
       "      <td>0.657054</td>\n",
       "      <td>1.220986</td>\n",
       "    </tr>\n",
       "  </tbody>\n",
       "</table>\n",
       "</div>"
      ],
      "text/plain": [
       "   Random Series 1  Random Series 2  Random Series 3  New Series  Some Transformation\n",
       "0        -0.254309         0.819640        -0.589863   -0.208442             0.381421\n",
       "1        -1.986831        -2.173147         0.736309    4.317676             3.581367\n",
       "2        -1.066293        -0.149640         0.255856    0.159560            -0.096295\n",
       "3         0.287392        -1.218527        -0.664951   -0.350195             0.314757\n",
       "4         0.474348         1.385173        -0.563933    0.657054             1.220986"
      ]
     },
     "execution_count": 20,
     "metadata": {},
     "output_type": "execute_result"
    }
   ],
   "source": [
    "random_data['Some Transformation'] = random_data.apply(lambda x: x['New Series'] - x['Random Series 3'], axis=1)\n",
    "random_data"
   ]
  },
  {
   "cell_type": "markdown",
   "metadata": {
    "slideshow": {
     "slide_type": "slide"
    }
   },
   "source": [
    "# Select subset of data"
   ]
  },
  {
   "cell_type": "markdown",
   "metadata": {
    "slideshow": {
     "slide_type": "-"
    },
    "tags": []
   },
   "source": [
    "<center><a href=\"https://pandas.pydata.org/docs/getting_started/intro_tutorials/03_subset_data.html#min-tut-03-subset\"><img src=\"https://raw.githubusercontent.com/SMU-Econ-Growth/EconGrowthUG-Notebooks/c004a90a03c3633fd05cdbce96647e229fdc21d8/pics/03_subset_columns_rows.svg\" alt=\"Subset data\" width=700/></a></center>"
   ]
  },
  {
   "cell_type": "markdown",
   "metadata": {
    "slideshow": {
     "slide_type": "subslide"
    },
    "tags": []
   },
   "source": [
    "# Select subset of columns"
   ]
  },
  {
   "cell_type": "markdown",
   "metadata": {
    "slideshow": {
     "slide_type": "-"
    },
    "tags": []
   },
   "source": [
    "<center><a href=\"https://pandas.pydata.org/docs/getting_started/intro_tutorials/03_subset_data.html#min-tut-03-subset\"><img src=\"https://raw.githubusercontent.com/SMU-Econ-Growth/EconGrowthUG-Notebooks/c004a90a03c3633fd05cdbce96647e229fdc21d8/pics/03_subset_columns.svg\" alt=\"Subset data\" width=700/></a></center>"
   ]
  },
  {
   "cell_type": "markdown",
   "metadata": {
    "slideshow": {
     "slide_type": "subslide"
    },
    "tags": []
   },
   "source": [
    "* To select 1 column and get a `Series`\n",
    "```python \n",
    "df['name of column']\n",
    "```\n",
    "or \n",
    "```python \n",
    "df.name_of_column\n",
    "```"
   ]
  },
  {
   "cell_type": "markdown",
   "metadata": {
    "slideshow": {
     "slide_type": "fragment"
    },
    "tags": []
   },
   "source": [
    "<div class=\"alert alert-block alert-danger\">\n",
    "<b>Careful:</b> The second method only works if there are no spaces in the name of the variable/row.\n",
    "</div>"
   ]
  },
  {
   "cell_type": "code",
   "execution_count": 21,
   "metadata": {
    "slideshow": {
     "slide_type": "subslide"
    },
    "tags": []
   },
   "outputs": [
    {
     "data": {
      "text/plain": [
       "0    Taylor\n",
       "1      John\n",
       "2      Fela\n",
       "3      Manu\n",
       "4    Şebnem\n",
       "Name: First Name, dtype: object"
      ]
     },
     "execution_count": 21,
     "metadata": {},
     "output_type": "execute_result"
    }
   ],
   "source": [
    "musicians['First Name']"
   ]
  },
  {
   "cell_type": "markdown",
   "metadata": {
    "slideshow": {
     "slide_type": "subslide"
    },
    "tags": []
   },
   "source": [
    "* To select a subset of columns and get a `DataFrame`\n",
    "```python \n",
    "df[list_of_columns]\n",
    "```\n",
    "* In particular, to get a `DataFrame` from a single column\n",
    "```python \n",
    "df[['name of column']]\n",
    "```"
   ]
  },
  {
   "cell_type": "code",
   "execution_count": 22,
   "metadata": {
    "slideshow": {
     "slide_type": "subslide"
    },
    "tags": []
   },
   "outputs": [
    {
     "data": {
      "text/html": [
       "<div>\n",
       "<style scoped>\n",
       "    .dataframe tbody tr th:only-of-type {\n",
       "        vertical-align: middle;\n",
       "    }\n",
       "\n",
       "    .dataframe tbody tr th {\n",
       "        vertical-align: top;\n",
       "    }\n",
       "\n",
       "    .dataframe thead th {\n",
       "        text-align: right;\n",
       "    }\n",
       "</style>\n",
       "<table border=\"1\" class=\"dataframe\">\n",
       "  <thead>\n",
       "    <tr style=\"text-align: right;\">\n",
       "      <th></th>\n",
       "      <th>First Name</th>\n",
       "      <th>Age</th>\n",
       "    </tr>\n",
       "  </thead>\n",
       "  <tbody>\n",
       "    <tr>\n",
       "      <th>0</th>\n",
       "      <td>Taylor</td>\n",
       "      <td>34</td>\n",
       "    </tr>\n",
       "    <tr>\n",
       "      <th>1</th>\n",
       "      <td>John</td>\n",
       "      <td>75</td>\n",
       "    </tr>\n",
       "    <tr>\n",
       "      <th>2</th>\n",
       "      <td>Fela</td>\n",
       "      <td>83</td>\n",
       "    </tr>\n",
       "    <tr>\n",
       "      <th>3</th>\n",
       "      <td>Manu</td>\n",
       "      <td>82</td>\n",
       "    </tr>\n",
       "    <tr>\n",
       "      <th>4</th>\n",
       "      <td>Şebnem</td>\n",
       "      <td>76</td>\n",
       "    </tr>\n",
       "  </tbody>\n",
       "</table>\n",
       "</div>"
      ],
      "text/plain": [
       "  First Name  Age\n",
       "0     Taylor   34\n",
       "1       John   75\n",
       "2       Fela   83\n",
       "3       Manu   82\n",
       "4     Şebnem   76"
      ]
     },
     "execution_count": 22,
     "metadata": {},
     "output_type": "execute_result"
    }
   ],
   "source": [
    "musicians[['First Name', 'Age']]"
   ]
  },
  {
   "cell_type": "markdown",
   "metadata": {
    "slideshow": {
     "slide_type": "fragment"
    },
    "tags": []
   },
   "source": [
    "<div class=\"alert alert-block alert-info\">\n",
    "    <b>Note:</b> Notice the small difference when selecting <b>a unique column</b>\n",
    "</div>"
   ]
  },
  {
   "cell_type": "markdown",
   "metadata": {
    "slideshow": {
     "slide_type": "subslide"
    },
    "tags": []
   },
   "source": [
    "# Select subset of rows"
   ]
  },
  {
   "cell_type": "markdown",
   "metadata": {
    "slideshow": {
     "slide_type": "-"
    },
    "tags": []
   },
   "source": [
    "<center><a href=\"https://pandas.pydata.org/docs/getting_started/intro_tutorials/03_subset_data.html#min-tut-03-subset\"><img src=\"https://raw.githubusercontent.com/SMU-Econ-Growth/EconGrowthUG-Notebooks/c004a90a03c3633fd05cdbce96647e229fdc21d8/pics/03_subset_rows.svg\" alt=\"Subset data\" width=700/></a></center>"
   ]
  },
  {
   "cell_type": "markdown",
   "metadata": {
    "slideshow": {
     "slide_type": "subslide"
    },
    "tags": []
   },
   "source": [
    "* To select specific rows, you need to pass the index of the rows you want and use `df.iloc`.\n",
    "    \n",
    "    E.g., if you want the observations in index [0,2,5,9], then\n",
    "    ```python\n",
    "    df.iloc[[0,2,5,9]]\n",
    "    ```"
   ]
  },
  {
   "cell_type": "markdown",
   "metadata": {
    "slideshow": {
     "slide_type": "subslide"
    },
    "tags": []
   },
   "source": [
    "* To select rows that satisfy a condition, e.g., variable_1>0, use `df.loc`\n",
    "\n",
    "    ```python\n",
    "    df.loc[df['variable_1']>0]\n",
    "    ```    "
   ]
  },
  {
   "cell_type": "markdown",
   "metadata": {
    "slideshow": {
     "slide_type": "fragment"
    },
    "tags": []
   },
   "source": [
    "* or more generally\n",
    "    \n",
    "    ```python\n",
    "    df.loc[condition to be satisfied by data in df]\n",
    "    ```"
   ]
  },
  {
   "cell_type": "code",
   "execution_count": 23,
   "metadata": {
    "slideshow": {
     "slide_type": "subslide"
    },
    "tags": []
   },
   "outputs": [
    {
     "data": {
      "text/plain": [
       "First Name                   Taylor\n",
       "Last Name                     Swift\n",
       "Age                              34\n",
       "Gender                       Female\n",
       "Young Female                   True\n",
       "Young Female (as integer)         1\n",
       "Name: 0, dtype: object"
      ]
     },
     "execution_count": 23,
     "metadata": {},
     "output_type": "execute_result"
    }
   ],
   "source": [
    "musicians.iloc[0]"
   ]
  },
  {
   "cell_type": "code",
   "execution_count": null,
   "metadata": {},
   "outputs": [],
   "source": []
  },
  {
   "cell_type": "code",
   "execution_count": 24,
   "metadata": {
    "scrolled": true,
    "slideshow": {
     "slide_type": "subslide"
    },
    "tags": []
   },
   "outputs": [
    {
     "data": {
      "text/html": [
       "<div>\n",
       "<style scoped>\n",
       "    .dataframe tbody tr th:only-of-type {\n",
       "        vertical-align: middle;\n",
       "    }\n",
       "\n",
       "    .dataframe tbody tr th {\n",
       "        vertical-align: top;\n",
       "    }\n",
       "\n",
       "    .dataframe thead th {\n",
       "        text-align: right;\n",
       "    }\n",
       "</style>\n",
       "<table border=\"1\" class=\"dataframe\">\n",
       "  <thead>\n",
       "    <tr style=\"text-align: right;\">\n",
       "      <th></th>\n",
       "      <th>First Name</th>\n",
       "    </tr>\n",
       "  </thead>\n",
       "  <tbody>\n",
       "    <tr>\n",
       "      <th>0</th>\n",
       "      <td>Taylor</td>\n",
       "    </tr>\n",
       "  </tbody>\n",
       "</table>\n",
       "</div>"
      ],
      "text/plain": [
       "  First Name\n",
       "0     Taylor"
      ]
     },
     "execution_count": 24,
     "metadata": {},
     "output_type": "execute_result"
    }
   ],
   "source": [
    "musicians.loc[musicians['Age']<50, ['First Name']]"
   ]
  },
  {
   "cell_type": "markdown",
   "metadata": {
    "slideshow": {
     "slide_type": "subslide"
    },
    "tags": []
   },
   "source": [
    "# Select subset of rows and columns"
   ]
  },
  {
   "cell_type": "markdown",
   "metadata": {
    "slideshow": {
     "slide_type": "-"
    },
    "tags": []
   },
   "source": [
    "<center><a href=\"https://pandas.pydata.org/docs/getting_started/intro_tutorials/03_subset_data.html#min-tut-03-subset\"><img src=\"https://raw.githubusercontent.com/SMU-Econ-Growth/EconGrowthUG-Notebooks/c004a90a03c3633fd05cdbce96647e229fdc21d8/pics/03_subset_columns_rows.svg\" alt=\"Subset data\" width=700/></a></center>"
   ]
  },
  {
   "cell_type": "markdown",
   "metadata": {
    "slideshow": {
     "slide_type": "subslide"
    },
    "tags": []
   },
   "source": [
    "* To select jointly a subset of rows that satisfy a condition and some of the variables\n",
    "```python\n",
    "df.loc[condition to be satisfied by data in df, list_of_columns]\n",
    "```\n",
    "e.g., select rows that satisfy `variable_1>0` and only the subset of columns `['variable_1', 'variable_2']`\n",
    "```python\n",
    "df.loc[df['variable_1']>0, ['variable_1', 'variable_2']]\n",
    "```"
   ]
  },
  {
   "cell_type": "code",
   "execution_count": 25,
   "metadata": {
    "slideshow": {
     "slide_type": "subslide"
    },
    "tags": []
   },
   "outputs": [
    {
     "data": {
      "text/html": [
       "<div>\n",
       "<style scoped>\n",
       "    .dataframe tbody tr th:only-of-type {\n",
       "        vertical-align: middle;\n",
       "    }\n",
       "\n",
       "    .dataframe tbody tr th {\n",
       "        vertical-align: top;\n",
       "    }\n",
       "\n",
       "    .dataframe thead th {\n",
       "        text-align: right;\n",
       "    }\n",
       "</style>\n",
       "<table border=\"1\" class=\"dataframe\">\n",
       "  <thead>\n",
       "    <tr style=\"text-align: right;\">\n",
       "      <th></th>\n",
       "      <th>First Name</th>\n",
       "      <th>Last Name</th>\n",
       "    </tr>\n",
       "  </thead>\n",
       "  <tbody>\n",
       "    <tr>\n",
       "      <th>4</th>\n",
       "      <td>Şebnem</td>\n",
       "      <td>Ferrah</td>\n",
       "    </tr>\n",
       "  </tbody>\n",
       "</table>\n",
       "</div>"
      ],
      "text/plain": [
       "  First Name Last Name\n",
       "4     Şebnem    Ferrah"
      ]
     },
     "execution_count": 25,
     "metadata": {},
     "output_type": "execute_result"
    }
   ],
   "source": [
    "musicians.loc[(musicians['Age']>=50) & (musicians['Gender']=='Female') , ['First Name', 'Last Name']]"
   ]
  },
  {
   "cell_type": "markdown",
   "metadata": {
    "slideshow": {
     "slide_type": "slide"
    }
   },
   "source": [
    "# Create Statistics for Columns in Dataframe"
   ]
  },
  {
   "cell_type": "markdown",
   "metadata": {
    "slideshow": {
     "slide_type": "-"
    },
    "tags": []
   },
   "source": [
    "<center><a href=\"https://pandas.pydata.org/docs/getting_started/intro_tutorials/06_calculate_statistics.html#min-tut-06-stats\"><img src=\"https://raw.githubusercontent.com/SMU-Econ-Growth/EconGrowthUG-Notebooks/c004a90a03c3633fd05cdbce96647e229fdc21d8/pics/06_reduction.svg\" alt=\"groupby\" width=700/></a></center>"
   ]
  },
  {
   "cell_type": "markdown",
   "metadata": {
    "slideshow": {
     "slide_type": "subslide"
    },
    "tags": []
   },
   "source": [
    "The **pandas** `DataFrame` has various properties that compute statistics based on columns in the dataframe\n",
    "* mean\n",
    "* min\n",
    "* max\n",
    "* std\n",
    "* median\n",
    "* quantile"
   ]
  },
  {
   "cell_type": "markdown",
   "metadata": {
    "slideshow": {
     "slide_type": "subslide"
    },
    "tags": []
   },
   "source": [
    "These statistics can be computed across rows or columns"
   ]
  },
  {
   "cell_type": "markdown",
   "metadata": {
    "slideshow": {
     "slide_type": "fragment"
    },
    "tags": []
   },
   "source": [
    "* Statistic across rows (for all columns): `df.statistic()` or `df.statistic(axis=0)`"
   ]
  },
  {
   "cell_type": "markdown",
   "metadata": {
    "slideshow": {
     "slide_type": "fragment"
    },
    "tags": []
   },
   "source": [
    "* Statistics across columns: `df.statistic(axis=1)`"
   ]
  },
  {
   "cell_type": "markdown",
   "metadata": {
    "slideshow": {
     "slide_type": "subslide"
    },
    "tags": []
   },
   "source": [
    "The special method `describe` generates various summary statistics\n",
    "```python\n",
    "df.describe()\n",
    "```"
   ]
  },
  {
   "cell_type": "markdown",
   "metadata": {
    "slideshow": {
     "slide_type": "fragment"
    },
    "tags": []
   },
   "source": [
    "<div class=\"alert alert-block alert-info\">\n",
    "    <b>Note:</b> You can apply these statistics to a single column or a subset of columns.\n",
    "</div>"
   ]
  },
  {
   "cell_type": "code",
   "execution_count": 26,
   "metadata": {
    "slideshow": {
     "slide_type": "subslide"
    },
    "tags": []
   },
   "outputs": [
    {
     "data": {
      "text/html": [
       "<div>\n",
       "<style scoped>\n",
       "    .dataframe tbody tr th:only-of-type {\n",
       "        vertical-align: middle;\n",
       "    }\n",
       "\n",
       "    .dataframe tbody tr th {\n",
       "        vertical-align: top;\n",
       "    }\n",
       "\n",
       "    .dataframe thead th {\n",
       "        text-align: right;\n",
       "    }\n",
       "</style>\n",
       "<table border=\"1\" class=\"dataframe\">\n",
       "  <thead>\n",
       "    <tr style=\"text-align: right;\">\n",
       "      <th></th>\n",
       "      <th>Age</th>\n",
       "      <th>Young Female (as integer)</th>\n",
       "    </tr>\n",
       "  </thead>\n",
       "  <tbody>\n",
       "    <tr>\n",
       "      <th>count</th>\n",
       "      <td>5.000000</td>\n",
       "      <td>5.000000</td>\n",
       "    </tr>\n",
       "    <tr>\n",
       "      <th>mean</th>\n",
       "      <td>70.000000</td>\n",
       "      <td>0.200000</td>\n",
       "    </tr>\n",
       "    <tr>\n",
       "      <th>std</th>\n",
       "      <td>20.432817</td>\n",
       "      <td>0.447214</td>\n",
       "    </tr>\n",
       "    <tr>\n",
       "      <th>min</th>\n",
       "      <td>34.000000</td>\n",
       "      <td>0.000000</td>\n",
       "    </tr>\n",
       "    <tr>\n",
       "      <th>25%</th>\n",
       "      <td>75.000000</td>\n",
       "      <td>0.000000</td>\n",
       "    </tr>\n",
       "    <tr>\n",
       "      <th>50%</th>\n",
       "      <td>76.000000</td>\n",
       "      <td>0.000000</td>\n",
       "    </tr>\n",
       "    <tr>\n",
       "      <th>75%</th>\n",
       "      <td>82.000000</td>\n",
       "      <td>0.000000</td>\n",
       "    </tr>\n",
       "    <tr>\n",
       "      <th>max</th>\n",
       "      <td>83.000000</td>\n",
       "      <td>1.000000</td>\n",
       "    </tr>\n",
       "  </tbody>\n",
       "</table>\n",
       "</div>"
      ],
      "text/plain": [
       "             Age  Young Female (as integer)\n",
       "count   5.000000                   5.000000\n",
       "mean   70.000000                   0.200000\n",
       "std    20.432817                   0.447214\n",
       "min    34.000000                   0.000000\n",
       "25%    75.000000                   0.000000\n",
       "50%    76.000000                   0.000000\n",
       "75%    82.000000                   0.000000\n",
       "max    83.000000                   1.000000"
      ]
     },
     "execution_count": 26,
     "metadata": {},
     "output_type": "execute_result"
    }
   ],
   "source": [
    "musicians.describe()"
   ]
  },
  {
   "cell_type": "code",
   "execution_count": 27,
   "metadata": {
    "slideshow": {
     "slide_type": "subslide"
    },
    "tags": []
   },
   "outputs": [
    {
     "data": {
      "text/html": [
       "<div>\n",
       "<style scoped>\n",
       "    .dataframe tbody tr th:only-of-type {\n",
       "        vertical-align: middle;\n",
       "    }\n",
       "\n",
       "    .dataframe tbody tr th {\n",
       "        vertical-align: top;\n",
       "    }\n",
       "\n",
       "    .dataframe thead th {\n",
       "        text-align: right;\n",
       "    }\n",
       "</style>\n",
       "<table border=\"1\" class=\"dataframe\">\n",
       "  <thead>\n",
       "    <tr style=\"text-align: right;\">\n",
       "      <th></th>\n",
       "      <th>First Name</th>\n",
       "      <th>Last Name</th>\n",
       "      <th>Age</th>\n",
       "      <th>Gender</th>\n",
       "      <th>Young Female</th>\n",
       "      <th>Young Female (as integer)</th>\n",
       "      <th>Mean Age</th>\n",
       "    </tr>\n",
       "  </thead>\n",
       "  <tbody>\n",
       "    <tr>\n",
       "      <th>0</th>\n",
       "      <td>Taylor</td>\n",
       "      <td>Swift</td>\n",
       "      <td>34</td>\n",
       "      <td>Female</td>\n",
       "      <td>True</td>\n",
       "      <td>1</td>\n",
       "      <td>70.0</td>\n",
       "    </tr>\n",
       "    <tr>\n",
       "      <th>1</th>\n",
       "      <td>John</td>\n",
       "      <td>Lennon</td>\n",
       "      <td>75</td>\n",
       "      <td>Male</td>\n",
       "      <td>False</td>\n",
       "      <td>0</td>\n",
       "      <td>70.0</td>\n",
       "    </tr>\n",
       "    <tr>\n",
       "      <th>2</th>\n",
       "      <td>Fela</td>\n",
       "      <td>Kuti</td>\n",
       "      <td>83</td>\n",
       "      <td>Male</td>\n",
       "      <td>False</td>\n",
       "      <td>0</td>\n",
       "      <td>70.0</td>\n",
       "    </tr>\n",
       "    <tr>\n",
       "      <th>3</th>\n",
       "      <td>Manu</td>\n",
       "      <td>Chau</td>\n",
       "      <td>82</td>\n",
       "      <td>Male</td>\n",
       "      <td>False</td>\n",
       "      <td>0</td>\n",
       "      <td>70.0</td>\n",
       "    </tr>\n",
       "    <tr>\n",
       "      <th>4</th>\n",
       "      <td>Şebnem</td>\n",
       "      <td>Ferrah</td>\n",
       "      <td>76</td>\n",
       "      <td>Female</td>\n",
       "      <td>False</td>\n",
       "      <td>0</td>\n",
       "      <td>70.0</td>\n",
       "    </tr>\n",
       "  </tbody>\n",
       "</table>\n",
       "</div>"
      ],
      "text/plain": [
       "  First Name Last Name  Age  Gender  Young Female  Young Female (as integer)  Mean Age\n",
       "0     Taylor     Swift   34  Female          True                          1      70.0\n",
       "1       John    Lennon   75    Male         False                          0      70.0\n",
       "2       Fela      Kuti   83    Male         False                          0      70.0\n",
       "3       Manu      Chau   82    Male         False                          0      70.0\n",
       "4     Şebnem    Ferrah   76  Female         False                          0      70.0"
      ]
     },
     "execution_count": 27,
     "metadata": {},
     "output_type": "execute_result"
    }
   ],
   "source": [
    "musicians['Mean Age'] = musicians['Age'].mean()\n",
    "musicians"
   ]
  },
  {
   "cell_type": "markdown",
   "metadata": {
    "slideshow": {
     "slide_type": "subslide"
    },
    "tags": []
   },
   "source": [
    "# Apply Functions or Create Aggregate Statistics by Groups of Rows"
   ]
  },
  {
   "cell_type": "markdown",
   "metadata": {
    "slideshow": {
     "slide_type": "-"
    },
    "tags": []
   },
   "source": [
    "<center><a href=\"https://pandas.pydata.org/docs/getting_started/intro_tutorials/06_calculate_statistics.html#min-tut-06-stats\"><img src=\"https://raw.githubusercontent.com/SMU-Econ-Growth/EconGrowthUG-Notebooks/c004a90a03c3633fd05cdbce96647e229fdc21d8/pics/06_groupby.svg\" alt=\"groupby\" width=700/></a></center>"
   ]
  },
  {
   "cell_type": "markdown",
   "metadata": {
    "slideshow": {
     "slide_type": "subslide"
    },
    "tags": []
   },
   "source": [
    "* To generate statistics or apply functions my groups in the data we use the `groupby` method"
   ]
  },
  {
   "cell_type": "markdown",
   "metadata": {
    "slideshow": {
     "slide_type": "fragment"
    },
    "tags": []
   },
   "source": [
    "* To generate a dataframe that contains the statistics for each group defined by columns named `Variable1` and `Variable2`\n",
    "    \n",
    "```python\n",
    "df.groupby(['Variable1', 'Variable2']).statistic()\n",
    "```"
   ]
  },
  {
   "cell_type": "markdown",
   "metadata": {
    "slideshow": {
     "slide_type": "fragment"
    },
    "tags": []
   },
   "source": [
    "* To apply a function to all rows in each group and generate a dataframe with the group level result\n",
    "```python\n",
    "df.groupby(['Variable1', 'Variable2']).apply(my_function)\n",
    "```"
   ]
  },
  {
   "cell_type": "code",
   "execution_count": 28,
   "metadata": {
    "slideshow": {
     "slide_type": "subslide"
    },
    "tags": []
   },
   "outputs": [
    {
     "data": {
      "text/html": [
       "<div>\n",
       "<style scoped>\n",
       "    .dataframe tbody tr th:only-of-type {\n",
       "        vertical-align: middle;\n",
       "    }\n",
       "\n",
       "    .dataframe tbody tr th {\n",
       "        vertical-align: top;\n",
       "    }\n",
       "\n",
       "    .dataframe thead th {\n",
       "        text-align: right;\n",
       "    }\n",
       "</style>\n",
       "<table border=\"1\" class=\"dataframe\">\n",
       "  <thead>\n",
       "    <tr style=\"text-align: right;\">\n",
       "      <th></th>\n",
       "      <th>Age</th>\n",
       "      <th>Young Female</th>\n",
       "      <th>Young Female (as integer)</th>\n",
       "      <th>Mean Age</th>\n",
       "    </tr>\n",
       "    <tr>\n",
       "      <th>Gender</th>\n",
       "      <th></th>\n",
       "      <th></th>\n",
       "      <th></th>\n",
       "      <th></th>\n",
       "    </tr>\n",
       "  </thead>\n",
       "  <tbody>\n",
       "    <tr>\n",
       "      <th>Female</th>\n",
       "      <td>55.0</td>\n",
       "      <td>0.5</td>\n",
       "      <td>0.5</td>\n",
       "      <td>70.0</td>\n",
       "    </tr>\n",
       "    <tr>\n",
       "      <th>Male</th>\n",
       "      <td>80.0</td>\n",
       "      <td>0.0</td>\n",
       "      <td>0.0</td>\n",
       "      <td>70.0</td>\n",
       "    </tr>\n",
       "  </tbody>\n",
       "</table>\n",
       "</div>"
      ],
      "text/plain": [
       "         Age  Young Female  Young Female (as integer)  Mean Age\n",
       "Gender                                                         \n",
       "Female  55.0           0.5                        0.5      70.0\n",
       "Male    80.0           0.0                        0.0      70.0"
      ]
     },
     "execution_count": 28,
     "metadata": {},
     "output_type": "execute_result"
    }
   ],
   "source": [
    "musicians_gender = musicians.groupby(['Gender']).mean(numeric_only=True)\n",
    "musicians_gender"
   ]
  },
  {
   "cell_type": "markdown",
   "metadata": {
    "slideshow": {
     "slide_type": "fragment"
    },
    "tags": []
   },
   "source": [
    "## Notice the rows are not numbered now, but are using the `Gender` categories, so we can select rows using them"
   ]
  },
  {
   "cell_type": "code",
   "execution_count": 29,
   "metadata": {
    "slideshow": {
     "slide_type": "fragment"
    },
    "tags": []
   },
   "outputs": [
    {
     "data": {
      "text/plain": [
       "Age                          55.0\n",
       "Young Female                  0.5\n",
       "Young Female (as integer)     0.5\n",
       "Mean Age                     70.0\n",
       "Name: Female, dtype: float64"
      ]
     },
     "execution_count": 29,
     "metadata": {},
     "output_type": "execute_result"
    }
   ],
   "source": [
    "musicians_gender.loc['Female']"
   ]
  },
  {
   "cell_type": "markdown",
   "metadata": {
    "slideshow": {
     "slide_type": "subslide"
    },
    "tags": []
   },
   "source": [
    "## If you want to put the categories back to columns and have numbers as indices, use the `reset_index()` function"
   ]
  },
  {
   "cell_type": "code",
   "execution_count": 30,
   "metadata": {
    "slideshow": {
     "slide_type": "-"
    },
    "tags": []
   },
   "outputs": [
    {
     "data": {
      "text/html": [
       "<div>\n",
       "<style scoped>\n",
       "    .dataframe tbody tr th:only-of-type {\n",
       "        vertical-align: middle;\n",
       "    }\n",
       "\n",
       "    .dataframe tbody tr th {\n",
       "        vertical-align: top;\n",
       "    }\n",
       "\n",
       "    .dataframe thead th {\n",
       "        text-align: right;\n",
       "    }\n",
       "</style>\n",
       "<table border=\"1\" class=\"dataframe\">\n",
       "  <thead>\n",
       "    <tr style=\"text-align: right;\">\n",
       "      <th></th>\n",
       "      <th>Gender</th>\n",
       "      <th>Age</th>\n",
       "      <th>Young Female</th>\n",
       "      <th>Young Female (as integer)</th>\n",
       "      <th>Mean Age</th>\n",
       "    </tr>\n",
       "  </thead>\n",
       "  <tbody>\n",
       "    <tr>\n",
       "      <th>0</th>\n",
       "      <td>Female</td>\n",
       "      <td>55.0</td>\n",
       "      <td>0.5</td>\n",
       "      <td>0.5</td>\n",
       "      <td>70.0</td>\n",
       "    </tr>\n",
       "    <tr>\n",
       "      <th>1</th>\n",
       "      <td>Male</td>\n",
       "      <td>80.0</td>\n",
       "      <td>0.0</td>\n",
       "      <td>0.0</td>\n",
       "      <td>70.0</td>\n",
       "    </tr>\n",
       "  </tbody>\n",
       "</table>\n",
       "</div>"
      ],
      "text/plain": [
       "   Gender   Age  Young Female  Young Female (as integer)  Mean Age\n",
       "0  Female  55.0           0.5                        0.5      70.0\n",
       "1    Male  80.0           0.0                        0.0      70.0"
      ]
     },
     "execution_count": 30,
     "metadata": {},
     "output_type": "execute_result"
    }
   ],
   "source": [
    "musicians_gender = musicians_gender.reset_index()\n",
    "musicians_gender"
   ]
  },
  {
   "cell_type": "markdown",
   "metadata": {
    "slideshow": {
     "slide_type": "slide"
    },
    "tags": []
   },
   "source": [
    "# Plot Data"
   ]
  },
  {
   "cell_type": "markdown",
   "metadata": {
    "slideshow": {
     "slide_type": "-"
    },
    "tags": []
   },
   "source": [
    "<center><a href=\"https://pandas.pydata.org/docs/getting_started/intro_tutorials/04_plotting.html#min-tut-04-plotting\"><img src=\"https://raw.githubusercontent.com/SMU-Econ-Growth/EconGrowthUG-Notebooks/c004a90a03c3633fd05cdbce96647e229fdc21d8/pics/04_plot_overview.svg\" alt=\"Plotting\" width=700/></a></center>"
   ]
  },
  {
   "cell_type": "markdown",
   "metadata": {
    "slideshow": {
     "slide_type": "subslide"
    },
    "tags": []
   },
   "source": [
    "**pandas** can easily create various types of plots based on the data\n",
    "* Plot all variables, where $x$ is the index\n",
    "```python\n",
    "df.plot()\n",
    "```"
   ]
  },
  {
   "cell_type": "markdown",
   "metadata": {
    "slideshow": {
     "slide_type": "subslide"
    }
   },
   "source": [
    "* Plot only one specific variable (against the index)\n",
    "```python\n",
    "df['variable'].plot()\n",
    "```\n",
    "or\n",
    "```python\n",
    "df.variable_name.plot()\n",
    "```"
   ]
  },
  {
   "cell_type": "markdown",
   "metadata": {
    "slideshow": {
     "slide_type": "subslide"
    },
    "tags": []
   },
   "source": [
    "* Plot `variable X` against `variable Y`\n",
    "```python\n",
    "df.plot.scatter(x='Variable X', y='Variable Y')\n",
    "```"
   ]
  },
  {
   "cell_type": "markdown",
   "metadata": {
    "slideshow": {
     "slide_type": "subslide"
    },
    "tags": []
   },
   "source": [
    "* Other plot types:\n",
    "    * Box plot: `df.plot.box()`\n",
    "    * Area plot: df.plot.area()\n",
    "    * (Vertical) Bar plot: df.plot.bar()\n",
    "    * (Horizontal) Bar plot: df.plot.barh()\n",
    "    * Density plot: df.plot.density()\n",
    "    * Historam: df.plot.hist()\n",
    "    * KDE plot: df.plot.kde()\n",
    "    * Pie Chart: df.plot.pie()"
   ]
  },
  {
   "cell_type": "code",
   "execution_count": 31,
   "metadata": {
    "slideshow": {
     "slide_type": "subslide"
    },
    "tags": []
   },
   "outputs": [
    {
     "data": {
      "text/plain": [
       "<Axes: xlabel='New Series', ylabel='Some Transformation'>"
      ]
     },
     "execution_count": 31,
     "metadata": {},
     "output_type": "execute_result"
    },
    {
     "data": {
      "image/png": "[encoded data removed]",
      "text/plain": [
       "<Figure size 640x480 with 1 Axes>"
      ]
     },
     "metadata": {},
     "output_type": "display_data"
    }
   ],
   "source": [
    "random_data.plot.scatter(x='New Series', y='Some Transformation', \n",
    "                         color='r', s=50, label='Very Important Relation!')"
   ]
  },
  {
   "cell_type": "markdown",
   "metadata": {
    "slideshow": {
     "slide_type": "subslide"
    }
   },
   "source": [
    "## **pandas** uses `matplotlib`, so we can pass options or use axes and figures as we learned before"
   ]
  },
  {
   "cell_type": "markdown",
   "metadata": {
    "slideshow": {
     "slide_type": "subslide"
    },
    "tags": []
   },
   "source": [
    "## We can also pass **pandas** dataframes to **seaborn**, **statsmodels**, and many other packages"
   ]
  },
  {
   "cell_type": "markdown",
   "metadata": {
    "slideshow": {
     "slide_type": "slide"
    },
    "tags": []
   },
   "source": [
    "# Reshape DataFrame"
   ]
  },
  {
   "cell_type": "markdown",
   "metadata": {
    "slideshow": {
     "slide_type": "-"
    },
    "tags": []
   },
   "source": [
    "<center><a href=\"https://pandas.pydata.org/docs/getting_started/intro_tutorials/07_reshape_table_layout.html#min-tut-07-reshape\"><img src=\"https://raw.githubusercontent.com/SMU-Econ-Growth/EconGrowthUG-Notebooks/c004a90a03c3633fd05cdbce96647e229fdc21d8/pics/07_melt.svg\" alt=\"melt\" width=500/><img src=\"https://raw.githubusercontent.com/SMU-Econ-Growth/EconGrowthUG-Notebooks/c004a90a03c3633fd05cdbce96647e229fdc21d8/pics/07_pivot.svg\" alt=\"pivot\" width=500/></a></center>"
   ]
  },
  {
   "cell_type": "markdown",
   "metadata": {
    "slideshow": {
     "slide_type": "subslide"
    },
    "tags": []
   },
   "source": [
    "## Many times you may need to reshape you data\n",
    "* To be used in other python commands\n",
    "* For further processing"
   ]
  },
  {
   "cell_type": "markdown",
   "metadata": {
    "slideshow": {
     "slide_type": "subslide"
    },
    "tags": []
   },
   "source": [
    "# Reshape DataFrame From Wide To Long"
   ]
  },
  {
   "cell_type": "markdown",
   "metadata": {
    "slideshow": {
     "slide_type": "-"
    },
    "tags": []
   },
   "source": [
    "<center><a href=\"https://pandas.pydata.org/docs/getting_started/intro_tutorials/07_reshape_table_layout.html#min-tut-07-reshape\"><img src=\"https://raw.githubusercontent.com/SMU-Econ-Growth/EconGrowthUG-Notebooks/c004a90a03c3633fd05cdbce96647e229fdc21d8/pics/07_melt.svg\" alt=\"melt\" width=700/></center>"
   ]
  },
  {
   "cell_type": "markdown",
   "metadata": {
    "slideshow": {
     "slide_type": "subslide"
    },
    "tags": []
   },
   "source": [
    "## Original dataframe has units (countries, households, individuals) in rows and variables or yearly observations in columns"
   ]
  },
  {
   "cell_type": "markdown",
   "metadata": {
    "slideshow": {
     "slide_type": "fragment"
    },
    "tags": []
   },
   "source": [
    "## New dataframe has unit $\\times$ variable/year in each row and values in columns"
   ]
  },
  {
   "cell_type": "markdown",
   "metadata": {
    "slideshow": {
     "slide_type": "subslide"
    },
    "tags": []
   },
   "source": [
    "## Useful commands\n",
    "* [`pd.wide_to_long(df, stubnames, i, j, sep='', suffix='\\\\d+')`](https://pandas.pydata.org/docs/reference/api/pandas.wide_to_long.html)\n",
    "* [`pd.melt(frame, id_vars=None, value_vars=None, var_name=None, value_name='value', col_level=None, ignore_index=True)`](https://pandas.pydata.org/docs/reference/api/pandas.melt.html#pandas.melt)\n",
    "* [`df.melt(id_vars=None, value_vars=None, var_name=None, value_name='value', col_level=None, ignore_index=True)`](https://pandas.pydata.org/docs/reference/api/pandas.DataFrame.melt.html#pandas.DataFrame.melt)\n",
    "* [`df.stack(level=- 1, dropna=True)`](https://pandas.pydata.org/docs/reference/api/pandas.DataFrame.stack.html#pandas.DataFrame.stack)"
   ]
  },
  {
   "cell_type": "markdown",
   "metadata": {
    "slideshow": {
     "slide_type": "subslide"
    },
    "tags": []
   },
   "source": [
    "<center><a href=\"https://pandas.pydata.org/docs/user_guide/reshaping.html#reshaping-stacking\"><img src=\"https://raw.githubusercontent.com/SMU-Econ-Growth/EconGrowthUG-Notebooks/c004a90a03c3633fd05cdbce96647e229fdc21d8/pics/reshaping_melt.png\" alt=\"melt\" width=700/></center>"
   ]
  },
  {
   "cell_type": "markdown",
   "metadata": {
    "slideshow": {
     "slide_type": "subslide"
    },
    "tags": []
   },
   "source": [
    "<center><a href=\"https://pandas.pydata.org/docs/user_guide/reshaping.html#reshaping-stacking\"><img src=\"https://raw.githubusercontent.com/SMU-Econ-Growth/EconGrowthUG-Notebooks/c004a90a03c3633fd05cdbce96647e229fdc21d8/pics/reshaping_stack.png\" alt=\"melt\" width=700/></center>"
   ]
  },
  {
   "cell_type": "markdown",
   "metadata": {
    "slideshow": {
     "slide_type": "subslide"
    },
    "tags": []
   },
   "source": [
    "# Reshape DataFrame From Long To Wide"
   ]
  },
  {
   "cell_type": "markdown",
   "metadata": {
    "slideshow": {
     "slide_type": "-"
    },
    "tags": []
   },
   "source": [
    "<center><a href=\"https://pandas.pydata.org/docs/getting_started/intro_tutorials/07_reshape_table_layout.html#min-tut-07-reshape\"><img src=\"https://raw.githubusercontent.com/SMU-Econ-Growth/EconGrowthUG-Notebooks/c004a90a03c3633fd05cdbce96647e229fdc21d8/pics/07_pivot.svg\" alt=\"pivot\" width=700/></center>"
   ]
  },
  {
   "cell_type": "markdown",
   "metadata": {
    "slideshow": {
     "slide_type": "subslide"
    },
    "tags": []
   },
   "source": [
    "## Original dataframe has unit $\\times$ variable/year in each row and values in columns"
   ]
  },
  {
   "cell_type": "markdown",
   "metadata": {
    "slideshow": {
     "slide_type": "fragment"
    },
    "tags": []
   },
   "source": [
    "## New dataframe has units (countries, households, individuals) in rows and variables or yearly observations in columns"
   ]
  },
  {
   "cell_type": "markdown",
   "metadata": {
    "slideshow": {
     "slide_type": "subslide"
    },
    "tags": []
   },
   "source": [
    "## Useful commands\n",
    "* [`pd.pivot(data, index=None, columns=None, values=None)`](https://pandas.pydata.org/docs/reference/api/pandas.pivot.html#pandas.pivot)\n",
    "* [`df.pivot(index=None, columns=None, values=None)`](https://pandas.pydata.org/docs/reference/api/pandas.DataFrame.pivot.html#pandas.DataFrame.pivot)\n",
    "* [`df.unstack(level=- 1, fill_value=None)`](https://pandas.pydata.org/docs/reference/api/pandas.DataFrame.unstack.html#pandas.DataFrame.unstack)"
   ]
  },
  {
   "cell_type": "markdown",
   "metadata": {
    "slideshow": {
     "slide_type": "subslide"
    },
    "tags": []
   },
   "source": [
    "<center><a href=\"https://pandas.pydata.org/docs/user_guide/reshaping.html#reshaping-by-pivoting-dataframe-objects\"><img src=\"https://raw.githubusercontent.com/SMU-Econ-Growth/EconGrowthUG-Notebooks/c004a90a03c3633fd05cdbce96647e229fdc21d8/pics/reshaping_pivot.png\" alt=\"melt\" width=700/></center>"
   ]
  },
  {
   "cell_type": "markdown",
   "metadata": {
    "slideshow": {
     "slide_type": "subslide"
    },
    "tags": []
   },
   "source": [
    "<center><a href=\"https://pandas.pydata.org/docs/user_guide/reshaping.html#reshaping-by-stacking-and-unstacking\"><img src=\"https://raw.githubusercontent.com/SMU-Econ-Growth/EconGrowthUG-Notebooks/c004a90a03c3633fd05cdbce96647e229fdc21d8/pics/reshaping_unstack.png\" alt=\"melt\" width=700/></center>"
   ]
  },
  {
   "cell_type": "markdown",
   "metadata": {
    "slideshow": {
     "slide_type": "slide"
    },
    "tags": []
   },
   "source": [
    "# Combine Data from Multiple DataFrames"
   ]
  },
  {
   "cell_type": "markdown",
   "metadata": {
    "slideshow": {
     "slide_type": "-"
    },
    "tags": []
   },
   "source": [
    "<center><a href=\"https://pandas.pydata.org/docs/getting_started/intro_tutorials/08_combine_dataframes.html#min-tut-08-combine\"><img src=\"https://raw.githubusercontent.com/SMU-Econ-Growth/EconGrowthUG-Notebooks/c004a90a03c3633fd05cdbce96647e229fdc21d8/pics/08_concat_row.svg\" alt=\"concatenate\" width=700/></center>"
   ]
  },
  {
   "cell_type": "markdown",
   "metadata": {
    "slideshow": {
     "slide_type": "subslide"
    }
   },
   "source": [
    "# Concatenating Dataframes"
   ]
  },
  {
   "cell_type": "markdown",
   "metadata": {
    "slideshow": {
     "slide_type": "-"
    },
    "tags": []
   },
   "source": [
    "<center><a href=\"https://pandas.pydata.org/docs/getting_started/intro_tutorials/08_combine_dataframes.html#min-tut-08-combine\"><img src=\"https://raw.githubusercontent.com/SMU-Econ-Growth/EconGrowthUG-Notebooks/c004a90a03c3633fd05cdbce96647e229fdc21d8/pics/08_concat_row.svg\" alt=\"concatenate\" width=700/></center>"
   ]
  },
  {
   "cell_type": "markdown",
   "metadata": {
    "slideshow": {
     "slide_type": "subslide"
    },
    "tags": []
   },
   "source": [
    "## **pandas** let's you easily concatenate various `Series` or `DataFrames` to create a new `DataFrame`\n",
    "[`pd.concat(objs, axis=0, join='outer', ignore_index=False, keys=None, levels=None, names=None, verify_integrity=False, sort=False, copy=True)`](https://pandas.pydata.org/docs/reference/api/pandas.concat.html)"
   ]
  },
  {
   "cell_type": "markdown",
   "metadata": {
    "slideshow": {
     "slide_type": "subslide"
    },
    "tags": []
   },
   "source": [
    "```python\n",
    "pd.concat([df1, df2, df3])\n",
    "```"
   ]
  },
  {
   "cell_type": "markdown",
   "metadata": {
    "slideshow": {
     "slide_type": "-"
    },
    "tags": []
   },
   "source": [
    "<center><a href=\"https://pandas.pydata.org/docs/user_guide/merging.html#concatenating-objects\"><img src=\"https://raw.githubusercontent.com/SMU-Econ-Growth/EconGrowthUG-Notebooks/c004a90a03c3633fd05cdbce96647e229fdc21d8/pics/merging_concat_basic.png\" alt=\"concatenate\" width=500/></center>"
   ]
  },
  {
   "cell_type": "markdown",
   "metadata": {
    "slideshow": {
     "slide_type": "subslide"
    },
    "tags": []
   },
   "source": [
    "```python\n",
    "pd.concat([df1, df4], axis=1)\n",
    "```"
   ]
  },
  {
   "cell_type": "markdown",
   "metadata": {
    "slideshow": {
     "slide_type": "-"
    },
    "tags": []
   },
   "source": [
    "<center><a href=\"https://pandas.pydata.org/docs/user_guide/merging.html#concatenating-objects\"><img src=\"https://raw.githubusercontent.com/SMU-Econ-Growth/EconGrowthUG-Notebooks/c004a90a03c3633fd05cdbce96647e229fdc21d8/pics/merging_concat_axis1.png\" alt=\"concatenate\" width=1000/></center>"
   ]
  },
  {
   "cell_type": "markdown",
   "metadata": {
    "slideshow": {
     "slide_type": "subslide"
    },
    "tags": []
   },
   "source": [
    "```python\n",
    "pd.concat([df1, df4], axis=1, join='inner')\n",
    "```"
   ]
  },
  {
   "cell_type": "markdown",
   "metadata": {
    "slideshow": {
     "slide_type": "-"
    },
    "tags": []
   },
   "source": [
    "<center><a href=\"https://pandas.pydata.org/docs/user_guide/merging.html#concatenating-objects\"><img src=\"https://raw.githubusercontent.com/SMU-Econ-Growth/EconGrowthUG-Notebooks/c004a90a03c3633fd05cdbce96647e229fdc21d8/pics/merging_concat_axis1_inner.png\" alt=\"concatenate\" width=1000/></center>"
   ]
  },
  {
   "cell_type": "markdown",
   "metadata": {
    "slideshow": {
     "slide_type": "subslide"
    }
   },
   "source": [
    "# Merging/Joining Dataframes"
   ]
  },
  {
   "cell_type": "markdown",
   "metadata": {
    "slideshow": {
     "slide_type": "-"
    },
    "tags": []
   },
   "source": [
    "<center><a href=\"https://pandas.pydata.org/docs/getting_started/intro_tutorials/08_combine_dataframes.html#join-tables-using-a-common-identifier\"><img src=\"https://raw.githubusercontent.com/SMU-Econ-Growth/EconGrowthUG-Notebooks/c004a90a03c3633fd05cdbce96647e229fdc21d8/pics/08_merge_left.svg\" alt=\"concatenate\" width=1000/></center>"
   ]
  },
  {
   "cell_type": "markdown",
   "metadata": {
    "slideshow": {
     "slide_type": "subslide"
    },
    "tags": []
   },
   "source": [
    "## **pandas** let's you easily merge/join `Series` or `DataFrames` to create a new `DataFrame`"
   ]
  },
  {
   "cell_type": "markdown",
   "metadata": {
    "slideshow": {
     "slide_type": "fragment"
    },
    "tags": []
   },
   "source": [
    "* [`pd.merge(left, right, how='inner', on=None, left_on=None, right_on=None, left_index=False, right_index=False, sort=False, suffixes=('_x', '_y'), copy=True, indicator=False, validate=None)`](https://pandas.pydata.org/docs/reference/api/pandas.merge.html)"
   ]
  },
  {
   "cell_type": "markdown",
   "metadata": {
    "slideshow": {
     "slide_type": "fragment"
    },
    "tags": []
   },
   "source": [
    "* [`df.merge(right, how='inner', on=None, left_on=None, right_on=None, left_index=False, right_index=False, sort=False, suffixes=('_x', '_y'), copy=True, indicator=False, validate=None)`](https://pandas.pydata.org/docs/reference/api/pandas.DataFrame.merge.html)"
   ]
  },
  {
   "cell_type": "markdown",
   "metadata": {
    "slideshow": {
     "slide_type": "subslide"
    },
    "tags": []
   },
   "source": [
    "```python\n",
    "pd.merge([left, right])\n",
    "```\n",
    "or\n",
    "```python\n",
    "left.merge(right)\n",
    "```\n",
    "or\n",
    "```python\n",
    "right.merge(left)\n",
    "```"
   ]
  },
  {
   "cell_type": "markdown",
   "metadata": {
    "slideshow": {
     "slide_type": "-"
    },
    "tags": []
   },
   "source": [
    "<center><a href=\"https://pandas.pydata.org/docs/user_guide/merging.html#database-style-dataframe-or-named-series-joining-merging\"><img src=\"https://raw.githubusercontent.com/SMU-Econ-Growth/EconGrowthUG-Notebooks/c004a90a03c3633fd05cdbce96647e229fdc21d8/pics/merging_merge_on_key.png\" alt=\"concatenate\" width=700/></center>"
   ]
  },
  {
   "cell_type": "markdown",
   "metadata": {
    "slideshow": {
     "slide_type": "subslide"
    },
    "tags": []
   },
   "source": [
    "```python\n",
    "pd.merge([left, right])\n",
    "```\n",
    "or\n",
    "```python\n",
    "pd.merge([left, right], on=[\"key1\", \"key2\"])\n",
    "```"
   ]
  },
  {
   "cell_type": "markdown",
   "metadata": {
    "slideshow": {
     "slide_type": "-"
    },
    "tags": []
   },
   "source": [
    "<center><a href=\"https://pandas.pydata.org/docs/user_guide/merging.html#database-style-dataframe-or-named-series-joining-merging\"><img src=\"https://raw.githubusercontent.com/SMU-Econ-Growth/EconGrowthUG-Notebooks/c004a90a03c3633fd05cdbce96647e229fdc21d8/pics/merging_merge_on_key_multiple.png\" alt=\"concatenate\" width=1000/></center>"
   ]
  },
  {
   "cell_type": "markdown",
   "metadata": {
    "slideshow": {
     "slide_type": "subslide"
    },
    "tags": []
   },
   "source": [
    "```python\n",
    "pd.merge([left, right], how=\"left\", on=[\"key1\", \"key2\"])\n",
    "```\n",
    "or\n",
    "```python\n",
    "left.merge(right, how=\"left\", on=[\"key1\", \"key2\"])\n",
    "```\n",
    "or\n",
    "```python\n",
    "right.merge(left, how=\"right\", on=[\"key1\", \"key2\"])\n",
    "```"
   ]
  },
  {
   "cell_type": "markdown",
   "metadata": {
    "slideshow": {
     "slide_type": "-"
    },
    "tags": []
   },
   "source": [
    "<center><a href=\"https://pandas.pydata.org/docs/user_guide/merging.html#database-style-dataframe-or-named-series-joining-merging\"><img src=\"https://raw.githubusercontent.com/SMU-Econ-Growth/EconGrowthUG-Notebooks/c004a90a03c3633fd05cdbce96647e229fdc21d8/pics/merging_merge_on_key_left.png\" alt=\"concatenate\" width=1000/></center>"
   ]
  },
  {
   "cell_type": "markdown",
   "metadata": {
    "slideshow": {
     "slide_type": "subslide"
    },
    "tags": []
   },
   "source": [
    "```python\n",
    "pd.merge([left, right], how=\"right\", on=[\"key1\", \"key2\"])\n",
    "```\n",
    "or\n",
    "```python\n",
    "left.merge(right, how=\"right\", on=[\"key1\", \"key2\"])\n",
    "```\n",
    "or\n",
    "```python\n",
    "right.merge(left, how=\"left\", on=[\"key1\", \"key2\"])\n",
    "```"
   ]
  },
  {
   "cell_type": "markdown",
   "metadata": {
    "slideshow": {
     "slide_type": "-"
    },
    "tags": []
   },
   "source": [
    "<center><a href=\"https://pandas.pydata.org/docs/user_guide/merging.html#database-style-dataframe-or-named-series-joining-merging\"><img src=\"https://raw.githubusercontent.com/SMU-Econ-Growth/EconGrowthUG-Notebooks/c004a90a03c3633fd05cdbce96647e229fdc21d8/pics/merging_merge_on_key_right.png\" alt=\"concatenate\" width=1000/></center>"
   ]
  },
  {
   "cell_type": "markdown",
   "metadata": {
    "slideshow": {
     "slide_type": "subslide"
    },
    "tags": []
   },
   "source": [
    "```python\n",
    "pd.merge([left, right], how=\"outer\", on=[\"key1\", \"key2\"])\n",
    "```\n",
    "or\n",
    "```python\n",
    "left.merge(right, how=\"outer\", on=[\"key1\", \"key2\"])\n",
    "```\n",
    "or\n",
    "```python\n",
    "right.merge(left, how=\"outer\", on=[\"key1\", \"key2\"])\n",
    "```"
   ]
  },
  {
   "cell_type": "markdown",
   "metadata": {
    "slideshow": {
     "slide_type": "-"
    },
    "tags": []
   },
   "source": [
    "<center><a href=\"https://pandas.pydata.org/docs/user_guide/merging.html#database-style-dataframe-or-named-series-joining-merging\"><img src=\"https://raw.githubusercontent.com/SMU-Econ-Growth/EconGrowthUG-Notebooks/c004a90a03c3633fd05cdbce96647e229fdc21d8/pics/merging_merge_on_key_outer.png\" alt=\"concatenate\" width=1000/></center>"
   ]
  },
  {
   "cell_type": "markdown",
   "metadata": {
    "slideshow": {
     "slide_type": "slide"
    }
   },
   "source": [
    "# Many Other Options and Possibilities\n",
    "* [Working with Time Series](https://pandas.pydata.org/docs/getting_started/intro_tutorials/09_timeseries.html#min-tut-09-timeseries)\n",
    "* [Working with Text](https://pandas.pydata.org/docs/getting_started/intro_tutorials/10_text_data.html#min-tut-10-text)"
   ]
  },
  {
   "cell_type": "markdown",
   "metadata": {
    "slideshow": {
     "slide_type": "slide"
    },
    "tags": []
   },
   "source": [
    "# <center>Examples</center>"
   ]
  },
  {
   "cell_type": "markdown",
   "metadata": {
    "slideshow": {
     "slide_type": "subslide"
    }
   },
   "source": [
    "# Example - Import data"
   ]
  },
  {
   "cell_type": "markdown",
   "metadata": {
    "slideshow": {
     "slide_type": "subslide"
    }
   },
   "source": [
    "## Let's import the table of countries' ISO codes from [Wikipedia](https://en.wikipedia.org/wiki/List_of_ISO_3166_country_codes)"
   ]
  },
  {
   "cell_type": "code",
   "execution_count": 32,
   "metadata": {
    "slideshow": {
     "slide_type": "subslide"
    },
    "tags": []
   },
   "outputs": [
    {
     "data": {
      "text/html": [
       "\n",
       "        <iframe\n",
       "            width=\"800\"\n",
       "            height=\"400\"\n",
       "            src=\"https://en.wikipedia.org/wiki/List_of_ISO_3166_country_codes\"\n",
       "            frameborder=\"0\"\n",
       "            allowfullscreen\n",
       "            \n",
       "        ></iframe>\n",
       "        "
      ],
      "text/plain": [
       "<IPython.lib.display.IFrame at 0x11b6926d0>"
      ]
     },
     "execution_count": 32,
     "metadata": {},
     "output_type": "execute_result"
    }
   ],
   "source": [
    "# Import display options for showing websites\n",
    "from IPython.display import IFrame\n",
    "url = 'https://en.wikipedia.org/wiki/List_of_ISO_3166_country_codes'\n",
    "IFrame(url, width=800, height=400)"
   ]
  },
  {
   "cell_type": "code",
   "execution_count": 33,
   "metadata": {
    "scrolled": true,
    "slideshow": {
     "slide_type": "subslide"
    },
    "tags": []
   },
   "outputs": [
    {
     "data": {
      "text/html": [
       "<div>\n",
       "<style scoped>\n",
       "    .dataframe tbody tr th:only-of-type {\n",
       "        vertical-align: middle;\n",
       "    }\n",
       "\n",
       "    .dataframe tbody tr th {\n",
       "        vertical-align: top;\n",
       "    }\n",
       "\n",
       "    .dataframe thead tr th {\n",
       "        text-align: left;\n",
       "    }\n",
       "</style>\n",
       "<table border=\"1\" class=\"dataframe\">\n",
       "  <thead>\n",
       "    <tr>\n",
       "      <th></th>\n",
       "      <th>ISO 3166[1] name[5]</th>\n",
       "      <th>Official state name[6][a]</th>\n",
       "      <th>Sovereignty [6][7][8]</th>\n",
       "      <th colspan=\"3\" halign=\"left\">ISO 3166-1[2]</th>\n",
       "      <th>ISO 3166-2[3] subdivision codes link</th>\n",
       "      <th>TLD [9]</th>\n",
       "    </tr>\n",
       "    <tr>\n",
       "      <th></th>\n",
       "      <th>ISO 3166[1] name[5]</th>\n",
       "      <th>Official state name[6][a]</th>\n",
       "      <th>Sovereignty [6][7][8]</th>\n",
       "      <th>A-2 [5]</th>\n",
       "      <th>A-3 [5]</th>\n",
       "      <th>Num. [5]</th>\n",
       "      <th>ISO 3166-2[3] subdivision codes link</th>\n",
       "      <th>TLD [9]</th>\n",
       "    </tr>\n",
       "  </thead>\n",
       "  <tbody>\n",
       "    <tr>\n",
       "      <th>0</th>\n",
       "      <td>Afghanistan</td>\n",
       "      <td>the Islamic Republic of Afghanistan[b]</td>\n",
       "      <td>UN member</td>\n",
       "      <td>AF</td>\n",
       "      <td>AFG</td>\n",
       "      <td>004</td>\n",
       "      <td>ISO 3166-2:AF</td>\n",
       "      <td>.af</td>\n",
       "    </tr>\n",
       "    <tr>\n",
       "      <th>1</th>\n",
       "      <td>Åland Islands</td>\n",
       "      <td>Åland[c][d]</td>\n",
       "      <td>Finland</td>\n",
       "      <td>AX</td>\n",
       "      <td>ALA</td>\n",
       "      <td>248</td>\n",
       "      <td>ISO 3166-2:AX</td>\n",
       "      <td>.ax</td>\n",
       "    </tr>\n",
       "    <tr>\n",
       "      <th>2</th>\n",
       "      <td>Albania</td>\n",
       "      <td>the Republic of Albania</td>\n",
       "      <td>UN member</td>\n",
       "      <td>AL</td>\n",
       "      <td>ALB</td>\n",
       "      <td>008</td>\n",
       "      <td>ISO 3166-2:AL</td>\n",
       "      <td>.al</td>\n",
       "    </tr>\n",
       "    <tr>\n",
       "      <th>3</th>\n",
       "      <td>Algeria</td>\n",
       "      <td>the People's Democratic Republic of Algeria</td>\n",
       "      <td>UN member</td>\n",
       "      <td>DZ</td>\n",
       "      <td>DZA</td>\n",
       "      <td>012</td>\n",
       "      <td>ISO 3166-2:DZ</td>\n",
       "      <td>.dz</td>\n",
       "    </tr>\n",
       "    <tr>\n",
       "      <th>4</th>\n",
       "      <td>American Samoa</td>\n",
       "      <td>American Samoa[c]</td>\n",
       "      <td>United States</td>\n",
       "      <td>AS</td>\n",
       "      <td>ASM</td>\n",
       "      <td>016</td>\n",
       "      <td>ISO 3166-2:AS</td>\n",
       "      <td>.as</td>\n",
       "    </tr>\n",
       "    <tr>\n",
       "      <th>...</th>\n",
       "      <td>...</td>\n",
       "      <td>...</td>\n",
       "      <td>...</td>\n",
       "      <td>...</td>\n",
       "      <td>...</td>\n",
       "      <td>...</td>\n",
       "      <td>...</td>\n",
       "      <td>...</td>\n",
       "    </tr>\n",
       "    <tr>\n",
       "      <th>266</th>\n",
       "      <td>Wallis and Futuna</td>\n",
       "      <td>the Territory of the Wallis and Futuna Islands</td>\n",
       "      <td>France</td>\n",
       "      <td>WF</td>\n",
       "      <td>WLF</td>\n",
       "      <td>876</td>\n",
       "      <td>ISO 3166-2:WF</td>\n",
       "      <td>.wf</td>\n",
       "    </tr>\n",
       "    <tr>\n",
       "      <th>267</th>\n",
       "      <td>Western Sahara [an]</td>\n",
       "      <td>the Sahrawi Arab Democratic Republic[c][d]</td>\n",
       "      <td>Disputed [ao]</td>\n",
       "      <td>EH</td>\n",
       "      <td>ESH</td>\n",
       "      <td>732</td>\n",
       "      <td>ISO 3166-2:EH</td>\n",
       "      <td>[ap]</td>\n",
       "    </tr>\n",
       "    <tr>\n",
       "      <th>268</th>\n",
       "      <td>Yemen</td>\n",
       "      <td>the Republic of Yemen</td>\n",
       "      <td>UN member</td>\n",
       "      <td>YE</td>\n",
       "      <td>YEM</td>\n",
       "      <td>887</td>\n",
       "      <td>ISO 3166-2:YE</td>\n",
       "      <td>.ye</td>\n",
       "    </tr>\n",
       "    <tr>\n",
       "      <th>269</th>\n",
       "      <td>Zambia</td>\n",
       "      <td>the Republic of Zambia</td>\n",
       "      <td>UN member</td>\n",
       "      <td>ZM</td>\n",
       "      <td>ZMB</td>\n",
       "      <td>894</td>\n",
       "      <td>ISO 3166-2:ZM</td>\n",
       "      <td>.zm</td>\n",
       "    </tr>\n",
       "    <tr>\n",
       "      <th>270</th>\n",
       "      <td>Zimbabwe</td>\n",
       "      <td>the Republic of Zimbabwe</td>\n",
       "      <td>UN member</td>\n",
       "      <td>ZW</td>\n",
       "      <td>ZWE</td>\n",
       "      <td>716</td>\n",
       "      <td>ISO 3166-2:ZW</td>\n",
       "      <td>.zw</td>\n",
       "    </tr>\n",
       "  </tbody>\n",
       "</table>\n",
       "<p>271 rows × 8 columns</p>\n",
       "</div>"
      ],
      "text/plain": [
       "     ISO 3166[1] name[5]                       Official state name[6][a] Sovereignty [6][7][8] ISO 3166-1[2]                  ISO 3166-2[3] subdivision codes link TLD [9]\n",
       "     ISO 3166[1] name[5]                       Official state name[6][a] Sovereignty [6][7][8]       A-2 [5] A-3 [5] Num. [5] ISO 3166-2[3] subdivision codes link TLD [9]\n",
       "0            Afghanistan          the Islamic Republic of Afghanistan[b]             UN member            AF     AFG      004                        ISO 3166-2:AF     .af\n",
       "1          Åland Islands                                     Åland[c][d]               Finland            AX     ALA      248                        ISO 3166-2:AX     .ax\n",
       "2                Albania                         the Republic of Albania             UN member            AL     ALB      008                        ISO 3166-2:AL     .al\n",
       "3                Algeria     the People's Democratic Republic of Algeria             UN member            DZ     DZA      012                        ISO 3166-2:DZ     .dz\n",
       "4         American Samoa                               American Samoa[c]         United States            AS     ASM      016                        ISO 3166-2:AS     .as\n",
       "..                   ...                                             ...                   ...           ...     ...      ...                                  ...     ...\n",
       "266    Wallis and Futuna  the Territory of the Wallis and Futuna Islands                France            WF     WLF      876                        ISO 3166-2:WF     .wf\n",
       "267  Western Sahara [an]      the Sahrawi Arab Democratic Republic[c][d]         Disputed [ao]            EH     ESH      732                        ISO 3166-2:EH    [ap]\n",
       "268                Yemen                           the Republic of Yemen             UN member            YE     YEM      887                        ISO 3166-2:YE     .ye\n",
       "269               Zambia                          the Republic of Zambia             UN member            ZM     ZMB      894                        ISO 3166-2:ZM     .zm\n",
       "270             Zimbabwe                        the Republic of Zimbabwe             UN member            ZW     ZWE      716                        ISO 3166-2:ZW     .zw\n",
       "\n",
       "[271 rows x 8 columns]"
      ]
     },
     "execution_count": 33,
     "metadata": {},
     "output_type": "execute_result"
    }
   ],
   "source": [
    "isocodes = pd.read_html(url, encoding='utf-8')[0]\n",
    "isocodes"
   ]
  },
  {
   "cell_type": "markdown",
   "metadata": {
    "slideshow": {
     "slide_type": "subslide"
    }
   },
   "source": [
    "## Not perfect, but we can correct it and make it look nice"
   ]
  },
  {
   "cell_type": "code",
   "execution_count": 34,
   "metadata": {
    "slideshow": {
     "slide_type": "fragment"
    },
    "tags": []
   },
   "outputs": [
    {
     "data": {
      "text/plain": [
       "MultiIndex([(                 'ISO 3166[1] name[5]',                  'ISO 3166[1] name[5]'),\n",
       "            (           'Official state name[6][a]',            'Official state name[6][a]'),\n",
       "            (               'Sovereignty [6][7][8]',                'Sovereignty [6][7][8]'),\n",
       "            (                       'ISO 3166-1[2]',                              'A-2 [5]'),\n",
       "            (                       'ISO 3166-1[2]',                              'A-3 [5]'),\n",
       "            (                       'ISO 3166-1[2]',                             'Num. [5]'),\n",
       "            ('ISO 3166-2[3] subdivision codes link', 'ISO 3166-2[3] subdivision codes link'),\n",
       "            (                             'TLD [9]',                              'TLD [9]')],\n",
       "           )"
      ]
     },
     "execution_count": 34,
     "metadata": {},
     "output_type": "execute_result"
    }
   ],
   "source": [
    "isocodes.columns"
   ]
  },
  {
   "cell_type": "markdown",
   "metadata": {
    "slideshow": {
     "slide_type": "subslide"
    }
   },
   "source": [
    "## First, let's drop the first column index"
   ]
  },
  {
   "cell_type": "code",
   "execution_count": 35,
   "metadata": {
    "slideshow": {
     "slide_type": "fragment"
    },
    "tags": []
   },
   "outputs": [
    {
     "data": {
      "text/html": [
       "<div>\n",
       "<style scoped>\n",
       "    .dataframe tbody tr th:only-of-type {\n",
       "        vertical-align: middle;\n",
       "    }\n",
       "\n",
       "    .dataframe tbody tr th {\n",
       "        vertical-align: top;\n",
       "    }\n",
       "\n",
       "    .dataframe thead th {\n",
       "        text-align: right;\n",
       "    }\n",
       "</style>\n",
       "<table border=\"1\" class=\"dataframe\">\n",
       "  <thead>\n",
       "    <tr style=\"text-align: right;\">\n",
       "      <th></th>\n",
       "      <th>ISO 3166[1] name[5]</th>\n",
       "      <th>Official state name[6][a]</th>\n",
       "      <th>Sovereignty [6][7][8]</th>\n",
       "      <th>A-2 [5]</th>\n",
       "      <th>A-3 [5]</th>\n",
       "      <th>Num. [5]</th>\n",
       "      <th>ISO 3166-2[3] subdivision codes link</th>\n",
       "      <th>TLD [9]</th>\n",
       "    </tr>\n",
       "  </thead>\n",
       "  <tbody>\n",
       "    <tr>\n",
       "      <th>0</th>\n",
       "      <td>Afghanistan</td>\n",
       "      <td>the Islamic Republic of Afghanistan[b]</td>\n",
       "      <td>UN member</td>\n",
       "      <td>AF</td>\n",
       "      <td>AFG</td>\n",
       "      <td>004</td>\n",
       "      <td>ISO 3166-2:AF</td>\n",
       "      <td>.af</td>\n",
       "    </tr>\n",
       "    <tr>\n",
       "      <th>1</th>\n",
       "      <td>Åland Islands</td>\n",
       "      <td>Åland[c][d]</td>\n",
       "      <td>Finland</td>\n",
       "      <td>AX</td>\n",
       "      <td>ALA</td>\n",
       "      <td>248</td>\n",
       "      <td>ISO 3166-2:AX</td>\n",
       "      <td>.ax</td>\n",
       "    </tr>\n",
       "    <tr>\n",
       "      <th>2</th>\n",
       "      <td>Albania</td>\n",
       "      <td>the Republic of Albania</td>\n",
       "      <td>UN member</td>\n",
       "      <td>AL</td>\n",
       "      <td>ALB</td>\n",
       "      <td>008</td>\n",
       "      <td>ISO 3166-2:AL</td>\n",
       "      <td>.al</td>\n",
       "    </tr>\n",
       "    <tr>\n",
       "      <th>3</th>\n",
       "      <td>Algeria</td>\n",
       "      <td>the People's Democratic Republic of Algeria</td>\n",
       "      <td>UN member</td>\n",
       "      <td>DZ</td>\n",
       "      <td>DZA</td>\n",
       "      <td>012</td>\n",
       "      <td>ISO 3166-2:DZ</td>\n",
       "      <td>.dz</td>\n",
       "    </tr>\n",
       "    <tr>\n",
       "      <th>4</th>\n",
       "      <td>American Samoa</td>\n",
       "      <td>American Samoa[c]</td>\n",
       "      <td>United States</td>\n",
       "      <td>AS</td>\n",
       "      <td>ASM</td>\n",
       "      <td>016</td>\n",
       "      <td>ISO 3166-2:AS</td>\n",
       "      <td>.as</td>\n",
       "    </tr>\n",
       "  </tbody>\n",
       "</table>\n",
       "</div>"
      ],
      "text/plain": [
       "  ISO 3166[1] name[5]                    Official state name[6][a] Sovereignty [6][7][8] A-2 [5] A-3 [5] Num. [5] ISO 3166-2[3] subdivision codes link TLD [9]\n",
       "0         Afghanistan       the Islamic Republic of Afghanistan[b]             UN member      AF     AFG      004                        ISO 3166-2:AF     .af\n",
       "1       Åland Islands                                  Åland[c][d]               Finland      AX     ALA      248                        ISO 3166-2:AX     .ax\n",
       "2             Albania                      the Republic of Albania             UN member      AL     ALB      008                        ISO 3166-2:AL     .al\n",
       "3             Algeria  the People's Democratic Republic of Algeria             UN member      DZ     DZA      012                        ISO 3166-2:DZ     .dz\n",
       "4      American Samoa                            American Samoa[c]         United States      AS     ASM      016                        ISO 3166-2:AS     .as"
      ]
     },
     "execution_count": 35,
     "metadata": {},
     "output_type": "execute_result"
    }
   ],
   "source": [
    "isocodes = isocodes.droplevel(0, axis=1)\n",
    "isocodes.head()"
   ]
  },
  {
   "cell_type": "markdown",
   "metadata": {
    "slideshow": {
     "slide_type": "subslide"
    }
   },
   "source": [
    "## Second, let's correct column names"
   ]
  },
  {
   "cell_type": "code",
   "execution_count": 36,
   "metadata": {
    "slideshow": {
     "slide_type": "fragment"
    },
    "tags": []
   },
   "outputs": [
    {
     "data": {
      "text/plain": [
       "['ISO 3166',\n",
       " 'Official state name',\n",
       " 'Sovereignty',\n",
       " 'A-2',\n",
       " 'A-3',\n",
       " 'Num.',\n",
       " 'ISO 3166-2',\n",
       " 'TLD']"
      ]
     },
     "execution_count": 36,
     "metadata": {},
     "output_type": "execute_result"
    }
   ],
   "source": [
    "mycols = isocodes.columns\n",
    "mycols = [c[:c.find('[')].strip() for c in mycols]\n",
    "mycols"
   ]
  },
  {
   "cell_type": "code",
   "execution_count": 37,
   "metadata": {
    "slideshow": {
     "slide_type": "subslide"
    },
    "tags": []
   },
   "outputs": [
    {
     "data": {
      "text/html": [
       "<div>\n",
       "<style scoped>\n",
       "    .dataframe tbody tr th:only-of-type {\n",
       "        vertical-align: middle;\n",
       "    }\n",
       "\n",
       "    .dataframe tbody tr th {\n",
       "        vertical-align: top;\n",
       "    }\n",
       "\n",
       "    .dataframe thead th {\n",
       "        text-align: right;\n",
       "    }\n",
       "</style>\n",
       "<table border=\"1\" class=\"dataframe\">\n",
       "  <thead>\n",
       "    <tr style=\"text-align: right;\">\n",
       "      <th></th>\n",
       "      <th>ISO 3166</th>\n",
       "      <th>Official state name</th>\n",
       "      <th>Sovereignty</th>\n",
       "      <th>A-2</th>\n",
       "      <th>A-3</th>\n",
       "      <th>Num.</th>\n",
       "      <th>ISO 3166-2</th>\n",
       "      <th>TLD</th>\n",
       "    </tr>\n",
       "  </thead>\n",
       "  <tbody>\n",
       "    <tr>\n",
       "      <th>0</th>\n",
       "      <td>Afghanistan</td>\n",
       "      <td>the Islamic Republic of Afghanistan[b]</td>\n",
       "      <td>UN member</td>\n",
       "      <td>AF</td>\n",
       "      <td>AFG</td>\n",
       "      <td>004</td>\n",
       "      <td>ISO 3166-2:AF</td>\n",
       "      <td>.af</td>\n",
       "    </tr>\n",
       "    <tr>\n",
       "      <th>1</th>\n",
       "      <td>Åland Islands</td>\n",
       "      <td>Åland[c][d]</td>\n",
       "      <td>Finland</td>\n",
       "      <td>AX</td>\n",
       "      <td>ALA</td>\n",
       "      <td>248</td>\n",
       "      <td>ISO 3166-2:AX</td>\n",
       "      <td>.ax</td>\n",
       "    </tr>\n",
       "    <tr>\n",
       "      <th>2</th>\n",
       "      <td>Albania</td>\n",
       "      <td>the Republic of Albania</td>\n",
       "      <td>UN member</td>\n",
       "      <td>AL</td>\n",
       "      <td>ALB</td>\n",
       "      <td>008</td>\n",
       "      <td>ISO 3166-2:AL</td>\n",
       "      <td>.al</td>\n",
       "    </tr>\n",
       "    <tr>\n",
       "      <th>3</th>\n",
       "      <td>Algeria</td>\n",
       "      <td>the People's Democratic Republic of Algeria</td>\n",
       "      <td>UN member</td>\n",
       "      <td>DZ</td>\n",
       "      <td>DZA</td>\n",
       "      <td>012</td>\n",
       "      <td>ISO 3166-2:DZ</td>\n",
       "      <td>.dz</td>\n",
       "    </tr>\n",
       "    <tr>\n",
       "      <th>4</th>\n",
       "      <td>American Samoa</td>\n",
       "      <td>American Samoa[c]</td>\n",
       "      <td>United States</td>\n",
       "      <td>AS</td>\n",
       "      <td>ASM</td>\n",
       "      <td>016</td>\n",
       "      <td>ISO 3166-2:AS</td>\n",
       "      <td>.as</td>\n",
       "    </tr>\n",
       "  </tbody>\n",
       "</table>\n",
       "</div>"
      ],
      "text/plain": [
       "         ISO 3166                          Official state name    Sovereignty A-2  A-3 Num.     ISO 3166-2  TLD\n",
       "0     Afghanistan       the Islamic Republic of Afghanistan[b]      UN member  AF  AFG  004  ISO 3166-2:AF  .af\n",
       "1   Åland Islands                                  Åland[c][d]        Finland  AX  ALA  248  ISO 3166-2:AX  .ax\n",
       "2         Albania                      the Republic of Albania      UN member  AL  ALB  008  ISO 3166-2:AL  .al\n",
       "3         Algeria  the People's Democratic Republic of Algeria      UN member  DZ  DZA  012  ISO 3166-2:DZ  .dz\n",
       "4  American Samoa                            American Samoa[c]  United States  AS  ASM  016  ISO 3166-2:AS  .as"
      ]
     },
     "execution_count": 37,
     "metadata": {},
     "output_type": "execute_result"
    }
   ],
   "source": [
    "isocodes.columns = mycols\n",
    "isocodes.head()"
   ]
  },
  {
   "cell_type": "markdown",
   "metadata": {
    "slideshow": {
     "slide_type": "subslide"
    }
   },
   "source": [
    "## Third, let's correct `Alpha-2 code` using `ISO 3166-2`"
   ]
  },
  {
   "cell_type": "code",
   "execution_count": 38,
   "metadata": {
    "slideshow": {
     "slide_type": "fragment"
    },
    "tags": []
   },
   "outputs": [
    {
     "data": {
      "text/html": [
       "<div>\n",
       "<style scoped>\n",
       "    .dataframe tbody tr th:only-of-type {\n",
       "        vertical-align: middle;\n",
       "    }\n",
       "\n",
       "    .dataframe tbody tr th {\n",
       "        vertical-align: top;\n",
       "    }\n",
       "\n",
       "    .dataframe thead th {\n",
       "        text-align: right;\n",
       "    }\n",
       "</style>\n",
       "<table border=\"1\" class=\"dataframe\">\n",
       "  <thead>\n",
       "    <tr style=\"text-align: right;\">\n",
       "      <th></th>\n",
       "      <th>ISO 3166</th>\n",
       "      <th>Official state name</th>\n",
       "      <th>Sovereignty</th>\n",
       "      <th>A-2</th>\n",
       "      <th>A-3</th>\n",
       "      <th>Num.</th>\n",
       "      <th>ISO 3166-2</th>\n",
       "      <th>TLD</th>\n",
       "      <th>Alpha-2 code original</th>\n",
       "      <th>Alpha-2 code</th>\n",
       "    </tr>\n",
       "  </thead>\n",
       "  <tbody>\n",
       "    <tr>\n",
       "      <th>0</th>\n",
       "      <td>Afghanistan</td>\n",
       "      <td>the Islamic Republic of Afghanistan[b]</td>\n",
       "      <td>UN member</td>\n",
       "      <td>AF</td>\n",
       "      <td>AFG</td>\n",
       "      <td>004</td>\n",
       "      <td>ISO 3166-2:AF</td>\n",
       "      <td>.af</td>\n",
       "      <td>AF</td>\n",
       "      <td>AF</td>\n",
       "    </tr>\n",
       "    <tr>\n",
       "      <th>1</th>\n",
       "      <td>Åland Islands</td>\n",
       "      <td>Åland[c][d]</td>\n",
       "      <td>Finland</td>\n",
       "      <td>AX</td>\n",
       "      <td>ALA</td>\n",
       "      <td>248</td>\n",
       "      <td>ISO 3166-2:AX</td>\n",
       "      <td>.ax</td>\n",
       "      <td>AX</td>\n",
       "      <td>AX</td>\n",
       "    </tr>\n",
       "    <tr>\n",
       "      <th>2</th>\n",
       "      <td>Albania</td>\n",
       "      <td>the Republic of Albania</td>\n",
       "      <td>UN member</td>\n",
       "      <td>AL</td>\n",
       "      <td>ALB</td>\n",
       "      <td>008</td>\n",
       "      <td>ISO 3166-2:AL</td>\n",
       "      <td>.al</td>\n",
       "      <td>AL</td>\n",
       "      <td>AL</td>\n",
       "    </tr>\n",
       "    <tr>\n",
       "      <th>3</th>\n",
       "      <td>Algeria</td>\n",
       "      <td>the People's Democratic Republic of Algeria</td>\n",
       "      <td>UN member</td>\n",
       "      <td>DZ</td>\n",
       "      <td>DZA</td>\n",
       "      <td>012</td>\n",
       "      <td>ISO 3166-2:DZ</td>\n",
       "      <td>.dz</td>\n",
       "      <td>DZ</td>\n",
       "      <td>DZ</td>\n",
       "    </tr>\n",
       "    <tr>\n",
       "      <th>4</th>\n",
       "      <td>American Samoa</td>\n",
       "      <td>American Samoa[c]</td>\n",
       "      <td>United States</td>\n",
       "      <td>AS</td>\n",
       "      <td>ASM</td>\n",
       "      <td>016</td>\n",
       "      <td>ISO 3166-2:AS</td>\n",
       "      <td>.as</td>\n",
       "      <td>AS</td>\n",
       "      <td>AS</td>\n",
       "    </tr>\n",
       "  </tbody>\n",
       "</table>\n",
       "</div>"
      ],
      "text/plain": [
       "         ISO 3166                          Official state name    Sovereignty A-2  A-3 Num.     ISO 3166-2  TLD Alpha-2 code original Alpha-2 code\n",
       "0     Afghanistan       the Islamic Republic of Afghanistan[b]      UN member  AF  AFG  004  ISO 3166-2:AF  .af                    AF           AF\n",
       "1   Åland Islands                                  Åland[c][d]        Finland  AX  ALA  248  ISO 3166-2:AX  .ax                    AX           AX\n",
       "2         Albania                      the Republic of Albania      UN member  AL  ALB  008  ISO 3166-2:AL  .al                    AL           AL\n",
       "3         Algeria  the People's Democratic Republic of Algeria      UN member  DZ  DZA  012  ISO 3166-2:DZ  .dz                    DZ           DZ\n",
       "4  American Samoa                            American Samoa[c]  United States  AS  ASM  016  ISO 3166-2:AS  .as                    AS           AS"
      ]
     },
     "execution_count": 38,
     "metadata": {},
     "output_type": "execute_result"
    }
   ],
   "source": [
    "isocodes['Alpha-2 code original'] = isocodes['A-2']\n",
    "isocodes['Alpha-2 code'] = isocodes['ISO 3166-2'].apply(lambda x: x[x.find(':')+1:])\n",
    "isocodes.head()"
   ]
  },
  {
   "cell_type": "markdown",
   "metadata": {
    "slideshow": {
     "slide_type": "subslide"
    }
   },
   "source": [
    "## Now, let's import the table of countries' GDP per capita (PPP) from [Wikipedia](https://en.wikipedia.org/wiki/List_of_countries_by_GDP_(PPP)_per_capita)"
   ]
  },
  {
   "cell_type": "code",
   "execution_count": 39,
   "metadata": {
    "slideshow": {
     "slide_type": "subslide"
    },
    "tags": []
   },
   "outputs": [
    {
     "data": {
      "text/html": [
       "\n",
       "        <iframe\n",
       "            width=\"800\"\n",
       "            height=\"400\"\n",
       "            src=\"https://en.wikipedia.org/wiki/List_of_countries_by_GDP_(PPP)_per_capita\"\n",
       "            frameborder=\"0\"\n",
       "            allowfullscreen\n",
       "            \n",
       "        ></iframe>\n",
       "        "
      ],
      "text/plain": [
       "<IPython.lib.display.IFrame at 0x11b765b50>"
      ]
     },
     "execution_count": 39,
     "metadata": {},
     "output_type": "execute_result"
    }
   ],
   "source": [
    "url = 'https://en.wikipedia.org/wiki/List_of_countries_by_GDP_(PPP)_per_capita'\n",
    "IFrame(url, width=800, height=400)"
   ]
  },
  {
   "cell_type": "code",
   "execution_count": 40,
   "metadata": {
    "slideshow": {
     "slide_type": "subslide"
    },
    "tags": []
   },
   "outputs": [
    {
     "data": {
      "text/html": [
       "<div>\n",
       "<style scoped>\n",
       "    .dataframe tbody tr th:only-of-type {\n",
       "        vertical-align: middle;\n",
       "    }\n",
       "\n",
       "    .dataframe tbody tr th {\n",
       "        vertical-align: top;\n",
       "    }\n",
       "\n",
       "    .dataframe thead tr th {\n",
       "        text-align: left;\n",
       "    }\n",
       "</style>\n",
       "<table border=\"1\" class=\"dataframe\">\n",
       "  <thead>\n",
       "    <tr>\n",
       "      <th></th>\n",
       "      <th>Country/Territory</th>\n",
       "      <th colspan=\"2\" halign=\"left\">IMF[5][6]</th>\n",
       "      <th colspan=\"2\" halign=\"left\">World Bank[7]</th>\n",
       "      <th colspan=\"2\" halign=\"left\">CIA[8][9][10]</th>\n",
       "    </tr>\n",
       "    <tr>\n",
       "      <th></th>\n",
       "      <th>Country/Territory</th>\n",
       "      <th>Projection</th>\n",
       "      <th>Year</th>\n",
       "      <th>Estimate</th>\n",
       "      <th>Year</th>\n",
       "      <th>Estimate</th>\n",
       "      <th>Year</th>\n",
       "    </tr>\n",
       "  </thead>\n",
       "  <tbody>\n",
       "    <tr>\n",
       "      <th>0</th>\n",
       "      <td>Luxembourg *</td>\n",
       "      <td>151146</td>\n",
       "      <td>2024</td>\n",
       "      <td>143342</td>\n",
       "      <td>2023</td>\n",
       "      <td>115700</td>\n",
       "      <td>2021</td>\n",
       "    </tr>\n",
       "    <tr>\n",
       "      <th>1</th>\n",
       "      <td>Singapore *</td>\n",
       "      <td>148186</td>\n",
       "      <td>2024</td>\n",
       "      <td>141500</td>\n",
       "      <td>2023</td>\n",
       "      <td>106000</td>\n",
       "      <td>2021</td>\n",
       "    </tr>\n",
       "    <tr>\n",
       "      <th>2</th>\n",
       "      <td>Liechtenstein *</td>\n",
       "      <td>—</td>\n",
       "      <td>—</td>\n",
       "      <td>—</td>\n",
       "      <td>—</td>\n",
       "      <td>139100</td>\n",
       "      <td>2009</td>\n",
       "    </tr>\n",
       "    <tr>\n",
       "      <th>3</th>\n",
       "      <td>Macau *</td>\n",
       "      <td>130417</td>\n",
       "      <td>2024</td>\n",
       "      <td>113183</td>\n",
       "      <td>2023</td>\n",
       "      <td>64800</td>\n",
       "      <td>2021</td>\n",
       "    </tr>\n",
       "    <tr>\n",
       "      <th>4</th>\n",
       "      <td>Ireland *</td>\n",
       "      <td>127750</td>\n",
       "      <td>2024</td>\n",
       "      <td>127623</td>\n",
       "      <td>2023</td>\n",
       "      <td>102500</td>\n",
       "      <td>2021</td>\n",
       "    </tr>\n",
       "    <tr>\n",
       "      <th>...</th>\n",
       "      <td>...</td>\n",
       "      <td>...</td>\n",
       "      <td>...</td>\n",
       "      <td>...</td>\n",
       "      <td>...</td>\n",
       "      <td>...</td>\n",
       "      <td>...</td>\n",
       "    </tr>\n",
       "    <tr>\n",
       "      <th>225</th>\n",
       "      <td>Malawi *</td>\n",
       "      <td>1714</td>\n",
       "      <td>2024</td>\n",
       "      <td>1868</td>\n",
       "      <td>2023</td>\n",
       "      <td>1500</td>\n",
       "      <td>2021</td>\n",
       "    </tr>\n",
       "    <tr>\n",
       "      <th>226</th>\n",
       "      <td>North Korea *</td>\n",
       "      <td>—</td>\n",
       "      <td>—</td>\n",
       "      <td>—</td>\n",
       "      <td>—</td>\n",
       "      <td>1700</td>\n",
       "      <td>2015</td>\n",
       "    </tr>\n",
       "    <tr>\n",
       "      <th>227</th>\n",
       "      <td>Central African Republic *</td>\n",
       "      <td>1296</td>\n",
       "      <td>2024</td>\n",
       "      <td>1130</td>\n",
       "      <td>2023</td>\n",
       "      <td>800</td>\n",
       "      <td>2021</td>\n",
       "    </tr>\n",
       "    <tr>\n",
       "      <th>228</th>\n",
       "      <td>Burundi *</td>\n",
       "      <td>986</td>\n",
       "      <td>2024</td>\n",
       "      <td>951</td>\n",
       "      <td>2023</td>\n",
       "      <td>700</td>\n",
       "      <td>2021</td>\n",
       "    </tr>\n",
       "    <tr>\n",
       "      <th>229</th>\n",
       "      <td>South Sudan *</td>\n",
       "      <td>763</td>\n",
       "      <td>2024</td>\n",
       "      <td>1146</td>\n",
       "      <td>2015</td>\n",
       "      <td>1600</td>\n",
       "      <td>2017</td>\n",
       "    </tr>\n",
       "  </tbody>\n",
       "</table>\n",
       "<p>230 rows × 7 columns</p>\n",
       "</div>"
      ],
      "text/plain": [
       "              Country/Territory  IMF[5][6]       World Bank[7]       CIA[8][9][10]      \n",
       "              Country/Territory Projection  Year      Estimate  Year      Estimate  Year\n",
       "0                  Luxembourg *     151146  2024        143342  2023        115700  2021\n",
       "1                   Singapore *     148186  2024        141500  2023        106000  2021\n",
       "2               Liechtenstein *          —     —             —     —        139100  2009\n",
       "3                       Macau *     130417  2024        113183  2023         64800  2021\n",
       "4                     Ireland *     127750  2024        127623  2023        102500  2021\n",
       "..                          ...        ...   ...           ...   ...           ...   ...\n",
       "225                    Malawi *       1714  2024          1868  2023          1500  2021\n",
       "226               North Korea *          —     —             —     —          1700  2015\n",
       "227  Central African Republic *       1296  2024          1130  2023           800  2021\n",
       "228                   Burundi *        986  2024           951  2023           700  2021\n",
       "229               South Sudan *        763  2024          1146  2015          1600  2017\n",
       "\n",
       "[230 rows x 7 columns]"
      ]
     },
     "execution_count": 40,
     "metadata": {},
     "output_type": "execute_result"
    }
   ],
   "source": [
    "gdppc_wiki = pd.read_html(url, encoding='utf-8')[1]\n",
    "gdppc_wiki"
   ]
  },
  {
   "cell_type": "markdown",
   "metadata": {
    "slideshow": {
     "slide_type": "subslide"
    },
    "tags": []
   },
   "source": [
    "## Again we need to clean the data a little bit"
   ]
  },
  {
   "cell_type": "code",
   "execution_count": 41,
   "metadata": {
    "slideshow": {
     "slide_type": "fragment"
    },
    "tags": []
   },
   "outputs": [
    {
     "data": {
      "text/html": [
       "<div>\n",
       "<style scoped>\n",
       "    .dataframe tbody tr th:only-of-type {\n",
       "        vertical-align: middle;\n",
       "    }\n",
       "\n",
       "    .dataframe tbody tr th {\n",
       "        vertical-align: top;\n",
       "    }\n",
       "\n",
       "    .dataframe thead th {\n",
       "        text-align: right;\n",
       "    }\n",
       "</style>\n",
       "<table border=\"1\" class=\"dataframe\">\n",
       "  <thead>\n",
       "    <tr style=\"text-align: right;\">\n",
       "      <th></th>\n",
       "      <th>Country/Territory</th>\n",
       "      <th>gdppc_IMF</th>\n",
       "      <th>year_IMF</th>\n",
       "      <th>gdppc_WB</th>\n",
       "      <th>year_WB</th>\n",
       "      <th>gdppc_CIA</th>\n",
       "      <th>year_CIA</th>\n",
       "    </tr>\n",
       "  </thead>\n",
       "  <tbody>\n",
       "    <tr>\n",
       "      <th>0</th>\n",
       "      <td>Luxembourg *</td>\n",
       "      <td>151146</td>\n",
       "      <td>2024</td>\n",
       "      <td>143342</td>\n",
       "      <td>2023</td>\n",
       "      <td>115700</td>\n",
       "      <td>2021</td>\n",
       "    </tr>\n",
       "    <tr>\n",
       "      <th>1</th>\n",
       "      <td>Singapore *</td>\n",
       "      <td>148186</td>\n",
       "      <td>2024</td>\n",
       "      <td>141500</td>\n",
       "      <td>2023</td>\n",
       "      <td>106000</td>\n",
       "      <td>2021</td>\n",
       "    </tr>\n",
       "    <tr>\n",
       "      <th>2</th>\n",
       "      <td>Liechtenstein *</td>\n",
       "      <td>—</td>\n",
       "      <td>—</td>\n",
       "      <td>—</td>\n",
       "      <td>—</td>\n",
       "      <td>139100</td>\n",
       "      <td>2009</td>\n",
       "    </tr>\n",
       "    <tr>\n",
       "      <th>3</th>\n",
       "      <td>Macau *</td>\n",
       "      <td>130417</td>\n",
       "      <td>2024</td>\n",
       "      <td>113183</td>\n",
       "      <td>2023</td>\n",
       "      <td>64800</td>\n",
       "      <td>2021</td>\n",
       "    </tr>\n",
       "    <tr>\n",
       "      <th>4</th>\n",
       "      <td>Ireland *</td>\n",
       "      <td>127750</td>\n",
       "      <td>2024</td>\n",
       "      <td>127623</td>\n",
       "      <td>2023</td>\n",
       "      <td>102500</td>\n",
       "      <td>2021</td>\n",
       "    </tr>\n",
       "  </tbody>\n",
       "</table>\n",
       "</div>"
      ],
      "text/plain": [
       "  Country/Territory gdppc_IMF year_IMF gdppc_WB year_WB  gdppc_CIA year_CIA\n",
       "0      Luxembourg *    151146     2024   143342    2023     115700     2021\n",
       "1       Singapore *    148186     2024   141500    2023     106000     2021\n",
       "2   Liechtenstein *         —        —        —       —     139100     2009\n",
       "3           Macau *    130417     2024   113183    2023      64800     2021\n",
       "4         Ireland *    127750     2024   127623    2023     102500     2021"
      ]
     },
     "execution_count": 41,
     "metadata": {},
     "output_type": "execute_result"
    }
   ],
   "source": [
    "gdppc_wiki.columns = ['Country/Territory', 'gdppc_IMF', 'year_IMF',\n",
    "                      'gdppc_WB', 'year_WB', 'gdppc_CIA', 'year_CIA']\n",
    "gdppc_wiki.head()"
   ]
  },
  {
   "cell_type": "markdown",
   "metadata": {
    "slideshow": {
     "slide_type": "subslide"
    },
    "tags": []
   },
   "source": [
    "## Let's eliminate the * in the country names"
   ]
  },
  {
   "cell_type": "code",
   "execution_count": 42,
   "metadata": {
    "slideshow": {
     "slide_type": "fragment"
    },
    "tags": []
   },
   "outputs": [
    {
     "data": {
      "text/html": [
       "<div>\n",
       "<style scoped>\n",
       "    .dataframe tbody tr th:only-of-type {\n",
       "        vertical-align: middle;\n",
       "    }\n",
       "\n",
       "    .dataframe tbody tr th {\n",
       "        vertical-align: top;\n",
       "    }\n",
       "\n",
       "    .dataframe thead th {\n",
       "        text-align: right;\n",
       "    }\n",
       "</style>\n",
       "<table border=\"1\" class=\"dataframe\">\n",
       "  <thead>\n",
       "    <tr style=\"text-align: right;\">\n",
       "      <th></th>\n",
       "      <th>Country/Territory</th>\n",
       "      <th>gdppc_IMF</th>\n",
       "      <th>year_IMF</th>\n",
       "      <th>gdppc_WB</th>\n",
       "      <th>year_WB</th>\n",
       "      <th>gdppc_CIA</th>\n",
       "      <th>year_CIA</th>\n",
       "      <th>country_name</th>\n",
       "    </tr>\n",
       "  </thead>\n",
       "  <tbody>\n",
       "    <tr>\n",
       "      <th>0</th>\n",
       "      <td>Luxembourg *</td>\n",
       "      <td>151146</td>\n",
       "      <td>2024</td>\n",
       "      <td>143342</td>\n",
       "      <td>2023</td>\n",
       "      <td>115700</td>\n",
       "      <td>2021</td>\n",
       "      <td>Luxembourg</td>\n",
       "    </tr>\n",
       "    <tr>\n",
       "      <th>1</th>\n",
       "      <td>Singapore *</td>\n",
       "      <td>148186</td>\n",
       "      <td>2024</td>\n",
       "      <td>141500</td>\n",
       "      <td>2023</td>\n",
       "      <td>106000</td>\n",
       "      <td>2021</td>\n",
       "      <td>Singapore</td>\n",
       "    </tr>\n",
       "    <tr>\n",
       "      <th>2</th>\n",
       "      <td>Liechtenstein *</td>\n",
       "      <td>—</td>\n",
       "      <td>—</td>\n",
       "      <td>—</td>\n",
       "      <td>—</td>\n",
       "      <td>139100</td>\n",
       "      <td>2009</td>\n",
       "      <td>Liechtenstein</td>\n",
       "    </tr>\n",
       "    <tr>\n",
       "      <th>3</th>\n",
       "      <td>Macau *</td>\n",
       "      <td>130417</td>\n",
       "      <td>2024</td>\n",
       "      <td>113183</td>\n",
       "      <td>2023</td>\n",
       "      <td>64800</td>\n",
       "      <td>2021</td>\n",
       "      <td>Macau</td>\n",
       "    </tr>\n",
       "    <tr>\n",
       "      <th>4</th>\n",
       "      <td>Ireland *</td>\n",
       "      <td>127750</td>\n",
       "      <td>2024</td>\n",
       "      <td>127623</td>\n",
       "      <td>2023</td>\n",
       "      <td>102500</td>\n",
       "      <td>2021</td>\n",
       "      <td>Ireland</td>\n",
       "    </tr>\n",
       "  </tbody>\n",
       "</table>\n",
       "</div>"
      ],
      "text/plain": [
       "  Country/Territory gdppc_IMF year_IMF gdppc_WB year_WB  gdppc_CIA year_CIA   country_name\n",
       "0      Luxembourg *    151146     2024   143342    2023     115700     2021     Luxembourg\n",
       "1       Singapore *    148186     2024   141500    2023     106000     2021      Singapore\n",
       "2   Liechtenstein *         —        —        —       —     139100     2009  Liechtenstein\n",
       "3           Macau *    130417     2024   113183    2023      64800     2021          Macau\n",
       "4         Ireland *    127750     2024   127623    2023     102500     2021        Ireland"
      ]
     },
     "execution_count": 42,
     "metadata": {},
     "output_type": "execute_result"
    }
   ],
   "source": [
    "gdppc_wiki['country_name'] = gdppc_wiki['Country/Territory'].str.replace('*', '').str.strip()\n",
    "gdppc_wiki.head()"
   ]
  },
  {
   "cell_type": "markdown",
   "metadata": {
    "slideshow": {
     "slide_type": "subslide"
    },
    "tags": []
   },
   "source": [
    "# Let's make sure years and GDPpc columns are treated as numbers"
   ]
  },
  {
   "cell_type": "code",
   "execution_count": 43,
   "metadata": {
    "scrolled": true,
    "slideshow": {
     "slide_type": "fragment"
    },
    "tags": []
   },
   "outputs": [
    {
     "data": {
      "text/plain": [
       "Country/Territory    object\n",
       "gdppc_IMF            object\n",
       "year_IMF             object\n",
       "gdppc_WB             object\n",
       "year_WB              object\n",
       "gdppc_CIA             int64\n",
       "year_CIA             object\n",
       "country_name         object\n",
       "dtype: object"
      ]
     },
     "execution_count": 43,
     "metadata": {},
     "output_type": "execute_result"
    }
   ],
   "source": [
    "gdppc_wiki.dtypes"
   ]
  },
  {
   "cell_type": "code",
   "execution_count": 44,
   "metadata": {
    "slideshow": {
     "slide_type": "subslide"
    },
    "tags": []
   },
   "outputs": [],
   "source": [
    "for c in gdppc_wiki.columns[1:-1]:\n",
    "    if gdppc_wiki[c].dtype=='O':\n",
    "        gdppc_wiki[c] = pd.to_numeric(gdppc_wiki[c].str.replace('—', 'nan'), errors='coerce')\n",
    "        if c.startswith('year'):\n",
    "            gdppc_wiki[c] = gdppc_wiki[c].astype('Int64')"
   ]
  },
  {
   "cell_type": "code",
   "execution_count": 45,
   "metadata": {
    "slideshow": {
     "slide_type": "subslide"
    },
    "tags": []
   },
   "outputs": [
    {
     "data": {
      "text/plain": [
       "Country/Territory     object\n",
       "gdppc_IMF            float64\n",
       "year_IMF               Int64\n",
       "gdppc_WB             float64\n",
       "year_WB                Int64\n",
       "gdppc_CIA              int64\n",
       "year_CIA               Int64\n",
       "country_name          object\n",
       "dtype: object"
      ]
     },
     "execution_count": 45,
     "metadata": {},
     "output_type": "execute_result"
    }
   ],
   "source": [
    "gdppc_wiki.dtypes"
   ]
  },
  {
   "cell_type": "markdown",
   "metadata": {
    "slideshow": {
     "slide_type": "subslide"
    },
    "tags": []
   },
   "source": [
    "## Let's try to merge the data from both dataframes"
   ]
  },
  {
   "cell_type": "code",
   "execution_count": 46,
   "metadata": {
    "slideshow": {
     "slide_type": "fragment"
    },
    "tags": []
   },
   "outputs": [
    {
     "data": {
      "text/html": [
       "<div>\n",
       "<style scoped>\n",
       "    .dataframe tbody tr th:only-of-type {\n",
       "        vertical-align: middle;\n",
       "    }\n",
       "\n",
       "    .dataframe tbody tr th {\n",
       "        vertical-align: top;\n",
       "    }\n",
       "\n",
       "    .dataframe thead th {\n",
       "        text-align: right;\n",
       "    }\n",
       "</style>\n",
       "<table border=\"1\" class=\"dataframe\">\n",
       "  <thead>\n",
       "    <tr style=\"text-align: right;\">\n",
       "      <th></th>\n",
       "      <th>ISO 3166</th>\n",
       "      <th>Official state name</th>\n",
       "      <th>Sovereignty</th>\n",
       "      <th>A-2</th>\n",
       "      <th>A-3</th>\n",
       "      <th>Num.</th>\n",
       "      <th>ISO 3166-2</th>\n",
       "      <th>TLD</th>\n",
       "      <th>Alpha-2 code original</th>\n",
       "      <th>Alpha-2 code</th>\n",
       "    </tr>\n",
       "  </thead>\n",
       "  <tbody>\n",
       "    <tr>\n",
       "      <th>0</th>\n",
       "      <td>Afghanistan</td>\n",
       "      <td>the Islamic Republic of Afghanistan[b]</td>\n",
       "      <td>UN member</td>\n",
       "      <td>AF</td>\n",
       "      <td>AFG</td>\n",
       "      <td>004</td>\n",
       "      <td>ISO 3166-2:AF</td>\n",
       "      <td>.af</td>\n",
       "      <td>AF</td>\n",
       "      <td>AF</td>\n",
       "    </tr>\n",
       "    <tr>\n",
       "      <th>1</th>\n",
       "      <td>Åland Islands</td>\n",
       "      <td>Åland[c][d]</td>\n",
       "      <td>Finland</td>\n",
       "      <td>AX</td>\n",
       "      <td>ALA</td>\n",
       "      <td>248</td>\n",
       "      <td>ISO 3166-2:AX</td>\n",
       "      <td>.ax</td>\n",
       "      <td>AX</td>\n",
       "      <td>AX</td>\n",
       "    </tr>\n",
       "  </tbody>\n",
       "</table>\n",
       "</div>"
      ],
      "text/plain": [
       "        ISO 3166                     Official state name Sovereignty A-2  A-3 Num.     ISO 3166-2  TLD Alpha-2 code original Alpha-2 code\n",
       "0    Afghanistan  the Islamic Republic of Afghanistan[b]   UN member  AF  AFG  004  ISO 3166-2:AF  .af                    AF           AF\n",
       "1  Åland Islands                             Åland[c][d]     Finland  AX  ALA  248  ISO 3166-2:AX  .ax                    AX           AX"
      ]
     },
     "execution_count": 46,
     "metadata": {},
     "output_type": "execute_result"
    }
   ],
   "source": [
    "isocodes.head(2)"
   ]
  },
  {
   "cell_type": "code",
   "execution_count": 47,
   "metadata": {
    "slideshow": {
     "slide_type": "fragment"
    },
    "tags": []
   },
   "outputs": [
    {
     "data": {
      "text/html": [
       "<div>\n",
       "<style scoped>\n",
       "    .dataframe tbody tr th:only-of-type {\n",
       "        vertical-align: middle;\n",
       "    }\n",
       "\n",
       "    .dataframe tbody tr th {\n",
       "        vertical-align: top;\n",
       "    }\n",
       "\n",
       "    .dataframe thead th {\n",
       "        text-align: right;\n",
       "    }\n",
       "</style>\n",
       "<table border=\"1\" class=\"dataframe\">\n",
       "  <thead>\n",
       "    <tr style=\"text-align: right;\">\n",
       "      <th></th>\n",
       "      <th>Country/Territory</th>\n",
       "      <th>gdppc_IMF</th>\n",
       "      <th>year_IMF</th>\n",
       "      <th>gdppc_WB</th>\n",
       "      <th>year_WB</th>\n",
       "      <th>gdppc_CIA</th>\n",
       "      <th>year_CIA</th>\n",
       "      <th>country_name</th>\n",
       "    </tr>\n",
       "  </thead>\n",
       "  <tbody>\n",
       "    <tr>\n",
       "      <th>0</th>\n",
       "      <td>Luxembourg *</td>\n",
       "      <td>151146.0</td>\n",
       "      <td>2024</td>\n",
       "      <td>143342.0</td>\n",
       "      <td>2023</td>\n",
       "      <td>115700</td>\n",
       "      <td>2021</td>\n",
       "      <td>Luxembourg</td>\n",
       "    </tr>\n",
       "  </tbody>\n",
       "</table>\n",
       "</div>"
      ],
      "text/plain": [
       "  Country/Territory  gdppc_IMF  year_IMF  gdppc_WB  year_WB  gdppc_CIA  year_CIA country_name\n",
       "0      Luxembourg *   151146.0      2024  143342.0     2023     115700      2021   Luxembourg"
      ]
     },
     "execution_count": 47,
     "metadata": {},
     "output_type": "execute_result"
    }
   ],
   "source": [
    "gdppc_wiki.head(1)"
   ]
  },
  {
   "cell_type": "markdown",
   "metadata": {
    "slideshow": {
     "slide_type": "subslide"
    },
    "tags": []
   },
   "source": [
    "## The only common information in both dataframes is the country's name, so let's merge using the corrected `country_name` and `ISO 3166`"
   ]
  },
  {
   "cell_type": "code",
   "execution_count": 48,
   "metadata": {
    "scrolled": true,
    "slideshow": {
     "slide_type": "subslide"
    },
    "tags": []
   },
   "outputs": [
    {
     "data": {
      "text/html": [
       "<div>\n",
       "<style scoped>\n",
       "    .dataframe tbody tr th:only-of-type {\n",
       "        vertical-align: middle;\n",
       "    }\n",
       "\n",
       "    .dataframe tbody tr th {\n",
       "        vertical-align: top;\n",
       "    }\n",
       "\n",
       "    .dataframe thead th {\n",
       "        text-align: right;\n",
       "    }\n",
       "</style>\n",
       "<table border=\"1\" class=\"dataframe\">\n",
       "  <thead>\n",
       "    <tr style=\"text-align: right;\">\n",
       "      <th></th>\n",
       "      <th>ISO 3166</th>\n",
       "      <th>Official state name</th>\n",
       "      <th>Sovereignty</th>\n",
       "      <th>A-2</th>\n",
       "      <th>A-3</th>\n",
       "      <th>Num.</th>\n",
       "      <th>ISO 3166-2</th>\n",
       "      <th>TLD</th>\n",
       "      <th>Alpha-2 code original</th>\n",
       "      <th>Alpha-2 code</th>\n",
       "      <th>Country/Territory</th>\n",
       "      <th>gdppc_IMF</th>\n",
       "      <th>year_IMF</th>\n",
       "      <th>gdppc_WB</th>\n",
       "      <th>year_WB</th>\n",
       "      <th>gdppc_CIA</th>\n",
       "      <th>year_CIA</th>\n",
       "      <th>country_name</th>\n",
       "    </tr>\n",
       "  </thead>\n",
       "  <tbody>\n",
       "    <tr>\n",
       "      <th>0</th>\n",
       "      <td>Afghanistan</td>\n",
       "      <td>the Islamic Republic of Afghanistan[b]</td>\n",
       "      <td>UN member</td>\n",
       "      <td>AF</td>\n",
       "      <td>AFG</td>\n",
       "      <td>004</td>\n",
       "      <td>ISO 3166-2:AF</td>\n",
       "      <td>.af</td>\n",
       "      <td>AF</td>\n",
       "      <td>AF</td>\n",
       "      <td>Afghanistan *</td>\n",
       "      <td>2116.0</td>\n",
       "      <td>2022</td>\n",
       "      <td>2093.0</td>\n",
       "      <td>2022</td>\n",
       "      <td>1500</td>\n",
       "      <td>2021</td>\n",
       "      <td>Afghanistan</td>\n",
       "    </tr>\n",
       "    <tr>\n",
       "      <th>1</th>\n",
       "      <td>Albania</td>\n",
       "      <td>the Republic of Albania</td>\n",
       "      <td>UN member</td>\n",
       "      <td>AL</td>\n",
       "      <td>ALB</td>\n",
       "      <td>008</td>\n",
       "      <td>ISO 3166-2:AL</td>\n",
       "      <td>.al</td>\n",
       "      <td>AL</td>\n",
       "      <td>AL</td>\n",
       "      <td>Albania *</td>\n",
       "      <td>21377.0</td>\n",
       "      <td>2024</td>\n",
       "      <td>21395.0</td>\n",
       "      <td>2023</td>\n",
       "      <td>14500</td>\n",
       "      <td>2021</td>\n",
       "      <td>Albania</td>\n",
       "    </tr>\n",
       "    <tr>\n",
       "      <th>2</th>\n",
       "      <td>Algeria</td>\n",
       "      <td>the People's Democratic Republic of Algeria</td>\n",
       "      <td>UN member</td>\n",
       "      <td>DZ</td>\n",
       "      <td>DZA</td>\n",
       "      <td>012</td>\n",
       "      <td>ISO 3166-2:DZ</td>\n",
       "      <td>.dz</td>\n",
       "      <td>DZ</td>\n",
       "      <td>DZ</td>\n",
       "      <td>Algeria *</td>\n",
       "      <td>17718.0</td>\n",
       "      <td>2024</td>\n",
       "      <td>17027.0</td>\n",
       "      <td>2023</td>\n",
       "      <td>11000</td>\n",
       "      <td>2021</td>\n",
       "      <td>Algeria</td>\n",
       "    </tr>\n",
       "    <tr>\n",
       "      <th>3</th>\n",
       "      <td>American Samoa</td>\n",
       "      <td>American Samoa[c]</td>\n",
       "      <td>United States</td>\n",
       "      <td>AS</td>\n",
       "      <td>ASM</td>\n",
       "      <td>016</td>\n",
       "      <td>ISO 3166-2:AS</td>\n",
       "      <td>.as</td>\n",
       "      <td>AS</td>\n",
       "      <td>AS</td>\n",
       "      <td>American Samoa *</td>\n",
       "      <td>NaN</td>\n",
       "      <td>&lt;NA&gt;</td>\n",
       "      <td>NaN</td>\n",
       "      <td>&lt;NA&gt;</td>\n",
       "      <td>11200</td>\n",
       "      <td>2016</td>\n",
       "      <td>American Samoa</td>\n",
       "    </tr>\n",
       "    <tr>\n",
       "      <th>4</th>\n",
       "      <td>Andorra</td>\n",
       "      <td>the Principality of Andorra</td>\n",
       "      <td>UN member</td>\n",
       "      <td>AD</td>\n",
       "      <td>AND</td>\n",
       "      <td>020</td>\n",
       "      <td>ISO 3166-2:AD</td>\n",
       "      <td>.ad</td>\n",
       "      <td>AD</td>\n",
       "      <td>AD</td>\n",
       "      <td>Andorra *</td>\n",
       "      <td>68612.0</td>\n",
       "      <td>2024</td>\n",
       "      <td>71588.0</td>\n",
       "      <td>2023</td>\n",
       "      <td>49900</td>\n",
       "      <td>2015</td>\n",
       "      <td>Andorra</td>\n",
       "    </tr>\n",
       "    <tr>\n",
       "      <th>...</th>\n",
       "      <td>...</td>\n",
       "      <td>...</td>\n",
       "      <td>...</td>\n",
       "      <td>...</td>\n",
       "      <td>...</td>\n",
       "      <td>...</td>\n",
       "      <td>...</td>\n",
       "      <td>...</td>\n",
       "      <td>...</td>\n",
       "      <td>...</td>\n",
       "      <td>...</td>\n",
       "      <td>...</td>\n",
       "      <td>...</td>\n",
       "      <td>...</td>\n",
       "      <td>...</td>\n",
       "      <td>...</td>\n",
       "      <td>...</td>\n",
       "      <td>...</td>\n",
       "    </tr>\n",
       "    <tr>\n",
       "      <th>170</th>\n",
       "      <td>Vanuatu</td>\n",
       "      <td>the Republic of Vanuatu</td>\n",
       "      <td>UN member</td>\n",
       "      <td>VU</td>\n",
       "      <td>VUT</td>\n",
       "      <td>548</td>\n",
       "      <td>ISO 3166-2:VU</td>\n",
       "      <td>.vu</td>\n",
       "      <td>VU</td>\n",
       "      <td>VU</td>\n",
       "      <td>Vanuatu *</td>\n",
       "      <td>2878.0</td>\n",
       "      <td>2024</td>\n",
       "      <td>3315.0</td>\n",
       "      <td>2023</td>\n",
       "      <td>2800</td>\n",
       "      <td>2021</td>\n",
       "      <td>Vanuatu</td>\n",
       "    </tr>\n",
       "    <tr>\n",
       "      <th>171</th>\n",
       "      <td>Wallis and Futuna</td>\n",
       "      <td>the Territory of the Wallis and Futuna Islands</td>\n",
       "      <td>France</td>\n",
       "      <td>WF</td>\n",
       "      <td>WLF</td>\n",
       "      <td>876</td>\n",
       "      <td>ISO 3166-2:WF</td>\n",
       "      <td>.wf</td>\n",
       "      <td>WF</td>\n",
       "      <td>WF</td>\n",
       "      <td>Wallis and Futuna *</td>\n",
       "      <td>NaN</td>\n",
       "      <td>&lt;NA&gt;</td>\n",
       "      <td>NaN</td>\n",
       "      <td>&lt;NA&gt;</td>\n",
       "      <td>3800</td>\n",
       "      <td>2004</td>\n",
       "      <td>Wallis and Futuna</td>\n",
       "    </tr>\n",
       "    <tr>\n",
       "      <th>172</th>\n",
       "      <td>Yemen</td>\n",
       "      <td>the Republic of Yemen</td>\n",
       "      <td>UN member</td>\n",
       "      <td>YE</td>\n",
       "      <td>YEM</td>\n",
       "      <td>887</td>\n",
       "      <td>ISO 3166-2:YE</td>\n",
       "      <td>.ye</td>\n",
       "      <td>YE</td>\n",
       "      <td>YE</td>\n",
       "      <td>Yemen *</td>\n",
       "      <td>1996.0</td>\n",
       "      <td>2024</td>\n",
       "      <td>3437.0</td>\n",
       "      <td>2013</td>\n",
       "      <td>2500</td>\n",
       "      <td>2017</td>\n",
       "      <td>Yemen</td>\n",
       "    </tr>\n",
       "    <tr>\n",
       "      <th>173</th>\n",
       "      <td>Zambia</td>\n",
       "      <td>the Republic of Zambia</td>\n",
       "      <td>UN member</td>\n",
       "      <td>ZM</td>\n",
       "      <td>ZMB</td>\n",
       "      <td>894</td>\n",
       "      <td>ISO 3166-2:ZM</td>\n",
       "      <td>.zm</td>\n",
       "      <td>ZM</td>\n",
       "      <td>ZM</td>\n",
       "      <td>Zambia *</td>\n",
       "      <td>4190.0</td>\n",
       "      <td>2024</td>\n",
       "      <td>4126.0</td>\n",
       "      <td>2023</td>\n",
       "      <td>3200</td>\n",
       "      <td>2021</td>\n",
       "      <td>Zambia</td>\n",
       "    </tr>\n",
       "    <tr>\n",
       "      <th>174</th>\n",
       "      <td>Zimbabwe</td>\n",
       "      <td>the Republic of Zimbabwe</td>\n",
       "      <td>UN member</td>\n",
       "      <td>ZW</td>\n",
       "      <td>ZWE</td>\n",
       "      <td>716</td>\n",
       "      <td>ISO 3166-2:ZW</td>\n",
       "      <td>.zw</td>\n",
       "      <td>ZW</td>\n",
       "      <td>ZW</td>\n",
       "      <td>Zimbabwe *</td>\n",
       "      <td>5071.0</td>\n",
       "      <td>2024</td>\n",
       "      <td>3900.0</td>\n",
       "      <td>2023</td>\n",
       "      <td>2100</td>\n",
       "      <td>2021</td>\n",
       "      <td>Zimbabwe</td>\n",
       "    </tr>\n",
       "  </tbody>\n",
       "</table>\n",
       "<p>175 rows × 18 columns</p>\n",
       "</div>"
      ],
      "text/plain": [
       "              ISO 3166                             Official state name    Sovereignty A-2  A-3 Num.     ISO 3166-2  TLD Alpha-2 code original Alpha-2 code    Country/Territory  \\\n",
       "0          Afghanistan          the Islamic Republic of Afghanistan[b]      UN member  AF  AFG  004  ISO 3166-2:AF  .af                    AF           AF        Afghanistan *   \n",
       "1              Albania                         the Republic of Albania      UN member  AL  ALB  008  ISO 3166-2:AL  .al                    AL           AL            Albania *   \n",
       "2              Algeria     the People's Democratic Republic of Algeria      UN member  DZ  DZA  012  ISO 3166-2:DZ  .dz                    DZ           DZ            Algeria *   \n",
       "3       American Samoa                               American Samoa[c]  United States  AS  ASM  016  ISO 3166-2:AS  .as                    AS           AS     American Samoa *   \n",
       "4              Andorra                     the Principality of Andorra      UN member  AD  AND  020  ISO 3166-2:AD  .ad                    AD           AD            Andorra *   \n",
       "..                 ...                                             ...            ...  ..  ...  ...            ...  ...                   ...          ...                  ...   \n",
       "170            Vanuatu                         the Republic of Vanuatu      UN member  VU  VUT  548  ISO 3166-2:VU  .vu                    VU           VU            Vanuatu *   \n",
       "171  Wallis and Futuna  the Territory of the Wallis and Futuna Islands         France  WF  WLF  876  ISO 3166-2:WF  .wf                    WF           WF  Wallis and Futuna *   \n",
       "172              Yemen                           the Republic of Yemen      UN member  YE  YEM  887  ISO 3166-2:YE  .ye                    YE           YE              Yemen *   \n",
       "173             Zambia                          the Republic of Zambia      UN member  ZM  ZMB  894  ISO 3166-2:ZM  .zm                    ZM           ZM             Zambia *   \n",
       "174           Zimbabwe                        the Republic of Zimbabwe      UN member  ZW  ZWE  716  ISO 3166-2:ZW  .zw                    ZW           ZW           Zimbabwe *   \n",
       "\n",
       "     gdppc_IMF  year_IMF  gdppc_WB  year_WB  gdppc_CIA  year_CIA       country_name  \n",
       "0       2116.0      2022    2093.0     2022       1500      2021        Afghanistan  \n",
       "1      21377.0      2024   21395.0     2023      14500      2021            Albania  \n",
       "2      17718.0      2024   17027.0     2023      11000      2021            Algeria  \n",
       "3          NaN      <NA>       NaN     <NA>      11200      2016     American Samoa  \n",
       "4      68612.0      2024   71588.0     2023      49900      2015            Andorra  \n",
       "..         ...       ...       ...      ...        ...       ...                ...  \n",
       "170     2878.0      2024    3315.0     2023       2800      2021            Vanuatu  \n",
       "171        NaN      <NA>       NaN     <NA>       3800      2004  Wallis and Futuna  \n",
       "172     1996.0      2024    3437.0     2013       2500      2017              Yemen  \n",
       "173     4190.0      2024    4126.0     2023       3200      2021             Zambia  \n",
       "174     5071.0      2024    3900.0     2023       2100      2021           Zimbabwe  \n",
       "\n",
       "[175 rows x 18 columns]"
      ]
     },
     "execution_count": 48,
     "metadata": {},
     "output_type": "execute_result"
    }
   ],
   "source": [
    "merged = isocodes.merge(gdppc_wiki, left_on='ISO 3166', right_on='country_name')\n",
    "merged"
   ]
  },
  {
   "cell_type": "markdown",
   "metadata": {
    "slideshow": {
     "slide_type": "subslide"
    },
    "tags": []
   },
   "source": [
    "<div class=\"alert alert-block alert-danger\">\n",
    "<b>Careful:</b> Remember that <code>merge</code> will create a complete dataset only for the countries that have common names in both.\n",
    "</div>"
   ]
  },
  {
   "cell_type": "code",
   "execution_count": 49,
   "metadata": {
    "slideshow": {
     "slide_type": "fragment"
    },
    "tags": []
   },
   "outputs": [
    {
     "data": {
      "text/plain": [
       "(175, 18)"
      ]
     },
     "execution_count": 49,
     "metadata": {},
     "output_type": "execute_result"
    }
   ],
   "source": [
    "merged.shape"
   ]
  },
  {
   "cell_type": "markdown",
   "metadata": {
    "slideshow": {
     "slide_type": "subslide"
    }
   },
   "source": [
    "## What are the not common country names in both dataframes?"
   ]
  },
  {
   "cell_type": "code",
   "execution_count": 50,
   "metadata": {
    "slideshow": {
     "slide_type": "fragment"
    },
    "tags": []
   },
   "outputs": [],
   "source": [
    "isocodes_names = set(isocodes['ISO 3166'])\n",
    "gdppc_wiki_names = set(gdppc_wiki['country_name'])"
   ]
  },
  {
   "cell_type": "code",
   "execution_count": 51,
   "metadata": {
    "slideshow": {
     "slide_type": "subslide"
    },
    "tags": []
   },
   "outputs": [
    {
     "data": {
      "text/plain": [
       "{'Antarctica\\u200a[e]',\n",
       " 'Australia\\u200a[f]',\n",
       " 'Bahamas (the)',\n",
       " 'Bolivia (Plurinational State of)',\n",
       " 'Bonaire \\xa0Sint Eustatius \\xa0Saba',\n",
       " 'Bouvet Island',\n",
       " 'British Indian Ocean Territory (the)',\n",
       " 'British Virgin Islands – See Virgin Islands (British).',\n",
       " 'Brunei Darussalam\\u200a[i]',\n",
       " 'Burma – See Myanmar.',\n",
       " 'Cabo Verde\\u200a[j]',\n",
       " 'Cape Verde – See Cabo Verde.',\n",
       " 'Caribbean Netherlands – See Bonaire, Sint Eustatius and Saba.',\n",
       " 'Cayman Islands (the)',\n",
       " 'Central African Republic (the)',\n",
       " 'China, The Republic of – See Taiwan (Province of China).',\n",
       " 'Christmas Island',\n",
       " 'Cocos (Keeling) Islands (the)',\n",
       " 'Comoros (the)',\n",
       " 'Congo (the Democratic Republic of the)',\n",
       " 'Congo (the)\\u200a[k]',\n",
       " 'Cook Islands (the)',\n",
       " 'Czechia\\u200a[m]',\n",
       " \"Côte d'Ivoire\\u200a[l]\",\n",
       " \"Democratic People's Republic of Korea – See Korea, The Democratic People's Republic of.\",\n",
       " 'Democratic Republic of the Congo – See Congo, The Democratic Republic of the.',\n",
       " 'Dominican Republic (the)',\n",
       " 'East Timor – See Timor-Leste.',\n",
       " 'Eswatini\\u200a[n]',\n",
       " 'Falkland Islands (the) [Malvinas]\\u200a[o]',\n",
       " 'Faroe Islands (the)',\n",
       " 'France\\u200a[p]',\n",
       " 'French Guiana',\n",
       " 'French Southern Territories (the)\\u200a[q]',\n",
       " 'Gambia (the)',\n",
       " 'Great Britain – See United Kingdom, The.',\n",
       " 'Guadeloupe',\n",
       " 'Heard Island and McDonald Islands',\n",
       " 'Holy See (the)\\u200a[r]',\n",
       " 'Iran (Islamic Republic of)[s]',\n",
       " \"Ivory Coast – See Côte d'Ivoire.\",\n",
       " 'Jan Mayen – See Svalbard and Jan Mayen.',\n",
       " \"Korea (the Democratic People's Republic of)\\u200a[t]\",\n",
       " 'Korea (the Republic of)\\u200a[u]',\n",
       " \"Lao People's Democratic Republic (the)\\u200a[v]\",\n",
       " 'Macao\\u200a[w]',\n",
       " 'Marshall Islands (the)',\n",
       " 'Martinique',\n",
       " 'Mayotte',\n",
       " 'Micronesia (Federated States of)',\n",
       " 'Moldova (the Republic of)',\n",
       " 'Myanmar\\u200a[x]',\n",
       " 'Netherlands (Kingdom of the)',\n",
       " 'Niger (the)',\n",
       " 'Norfolk Island',\n",
       " \"North Korea – See Korea, The Democratic People's Republic of.\",\n",
       " 'North Macedonia\\u200a[y]',\n",
       " 'Northern Mariana Islands (the)',\n",
       " 'Palestine, State of',\n",
       " \"People's Republic of China – See China.\",\n",
       " 'Philippines (the)',\n",
       " 'Pitcairn\\u200a[z]',\n",
       " 'Republic of China – See Taiwan (Province of China).',\n",
       " 'Republic of Korea – See Korea, The Republic of.',\n",
       " 'Republic of the Congo – See Congo, The.',\n",
       " 'Russian Federation (the)\\u200a[aa]',\n",
       " 'Réunion',\n",
       " 'Saba – See Bonaire, Sint Eustatius and Saba.',\n",
       " 'Sahrawi Arab Democratic Republic – See Western Sahara.',\n",
       " 'Saint Barthélemy',\n",
       " 'Saint Helena \\xa0Ascension Island \\xa0Tristan da Cunha',\n",
       " 'Sao Tome and Principe',\n",
       " 'Sint Eustatius – See Bonaire, Sint Eustatius and Saba.',\n",
       " 'South Georgia and the South Sandwich Islands',\n",
       " 'South Korea – See Korea, The Republic of.',\n",
       " 'Sudan (the)',\n",
       " 'Svalbard \\xa0Jan Mayen',\n",
       " 'Syrian Arab Republic (the)\\u200a[ac]',\n",
       " 'Taiwan (Province of China)\\u200a[ad]',\n",
       " 'Tanzania, the United Republic of',\n",
       " 'Timor-Leste\\u200a[af]',\n",
       " 'Turks and Caicos Islands (the)',\n",
       " 'Türkiye [ag]',\n",
       " 'Ukraine[c]',\n",
       " 'United Arab Emirates (the)',\n",
       " 'United Kingdom of Great Britain and Northern Ireland (the)',\n",
       " 'United States Minor Outlying Islands (the)[13][ai]',\n",
       " 'United States Virgin Islands – See Virgin Islands (U.S.).',\n",
       " 'United States of America (the)',\n",
       " 'Vatican City – See Holy See, The.',\n",
       " 'Venezuela (Bolivarian Republic of)',\n",
       " 'Viet Nam\\u200a[ak]',\n",
       " 'Virgin Islands (British)\\u200a[al]',\n",
       " 'Virgin Islands (U.S.)\\u200a[am]',\n",
       " 'Western Sahara\\u200a[an]',\n",
       " 'Åland Islands'}"
      ]
     },
     "execution_count": 51,
     "metadata": {},
     "output_type": "execute_result"
    }
   ],
   "source": [
    "isocodes_names.difference(gdppc_wiki_names)"
   ]
  },
  {
   "cell_type": "code",
   "execution_count": 52,
   "metadata": {
    "slideshow": {
     "slide_type": "subslide"
    },
    "tags": []
   },
   "outputs": [
    {
     "data": {
      "text/plain": [
       "{'Australia',\n",
       " 'Bahamas',\n",
       " 'Bolivia',\n",
       " 'British Virgin Islands',\n",
       " 'Brunei',\n",
       " 'Cape Verde',\n",
       " 'Cayman Islands',\n",
       " 'Central African Republic',\n",
       " 'Comoros',\n",
       " 'Congo',\n",
       " 'Cook Islands',\n",
       " 'Czech Republic',\n",
       " 'DR Congo',\n",
       " 'Dominican Republic',\n",
       " 'East Timor',\n",
       " 'Eswatini',\n",
       " 'European Union\\u202f[n 1]',\n",
       " 'Falkland Islands',\n",
       " 'Faroe Islands',\n",
       " 'France',\n",
       " 'Gambia',\n",
       " 'Iran',\n",
       " 'Ivory Coast',\n",
       " 'Kosovo',\n",
       " 'Laos',\n",
       " 'Macau',\n",
       " 'Marshall Islands',\n",
       " 'Micronesia',\n",
       " 'Moldova',\n",
       " 'Myanmar',\n",
       " 'Netherlands',\n",
       " 'Niger',\n",
       " 'North Korea',\n",
       " 'North Macedonia',\n",
       " 'Northern Mariana Islands',\n",
       " 'Palestine',\n",
       " 'Philippines',\n",
       " 'Russia',\n",
       " 'Saint Helena, Ascension and Tristan da Cunha',\n",
       " 'South Korea',\n",
       " 'Sudan',\n",
       " 'Syria',\n",
       " 'São Tomé and Príncipe',\n",
       " 'Taiwan',\n",
       " 'Tanzania',\n",
       " 'Turkey',\n",
       " 'Turks and Caicos Islands',\n",
       " 'U.S. Virgin Islands',\n",
       " 'Ukraine',\n",
       " 'United Arab Emirates',\n",
       " 'United Kingdom',\n",
       " 'United States',\n",
       " 'Venezuela',\n",
       " 'Vietnam',\n",
       " 'World'}"
      ]
     },
     "execution_count": 52,
     "metadata": {},
     "output_type": "execute_result"
    }
   ],
   "source": [
    "gdppc_wiki_names.difference(isocodes_names)"
   ]
  },
  {
   "cell_type": "markdown",
   "metadata": {
    "slideshow": {
     "slide_type": "subslide"
    },
    "tags": []
   },
   "source": [
    "## Clearly to create the full dataset, we'd need to standardize the country names. "
   ]
  },
  {
   "cell_type": "markdown",
   "metadata": {
    "slideshow": {
     "slide_type": "fragment"
    },
    "tags": []
   },
   "source": [
    "## This is a major reason to use ISO CODES!"
   ]
  },
  {
   "cell_type": "markdown",
   "metadata": {
    "slideshow": {
     "slide_type": "fragment"
    },
    "tags": []
   },
   "source": [
    "## We'll learn methods to do this in another lecture, for now let's use the merged subset"
   ]
  },
  {
   "cell_type": "markdown",
   "metadata": {
    "slideshow": {
     "slide_type": "subslide"
    }
   },
   "source": [
    "# Simple Plots"
   ]
  },
  {
   "cell_type": "code",
   "execution_count": 53,
   "metadata": {
    "slideshow": {
     "slide_type": "subslide"
    },
    "tags": []
   },
   "outputs": [
    {
     "data": {
      "text/plain": [
       "<matplotlib.legend.Legend at 0x11b7a48d0>"
      ]
     },
     "execution_count": 53,
     "metadata": {},
     "output_type": "execute_result"
    },
    {
     "data": {
      "image/png": "[encoded data removed]",
      "text/plain": [
       "<Figure size 1000x600 with 1 Axes>"
      ]
     },
     "metadata": {},
     "output_type": "display_data"
    }
   ],
   "source": [
    "# Set the size of the figure and get a figure and axis object\n",
    "fig, ax = plt.subplots(figsize=(10,6))\n",
    "merged.gdppc_CIA.plot.kde(ax=ax, label='CIA')\n",
    "merged.gdppc_IMF.plot.kde(ax=ax, label='IMF')\n",
    "merged.gdppc_WB.plot.kde(ax=ax, label='WB')\n",
    "ax.legend()"
   ]
  },
  {
   "cell_type": "code",
   "execution_count": 54,
   "metadata": {
    "slideshow": {
     "slide_type": "subslide"
    },
    "tags": []
   },
   "outputs": [
    {
     "data": {
      "text/plain": [
       "<matplotlib.legend.Legend at 0x11b766550>"
      ]
     },
     "execution_count": 54,
     "metadata": {},
     "output_type": "execute_result"
    },
    {
     "data": {
      "image/png": "[encoded data removed]",
      "text/plain": [
       "<Figure size 1000x600 with 1 Axes>"
      ]
     },
     "metadata": {},
     "output_type": "display_data"
    }
   ],
   "source": [
    "# Set the size of the figure and get a figure and axis object\n",
    "fig, ax = plt.subplots(figsize=(10,6))\n",
    "merged.gdppc_CIA.plot.hist(ax=ax, label='CIA')\n",
    "merged.gdppc_IMF.plot.hist(ax=ax, label='IMF', alpha=0.6)\n",
    "merged.gdppc_WB.plot.hist(ax=ax, label='WB', alpha=0.3)\n",
    "ax.legend()"
   ]
  },
  {
   "cell_type": "code",
   "execution_count": 55,
   "metadata": {
    "slideshow": {
     "slide_type": "subslide"
    },
    "tags": []
   },
   "outputs": [
    {
     "data": {
      "text/plain": [
       "<matplotlib.legend.Legend at 0x138943b10>"
      ]
     },
     "execution_count": 55,
     "metadata": {},
     "output_type": "execute_result"
    },
    {
     "data": {
      "image/png": "[encoded data removed]",
      "text/plain": [
       "<Figure size 1000x600 with 1 Axes>"
      ]
     },
     "metadata": {},
     "output_type": "display_data"
    }
   ],
   "source": [
    "# Set the size of the figure and get a figure and axis object\n",
    "fig, ax = plt.subplots(figsize=(10,6))\n",
    "merged.plot.scatter(x='gdppc_WB', y='gdppc_CIA', ax=ax, label='WB-CIA', c='r')\n",
    "merged.plot.scatter(x='gdppc_WB', y='gdppc_IMF', ax=ax, label='WB-IMF', c='b')\n",
    "ax.set_xlabel('World Bank')\n",
    "ax.set_ylabel('Other Source')\n",
    "ax.legend(loc='lower right')"
   ]
  },
  {
   "cell_type": "markdown",
   "metadata": {
    "slideshow": {
     "slide_type": "slide"
    }
   },
   "source": [
    "# Example - Create Data"
   ]
  },
  {
   "cell_type": "markdown",
   "metadata": {
    "slideshow": {
     "slide_type": "fragment"
    }
   },
   "source": [
    "Let's create a `DataFrame` with some artificial data for some countries. \n",
    "1. Create `Series` of countries\n",
    "2. Create `Series` of data for each country\n",
    "3. Create `DataFrame`"
   ]
  },
  {
   "cell_type": "code",
   "execution_count": 56,
   "metadata": {
    "slideshow": {
     "slide_type": "subslide"
    },
    "tags": []
   },
   "outputs": [
    {
     "data": {
      "text/plain": [
       "0         Colombia\n",
       "1           Turkey\n",
       "2    United States\n",
       "3          Germany\n",
       "4            Chile\n",
       "Name: country, dtype: object"
      ]
     },
     "execution_count": 56,
     "metadata": {},
     "output_type": "execute_result"
    }
   ],
   "source": [
    "countries = pd.Series(['Colombia', 'Turkey', 'United States', 'Germany', 'Chile'], name='country')\n",
    "countries"
   ]
  },
  {
   "cell_type": "code",
   "execution_count": 57,
   "metadata": {
    "slideshow": {
     "slide_type": "fragment"
    },
    "tags": []
   },
   "outputs": [
    {
     "name": "stdout",
     "output_type": "stream",
     "text": [
      "\n",
      " There are  5 countries in this series.\n"
     ]
    }
   ],
   "source": [
    "print('\\n', 'There are ', countries.shape[0], 'countries in this series.')"
   ]
  },
  {
   "cell_type": "markdown",
   "metadata": {
    "slideshow": {
     "slide_type": "subslide"
    }
   },
   "source": [
    "## We can apply a function on the data using the `apply` method. \n",
    "E.g., let's find the length of each country name using the `len` function."
   ]
  },
  {
   "cell_type": "code",
   "execution_count": 58,
   "metadata": {
    "slideshow": {
     "slide_type": "fragment"
    },
    "tags": []
   },
   "outputs": [
    {
     "data": {
      "text/plain": [
       "0     8\n",
       "1     6\n",
       "2    13\n",
       "3     7\n",
       "4     5\n",
       "Name: country, dtype: int64"
      ]
     },
     "execution_count": 58,
     "metadata": {},
     "output_type": "execute_result"
    }
   ],
   "source": [
    "countries.apply(len)"
   ]
  },
  {
   "cell_type": "markdown",
   "metadata": {
    "slideshow": {
     "slide_type": "subslide"
    }
   },
   "source": [
    "Let's create the data using some of the functions we already learned."
   ]
  },
  {
   "cell_type": "code",
   "execution_count": 59,
   "metadata": {
    "scrolled": true,
    "slideshow": {
     "slide_type": "fragment"
    },
    "tags": []
   },
   "outputs": [
    {
     "data": {
      "text/plain": [
       "0    0.469112\n",
       "1   -0.282863\n",
       "2   -1.509059\n",
       "3   -1.135632\n",
       "4    1.212112\n",
       "Name: noise, dtype: float64"
      ]
     },
     "execution_count": 59,
     "metadata": {},
     "output_type": "execute_result"
    }
   ],
   "source": [
    "np.random.seed(123456)\n",
    "data = pd.Series(np.random.normal(size=(countries.shape)), name='noise')\n",
    "data"
   ]
  },
  {
   "cell_type": "markdown",
   "metadata": {
    "slideshow": {
     "slide_type": "subslide"
    },
    "tags": []
   },
   "source": [
    "## We can perform certain computation using some of the properties of the `pd.Series`:\n",
    "* mean\n",
    "* std\n",
    "* max"
   ]
  },
  {
   "cell_type": "code",
   "execution_count": 60,
   "metadata": {
    "slideshow": {
     "slide_type": "subslide"
    },
    "tags": []
   },
   "outputs": [
    {
     "name": "stdout",
     "output_type": "stream",
     "text": [
      "\n",
      " The average in this sample is  -0.24926597871826645\n",
      "\n",
      " The average in this sample is  -0.25\n",
      "\n",
      " The maximum in this sample is  1.21\n",
      "\n",
      " The standard deviation in this sample is  1.12\n"
     ]
    }
   ],
   "source": [
    "print('\\n', 'The average in this sample is ', data.mean())\n",
    "print('\\n', 'The average in this sample is ', \"{:.2f}\".format(data.mean()))\n",
    "print('\\n', 'The maximum in this sample is ', \"{:.2f}\".format(data.max()))\n",
    "print('\\n', 'The standard deviation in this sample is ', \"{:.2f}\".format(data.std()))"
   ]
  },
  {
   "cell_type": "markdown",
   "metadata": {
    "slideshow": {
     "slide_type": "subslide"
    }
   },
   "source": [
    "Here we have used the ``mean()`` function of the series to compute its mean. There are many other properties/functions for these series including ``std()``, ``shape``, ``count()``, ``max()``, ``min()``, etc. You can access these by writing ``series.name_of_function_or_property``. To see what functions are available you can hit ``tab`` after writing ``series.``."
   ]
  },
  {
   "cell_type": "markdown",
   "metadata": {
    "slideshow": {
     "slide_type": "subslide"
    }
   },
   "source": [
    "## We can transform the data using the `apply` method"
   ]
  },
  {
   "cell_type": "code",
   "execution_count": 61,
   "metadata": {
    "slideshow": {
     "slide_type": "subslide"
    },
    "tags": []
   },
   "outputs": [
    {
     "data": {
      "text/plain": [
       "0    1.598575\n",
       "1    0.753623\n",
       "2    0.221118\n",
       "3    0.321219\n",
       "4    3.360575\n",
       "Name: noise, dtype: float64"
      ]
     },
     "execution_count": 61,
     "metadata": {},
     "output_type": "execute_result"
    }
   ],
   "source": [
    "data.apply(np.exp)"
   ]
  },
  {
   "cell_type": "markdown",
   "metadata": {
    "slideshow": {
     "slide_type": "subslide"
    }
   },
   "source": [
    "## Let's create a ``pd.DataFrame`` using these two series."
   ]
  },
  {
   "cell_type": "markdown",
   "metadata": {
    "slideshow": {
     "slide_type": "subslide"
    },
    "tags": []
   },
   "source": [
    "## Method 1"
   ]
  },
  {
   "cell_type": "code",
   "execution_count": 62,
   "metadata": {
    "slideshow": {
     "slide_type": "fragment"
    },
    "tags": []
   },
   "outputs": [
    {
     "data": {
      "text/html": [
       "<div>\n",
       "<style scoped>\n",
       "    .dataframe tbody tr th:only-of-type {\n",
       "        vertical-align: middle;\n",
       "    }\n",
       "\n",
       "    .dataframe tbody tr th {\n",
       "        vertical-align: top;\n",
       "    }\n",
       "\n",
       "    .dataframe thead th {\n",
       "        text-align: right;\n",
       "    }\n",
       "</style>\n",
       "<table border=\"1\" class=\"dataframe\">\n",
       "  <thead>\n",
       "    <tr style=\"text-align: right;\">\n",
       "      <th></th>\n",
       "      <th>0</th>\n",
       "      <th>1</th>\n",
       "      <th>2</th>\n",
       "      <th>3</th>\n",
       "      <th>4</th>\n",
       "    </tr>\n",
       "  </thead>\n",
       "  <tbody>\n",
       "    <tr>\n",
       "      <th>country</th>\n",
       "      <td>Colombia</td>\n",
       "      <td>Turkey</td>\n",
       "      <td>United States</td>\n",
       "      <td>Germany</td>\n",
       "      <td>Chile</td>\n",
       "    </tr>\n",
       "    <tr>\n",
       "      <th>noise</th>\n",
       "      <td>0.469112</td>\n",
       "      <td>-0.282863</td>\n",
       "      <td>-1.509059</td>\n",
       "      <td>-1.135632</td>\n",
       "      <td>1.212112</td>\n",
       "    </tr>\n",
       "  </tbody>\n",
       "</table>\n",
       "</div>"
      ],
      "text/plain": [
       "                0         1              2         3         4\n",
       "country  Colombia    Turkey  United States   Germany     Chile\n",
       "noise    0.469112 -0.282863      -1.509059 -1.135632  1.212112"
      ]
     },
     "execution_count": 62,
     "metadata": {},
     "output_type": "execute_result"
    }
   ],
   "source": [
    "df = pd.DataFrame([countries, data])\n",
    "df"
   ]
  },
  {
   "cell_type": "markdown",
   "metadata": {
    "slideshow": {
     "slide_type": "subslide"
    }
   },
   "source": [
    "Not exactly what we'd like, but don't worry, we can just transpose it so it has each country with its data in a row."
   ]
  },
  {
   "cell_type": "code",
   "execution_count": 63,
   "metadata": {
    "slideshow": {
     "slide_type": "fragment"
    },
    "tags": []
   },
   "outputs": [
    {
     "data": {
      "text/html": [
       "<div>\n",
       "<style scoped>\n",
       "    .dataframe tbody tr th:only-of-type {\n",
       "        vertical-align: middle;\n",
       "    }\n",
       "\n",
       "    .dataframe tbody tr th {\n",
       "        vertical-align: top;\n",
       "    }\n",
       "\n",
       "    .dataframe thead th {\n",
       "        text-align: right;\n",
       "    }\n",
       "</style>\n",
       "<table border=\"1\" class=\"dataframe\">\n",
       "  <thead>\n",
       "    <tr style=\"text-align: right;\">\n",
       "      <th></th>\n",
       "      <th>country</th>\n",
       "      <th>noise</th>\n",
       "    </tr>\n",
       "  </thead>\n",
       "  <tbody>\n",
       "    <tr>\n",
       "      <th>0</th>\n",
       "      <td>Colombia</td>\n",
       "      <td>0.469112</td>\n",
       "    </tr>\n",
       "    <tr>\n",
       "      <th>1</th>\n",
       "      <td>Turkey</td>\n",
       "      <td>-0.282863</td>\n",
       "    </tr>\n",
       "    <tr>\n",
       "      <th>2</th>\n",
       "      <td>United States</td>\n",
       "      <td>-1.509059</td>\n",
       "    </tr>\n",
       "    <tr>\n",
       "      <th>3</th>\n",
       "      <td>Germany</td>\n",
       "      <td>-1.135632</td>\n",
       "    </tr>\n",
       "    <tr>\n",
       "      <th>4</th>\n",
       "      <td>Chile</td>\n",
       "      <td>1.212112</td>\n",
       "    </tr>\n",
       "  </tbody>\n",
       "</table>\n",
       "</div>"
      ],
      "text/plain": [
       "         country     noise\n",
       "0       Colombia  0.469112\n",
       "1         Turkey -0.282863\n",
       "2  United States -1.509059\n",
       "3        Germany -1.135632\n",
       "4          Chile  1.212112"
      ]
     },
     "execution_count": 63,
     "metadata": {},
     "output_type": "execute_result"
    }
   ],
   "source": [
    "df = df.T\n",
    "df"
   ]
  },
  {
   "cell_type": "markdown",
   "metadata": {
    "slideshow": {
     "slide_type": "subslide"
    }
   },
   "source": [
    "## Method 2"
   ]
  },
  {
   "cell_type": "code",
   "execution_count": 64,
   "metadata": {
    "slideshow": {
     "slide_type": "fragment"
    },
    "tags": []
   },
   "outputs": [
    {
     "data": {
      "text/html": [
       "<div>\n",
       "<style scoped>\n",
       "    .dataframe tbody tr th:only-of-type {\n",
       "        vertical-align: middle;\n",
       "    }\n",
       "\n",
       "    .dataframe tbody tr th {\n",
       "        vertical-align: top;\n",
       "    }\n",
       "\n",
       "    .dataframe thead th {\n",
       "        text-align: right;\n",
       "    }\n",
       "</style>\n",
       "<table border=\"1\" class=\"dataframe\">\n",
       "  <thead>\n",
       "    <tr style=\"text-align: right;\">\n",
       "      <th></th>\n",
       "      <th>country</th>\n",
       "      <th>noise</th>\n",
       "    </tr>\n",
       "  </thead>\n",
       "  <tbody>\n",
       "    <tr>\n",
       "      <th>0</th>\n",
       "      <td>Colombia</td>\n",
       "      <td>0.469112</td>\n",
       "    </tr>\n",
       "    <tr>\n",
       "      <th>1</th>\n",
       "      <td>Turkey</td>\n",
       "      <td>-0.282863</td>\n",
       "    </tr>\n",
       "    <tr>\n",
       "      <th>2</th>\n",
       "      <td>United States</td>\n",
       "      <td>-1.509059</td>\n",
       "    </tr>\n",
       "    <tr>\n",
       "      <th>3</th>\n",
       "      <td>Germany</td>\n",
       "      <td>-1.135632</td>\n",
       "    </tr>\n",
       "    <tr>\n",
       "      <th>4</th>\n",
       "      <td>Chile</td>\n",
       "      <td>1.212112</td>\n",
       "    </tr>\n",
       "  </tbody>\n",
       "</table>\n",
       "</div>"
      ],
      "text/plain": [
       "         country     noise\n",
       "0       Colombia  0.469112\n",
       "1         Turkey -0.282863\n",
       "2  United States -1.509059\n",
       "3        Germany -1.135632\n",
       "4          Chile  1.212112"
      ]
     },
     "execution_count": 64,
     "metadata": {},
     "output_type": "execute_result"
    }
   ],
   "source": [
    "df = pd.concat([countries, data], axis=1)\n",
    "df"
   ]
  },
  {
   "cell_type": "markdown",
   "metadata": {
    "slideshow": {
     "slide_type": "subslide"
    },
    "tags": []
   },
   "source": [
    "## Method 3"
   ]
  },
  {
   "cell_type": "code",
   "execution_count": 65,
   "metadata": {
    "slideshow": {
     "slide_type": "fragment"
    },
    "tags": []
   },
   "outputs": [
    {
     "data": {
      "text/html": [
       "<div>\n",
       "<style scoped>\n",
       "    .dataframe tbody tr th:only-of-type {\n",
       "        vertical-align: middle;\n",
       "    }\n",
       "\n",
       "    .dataframe tbody tr th {\n",
       "        vertical-align: top;\n",
       "    }\n",
       "\n",
       "    .dataframe thead th {\n",
       "        text-align: right;\n",
       "    }\n",
       "</style>\n",
       "<table border=\"1\" class=\"dataframe\">\n",
       "  <thead>\n",
       "    <tr style=\"text-align: right;\">\n",
       "      <th></th>\n",
       "      <th>country</th>\n",
       "      <th>noise</th>\n",
       "    </tr>\n",
       "  </thead>\n",
       "  <tbody>\n",
       "    <tr>\n",
       "      <th>0</th>\n",
       "      <td>Colombia</td>\n",
       "      <td>0.469112</td>\n",
       "    </tr>\n",
       "    <tr>\n",
       "      <th>1</th>\n",
       "      <td>Turkey</td>\n",
       "      <td>-0.282863</td>\n",
       "    </tr>\n",
       "    <tr>\n",
       "      <th>2</th>\n",
       "      <td>United States</td>\n",
       "      <td>-1.509059</td>\n",
       "    </tr>\n",
       "    <tr>\n",
       "      <th>3</th>\n",
       "      <td>Germany</td>\n",
       "      <td>-1.135632</td>\n",
       "    </tr>\n",
       "    <tr>\n",
       "      <th>4</th>\n",
       "      <td>Chile</td>\n",
       "      <td>1.212112</td>\n",
       "    </tr>\n",
       "  </tbody>\n",
       "</table>\n",
       "</div>"
      ],
      "text/plain": [
       "         country     noise\n",
       "0       Colombia  0.469112\n",
       "1         Turkey -0.282863\n",
       "2  United States -1.509059\n",
       "3        Germany -1.135632\n",
       "4          Chile  1.212112"
      ]
     },
     "execution_count": 65,
     "metadata": {},
     "output_type": "execute_result"
    }
   ],
   "source": [
    "df = pd.DataFrame({'country':countries,\n",
    "                   'noise':data})\n",
    "df"
   ]
  },
  {
   "cell_type": "markdown",
   "metadata": {
    "slideshow": {
     "slide_type": "subslide"
    }
   },
   "source": [
    "## Adding more variables/rows"
   ]
  },
  {
   "cell_type": "markdown",
   "metadata": {
    "slideshow": {
     "slide_type": "fragment"
    }
   },
   "source": [
    "Now let us add some more data to this dataframe. This is done easily by defining a new column. \n",
    "\n",
    "Let's create the square of ``noise``, create the sum of ``noise`` and its square, and get the length of the country's name. "
   ]
  },
  {
   "cell_type": "code",
   "execution_count": 66,
   "metadata": {
    "slideshow": {
     "slide_type": "subslide"
    },
    "tags": []
   },
   "outputs": [
    {
     "data": {
      "text/html": [
       "<div>\n",
       "<style scoped>\n",
       "    .dataframe tbody tr th:only-of-type {\n",
       "        vertical-align: middle;\n",
       "    }\n",
       "\n",
       "    .dataframe tbody tr th {\n",
       "        vertical-align: top;\n",
       "    }\n",
       "\n",
       "    .dataframe thead th {\n",
       "        text-align: right;\n",
       "    }\n",
       "</style>\n",
       "<table border=\"1\" class=\"dataframe\">\n",
       "  <thead>\n",
       "    <tr style=\"text-align: right;\">\n",
       "      <th></th>\n",
       "      <th>country</th>\n",
       "      <th>noise</th>\n",
       "      <th>noise_sq</th>\n",
       "      <th>noise and its square</th>\n",
       "      <th>name length</th>\n",
       "    </tr>\n",
       "  </thead>\n",
       "  <tbody>\n",
       "    <tr>\n",
       "      <th>0</th>\n",
       "      <td>Colombia</td>\n",
       "      <td>0.469112</td>\n",
       "      <td>0.220066</td>\n",
       "      <td>0.689179</td>\n",
       "      <td>8</td>\n",
       "    </tr>\n",
       "    <tr>\n",
       "      <th>1</th>\n",
       "      <td>Turkey</td>\n",
       "      <td>-0.282863</td>\n",
       "      <td>0.080012</td>\n",
       "      <td>-0.202852</td>\n",
       "      <td>6</td>\n",
       "    </tr>\n",
       "    <tr>\n",
       "      <th>2</th>\n",
       "      <td>United States</td>\n",
       "      <td>-1.509059</td>\n",
       "      <td>2.277258</td>\n",
       "      <td>0.768199</td>\n",
       "      <td>13</td>\n",
       "    </tr>\n",
       "    <tr>\n",
       "      <th>3</th>\n",
       "      <td>Germany</td>\n",
       "      <td>-1.135632</td>\n",
       "      <td>1.289661</td>\n",
       "      <td>0.154029</td>\n",
       "      <td>7</td>\n",
       "    </tr>\n",
       "    <tr>\n",
       "      <th>4</th>\n",
       "      <td>Chile</td>\n",
       "      <td>1.212112</td>\n",
       "      <td>1.469216</td>\n",
       "      <td>2.681328</td>\n",
       "      <td>5</td>\n",
       "    </tr>\n",
       "  </tbody>\n",
       "</table>\n",
       "</div>"
      ],
      "text/plain": [
       "         country     noise  noise_sq  noise and its square  name length\n",
       "0       Colombia  0.469112  0.220066              0.689179            8\n",
       "1         Turkey -0.282863  0.080012             -0.202852            6\n",
       "2  United States -1.509059  2.277258              0.768199           13\n",
       "3        Germany -1.135632  1.289661              0.154029            7\n",
       "4          Chile  1.212112  1.469216              2.681328            5"
      ]
     },
     "execution_count": 66,
     "metadata": {},
     "output_type": "execute_result"
    }
   ],
   "source": [
    "df['noise_sq'] = df.noise**2\n",
    "df['noise and its square'] = df.noise + df.noise_sq\n",
    "df['name length'] = df.country.apply(len)\n",
    "df"
   ]
  },
  {
   "cell_type": "markdown",
   "metadata": {
    "slideshow": {
     "slide_type": "subslide"
    },
    "tags": []
   },
   "source": [
    "This shows some of the ways in which you can create new data. \n",
    "\n",
    "Especially useful is the ``apply`` method, which applies a function to the series. \n",
    "\n",
    "You can also apply a function to the whole dataframe, which is useful if you want to perform computations using various columns.\n",
    "\n",
    "Let's see some other ways in which we can interact with dataframes. "
   ]
  },
  {
   "cell_type": "markdown",
   "metadata": {
    "slideshow": {
     "slide_type": "subslide"
    },
    "tags": []
   },
   "source": [
    "## First, let's identify some observations, e.g., all countries in the South America."
   ]
  },
  {
   "cell_type": "markdown",
   "metadata": {
    "slideshow": {
     "slide_type": "fragment"
    }
   },
   "source": [
    "## Let's create a list of South American countries"
   ]
  },
  {
   "cell_type": "code",
   "execution_count": 67,
   "metadata": {
    "slideshow": {
     "slide_type": "fragment"
    },
    "tags": []
   },
   "outputs": [],
   "source": [
    "south_america = ['Colombia', 'Chile']"
   ]
  },
  {
   "cell_type": "markdown",
   "metadata": {
    "slideshow": {
     "slide_type": "subslide"
    }
   },
   "source": [
    "## Let's create a new dummy variable that identifies countries in South America \n",
    "## using `apply` and our `south_america` list"
   ]
  },
  {
   "cell_type": "code",
   "execution_count": 68,
   "metadata": {
    "slideshow": {
     "slide_type": "subslide"
    },
    "tags": []
   },
   "outputs": [
    {
     "data": {
      "text/html": [
       "<div>\n",
       "<style scoped>\n",
       "    .dataframe tbody tr th:only-of-type {\n",
       "        vertical-align: middle;\n",
       "    }\n",
       "\n",
       "    .dataframe tbody tr th {\n",
       "        vertical-align: top;\n",
       "    }\n",
       "\n",
       "    .dataframe thead th {\n",
       "        text-align: right;\n",
       "    }\n",
       "</style>\n",
       "<table border=\"1\" class=\"dataframe\">\n",
       "  <thead>\n",
       "    <tr style=\"text-align: right;\">\n",
       "      <th></th>\n",
       "      <th>country</th>\n",
       "      <th>noise</th>\n",
       "      <th>noise_sq</th>\n",
       "      <th>noise and its square</th>\n",
       "      <th>name length</th>\n",
       "      <th>South America Logical</th>\n",
       "    </tr>\n",
       "  </thead>\n",
       "  <tbody>\n",
       "    <tr>\n",
       "      <th>0</th>\n",
       "      <td>Colombia</td>\n",
       "      <td>0.469112</td>\n",
       "      <td>0.220066</td>\n",
       "      <td>0.689179</td>\n",
       "      <td>8</td>\n",
       "      <td>True</td>\n",
       "    </tr>\n",
       "    <tr>\n",
       "      <th>1</th>\n",
       "      <td>Turkey</td>\n",
       "      <td>-0.282863</td>\n",
       "      <td>0.080012</td>\n",
       "      <td>-0.202852</td>\n",
       "      <td>6</td>\n",
       "      <td>False</td>\n",
       "    </tr>\n",
       "    <tr>\n",
       "      <th>2</th>\n",
       "      <td>United States</td>\n",
       "      <td>-1.509059</td>\n",
       "      <td>2.277258</td>\n",
       "      <td>0.768199</td>\n",
       "      <td>13</td>\n",
       "      <td>False</td>\n",
       "    </tr>\n",
       "    <tr>\n",
       "      <th>3</th>\n",
       "      <td>Germany</td>\n",
       "      <td>-1.135632</td>\n",
       "      <td>1.289661</td>\n",
       "      <td>0.154029</td>\n",
       "      <td>7</td>\n",
       "      <td>False</td>\n",
       "    </tr>\n",
       "    <tr>\n",
       "      <th>4</th>\n",
       "      <td>Chile</td>\n",
       "      <td>1.212112</td>\n",
       "      <td>1.469216</td>\n",
       "      <td>2.681328</td>\n",
       "      <td>5</td>\n",
       "      <td>True</td>\n",
       "    </tr>\n",
       "  </tbody>\n",
       "</table>\n",
       "</div>"
      ],
      "text/plain": [
       "         country     noise  noise_sq  noise and its square  name length  South America Logical\n",
       "0       Colombia  0.469112  0.220066              0.689179            8                   True\n",
       "1         Turkey -0.282863  0.080012             -0.202852            6                  False\n",
       "2  United States -1.509059  2.277258              0.768199           13                  False\n",
       "3        Germany -1.135632  1.289661              0.154029            7                  False\n",
       "4          Chile  1.212112  1.469216              2.681328            5                   True"
      ]
     },
     "execution_count": 68,
     "metadata": {},
     "output_type": "execute_result"
    }
   ],
   "source": [
    "df['South America Logical'] = df.country.apply(lambda x: x in south_america)\n",
    "df"
   ]
  },
  {
   "cell_type": "markdown",
   "metadata": {
    "slideshow": {
     "slide_type": "subslide"
    }
   },
   "source": [
    "## Notice the new column takes on *logical* values, i.e., `True` or `False`"
   ]
  },
  {
   "cell_type": "markdown",
   "metadata": {
    "slideshow": {
     "slide_type": "fragment"
    }
   },
   "source": [
    "## More useful to have numerical values, where `1:True` and `0:False`"
   ]
  },
  {
   "cell_type": "markdown",
   "metadata": {
    "slideshow": {
     "slide_type": "subslide"
    }
   },
   "source": [
    "## Method 1: Dictionary and `map`"
   ]
  },
  {
   "cell_type": "code",
   "execution_count": 69,
   "metadata": {
    "slideshow": {
     "slide_type": "subslide"
    },
    "tags": []
   },
   "outputs": [
    {
     "data": {
      "text/html": [
       "<div>\n",
       "<style scoped>\n",
       "    .dataframe tbody tr th:only-of-type {\n",
       "        vertical-align: middle;\n",
       "    }\n",
       "\n",
       "    .dataframe tbody tr th {\n",
       "        vertical-align: top;\n",
       "    }\n",
       "\n",
       "    .dataframe thead th {\n",
       "        text-align: right;\n",
       "    }\n",
       "</style>\n",
       "<table border=\"1\" class=\"dataframe\">\n",
       "  <thead>\n",
       "    <tr style=\"text-align: right;\">\n",
       "      <th></th>\n",
       "      <th>country</th>\n",
       "      <th>noise</th>\n",
       "      <th>noise_sq</th>\n",
       "      <th>noise and its square</th>\n",
       "      <th>name length</th>\n",
       "      <th>South America Logical</th>\n",
       "      <th>South America Dict</th>\n",
       "    </tr>\n",
       "  </thead>\n",
       "  <tbody>\n",
       "    <tr>\n",
       "      <th>0</th>\n",
       "      <td>Colombia</td>\n",
       "      <td>0.469112</td>\n",
       "      <td>0.220066</td>\n",
       "      <td>0.689179</td>\n",
       "      <td>8</td>\n",
       "      <td>True</td>\n",
       "      <td>1</td>\n",
       "    </tr>\n",
       "    <tr>\n",
       "      <th>1</th>\n",
       "      <td>Turkey</td>\n",
       "      <td>-0.282863</td>\n",
       "      <td>0.080012</td>\n",
       "      <td>-0.202852</td>\n",
       "      <td>6</td>\n",
       "      <td>False</td>\n",
       "      <td>0</td>\n",
       "    </tr>\n",
       "    <tr>\n",
       "      <th>2</th>\n",
       "      <td>United States</td>\n",
       "      <td>-1.509059</td>\n",
       "      <td>2.277258</td>\n",
       "      <td>0.768199</td>\n",
       "      <td>13</td>\n",
       "      <td>False</td>\n",
       "      <td>0</td>\n",
       "    </tr>\n",
       "    <tr>\n",
       "      <th>3</th>\n",
       "      <td>Germany</td>\n",
       "      <td>-1.135632</td>\n",
       "      <td>1.289661</td>\n",
       "      <td>0.154029</td>\n",
       "      <td>7</td>\n",
       "      <td>False</td>\n",
       "      <td>0</td>\n",
       "    </tr>\n",
       "    <tr>\n",
       "      <th>4</th>\n",
       "      <td>Chile</td>\n",
       "      <td>1.212112</td>\n",
       "      <td>1.469216</td>\n",
       "      <td>2.681328</td>\n",
       "      <td>5</td>\n",
       "      <td>True</td>\n",
       "      <td>1</td>\n",
       "    </tr>\n",
       "  </tbody>\n",
       "</table>\n",
       "</div>"
      ],
      "text/plain": [
       "         country     noise  noise_sq  noise and its square  name length  South America Logical  South America Dict\n",
       "0       Colombia  0.469112  0.220066              0.689179            8                   True                   1\n",
       "1         Turkey -0.282863  0.080012             -0.202852            6                  False                   0\n",
       "2  United States -1.509059  2.277258              0.768199           13                  False                   0\n",
       "3        Germany -1.135632  1.289661              0.154029            7                  False                   0\n",
       "4          Chile  1.212112  1.469216              2.681328            5                   True                   1"
      ]
     },
     "execution_count": 69,
     "metadata": {},
     "output_type": "execute_result"
    }
   ],
   "source": [
    "mydict = {True:1,\n",
    "          False:0}\n",
    "df['South America Dict'] = df['South America Logical'].map(mydict)\n",
    "df"
   ]
  },
  {
   "cell_type": "markdown",
   "metadata": {
    "slideshow": {
     "slide_type": "subslide"
    }
   },
   "source": [
    "## Method 2: Change type"
   ]
  },
  {
   "cell_type": "code",
   "execution_count": 70,
   "metadata": {
    "slideshow": {
     "slide_type": "fragment"
    },
    "tags": []
   },
   "outputs": [
    {
     "data": {
      "text/html": [
       "<div>\n",
       "<style scoped>\n",
       "    .dataframe tbody tr th:only-of-type {\n",
       "        vertical-align: middle;\n",
       "    }\n",
       "\n",
       "    .dataframe tbody tr th {\n",
       "        vertical-align: top;\n",
       "    }\n",
       "\n",
       "    .dataframe thead th {\n",
       "        text-align: right;\n",
       "    }\n",
       "</style>\n",
       "<table border=\"1\" class=\"dataframe\">\n",
       "  <thead>\n",
       "    <tr style=\"text-align: right;\">\n",
       "      <th></th>\n",
       "      <th>country</th>\n",
       "      <th>noise</th>\n",
       "      <th>noise_sq</th>\n",
       "      <th>noise and its square</th>\n",
       "      <th>name length</th>\n",
       "      <th>South America Logical</th>\n",
       "      <th>South America Dict</th>\n",
       "      <th>South America</th>\n",
       "    </tr>\n",
       "  </thead>\n",
       "  <tbody>\n",
       "    <tr>\n",
       "      <th>0</th>\n",
       "      <td>Colombia</td>\n",
       "      <td>0.469112</td>\n",
       "      <td>0.220066</td>\n",
       "      <td>0.689179</td>\n",
       "      <td>8</td>\n",
       "      <td>True</td>\n",
       "      <td>1</td>\n",
       "      <td>1</td>\n",
       "    </tr>\n",
       "    <tr>\n",
       "      <th>1</th>\n",
       "      <td>Turkey</td>\n",
       "      <td>-0.282863</td>\n",
       "      <td>0.080012</td>\n",
       "      <td>-0.202852</td>\n",
       "      <td>6</td>\n",
       "      <td>False</td>\n",
       "      <td>0</td>\n",
       "      <td>0</td>\n",
       "    </tr>\n",
       "    <tr>\n",
       "      <th>2</th>\n",
       "      <td>United States</td>\n",
       "      <td>-1.509059</td>\n",
       "      <td>2.277258</td>\n",
       "      <td>0.768199</td>\n",
       "      <td>13</td>\n",
       "      <td>False</td>\n",
       "      <td>0</td>\n",
       "      <td>0</td>\n",
       "    </tr>\n",
       "    <tr>\n",
       "      <th>3</th>\n",
       "      <td>Germany</td>\n",
       "      <td>-1.135632</td>\n",
       "      <td>1.289661</td>\n",
       "      <td>0.154029</td>\n",
       "      <td>7</td>\n",
       "      <td>False</td>\n",
       "      <td>0</td>\n",
       "      <td>0</td>\n",
       "    </tr>\n",
       "    <tr>\n",
       "      <th>4</th>\n",
       "      <td>Chile</td>\n",
       "      <td>1.212112</td>\n",
       "      <td>1.469216</td>\n",
       "      <td>2.681328</td>\n",
       "      <td>5</td>\n",
       "      <td>True</td>\n",
       "      <td>1</td>\n",
       "      <td>1</td>\n",
       "    </tr>\n",
       "  </tbody>\n",
       "</table>\n",
       "</div>"
      ],
      "text/plain": [
       "         country     noise  noise_sq  noise and its square  name length  South America Logical  South America Dict  South America\n",
       "0       Colombia  0.469112  0.220066              0.689179            8                   True                   1              1\n",
       "1         Turkey -0.282863  0.080012             -0.202852            6                  False                   0              0\n",
       "2  United States -1.509059  2.277258              0.768199           13                  False                   0              0\n",
       "3        Germany -1.135632  1.289661              0.154029            7                  False                   0              0\n",
       "4          Chile  1.212112  1.469216              2.681328            5                   True                   1              1"
      ]
     },
     "execution_count": 70,
     "metadata": {},
     "output_type": "execute_result"
    }
   ],
   "source": [
    "df['South America'] = df.country.apply(lambda x: x in south_america).astype(int)\n",
    "df"
   ]
  },
  {
   "cell_type": "markdown",
   "metadata": {
    "slideshow": {
     "slide_type": "slide"
    }
   },
   "source": [
    "# <center>Exercises</center>"
   ]
  },
  {
   "cell_type": "markdown",
   "metadata": {
    "slideshow": {
     "slide_type": "subslide"
    },
    "tags": []
   },
   "source": [
    "<div class=\"alert alert-block alert-warning\">\n",
    "<b>Exercise 0:</b> Create a new folder and notebook called <b>Intro-Data-Analysis-Pandas-Exercises</b> where you will perform all the exercises below. Make sure to copy any code you need from this notebook to that one. You will use that folder to create a new GitHub repo with the code, html, and slides as usual.\n",
    "</div>"
   ]
  },
  {
   "cell_type": "markdown",
   "metadata": {
    "slideshow": {
     "slide_type": "fragment"
    },
    "tags": []
   },
   "source": [
    "<div class=\"alert alert-block alert-warning\">\n",
    "<b>Exercise 1:</b> Create a new dataframe <code>pop</code> with population data downloaded from <a href=\"https://en.wikipedia.org/wiki/List_of_countries_by_population_(United_Nations)\">Wikipedia</a>. Make sure to clean the data so it can be used further.\n",
    "</div>"
   ]
  },
  {
   "cell_type": "markdown",
   "metadata": {
    "slideshow": {
     "slide_type": "fragment"
    },
    "tags": []
   },
   "source": [
    "<div class=\"alert alert-block alert-warning\">\n",
    "<b>Exercise 2:</b> Merge the <code>isocodes</code> and <code>pop</code> dataframes.\n",
    "</div>"
   ]
  },
  {
   "cell_type": "markdown",
   "metadata": {
    "slideshow": {
     "slide_type": "subslide"
    },
    "tags": []
   },
   "source": [
    "<div class=\"alert alert-block alert-warning\">\n",
    "<b>Exercise 3:</b> Merge the dataframes we have created so far to have a unique dataframe that has ISO codes, GDP per capita, and population data.\n",
    "</div>"
   ]
  },
  {
   "cell_type": "markdown",
   "metadata": {
    "slideshow": {
     "slide_type": "fragment"
    },
    "tags": []
   },
   "source": [
    "<div class=\"alert alert-block alert-warning\">\n",
    "<b>Exercise 4:</b> Use the <code>os</code> package to create folders to export data and figures. \n",
    "Since you will be using the names of these folders a lot, save their names in variables called <code>path</code>, <code>pathout</code>, and <code>pathgraphs</code>, where <code>path = './data/'</code>, <code>pathout = './data/'</code>, and <code>pathgraphs = './graphs/'</code>\n",
    "</div>"
   ]
  },
  {
   "cell_type": "markdown",
   "metadata": {
    "slideshow": {
     "slide_type": "fragment"
    },
    "tags": []
   },
   "source": [
    "<div class=\"alert alert-block alert-warning\">\n",
    "    <b>Exercise 5:</b> Save the dataframe created in Exercise 3 as a <b>CSV, XLSX, and Stata</b> file into the <code>pathout</code> folder. Use a variable called <code>filename = 'Wiki_Data'</code> so you can use similar code to save all file types. Notice only the filetype will change.\n",
    "</div>"
   ]
  },
  {
   "cell_type": "markdown",
   "metadata": {
    "slideshow": {
     "slide_type": "subslide"
    },
    "tags": []
   },
   "source": [
    "<div class=\"alert alert-block alert-warning\">\n",
    "<b>Exercise 6:</b> Create plots showing the relation between GDP per capita and Population. Create all 4 types of possible regression plots and save them as <b> PNG, PDF, and JPG</b> files. Make sure to save them in the folder you created for <b>graphs</b>\n",
    "</div>"
   ]
  },
  {
   "cell_type": "markdown",
   "metadata": {
    "slideshow": {
     "slide_type": "fragment"
    },
    "tags": []
   },
   "source": [
    "<div class=\"alert alert-block alert-warning\">\n",
    "<b>Exercise 7:</b> Create plots showing the relation between GDP per capita and Population Growth. Create all 4 types of possible regression plots and save them as <b> PNG, PDF, and JPG</b> files. Make sure to save them in the folder you created for <b>graphs</b>\n",
    "</div>"
   ]
  },
  {
   "cell_type": "markdown",
   "metadata": {
    "slideshow": {
     "slide_type": "fragment"
    },
    "tags": []
   },
   "source": [
    "<div class=\"alert alert-block alert-warning\">\n",
    "<b>Exercise 8:</b> Using the notebook create slides for presenting your work and results. Once you have your slides, create a new public repo, publish it, and make sure to create a READ.ME file that show links to the notebook, html, and slides. Also, create the gh-pages branch to have a working slides webpage.\n",
    "</div>"
   ]
  },
  {
   "cell_type": "markdown",
   "metadata": {
    "slideshow": {
     "slide_type": "slide"
    },
    "tags": []
   },
   "source": [
    "Notebook written by [Ömer Özak](http://omerozak.com) for his students and anyone wanting to learn. Feel free to use, distribute, or contribute."
   ]
  },
  {
   "cell_type": "markdown",
   "metadata": {
    "slideshow": {
     "slide_type": "-"
    },
    "tags": []
   },
   "source": [
    "[<center><img src=\"https://github.com/measuring-culture/Expanding-Measurement-Culture-Facebook-JRSI/blob/main/pics/SMUlogowWordmarkRB.jpg?raw=true\" width=\"250\"></center>](http://omerozak.com)"
   ]
  }
 ],
 "metadata": {
  "celltoolbar": "Slideshow",
  "kernelspec": {
   "display_name": "Python 3 (ipykernel)",
   "language": "python",
   "name": "python3"
  },
  "language_info": {
   "codemirror_mode": {
    "name": "ipython",
    "version": 3
   },
   "file_extension": ".py",
   "mimetype": "text/x-python",
   "name": "python",
   "nbconvert_exporter": "python",
   "pygments_lexer": "ipython3",
   "version": "3.11.6"
  },
  "nbTranslate": {
   "displayLangs": [
    "*"
   ],
   "hotkey": "alt-t",
   "langInMainMenu": true,
   "sourceLang": "en",
   "targetLang": "fr",
   "useGoogleTranslate": true
  },
  "widgets": {
   "application/vnd.jupyter.widget-state+json": {
    "state": {},
    "version_major": 2,
    "version_minor": 0
   }
  }
 },
 "nbformat": 4,
 "nbformat_minor": 4
}
