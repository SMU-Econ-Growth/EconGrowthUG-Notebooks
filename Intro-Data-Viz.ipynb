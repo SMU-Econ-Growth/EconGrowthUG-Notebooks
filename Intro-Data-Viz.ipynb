{
 "cells": [
  {
   "cell_type": "markdown",
   "id": "06ca56c3-5aa8-412f-97ba-6d6eee265cb9",
   "metadata": {
    "editable": true,
    "slideshow": {
     "slide_type": "slide"
    },
    "tags": []
   },
   "source": [
    "<table>\n",
    "  <tr>\n",
    "    <td>\n",
    "      <img src=\"./pics/data-viz.png\" alt=\"data-viz.png\" width=\"2000\"/>\n",
    "    </td>\n",
    "    <td>\n",
    "      <h1>Introduction to Data Visualization in Python</h1>\n",
    "    </td>\n",
    "  </tr>\n",
    "</table>"
   ]
  },
  {
   "cell_type": "markdown",
   "id": "ee1347cb-a8a0-4f1d-a8df-a17f4624f170",
   "metadata": {
    "editable": true,
    "slideshow": {
     "slide_type": "subslide"
    },
    "tags": []
   },
   "source": [
    "## Why Visualize Data?"
   ]
  },
  {
   "cell_type": "markdown",
   "id": "0a801604-4900-4238-aca4-2be65b08e1c3",
   "metadata": {
    "editable": true,
    "slideshow": {
     "slide_type": "fragment"
    },
    "tags": []
   },
   "source": [
    "- Understand and communicate insights"
   ]
  },
  {
   "cell_type": "markdown",
   "id": "cd1f29d6-8111-4c4a-ba6d-a599db14f138",
   "metadata": {
    "editable": true,
    "slideshow": {
     "slide_type": "fragment"
    },
    "tags": []
   },
   "source": [
    "- Identify patterns and trends"
   ]
  },
  {
   "cell_type": "markdown",
   "id": "7f76843d-fa7b-4caa-a3b5-446ab03832f0",
   "metadata": {
    "editable": true,
    "slideshow": {
     "slide_type": "fragment"
    },
    "tags": []
   },
   "source": [
    "- Make data-driven decisions"
   ]
  },
  {
   "cell_type": "code",
   "execution_count": 1,
   "id": "6e2f2b57-d755-47c5-ac98-3814bac8ec19",
   "metadata": {
    "editable": true,
    "slideshow": {
     "slide_type": "skip"
    },
    "tags": []
   },
   "outputs": [],
   "source": [
    "# @hidden_cell\n",
    "%%capture\n",
    "from IPython.display import IFrame, HTML"
   ]
  },
  {
   "cell_type": "markdown",
   "id": "e19bb4fb-eff6-4c70-9401-424665768ff5",
   "metadata": {
    "editable": true,
    "slideshow": {
     "slide_type": "slide"
    },
    "tags": []
   },
   "source": [
    "# Elements of a Good Graph"
   ]
  },
  {
   "cell_type": "markdown",
   "id": "10b97e63-784e-4370-8670-3e53c570d0fe",
   "metadata": {
    "editable": true,
    "slideshow": {
     "slide_type": "subslide"
    },
    "tags": []
   },
   "source": [
    "## Key Components"
   ]
  },
  {
   "cell_type": "markdown",
   "id": "aa79a049-539f-4542-926c-eac03f1b33e3",
   "metadata": {
    "editable": true,
    "slideshow": {
     "slide_type": "fragment"
    },
    "tags": []
   },
   "source": [
    "- **Title**: Clearly describes the graph's purpose"
   ]
  },
  {
   "cell_type": "markdown",
   "id": "6420f530-8499-4be3-b413-d3b2866e2b10",
   "metadata": {
    "editable": true,
    "slideshow": {
     "slide_type": "fragment"
    },
    "tags": []
   },
   "source": [
    "- **Axis Labels**: Indicate the data and units on each axis"
   ]
  },
  {
   "cell_type": "markdown",
   "id": "a0a6fe72-ccae-4b77-afb3-6a75ce1aa17e",
   "metadata": {
    "editable": true,
    "slideshow": {
     "slide_type": "fragment"
    },
    "tags": []
   },
   "source": [
    "- **Legend**: Identifies data series"
   ]
  },
  {
   "cell_type": "markdown",
   "id": "8507531a-3523-4863-a860-5f7adcbc7819",
   "metadata": {
    "editable": true,
    "slideshow": {
     "slide_type": "fragment"
    },
    "tags": []
   },
   "source": [
    "- **Gridlines**: Optional, but can enhance readability"
   ]
  },
  {
   "cell_type": "markdown",
   "id": "a53f74ce-d909-47b7-a4c6-d299a715e5ff",
   "metadata": {
    "editable": true,
    "slideshow": {
     "slide_type": "subslide"
    },
    "tags": []
   },
   "source": [
    "## Design Principles"
   ]
  },
  {
   "cell_type": "markdown",
   "id": "f7f62f9f-d265-43ab-ae34-8327e3901b12",
   "metadata": {
    "editable": true,
    "slideshow": {
     "slide_type": "fragment"
    },
    "tags": []
   },
   "source": [
    "- Clarity: Avoid clutter and distractions"
   ]
  },
  {
   "cell_type": "markdown",
   "id": "77aefff2-1e73-40af-8f6b-341c2e73e4f1",
   "metadata": {
    "editable": true,
    "slideshow": {
     "slide_type": "fragment"
    },
    "tags": []
   },
   "source": [
    "- Accuracy: Ensure scales and labels reflect data accurately"
   ]
  },
  {
   "cell_type": "markdown",
   "id": "5520ed09-8f14-46ad-a096-d78b08aeb189",
   "metadata": {
    "editable": true,
    "slideshow": {
     "slide_type": "fragment"
    },
    "tags": []
   },
   "source": [
    "- Simplicity: Highlight the main story without unnecessary elements"
   ]
  },
  {
   "cell_type": "markdown",
   "id": "52ccca51-0ed7-40d8-b499-64b53805c65a",
   "metadata": {
    "editable": true,
    "slideshow": {
     "slide_type": "slide"
    },
    "tags": []
   },
   "source": [
    "# Examples of Bad Data Visualizations"
   ]
  },
  {
   "cell_type": "markdown",
   "id": "c6c35624-ba16-4a81-9d4b-830922ac4b23",
   "metadata": {
    "editable": true,
    "slideshow": {
     "slide_type": "subslide"
    },
    "tags": []
   },
   "source": [
    "<table>\n",
    "  <tr>\n",
    "    <td>\n",
    "      <img src=\"./pics/bad-3d-bar.png\" alt=\"data-viz.png\" width=\"2000\"/>\n",
    "    </td>\n",
    "    <td>\n",
    "      <h1>A 3D bar chart gone wrong</h1>\n",
    "    </td>\n",
    "  </tr>\n",
    "</table>"
   ]
  },
  {
   "cell_type": "markdown",
   "id": "f41bc390-e066-4407-ae6f-51cc43876e37",
   "metadata": {
    "editable": true,
    "slideshow": {
     "slide_type": "subslide"
    },
    "tags": []
   },
   "source": [
    "### Critique of 3D Bar Chart"
   ]
  },
  {
   "cell_type": "markdown",
   "id": "22e950ea-ad58-4592-af30-6a4079daf555",
   "metadata": {
    "editable": true,
    "slideshow": {
     "slide_type": "fragment"
    },
    "tags": []
   },
   "source": [
    "- **3D Effects**: \n",
    "  - Distorts data, making it hard to compare bar heights accurately.\n",
    "  - **Solution**: Use 2D to avoid distortion and make comparisons easier."
   ]
  },
  {
   "cell_type": "markdown",
   "id": "34295470-1da0-4809-ab3c-cef3d5de32ad",
   "metadata": {
    "editable": true,
    "slideshow": {
     "slide_type": "fragment"
    },
    "tags": []
   },
   "source": [
    "- **Overlapping Bars**: \n",
    "  - Bars overlap, increasing cognitive load to separate them visually.\n",
    "  - **Solution**: Use side-by-side bars in 2D."
   ]
  },
  {
   "cell_type": "markdown",
   "id": "96f2a8eb-8e3a-46f4-bacc-cbef178bfba0",
   "metadata": {
    "editable": true,
    "slideshow": {
     "slide_type": "fragment"
    },
    "tags": []
   },
   "source": [
    "- **Color Choices**: \n",
    "  - Colors lack clear meaning, potentially distracting viewers.\n",
    "  - **Solution**: Use colors with purpose or a monochromatic scheme."
   ]
  },
  {
   "cell_type": "markdown",
   "id": "1509b17b-ea41-4bc9-835e-4906750461d1",
   "metadata": {
    "editable": true,
    "slideshow": {
     "slide_type": "fragment"
    },
    "tags": []
   },
   "source": [
    "- **Lack of Clear Labels**: \n",
    "  - Missing clear axis titles and legends for color groups.\n",
    "  - **Solution**: Add descriptive axis labels and a legend if needed."
   ]
  },
  {
   "cell_type": "markdown",
   "id": "18feb122-504f-4fbf-9444-18e09cc440ea",
   "metadata": {
    "editable": true,
    "slideshow": {
     "slide_type": "fragment"
    },
    "tags": []
   },
   "source": [
    "- **Complex Gridlines**: \n",
    "  - Cluttered, making it hard to focus on data.\n",
    "  - **Solution**: Reduce gridlines or make them subtler."
   ]
  },
  {
   "cell_type": "markdown",
   "id": "a7cde577-3fa2-4f6e-a659-e7d6e12b39be",
   "metadata": {
    "editable": true,
    "slideshow": {
     "slide_type": "subslide"
    },
    "tags": []
   },
   "source": [
    "- **Tilted Labels**: \n",
    "  - X-axis labels are hard to read.\n",
    "  - **Solution**: Use horizontal or abbreviated labels."
   ]
  },
  {
   "cell_type": "markdown",
   "id": "d8fbcc88-2d39-49b9-bb33-03981bafeb95",
   "metadata": {
    "editable": true,
    "slideshow": {
     "slide_type": "fragment"
    },
    "tags": []
   },
   "source": [
    "- **Unclear Grouping**: \n",
    "  - No clear explanation of “Dose Quartile” and “Hematocrit Group.”\n",
    "  - **Solution**: Clarify grouping with annotations or labels."
   ]
  },
  {
   "cell_type": "markdown",
   "id": "a66c0443-bd1b-4ccc-9f53-131851d6e1cb",
   "metadata": {
    "editable": true,
    "slideshow": {
     "slide_type": "fragment"
    },
    "tags": []
   },
   "source": [
    "### Recommendation\n",
    "Switch to a 2D grouped bar chart with clear labels, simplified colors, and reduced clutter for better readability."
   ]
  },
  {
   "cell_type": "markdown",
   "id": "154750a9-7bf5-4db6-bfae-96176452bc9b",
   "metadata": {
    "editable": true,
    "slideshow": {
     "slide_type": "subslide"
    },
    "tags": []
   },
   "source": [
    "<center><img src=\"./pics/bad-3d-bar-corrected.png\" alt=\"data-viz.png\" width=\"1000\"/></center>"
   ]
  },
  {
   "cell_type": "markdown",
   "id": "4e8af3f2-975e-4cc7-b4d1-5656820a8d35",
   "metadata": {
    "editable": true,
    "slideshow": {
     "slide_type": "subslide"
    },
    "tags": []
   },
   "source": [
    "<table>\n",
    "  <tr>\n",
    "    <td>\n",
    "      <img src=\"./pics/bad-pie-chart.png\" alt=\"data-viz.png\" width=\"2000\"/>\n",
    "    </td>\n",
    "    <td>\n",
    "      <h1>A pie chart that should have been a bar chart</h1>\n",
    "    </td>\n",
    "  </tr>\n",
    "</table>"
   ]
  },
  {
   "cell_type": "markdown",
   "id": "0217c05b-c6ff-4ce3-8679-3e5a82617e70",
   "metadata": {
    "editable": true,
    "slideshow": {
     "slide_type": "subslide"
    },
    "tags": []
   },
   "source": [
    "### Critique of Donut Chart"
   ]
  },
  {
   "cell_type": "markdown",
   "id": "ad6f12bc-ae44-4a21-aeb9-38c6423e82d6",
   "metadata": {
    "editable": true,
    "slideshow": {
     "slide_type": "fragment"
    },
    "tags": []
   },
   "source": [
    "- **Comparison Difficulty**: \n",
    "  - Circular format makes it hard to compare segment sizes accurately.\n",
    "  - **Solution**: Use a bar chart for easier comparison."
   ]
  },
  {
   "cell_type": "markdown",
   "id": "40af8e05-c0d8-46dc-a536-2f0e355f5efc",
   "metadata": {
    "editable": true,
    "slideshow": {
     "slide_type": "fragment"
    },
    "tags": []
   },
   "source": [
    "- **Color Usage**:\n",
    "  - Colors lack a clear scheme and some are too similar.\n",
    "  - **Solution**: Use a consistent color scheme or colorblind-friendly palette."
   ]
  },
  {
   "cell_type": "markdown",
   "id": "21fbfda6-e6ce-4fd1-bfc0-cb4c25417030",
   "metadata": {
    "editable": true,
    "slideshow": {
     "slide_type": "fragment"
    },
    "tags": []
   },
   "source": [
    "- **Misleading Circular Format**:\n",
    "  - Donut charts imply parts of a whole, which isn’t the case here.\n",
    "  - **Solution**: Use a bar chart to display individual values."
   ]
  },
  {
   "cell_type": "markdown",
   "id": "8c8844a7-056e-4836-b11e-e257dcab76d9",
   "metadata": {
    "editable": true,
    "slideshow": {
     "slide_type": "subslide"
    },
    "tags": []
   },
   "source": [
    "- **Text Readability**:\n",
    "  - Text size and contrast vary, making it hard to read.\n",
    "  - **Solution**: Increase font size and improve contrast."
   ]
  },
  {
   "cell_type": "markdown",
   "id": "fe9da608-11f9-483c-8661-f8119bb17135",
   "metadata": {
    "editable": true,
    "slideshow": {
     "slide_type": "fragment"
    },
    "tags": []
   },
   "source": [
    "- **Lack of Order**:\n",
    "  - No clear ordering of segments by value.\n",
    "  - **Solution**: Order segments by descending value for clarity."
   ]
  },
  {
   "cell_type": "markdown",
   "id": "8f212636-d016-48cb-a67f-9cb50de0870c",
   "metadata": {
    "editable": true,
    "slideshow": {
     "slide_type": "fragment"
    },
    "tags": []
   },
   "source": [
    "### Recommendation\n",
    "Switch to a bar chart with consistent colors, clearer labels, and value ordering for better readability and comparison."
   ]
  },
  {
   "cell_type": "markdown",
   "id": "ef956bef-5d2c-43c9-ae06-9c9a18730a7c",
   "metadata": {
    "editable": true,
    "slideshow": {
     "slide_type": "subslide"
    },
    "tags": []
   },
   "source": [
    "<table>\n",
    "  <tr>\n",
    "    <td width=\"60%\">\n",
    "      <img src=\"./pics/bad-pie-chart-corrected.png\" alt=\"Player Scores Chart\" width=\"100%\">\n",
    "    </td>\n",
    "    <td width=\"40%\">\n",
    "      <h3>Critique & Improvements</h3>\n",
    "      <ul style=\"font-size: 2em;\">\n",
    "        <li style=\"font-size: 1em;\"><strong>Chart Type</strong>: Used a horizontal bar chart, which allows for easier comparison of player scores.</li>\n",
    "        <li style=\"font-size: 1em;\"><strong>Color Scheme</strong>: Selected a colorblind-friendly palette, ensuring accessibility.</li>\n",
    "        <li style=\"font-size: 1em;\"><strong>Ordering</strong>: Sorted bars in descending order, with the highest score at the top, making it easy to identify top performers.</li>\n",
    "        <li style=\"font-size: 1em;\"><strong>Readability</strong>: Displayed score labels at the end of each bar, enhancing readability without clutter.</li>\n",
    "      </ul>\n",
    "      <h3>Benefits</h3>\n",
    "      <p style=\"font-size: 2em;\">This design improves clarity, accessibility, and makes comparisons straightforward for viewers.</p>\n",
    "    </td>\n",
    "  </tr>\n",
    "</table>"
   ]
  },
  {
   "cell_type": "markdown",
   "id": "81a6ee64-8f57-4b34-9f59-28bf85259012",
   "metadata": {
    "editable": true,
    "slideshow": {
     "slide_type": "subslide"
    },
    "tags": []
   },
   "source": [
    "<table>\n",
    "  <tr>\n",
    "    <td>\n",
    "      <img src=\"./pics/bad-line-chart.png\" alt=\"data-viz.png\" width=\"2000\"/>\n",
    "    </td>\n",
    "    <td>\n",
    "      <h1>A continuous line chart used to show discrete data</h1>\n",
    "    </td>\n",
    "  </tr>\n",
    "</table>"
   ]
  },
  {
   "cell_type": "markdown",
   "id": "53fa2123-bcfb-4383-af96-25c2888fa1c8",
   "metadata": {
    "editable": true,
    "slideshow": {
     "slide_type": "subslide"
    },
    "tags": []
   },
   "source": [
    "### Critique of Line Chart"
   ]
  },
  {
   "cell_type": "markdown",
   "id": "8e88e4c2-fb0e-4b18-aabc-a3b635fbeedb",
   "metadata": {
    "editable": true,
    "slideshow": {
     "slide_type": "fragment"
    },
    "tags": []
   },
   "source": [
    "- **Discrete Data Misrepresented as Continuous**:\n",
    "  - Continuous lines imply trends between data points, which misrepresents annual, discrete data.\n",
    "  - **Solution**: Use a step chart or discrete markers."
   ]
  },
  {
   "cell_type": "markdown",
   "id": "f6dab9eb-3094-4131-93da-ff69445ec8df",
   "metadata": {
    "editable": true,
    "slideshow": {
     "slide_type": "fragment"
    },
    "tags": []
   },
   "source": [
    "- **Line Style and Color**:\n",
    "  - Dashed lines with low-contrast colors may confuse viewers, especially colorblind readers.\n",
    "  - **Solution**: Use solid lines with a colorblind-friendly palette (e.g., blue and orange)."
   ]
  },
  {
   "cell_type": "markdown",
   "id": "dee492b7-fc7c-4be6-83d3-17e4b243dc84",
   "metadata": {
    "editable": true,
    "slideshow": {
     "slide_type": "fragment"
    },
    "tags": []
   },
   "source": [
    "- **Lack of Data Labels**:\n",
    "  - Difficult to determine exact values for each year.\n",
    "  - **Solution**: Add data labels or grid lines for easier value estimation."
   ]
  },
  {
   "cell_type": "markdown",
   "id": "b9cb8c82-2aa9-408c-ad6b-ecb6203b8eaf",
   "metadata": {
    "editable": true,
    "slideshow": {
     "slide_type": "subslide"
    },
    "tags": []
   },
   "source": [
    "- **Biased Title**:\n",
    "  - Title is styled as a slogan rather than a neutral description.\n",
    "  - **Solution**: Use a factual title like “Market Share (%) of Britannia vs. Competitor Over Time.”"
   ]
  },
  {
   "cell_type": "markdown",
   "id": "dea0663a-52fb-42c1-969f-1dfd3b196174",
   "metadata": {
    "editable": true,
    "slideshow": {
     "slide_type": "fragment"
    },
    "tags": []
   },
   "source": [
    "- **Excessive Background Styling**:\n",
    "  - Decorative elements distract from the data.\n",
    "  - **Solution**: Remove background elements for a cleaner look."
   ]
  },
  {
   "cell_type": "markdown",
   "id": "37b7034f-0c17-4e80-912d-24a5ddf77513",
   "metadata": {
    "editable": true,
    "slideshow": {
     "slide_type": "fragment"
    },
    "tags": []
   },
   "source": [
    "### Recommendation\n",
    "Use a step chart or discrete markers, solid lines in high-contrast colors, a clear title, and minimalistic styling for clarity and accurate representation."
   ]
  },
  {
   "cell_type": "markdown",
   "id": "3d8742ef-46f3-4376-b212-a15acdb41189",
   "metadata": {
    "editable": true,
    "slideshow": {
     "slide_type": "subslide"
    },
    "tags": []
   },
   "source": [
    "<table>\n",
    "  <tr>\n",
    "    <td width=\"50%\">\n",
    "      <img src=\"./pics/bad-line-chart-corrected.png\" alt=\"data-viz.png\" width=\"2000\"/>\n",
    "    </td>\n",
    "    <td width=\"50%\">\n",
    "      <img src=\"./pics/bad-line-chart-better.png\" alt=\"data-viz.png\" width=\"2000\"/>\n",
    "    </td>\n",
    "  </tr>\n",
    "</table>"
   ]
  },
  {
   "cell_type": "markdown",
   "id": "87907b7c-5203-46d6-ad5a-f3bb0d139bca",
   "metadata": {
    "editable": true,
    "slideshow": {
     "slide_type": "subslide"
    },
    "tags": []
   },
   "source": [
    "<table>\n",
    "  <tr>\n",
    "    <td>\n",
    "      <img src=\"./pics/bad-geo-visual.png\" alt=\"data-viz.png\" width=\"2000\"/>\n",
    "    </td>\n",
    "    <td>\n",
    "      <h1>A misleading geography visual</h1>\n",
    "    </td>\n",
    "  </tr>\n",
    "</table>"
   ]
  },
  {
   "cell_type": "markdown",
   "id": "384ca469-9559-4989-8620-35eaaacf1c68",
   "metadata": {
    "editable": true,
    "slideshow": {
     "slide_type": "subslide"
    },
    "tags": []
   },
   "source": [
    "### Critique of Map Visualization"
   ]
  },
  {
   "cell_type": "markdown",
   "id": "a8c65a06-8b8d-45e2-bf83-2cb023975ed1",
   "metadata": {
    "editable": true,
    "slideshow": {
     "slide_type": "fragment"
    },
    "tags": []
   },
   "source": [
    "- **Misleading Use of Map**:\n",
    "  - Map implies geographic variation that isn’t present in national population percentages.\n",
    "  - **Solution**: Use a stacked bar chart or line chart."
   ]
  },
  {
   "cell_type": "markdown",
   "id": "e8683739-c3ef-42dd-a3dd-2dc285dc283e",
   "metadata": {
    "editable": true,
    "slideshow": {
     "slide_type": "fragment"
    },
    "tags": []
   },
   "source": [
    "- **Ineffective Color Scheme**:\n",
    "  - Bold colors may not be colorblind-friendly; \"Asian\" and \"Other\" are hard to distinguish.\n",
    "  - **Solution**: Use a colorblind-friendly palette with clear contrasts."
   ]
  },
  {
   "cell_type": "markdown",
   "id": "fcb74c18-96d9-4125-9a73-2b9507b1e5cd",
   "metadata": {
    "editable": true,
    "slideshow": {
     "slide_type": "fragment"
    },
    "tags": []
   },
   "source": [
    "- **Overwhelming Red Color**:\n",
    "  - Strong red for \"White\" category draws excessive attention.\n",
    "  - **Solution**: Choose a balanced color scheme to avoid emphasis on one group."
   ]
  },
  {
   "cell_type": "markdown",
   "id": "02737732-3aac-438d-bd46-50b8bfa5d303",
   "metadata": {
    "editable": true,
    "slideshow": {
     "slide_type": "fragment"
    },
    "tags": []
   },
   "source": [
    "- **Cluttered Labels**:\n",
    "  - Labels are hard to read, especially where they overlap.\n",
    "  - **Solution**: Separate labels clearly or use a data table for percentages."
   ]
  },
  {
   "cell_type": "markdown",
   "id": "9add96a6-c7a7-4625-870e-3beca07d6fab",
   "metadata": {
    "editable": true,
    "slideshow": {
     "slide_type": "fragment"
    },
    "tags": []
   },
   "source": [
    "- **Lack of Context**:\n",
    "  - Title is vague and doesn’t provide sufficient context for data.\n",
    "  - **Solution**: Add a descriptive title and subtitle explaining data scope."
   ]
  },
  {
   "cell_type": "markdown",
   "id": "d8326b8e-ea1d-494a-8894-01a806f10867",
   "metadata": {
    "editable": true,
    "slideshow": {
     "slide_type": "subslide"
    },
    "tags": []
   },
   "source": [
    "### Recommendation\n",
    "Switch to a stacked bar chart or line chart with balanced colors, clear labels, and a descriptive title for a more accurate and readable presentation."
   ]
  },
  {
   "cell_type": "markdown",
   "id": "535b7863-981f-482b-a6d1-6bc3e1e92321",
   "metadata": {
    "editable": true,
    "slideshow": {
     "slide_type": ""
    },
    "tags": []
   },
   "source": [
    "<center><img src=\"./pics/bad-geo-visual-corrected.png\" alt=\"data-viz.png\" width=\"80%\"/></center>"
   ]
  },
  {
   "cell_type": "markdown",
   "id": "7081e41d-e2ca-4d91-88db-14dbf2235bcf",
   "metadata": {
    "editable": true,
    "slideshow": {
     "slide_type": "subslide"
    },
    "tags": []
   },
   "source": [
    "<table>\n",
    "  <tr>\n",
    "    <td>\n",
    "      <img src=\"./pics/bad-wtf.png\" alt=\"data-viz.png\" width=\"2000\"/>\n",
    "    </td>\n",
    "    <td>\n",
    "      <h1>What is this?</h1>\n",
    "    </td>\n",
    "  </tr>\n",
    "</table>"
   ]
  },
  {
   "cell_type": "markdown",
   "id": "fb810680-c789-4650-be51-32a6c4abbcb2",
   "metadata": {
    "editable": true,
    "slideshow": {
     "slide_type": "subslide"
    },
    "tags": []
   },
   "source": [
    "### Critique of MLS Salary Visualization"
   ]
  },
  {
   "cell_type": "markdown",
   "id": "e24549cc-d043-417c-9b99-4ca6c0988bc3",
   "metadata": {
    "editable": true,
    "slideshow": {
     "slide_type": "fragment"
    },
    "tags": []
   },
   "source": [
    "- **Overwhelming Colors**:\n",
    "  - Too many colors make it visually overwhelming.\n",
    "  - **Solution**: Simplify color scheme or group by role/salary range."
   ]
  },
  {
   "cell_type": "markdown",
   "id": "07ae880f-abcd-4077-b0d4-193bf7b2f946",
   "metadata": {
    "editable": true,
    "slideshow": {
     "slide_type": "fragment"
    },
    "tags": []
   },
   "source": [
    "- **Inconsistent Layout**:\n",
    "  - Bar lengths vary, making it hard to compare teams.\n",
    "  - **Solution**: Use a consistent scale for bars."
   ]
  },
  {
   "cell_type": "markdown",
   "id": "79c59edf-3544-4d34-9618-0e3b4e68ef7c",
   "metadata": {
    "editable": true,
    "slideshow": {
     "slide_type": "fragment"
    },
    "tags": []
   },
   "source": [
    "- **Lack of Data Labels**:\n",
    "  - Small blocks lack player details, making interpretation difficult.\n",
    "  - **Solution**: Add labels or interactive tooltips for player name and salary."
   ]
  },
  {
   "cell_type": "markdown",
   "id": "a610c39c-48cc-42bd-935b-36b5e21d5dff",
   "metadata": {
    "editable": true,
    "slideshow": {
     "slide_type": "fragment"
    },
    "tags": []
   },
   "source": [
    "- **Tiny Legend**:\n",
    "  - Legend is small and hard to read.\n",
    "  - **Solution**: Enlarge legend with clearer labels."
   ]
  },
  {
   "cell_type": "markdown",
   "id": "4a02eb64-d02e-418c-8bbf-7539d7954e35",
   "metadata": {
    "editable": true,
    "slideshow": {
     "slide_type": "subslide"
    },
    "tags": []
   },
   "source": [
    "- **Excessive Text on Right**:\n",
    "  - Title and text crowd the visualization area.\n",
    "  - **Solution**: Move title and explanation above chart."
   ]
  },
  {
   "cell_type": "markdown",
   "id": "d5242a9b-d399-44a6-8098-50edc2a174cf",
   "metadata": {
    "editable": true,
    "slideshow": {
     "slide_type": "fragment"
    },
    "tags": []
   },
   "source": [
    "- **Hard to Compare Across Teams**:\n",
    "  - Difficult to understand team salary distribution.\n",
    "  - **Solution**: Group players by salary range or create a separate summary chart."
   ]
  },
  {
   "cell_type": "markdown",
   "id": "409044a9-34eb-4fc6-8d86-5588eacd769e",
   "metadata": {
    "editable": true,
    "slideshow": {
     "slide_type": "fragment"
    },
    "tags": []
   },
   "source": [
    "### Recommendation\n",
    "Streamline the design with a simpler color scheme, clearer labels, consistent scales, and more space for data to enhance readability and comparison."
   ]
  },
  {
   "cell_type": "markdown",
   "id": "ee49a8a0-d3a5-4cac-8da6-3ae1eb6125a3",
   "metadata": {
    "editable": true,
    "slideshow": {
     "slide_type": "subslide"
    },
    "tags": []
   },
   "source": [
    "<table>\n",
    "  <tr>\n",
    "    <td width=\"60%\">\n",
    "      <img src=\"./pics/bad-wtf-corrected.png\" alt=\"Player Scores Chart\" width=\"100%\">\n",
    "    </td>\n",
    "    <td width=\"40%\">\n",
    "      <h3>Critique & Improvements</h3>\n",
    "      <ul style=\"font-size: 2em;\">\n",
    "        <li style=\"font-size: 1em;\"><strong>Individual Player Representation</strong>: Each segment represents an individual player's salary, maintaining the original intent to display salaries within each team.</li>\n",
    "        <li style=\"font-size: 1em;\"><strong>Color Scheme</strong>: Used a limited, colorblind-friendly palette to distinguish players without overwhelming the viewer.</li>\n",
    "        <li style=\"font-size: 1em;\"><strong>Consistent Scale Across Teams</strong>: Each team’s bar has the same scale, making comparisons across teams easier.</li>\n",
    "        <li style=\"font-size: 1em;\"><strong>Simplified Legend</strong>: The legend is clear and concise, improving readability and focusing on essential information.</li>\n",
    "      </ul>\n",
    "      <h3>Benefits</h3>\n",
    "      <p style=\"font-size: 2em;\">This design enhances clarity, accessibility, and facilitates straightforward comparisons of player salaries across MLS teams.</p>\n",
    "    </td>\n",
    "  </tr>\n",
    "</table>"
   ]
  },
  {
   "cell_type": "markdown",
   "id": "b351c914-6947-49ee-8f30-27da224b4e6c",
   "metadata": {
    "editable": true,
    "slideshow": {
     "slide_type": "subslide"
    },
    "tags": []
   },
   "source": [
    "<table>\n",
    "  <tr>\n",
    "    <td>\n",
    "      <img src=\"./pics/bad-bubble-graph.png\" alt=\"data-viz.png\" width=\"2000\"/>\n",
    "    </td>\n",
    "    <td>\n",
    "      <h1>A bubble chart gone wrong</h1>\n",
    "    </td>\n",
    "  </tr>\n",
    "</table>"
   ]
  },
  {
   "cell_type": "markdown",
   "id": "add5de6a-ec42-4d00-9e7c-b4ab7867e765",
   "metadata": {
    "editable": true,
    "slideshow": {
     "slide_type": "slide"
    },
    "tags": []
   },
   "source": [
    "# Examples of Good Data Visualizations"
   ]
  },
  {
   "cell_type": "code",
   "execution_count": null,
   "id": "a3e320d0-9b7c-4a5e-8596-c7c308feb9f5",
   "metadata": {
    "editable": true,
    "slideshow": {
     "slide_type": ""
    },
    "tags": []
   },
   "outputs": [],
   "source": []
  },
  {
   "cell_type": "markdown",
   "id": "808754ab-406a-42a4-8347-d98746e510d0",
   "metadata": {
    "editable": true,
    "slideshow": {
     "slide_type": "subslide"
    },
    "tags": []
   },
   "source": [
    "## Tools for Visualization in Python"
   ]
  },
  {
   "cell_type": "markdown",
   "id": "e46cae31-f002-4af8-a736-871afae11900",
   "metadata": {
    "editable": true,
    "slideshow": {
     "slide_type": "subslide"
    },
    "tags": []
   },
   "source": [
    "- **[matplotlib](https://matplotlib.org/)**: The foundational Python library for creating static, animated, and interactive visualizations.\n",
    "<iframe src=\"https://matplotlib.org/\" width=\"100%\" height=\"400\"></iframe>"
   ]
  },
  {
   "cell_type": "code",
   "execution_count": 20,
   "id": "49b22506-0b93-4c26-a7e6-c2b9f0646e05",
   "metadata": {
    "editable": true,
    "slideshow": {
     "slide_type": ""
    },
    "tags": []
   },
   "outputs": [
    {
     "data": {
      "text/html": [
       "\n",
       "        <iframe\n",
       "            width=\"100%\"\n",
       "            height=\"700\"\n",
       "            src=\"https://matplotlib.org/\"\n",
       "            frameborder=\"0\"\n",
       "            allowfullscreen\n",
       "            \n",
       "        ></iframe>\n",
       "        "
      ],
      "text/plain": [
       "<IPython.lib.display.IFrame at 0x1363a1550>"
      ]
     },
     "execution_count": 20,
     "metadata": {},
     "output_type": "execute_result"
    }
   ],
   "source": [
    "# @hidden_cell\n",
    "# Display an iframe with the specified URL\n",
    "IFrame(\"https://matplotlib.org/\", width=\"100%\", height=\"700\")"
   ]
  },
  {
   "cell_type": "markdown",
   "id": "a1acfe20-62a9-4494-84bb-df61db8ef0df",
   "metadata": {
    "editable": true,
    "slideshow": {
     "slide_type": "subslide"
    },
    "tags": []
   },
   "source": [
    "- **[pandas plotting](https://pandas.pydata.org/pandas-docs/stable/user_guide/visualization.html)**: The Pandas library includes simple plotting capabilities built on matplotlib, making it easy to create basic visualizations directly from DataFrames."
   ]
  },
  {
   "cell_type": "code",
   "execution_count": 21,
   "id": "4d7273e8-2ba2-4f7b-b5d5-fd7fb9b30d42",
   "metadata": {
    "editable": true,
    "slideshow": {
     "slide_type": ""
    },
    "tags": []
   },
   "outputs": [
    {
     "data": {
      "text/html": [
       "\n",
       "        <iframe\n",
       "            width=\"100%\"\n",
       "            height=\"700\"\n",
       "            src=\"https://pandas.pydata.org/pandas-docs/stable/user_guide/visualization.html\"\n",
       "            frameborder=\"0\"\n",
       "            allowfullscreen\n",
       "            \n",
       "        ></iframe>\n",
       "        "
      ],
      "text/plain": [
       "<IPython.lib.display.IFrame at 0x1363b1dd0>"
      ]
     },
     "execution_count": 21,
     "metadata": {},
     "output_type": "execute_result"
    }
   ],
   "source": [
    "# Pandas Plotting\n",
    "IFrame(\"https://pandas.pydata.org/pandas-docs/stable/user_guide/visualization.html\", width=\"100%\", height=\"700\")"
   ]
  },
  {
   "cell_type": "markdown",
   "id": "b4626c10-8999-4dfd-a2f9-492cc5444d5e",
   "metadata": {
    "editable": true,
    "slideshow": {
     "slide_type": "subslide"
    },
    "tags": []
   },
   "source": [
    "- **[Geopandas](https://geopandas.org/)**: Extends Pandas to work with geospatial data and provides easy-to-use tools for plotting maps and geospatial data."
   ]
  },
  {
   "cell_type": "code",
   "execution_count": 22,
   "id": "cfffcb80-fa94-4272-864b-b5200999753a",
   "metadata": {
    "editable": true,
    "slideshow": {
     "slide_type": ""
    },
    "tags": []
   },
   "outputs": [
    {
     "data": {
      "text/html": [
       "\n",
       "        <iframe\n",
       "            width=\"100%\"\n",
       "            height=\"700\"\n",
       "            src=\"https://geopandas.org/\"\n",
       "            frameborder=\"0\"\n",
       "            allowfullscreen\n",
       "            \n",
       "        ></iframe>\n",
       "        "
      ],
      "text/plain": [
       "<IPython.lib.display.IFrame at 0x1363ca010>"
      ]
     },
     "execution_count": 22,
     "metadata": {},
     "output_type": "execute_result"
    }
   ],
   "source": [
    "# Geopandas\n",
    "IFrame(\"https://geopandas.org/\", width=\"100%\", height=\"700\")"
   ]
  },
  {
   "cell_type": "markdown",
   "id": "798e2713-bfd7-42bb-b74e-99e433381e43",
   "metadata": {
    "editable": true,
    "slideshow": {
     "slide_type": "subslide"
    },
    "tags": []
   },
   "source": [
    "- **[seaborn](https://seaborn.pydata.org/)**: Built on top of matplotlib, seaborn provides a high-level interface for drawing attractive statistical graphics."
   ]
  },
  {
   "cell_type": "code",
   "execution_count": 23,
   "id": "8fbc7fef-cce4-4530-9e47-2e26e562e0eb",
   "metadata": {
    "editable": true,
    "slideshow": {
     "slide_type": ""
    },
    "tags": []
   },
   "outputs": [
    {
     "data": {
      "text/html": [
       "\n",
       "        <iframe\n",
       "            width=\"100%\"\n",
       "            height=\"700\"\n",
       "            src=\"https://seaborn.pydata.org/\"\n",
       "            frameborder=\"0\"\n",
       "            allowfullscreen\n",
       "            \n",
       "        ></iframe>\n",
       "        "
      ],
      "text/plain": [
       "<IPython.lib.display.IFrame at 0x1363b0e90>"
      ]
     },
     "execution_count": 23,
     "metadata": {},
     "output_type": "execute_result"
    }
   ],
   "source": [
    "# Seaborn\n",
    "IFrame(\"https://seaborn.pydata.org/\", width=\"100%\", height=\"700\")"
   ]
  },
  {
   "cell_type": "markdown",
   "id": "7be21b93-fe05-47f3-96f7-d13efa7b5f44",
   "metadata": {
    "editable": true,
    "slideshow": {
     "slide_type": "subslide"
    },
    "tags": []
   },
   "source": [
    "- **[geoplot](https://residentmario.github.io/geoplot/)**: A high-level Python geospatial plotting library, designed to work with geopandas and matplotlib. It simplifies the creation of thematic maps and allows for various types of geographic data visualization, such as choropleths, cartograms, and point maps."
   ]
  },
  {
   "cell_type": "code",
   "execution_count": 33,
   "id": "6d405d98-2991-4a4a-be80-bc889741fb3c",
   "metadata": {
    "editable": true,
    "slideshow": {
     "slide_type": ""
    },
    "tags": []
   },
   "outputs": [
    {
     "data": {
      "text/html": [
       "\n",
       "        <iframe\n",
       "            width=\"100%\"\n",
       "            height=\"700\"\n",
       "            src=\"https://residentmario.github.io/geoplot/\"\n",
       "            frameborder=\"0\"\n",
       "            allowfullscreen\n",
       "            \n",
       "        ></iframe>\n",
       "        "
      ],
      "text/plain": [
       "<IPython.lib.display.IFrame at 0x1363b8690>"
      ]
     },
     "execution_count": 33,
     "metadata": {},
     "output_type": "execute_result"
    }
   ],
   "source": [
    "# Geoplot\n",
    "IFrame(\"https://residentmario.github.io/geoplot/\", width=\"100%\", height=\"700\")"
   ]
  },
  {
   "cell_type": "markdown",
   "id": "ee02043d-6d92-4525-9484-0dfc4a084b03",
   "metadata": {
    "editable": true,
    "slideshow": {
     "slide_type": "subslide"
    },
    "tags": []
   },
   "source": [
    "- **[Plotly](https://plotly.com/python/)**: A versatile library for creating interactive and web-based plots. Plotly Express, a part of Plotly, offers a simple syntax for creating complex visualizations quickly."
   ]
  },
  {
   "cell_type": "code",
   "execution_count": 24,
   "id": "b47beaf6-20b3-4f0e-af5c-f122ff11a97a",
   "metadata": {
    "editable": true,
    "slideshow": {
     "slide_type": ""
    },
    "tags": []
   },
   "outputs": [
    {
     "data": {
      "text/html": [
       "\n",
       "        <iframe\n",
       "            width=\"100%\"\n",
       "            height=\"700\"\n",
       "            src=\"https://plotly.com/python/\"\n",
       "            frameborder=\"0\"\n",
       "            allowfullscreen\n",
       "            \n",
       "        ></iframe>\n",
       "        "
      ],
      "text/plain": [
       "<IPython.lib.display.IFrame at 0x136397d90>"
      ]
     },
     "execution_count": 24,
     "metadata": {},
     "output_type": "execute_result"
    }
   ],
   "source": [
    "# Plotly\n",
    "IFrame(\"https://plotly.com/python/\", width=\"100%\", height=\"700\")"
   ]
  },
  {
   "cell_type": "markdown",
   "id": "6732acb5-f282-4283-9bad-72d7ce0a1d09",
   "metadata": {
    "editable": true,
    "slideshow": {
     "slide_type": "subslide"
    },
    "tags": []
   },
   "source": [
    "- **[lets-plot](https://lets-plot.org/)**: A plotting library developed by JetBrains that brings the ggplot2-like API to Python. It supports interactive and static visualizations and is particularly suited for data scientists familiar with the grammar of graphics approach."
   ]
  },
  {
   "cell_type": "code",
   "execution_count": 36,
   "id": "ade56dca-c8f3-4f3c-a367-18fa77056e56",
   "metadata": {
    "editable": true,
    "slideshow": {
     "slide_type": ""
    },
    "tags": []
   },
   "outputs": [
    {
     "data": {
      "text/html": [
       "\n",
       "        <iframe\n",
       "            width=\"100%\"\n",
       "            height=\"700\"\n",
       "            src=\"https://lets-plot.org/\"\n",
       "            frameborder=\"0\"\n",
       "            allowfullscreen\n",
       "            \n",
       "        ></iframe>\n",
       "        "
      ],
      "text/plain": [
       "<IPython.lib.display.IFrame at 0x137659310>"
      ]
     },
     "execution_count": 36,
     "metadata": {},
     "output_type": "execute_result"
    }
   ],
   "source": [
    "# Lets-Plot\n",
    "IFrame(\"https://lets-plot.org/\", width=\"100%\", height=\"700\")"
   ]
  },
  {
   "cell_type": "markdown",
   "id": "eecbd6b0-f7c2-4216-a256-551be5346b5c",
   "metadata": {
    "editable": true,
    "slideshow": {
     "slide_type": "subslide"
    },
    "tags": []
   },
   "source": [
    "- **[plotnine](https://plotnine.readthedocs.io/)**: A Python library that replicates the ggplot2 syntax from R. Based on the grammar of graphics, plotnine makes it easy to create complex and layered visualizations, especially for users with an R or ggplot2 background."
   ]
  },
  {
   "cell_type": "code",
   "execution_count": 37,
   "id": "c6fefa4d-2ecc-480d-9f43-6d2508faef72",
   "metadata": {
    "editable": true,
    "slideshow": {
     "slide_type": ""
    },
    "tags": []
   },
   "outputs": [
    {
     "data": {
      "text/html": [
       "\n",
       "        <iframe\n",
       "            width=\"100%\"\n",
       "            height=\"700\"\n",
       "            src=\"https://plotnine.readthedocs.io/\"\n",
       "            frameborder=\"0\"\n",
       "            allowfullscreen\n",
       "            \n",
       "        ></iframe>\n",
       "        "
      ],
      "text/plain": [
       "<IPython.lib.display.IFrame at 0x1376a6510>"
      ]
     },
     "execution_count": 37,
     "metadata": {},
     "output_type": "execute_result"
    }
   ],
   "source": [
    "# Plotnine\n",
    "IFrame(\"https://plotnine.readthedocs.io/\", width=\"100%\", height=\"700\")"
   ]
  },
  {
   "cell_type": "markdown",
   "id": "b3d73cbc-fbf7-4778-9a59-315c49001dc0",
   "metadata": {
    "editable": true,
    "slideshow": {
     "slide_type": "subslide"
    },
    "tags": []
   },
   "source": [
    "- **[Bokeh](https://bokeh.org/)**: Designed for creating interactive visualizations that are ideal for web applications, Bokeh allows detailed control over both visual presentation and interactivity."
   ]
  },
  {
   "cell_type": "code",
   "execution_count": 25,
   "id": "3ed91990-d0c1-44e6-8ba7-d7bc278d02f3",
   "metadata": {
    "editable": true,
    "slideshow": {
     "slide_type": ""
    },
    "tags": []
   },
   "outputs": [
    {
     "data": {
      "text/html": [
       "\n",
       "        <iframe\n",
       "            width=\"100%\"\n",
       "            height=\"700\"\n",
       "            src=\"https://bokeh.org/\"\n",
       "            frameborder=\"0\"\n",
       "            allowfullscreen\n",
       "            \n",
       "        ></iframe>\n",
       "        "
      ],
      "text/plain": [
       "<IPython.lib.display.IFrame at 0x1363c86d0>"
      ]
     },
     "execution_count": 25,
     "metadata": {},
     "output_type": "execute_result"
    }
   ],
   "source": [
    "# Bokeh\n",
    "IFrame(\"https://bokeh.org/\", width=\"100%\", height=\"700\")"
   ]
  },
  {
   "cell_type": "markdown",
   "id": "b8c22188-6bc8-4967-9770-75ac7be14416",
   "metadata": {
    "editable": true,
    "slideshow": {
     "slide_type": "subslide"
    },
    "tags": []
   },
   "source": [
    "- **[Altair](https://altair-viz.github.io/)**: A declarative statistical visualization library based on the Vega and Vega-Lite visualization grammars, known for its simplicity and effectiveness for creating statistical plots."
   ]
  },
  {
   "cell_type": "code",
   "execution_count": 26,
   "id": "aed0dcb0-2009-4192-a534-ac4bc2e8f5e4",
   "metadata": {
    "editable": true,
    "slideshow": {
     "slide_type": ""
    },
    "tags": []
   },
   "outputs": [
    {
     "data": {
      "text/html": [
       "\n",
       "        <iframe\n",
       "            width=\"100%\"\n",
       "            height=\"700\"\n",
       "            src=\"https://altair-viz.github.io/\"\n",
       "            frameborder=\"0\"\n",
       "            allowfullscreen\n",
       "            \n",
       "        ></iframe>\n",
       "        "
      ],
      "text/plain": [
       "<IPython.lib.display.IFrame at 0x1363ca5d0>"
      ]
     },
     "execution_count": 26,
     "metadata": {},
     "output_type": "execute_result"
    }
   ],
   "source": [
    "# Altair\n",
    "IFrame(\"https://altair-viz.github.io/\", width=\"100%\", height=\"700\")"
   ]
  },
  {
   "cell_type": "markdown",
   "id": "a8559765-d2cc-4201-8ad2-cf774a89d3b2",
   "metadata": {
    "editable": true,
    "slideshow": {
     "slide_type": "subslide"
    },
    "tags": []
   },
   "source": [
    "- **[Holoviews](https://holoviews.org/)**: A high-level library for interactive data exploration, built on top of Bokeh and Matplotlib. It allows users to create complex visualizations with minimal code."
   ]
  },
  {
   "cell_type": "code",
   "execution_count": 27,
   "id": "2d5b428b-ce7d-4092-83ba-378dd88aebf1",
   "metadata": {
    "editable": true,
    "slideshow": {
     "slide_type": ""
    },
    "tags": []
   },
   "outputs": [
    {
     "data": {
      "text/html": [
       "\n",
       "        <iframe\n",
       "            width=\"100%\"\n",
       "            height=\"700\"\n",
       "            src=\"https://holoviews.org/\"\n",
       "            frameborder=\"0\"\n",
       "            allowfullscreen\n",
       "            \n",
       "        ></iframe>\n",
       "        "
      ],
      "text/plain": [
       "<IPython.lib.display.IFrame at 0x1363cb0d0>"
      ]
     },
     "execution_count": 27,
     "metadata": {},
     "output_type": "execute_result"
    }
   ],
   "source": [
    "# Holoviews\n",
    "IFrame(\"https://holoviews.org/\", width=\"100%\", height=\"700\")"
   ]
  },
  {
   "cell_type": "markdown",
   "id": "d7e062c4-bae1-4737-917f-b356c72b278f",
   "metadata": {
    "editable": true,
    "slideshow": {
     "slide_type": "subslide"
    },
    "tags": []
   },
   "source": [
    "- **[Dash](https://dash.plotly.com/)**: A framework by Plotly for building interactive web applications with Python. Dash is especially useful for creating interactive, data-driven web apps with complex visualizations."
   ]
  },
  {
   "cell_type": "code",
   "execution_count": 32,
   "id": "add2e495-ce89-4f46-b416-75df1833912b",
   "metadata": {
    "editable": true,
    "slideshow": {
     "slide_type": ""
    },
    "tags": []
   },
   "outputs": [
    {
     "data": {
      "text/html": [
       "\n",
       "        <iframe\n",
       "            width=\"100%\"\n",
       "            height=\"700\"\n",
       "            src=\"https://dash.plotly.com/\"\n",
       "            frameborder=\"0\"\n",
       "            allowfullscreen\n",
       "            \n",
       "        ></iframe>\n",
       "        "
      ],
      "text/plain": [
       "<IPython.lib.display.IFrame at 0x1363a3010>"
      ]
     },
     "execution_count": 32,
     "metadata": {},
     "output_type": "execute_result"
    }
   ],
   "source": [
    "# Dash\n",
    "IFrame(\"https://dash.plotly.com/\", width=\"100%\", height=\"700\")"
   ]
  },
  {
   "cell_type": "markdown",
   "id": "8bbda174-7939-4c06-b1df-036a32111c9c",
   "metadata": {},
   "source": [
    "# Creating a Simple Visualization in Python"
   ]
  },
  {
   "cell_type": "code",
   "execution_count": 34,
   "id": "c818d1a8-9941-4986-8f95-536c0841c6d3",
   "metadata": {
    "editable": true,
    "slideshow": {
     "slide_type": ""
    },
    "tags": []
   },
   "outputs": [
    {
     "data": {
      "image/png": "[encoded data removed]",
      "text/plain": [
       "<Figure size 640x480 with 1 Axes>"
      ]
     },
     "metadata": {},
     "output_type": "display_data"
    }
   ],
   "source": [
    "import matplotlib.pyplot as plt\n",
    "\n",
    "# Sample data\n",
    "x = [1, 2, 3, 4, 5]\n",
    "y = [10, 20, 25, 30, 40]\n",
    "\n",
    "# Plotting a basic line chart\n",
    "plt.plot(x, y, marker='o')\n",
    "plt.title(\"Sample Line Chart\")\n",
    "plt.xlabel(\"X Axis\")\n",
    "plt.ylabel(\"Y Axis\")\n",
    "plt.grid(True)\n",
    "plt.show()"
   ]
  }
 ],
 "metadata": {
  "kernelspec": {
   "display_name": "Python 3 (ipykernel)",
   "language": "python",
   "name": "python3"
  },
  "language_info": {
   "codemirror_mode": {
    "name": "ipython",
    "version": 3
   },
   "file_extension": ".py",
   "mimetype": "text/x-python",
   "name": "python",
   "nbconvert_exporter": "python",
   "pygments_lexer": "ipython3",
   "version": "3.11.8"
  },
  "widgets": {
   "application/vnd.jupyter.widget-state+json": {
    "state": {},
    "version_major": 2,
    "version_minor": 0
   }
  }
 },
 "nbformat": 4,
 "nbformat_minor": 5
}
