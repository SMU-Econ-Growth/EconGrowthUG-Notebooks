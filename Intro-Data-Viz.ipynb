{
 "cells": [
  {
   "cell_type": "markdown",
   "id": "06ca56c3-5aa8-412f-97ba-6d6eee265cb9",
   "metadata": {
    "editable": true,
    "slideshow": {
     "slide_type": "slide"
    },
    "tags": []
   },
   "source": [
    "<table>\n",
    "  <tr>\n",
    "    <td>\n",
    "      <img src=\"./pics/data-viz.png\" alt=\"data-viz.png\" width=\"2000\"/>\n",
    "    </td>\n",
    "    <td>\n",
    "      <h1>Introduction to Data Visualization in Python</h1>\n",
    "    </td>\n",
    "  </tr>\n",
    "</table>"
   ]
  },
  {
   "cell_type": "markdown",
   "id": "ee1347cb-a8a0-4f1d-a8df-a17f4624f170",
   "metadata": {
    "editable": true,
    "slideshow": {
     "slide_type": "slide"
    },
    "tags": []
   },
   "source": [
    "## Why Visualize Data?"
   ]
  },
  {
   "cell_type": "markdown",
   "id": "0a801604-4900-4238-aca4-2be65b08e1c3",
   "metadata": {
    "editable": true,
    "slideshow": {
     "slide_type": "fragment"
    },
    "tags": []
   },
   "source": [
    "- Understand and communicate insights"
   ]
  },
  {
   "cell_type": "markdown",
   "id": "cd1f29d6-8111-4c4a-ba6d-a599db14f138",
   "metadata": {
    "editable": true,
    "slideshow": {
     "slide_type": "fragment"
    },
    "tags": []
   },
   "source": [
    "- Identify patterns and trends"
   ]
  },
  {
   "cell_type": "markdown",
   "id": "7f76843d-fa7b-4caa-a3b5-446ab03832f0",
   "metadata": {
    "editable": true,
    "slideshow": {
     "slide_type": "fragment"
    },
    "tags": []
   },
   "source": [
    "- Make data-driven decisions"
   ]
  },
  {
   "cell_type": "code",
   "execution_count": 1,
   "id": "6e2f2b57-d755-47c5-ac98-3814bac8ec19",
   "metadata": {
    "editable": true,
    "slideshow": {
     "slide_type": "skip"
    },
    "tags": []
   },
   "outputs": [],
   "source": [
    "%%capture\n",
    "from IPython.display import IFrame, HTML, display"
   ]
  },
  {
   "cell_type": "markdown",
   "id": "e19bb4fb-eff6-4c70-9401-424665768ff5",
   "metadata": {
    "editable": true,
    "slideshow": {
     "slide_type": "slide"
    },
    "tags": []
   },
   "source": [
    "# Elements of a Good Graph"
   ]
  },
  {
   "cell_type": "markdown",
   "id": "10b97e63-784e-4370-8670-3e53c570d0fe",
   "metadata": {
    "editable": true,
    "slideshow": {
     "slide_type": "subslide"
    },
    "tags": []
   },
   "source": [
    "## Key Components"
   ]
  },
  {
   "cell_type": "markdown",
   "id": "aa79a049-539f-4542-926c-eac03f1b33e3",
   "metadata": {
    "editable": true,
    "slideshow": {
     "slide_type": "fragment"
    },
    "tags": []
   },
   "source": [
    "- **Title**: Clearly describes the graph's purpose"
   ]
  },
  {
   "cell_type": "markdown",
   "id": "6420f530-8499-4be3-b413-d3b2866e2b10",
   "metadata": {
    "editable": true,
    "slideshow": {
     "slide_type": "fragment"
    },
    "tags": []
   },
   "source": [
    "- **Axis Labels**: Indicate the data and units on each axis"
   ]
  },
  {
   "cell_type": "markdown",
   "id": "a0a6fe72-ccae-4b77-afb3-6a75ce1aa17e",
   "metadata": {
    "editable": true,
    "slideshow": {
     "slide_type": "fragment"
    },
    "tags": []
   },
   "source": [
    "- **Legend**: Identifies data series"
   ]
  },
  {
   "cell_type": "markdown",
   "id": "8507531a-3523-4863-a860-5f7adcbc7819",
   "metadata": {
    "editable": true,
    "slideshow": {
     "slide_type": "fragment"
    },
    "tags": []
   },
   "source": [
    "- **Gridlines**: Optional, but can enhance readability"
   ]
  },
  {
   "cell_type": "markdown",
   "id": "a53f74ce-d909-47b7-a4c6-d299a715e5ff",
   "metadata": {
    "editable": true,
    "slideshow": {
     "slide_type": "subslide"
    },
    "tags": []
   },
   "source": [
    "## Design Principles"
   ]
  },
  {
   "cell_type": "markdown",
   "id": "f7f62f9f-d265-43ab-ae34-8327e3901b12",
   "metadata": {
    "editable": true,
    "slideshow": {
     "slide_type": "fragment"
    },
    "tags": []
   },
   "source": [
    "- Clarity: Avoid clutter and distractions"
   ]
  },
  {
   "cell_type": "markdown",
   "id": "77aefff2-1e73-40af-8f6b-341c2e73e4f1",
   "metadata": {
    "editable": true,
    "slideshow": {
     "slide_type": "fragment"
    },
    "tags": []
   },
   "source": [
    "- Accuracy: Ensure scales and labels reflect data accurately"
   ]
  },
  {
   "cell_type": "markdown",
   "id": "5520ed09-8f14-46ad-a096-d78b08aeb189",
   "metadata": {
    "editable": true,
    "slideshow": {
     "slide_type": "fragment"
    },
    "tags": []
   },
   "source": [
    "- Simplicity: Highlight the main story without unnecessary elements"
   ]
  },
  {
   "cell_type": "markdown",
   "id": "52ccca51-0ed7-40d8-b499-64b53805c65a",
   "metadata": {
    "editable": true,
    "slideshow": {
     "slide_type": "slide"
    },
    "tags": []
   },
   "source": [
    "# Examples of Bad Data Visualizations"
   ]
  },
  {
   "cell_type": "markdown",
   "id": "c6c35624-ba16-4a81-9d4b-830922ac4b23",
   "metadata": {
    "editable": true,
    "slideshow": {
     "slide_type": "subslide"
    },
    "tags": []
   },
   "source": [
    "<table>\n",
    "  <tr>\n",
    "    <td>\n",
    "      <img src=\"./pics/bad-3d-bar.png\" alt=\"data-viz.png\" width=\"2000\"/>\n",
    "    </td>\n",
    "    <td>\n",
    "      <h1>A 3D bar chart gone wrong</h1>\n",
    "    </td>\n",
    "  </tr>\n",
    "</table>"
   ]
  },
  {
   "cell_type": "markdown",
   "id": "f41bc390-e066-4407-ae6f-51cc43876e37",
   "metadata": {
    "editable": true,
    "slideshow": {
     "slide_type": "subslide"
    },
    "tags": []
   },
   "source": [
    "### Critique of 3D Bar Chart"
   ]
  },
  {
   "cell_type": "markdown",
   "id": "22e950ea-ad58-4592-af30-6a4079daf555",
   "metadata": {
    "editable": true,
    "slideshow": {
     "slide_type": "fragment"
    },
    "tags": []
   },
   "source": [
    "- **3D Effects**: \n",
    "  - Distorts data, making it hard to compare bar heights accurately.\n",
    "  - **Solution**: Use 2D to avoid distortion and make comparisons easier."
   ]
  },
  {
   "cell_type": "markdown",
   "id": "34295470-1da0-4809-ab3c-cef3d5de32ad",
   "metadata": {
    "editable": true,
    "slideshow": {
     "slide_type": "fragment"
    },
    "tags": []
   },
   "source": [
    "- **Overlapping Bars**: \n",
    "  - Bars overlap, increasing cognitive load to separate them visually.\n",
    "  - **Solution**: Use side-by-side bars in 2D."
   ]
  },
  {
   "cell_type": "markdown",
   "id": "96f2a8eb-8e3a-46f4-bacc-cbef178bfba0",
   "metadata": {
    "editable": true,
    "slideshow": {
     "slide_type": "fragment"
    },
    "tags": []
   },
   "source": [
    "- **Color Choices**: \n",
    "  - Colors lack clear meaning, potentially distracting viewers.\n",
    "  - **Solution**: Use colors with purpose or a monochromatic scheme."
   ]
  },
  {
   "cell_type": "markdown",
   "id": "1509b17b-ea41-4bc9-835e-4906750461d1",
   "metadata": {
    "editable": true,
    "slideshow": {
     "slide_type": "fragment"
    },
    "tags": []
   },
   "source": [
    "- **Lack of Clear Labels**: \n",
    "  - Missing clear axis titles and legends for color groups.\n",
    "  - **Solution**: Add descriptive axis labels and a legend if needed."
   ]
  },
  {
   "cell_type": "markdown",
   "id": "18feb122-504f-4fbf-9444-18e09cc440ea",
   "metadata": {
    "editable": true,
    "slideshow": {
     "slide_type": "fragment"
    },
    "tags": []
   },
   "source": [
    "- **Complex Gridlines**: \n",
    "  - Cluttered, making it hard to focus on data.\n",
    "  - **Solution**: Reduce gridlines or make them subtler."
   ]
  },
  {
   "cell_type": "markdown",
   "id": "a7cde577-3fa2-4f6e-a659-e7d6e12b39be",
   "metadata": {
    "editable": true,
    "slideshow": {
     "slide_type": "subslide"
    },
    "tags": []
   },
   "source": [
    "- **Tilted Labels**: \n",
    "  - X-axis labels are hard to read.\n",
    "  - **Solution**: Use horizontal or abbreviated labels."
   ]
  },
  {
   "cell_type": "markdown",
   "id": "d8fbcc88-2d39-49b9-bb33-03981bafeb95",
   "metadata": {
    "editable": true,
    "slideshow": {
     "slide_type": "fragment"
    },
    "tags": []
   },
   "source": [
    "- **Unclear Grouping**: \n",
    "  - No clear explanation of “Dose Quartile” and “Hematocrit Group.”\n",
    "  - **Solution**: Clarify grouping with annotations or labels."
   ]
  },
  {
   "cell_type": "markdown",
   "id": "a66c0443-bd1b-4ccc-9f53-131851d6e1cb",
   "metadata": {
    "editable": true,
    "slideshow": {
     "slide_type": "fragment"
    },
    "tags": []
   },
   "source": [
    "### Recommendation\n",
    "Switch to a 2D grouped bar chart with clear labels, simplified colors, and reduced clutter for better readability."
   ]
  },
  {
   "cell_type": "markdown",
   "id": "154750a9-7bf5-4db6-bfae-96176452bc9b",
   "metadata": {
    "editable": true,
    "slideshow": {
     "slide_type": "subslide"
    },
    "tags": []
   },
   "source": [
    "<center><img src=\"./pics/bad-3d-bar-corrected.png\" alt=\"data-viz.png\" width=\"1000\"/></center>"
   ]
  },
  {
   "cell_type": "markdown",
   "id": "4e8af3f2-975e-4cc7-b4d1-5656820a8d35",
   "metadata": {
    "editable": true,
    "slideshow": {
     "slide_type": "subslide"
    },
    "tags": []
   },
   "source": [
    "<table>\n",
    "  <tr>\n",
    "    <td>\n",
    "      <img src=\"./pics/bad-pie-chart.png\" alt=\"data-viz.png\" width=\"2000\"/>\n",
    "    </td>\n",
    "    <td>\n",
    "      <h1>A pie chart that should have been a bar chart</h1>\n",
    "    </td>\n",
    "  </tr>\n",
    "</table>"
   ]
  },
  {
   "cell_type": "markdown",
   "id": "0217c05b-c6ff-4ce3-8679-3e5a82617e70",
   "metadata": {
    "editable": true,
    "slideshow": {
     "slide_type": "subslide"
    },
    "tags": []
   },
   "source": [
    "### Critique of Donut Chart"
   ]
  },
  {
   "cell_type": "markdown",
   "id": "ad6f12bc-ae44-4a21-aeb9-38c6423e82d6",
   "metadata": {
    "editable": true,
    "slideshow": {
     "slide_type": "fragment"
    },
    "tags": []
   },
   "source": [
    "- **Comparison Difficulty**: \n",
    "  - Circular format makes it hard to compare segment sizes accurately.\n",
    "  - **Solution**: Use a bar chart for easier comparison."
   ]
  },
  {
   "cell_type": "markdown",
   "id": "40af8e05-c0d8-46dc-a536-2f0e355f5efc",
   "metadata": {
    "editable": true,
    "slideshow": {
     "slide_type": "fragment"
    },
    "tags": []
   },
   "source": [
    "- **Color Usage**:\n",
    "  - Colors lack a clear scheme and some are too similar.\n",
    "  - **Solution**: Use a consistent color scheme or colorblind-friendly palette."
   ]
  },
  {
   "cell_type": "markdown",
   "id": "21fbfda6-e6ce-4fd1-bfc0-cb4c25417030",
   "metadata": {
    "editable": true,
    "slideshow": {
     "slide_type": "fragment"
    },
    "tags": []
   },
   "source": [
    "- **Misleading Circular Format**:\n",
    "  - Donut charts imply parts of a whole, which isn’t the case here.\n",
    "  - **Solution**: Use a bar chart to display individual values."
   ]
  },
  {
   "cell_type": "markdown",
   "id": "8c8844a7-056e-4836-b11e-e257dcab76d9",
   "metadata": {
    "editable": true,
    "slideshow": {
     "slide_type": "subslide"
    },
    "tags": []
   },
   "source": [
    "- **Text Readability**:\n",
    "  - Text size and contrast vary, making it hard to read.\n",
    "  - **Solution**: Increase font size and improve contrast."
   ]
  },
  {
   "cell_type": "markdown",
   "id": "fe9da608-11f9-483c-8661-f8119bb17135",
   "metadata": {
    "editable": true,
    "slideshow": {
     "slide_type": "fragment"
    },
    "tags": []
   },
   "source": [
    "- **Lack of Order**:\n",
    "  - No clear ordering of segments by value.\n",
    "  - **Solution**: Order segments by descending value for clarity."
   ]
  },
  {
   "cell_type": "markdown",
   "id": "8f212636-d016-48cb-a67f-9cb50de0870c",
   "metadata": {
    "editable": true,
    "slideshow": {
     "slide_type": "fragment"
    },
    "tags": []
   },
   "source": [
    "### Recommendation\n",
    "Switch to a bar chart with consistent colors, clearer labels, and value ordering for better readability and comparison."
   ]
  },
  {
   "cell_type": "markdown",
   "id": "ef956bef-5d2c-43c9-ae06-9c9a18730a7c",
   "metadata": {
    "editable": true,
    "slideshow": {
     "slide_type": "subslide"
    },
    "tags": []
   },
   "source": [
    "<table>\n",
    "  <tr>\n",
    "    <td width=\"60%\">\n",
    "      <img src=\"./pics/bad-pie-chart-corrected.png\" alt=\"Player Scores Chart\" width=\"100%\">\n",
    "    </td>\n",
    "    <td width=\"40%\">\n",
    "      <h3>Critique & Improvements</h3>\n",
    "      <ul style=\"font-size: 2em;\">\n",
    "        <li style=\"font-size: 1em;\"><strong>Chart Type</strong>: Used a horizontal bar chart, which allows for easier comparison of player scores.</li>\n",
    "        <li style=\"font-size: 1em;\"><strong>Color Scheme</strong>: Selected a colorblind-friendly palette, ensuring accessibility.</li>\n",
    "        <li style=\"font-size: 1em;\"><strong>Ordering</strong>: Sorted bars in descending order, with the highest score at the top, making it easy to identify top performers.</li>\n",
    "        <li style=\"font-size: 1em;\"><strong>Readability</strong>: Displayed score labels at the end of each bar, enhancing readability without clutter.</li>\n",
    "      </ul>\n",
    "      <h3>Benefits</h3>\n",
    "      <p style=\"font-size: 2em;\">This design improves clarity, accessibility, and makes comparisons straightforward for viewers.</p>\n",
    "    </td>\n",
    "  </tr>\n",
    "</table>"
   ]
  },
  {
   "cell_type": "markdown",
   "id": "81a6ee64-8f57-4b34-9f59-28bf85259012",
   "metadata": {
    "editable": true,
    "slideshow": {
     "slide_type": "subslide"
    },
    "tags": []
   },
   "source": [
    "<table>\n",
    "  <tr>\n",
    "    <td>\n",
    "      <img src=\"./pics/bad-line-chart.png\" alt=\"data-viz.png\" width=\"2000\"/>\n",
    "    </td>\n",
    "    <td>\n",
    "      <h1>A continuous line chart used to show discrete data</h1>\n",
    "    </td>\n",
    "  </tr>\n",
    "</table>"
   ]
  },
  {
   "cell_type": "markdown",
   "id": "53fa2123-bcfb-4383-af96-25c2888fa1c8",
   "metadata": {
    "editable": true,
    "slideshow": {
     "slide_type": "subslide"
    },
    "tags": []
   },
   "source": [
    "### Critique of Line Chart"
   ]
  },
  {
   "cell_type": "markdown",
   "id": "8e88e4c2-fb0e-4b18-aabc-a3b635fbeedb",
   "metadata": {
    "editable": true,
    "slideshow": {
     "slide_type": "fragment"
    },
    "tags": []
   },
   "source": [
    "- **Discrete Data Misrepresented as Continuous**:\n",
    "  - Continuous lines imply trends between data points, which misrepresents annual, discrete data.\n",
    "  - **Solution**: Use a step chart or discrete markers."
   ]
  },
  {
   "cell_type": "markdown",
   "id": "f6dab9eb-3094-4131-93da-ff69445ec8df",
   "metadata": {
    "editable": true,
    "slideshow": {
     "slide_type": "fragment"
    },
    "tags": []
   },
   "source": [
    "- **Line Style and Color**:\n",
    "  - Dashed lines with low-contrast colors may confuse viewers, especially colorblind readers.\n",
    "  - **Solution**: Use solid lines with a colorblind-friendly palette (e.g., blue and orange)."
   ]
  },
  {
   "cell_type": "markdown",
   "id": "dee492b7-fc7c-4be6-83d3-17e4b243dc84",
   "metadata": {
    "editable": true,
    "slideshow": {
     "slide_type": "fragment"
    },
    "tags": []
   },
   "source": [
    "- **Lack of Data Labels**:\n",
    "  - Difficult to determine exact values for each year.\n",
    "  - **Solution**: Add data labels or grid lines for easier value estimation."
   ]
  },
  {
   "cell_type": "markdown",
   "id": "b9cb8c82-2aa9-408c-ad6b-ecb6203b8eaf",
   "metadata": {
    "editable": true,
    "slideshow": {
     "slide_type": "subslide"
    },
    "tags": []
   },
   "source": [
    "- **Biased Title**:\n",
    "  - Title is styled as a slogan rather than a neutral description.\n",
    "  - **Solution**: Use a factual title like “Market Share (%) of Britannia vs. Competitor Over Time.”"
   ]
  },
  {
   "cell_type": "markdown",
   "id": "dea0663a-52fb-42c1-969f-1dfd3b196174",
   "metadata": {
    "editable": true,
    "slideshow": {
     "slide_type": "fragment"
    },
    "tags": []
   },
   "source": [
    "- **Excessive Background Styling**:\n",
    "  - Decorative elements distract from the data.\n",
    "  - **Solution**: Remove background elements for a cleaner look."
   ]
  },
  {
   "cell_type": "markdown",
   "id": "37b7034f-0c17-4e80-912d-24a5ddf77513",
   "metadata": {
    "editable": true,
    "slideshow": {
     "slide_type": "fragment"
    },
    "tags": []
   },
   "source": [
    "### Recommendation\n",
    "Use a step chart or discrete markers, solid lines in high-contrast colors, a clear title, and minimalistic styling for clarity and accurate representation."
   ]
  },
  {
   "cell_type": "markdown",
   "id": "3d8742ef-46f3-4376-b212-a15acdb41189",
   "metadata": {
    "editable": true,
    "slideshow": {
     "slide_type": "subslide"
    },
    "tags": []
   },
   "source": [
    "<table>\n",
    "  <tr>\n",
    "    <td width=\"50%\">\n",
    "      <img src=\"./pics/bad-line-chart-corrected.png\" alt=\"data-viz.png\" width=\"2000\"/>\n",
    "    </td>\n",
    "    <td width=\"50%\">\n",
    "      <img src=\"./pics/bad-line-chart-better.png\" alt=\"data-viz.png\" width=\"2000\"/>\n",
    "    </td>\n",
    "  </tr>\n",
    "</table>"
   ]
  },
  {
   "cell_type": "markdown",
   "id": "87907b7c-5203-46d6-ad5a-f3bb0d139bca",
   "metadata": {
    "editable": true,
    "slideshow": {
     "slide_type": "subslide"
    },
    "tags": []
   },
   "source": [
    "<table>\n",
    "  <tr>\n",
    "    <td>\n",
    "      <img src=\"./pics/bad-geo-visual.png\" alt=\"data-viz.png\" width=\"2000\"/>\n",
    "    </td>\n",
    "    <td>\n",
    "      <h1>A misleading geography visual</h1>\n",
    "    </td>\n",
    "  </tr>\n",
    "</table>"
   ]
  },
  {
   "cell_type": "markdown",
   "id": "384ca469-9559-4989-8620-35eaaacf1c68",
   "metadata": {
    "editable": true,
    "slideshow": {
     "slide_type": "subslide"
    },
    "tags": []
   },
   "source": [
    "### Critique of Map Visualization"
   ]
  },
  {
   "cell_type": "markdown",
   "id": "a8c65a06-8b8d-45e2-bf83-2cb023975ed1",
   "metadata": {
    "editable": true,
    "slideshow": {
     "slide_type": "fragment"
    },
    "tags": []
   },
   "source": [
    "- **Misleading Use of Map**:\n",
    "  - Map implies geographic variation that isn’t present in national population percentages.\n",
    "  - **Solution**: Use a stacked bar chart or line chart."
   ]
  },
  {
   "cell_type": "markdown",
   "id": "e8683739-c3ef-42dd-a3dd-2dc285dc283e",
   "metadata": {
    "editable": true,
    "slideshow": {
     "slide_type": "fragment"
    },
    "tags": []
   },
   "source": [
    "- **Ineffective Color Scheme**:\n",
    "  - Bold colors may not be colorblind-friendly; \"Asian\" and \"Other\" are hard to distinguish.\n",
    "  - **Solution**: Use a colorblind-friendly palette with clear contrasts."
   ]
  },
  {
   "cell_type": "markdown",
   "id": "fcb74c18-96d9-4125-9a73-2b9507b1e5cd",
   "metadata": {
    "editable": true,
    "slideshow": {
     "slide_type": "fragment"
    },
    "tags": []
   },
   "source": [
    "- **Overwhelming Red Color**:\n",
    "  - Strong red for \"White\" category draws excessive attention.\n",
    "  - **Solution**: Choose a balanced color scheme to avoid emphasis on one group."
   ]
  },
  {
   "cell_type": "markdown",
   "id": "02737732-3aac-438d-bd46-50b8bfa5d303",
   "metadata": {
    "editable": true,
    "slideshow": {
     "slide_type": "fragment"
    },
    "tags": []
   },
   "source": [
    "- **Cluttered Labels**:\n",
    "  - Labels are hard to read, especially where they overlap.\n",
    "  - **Solution**: Separate labels clearly or use a data table for percentages."
   ]
  },
  {
   "cell_type": "markdown",
   "id": "9add96a6-c7a7-4625-870e-3beca07d6fab",
   "metadata": {
    "editable": true,
    "slideshow": {
     "slide_type": "fragment"
    },
    "tags": []
   },
   "source": [
    "- **Lack of Context**:\n",
    "  - Title is vague and doesn’t provide sufficient context for data.\n",
    "  - **Solution**: Add a descriptive title and subtitle explaining data scope."
   ]
  },
  {
   "cell_type": "markdown",
   "id": "d8326b8e-ea1d-494a-8894-01a806f10867",
   "metadata": {
    "editable": true,
    "slideshow": {
     "slide_type": "subslide"
    },
    "tags": []
   },
   "source": [
    "### Recommendation\n",
    "Switch to a stacked bar chart or line chart with balanced colors, clear labels, and a descriptive title for a more accurate and readable presentation."
   ]
  },
  {
   "cell_type": "markdown",
   "id": "535b7863-981f-482b-a6d1-6bc3e1e92321",
   "metadata": {
    "editable": true,
    "slideshow": {
     "slide_type": ""
    },
    "tags": []
   },
   "source": [
    "<center><img src=\"./pics/bad-geo-visual-corrected.png\" alt=\"data-viz.png\" width=\"80%\"/></center>"
   ]
  },
  {
   "cell_type": "markdown",
   "id": "7081e41d-e2ca-4d91-88db-14dbf2235bcf",
   "metadata": {
    "editable": true,
    "slideshow": {
     "slide_type": "subslide"
    },
    "tags": []
   },
   "source": [
    "<table>\n",
    "  <tr>\n",
    "    <td>\n",
    "      <img src=\"./pics/bad-wtf.png\" alt=\"data-viz.png\" width=\"2000\"/>\n",
    "    </td>\n",
    "    <td>\n",
    "      <h1>What is this?</h1>\n",
    "    </td>\n",
    "  </tr>\n",
    "</table>"
   ]
  },
  {
   "cell_type": "markdown",
   "id": "fb810680-c789-4650-be51-32a6c4abbcb2",
   "metadata": {
    "editable": true,
    "slideshow": {
     "slide_type": "subslide"
    },
    "tags": []
   },
   "source": [
    "### Critique of MLS Salary Visualization"
   ]
  },
  {
   "cell_type": "markdown",
   "id": "e24549cc-d043-417c-9b99-4ca6c0988bc3",
   "metadata": {
    "editable": true,
    "slideshow": {
     "slide_type": "fragment"
    },
    "tags": []
   },
   "source": [
    "- **Overwhelming Colors**:\n",
    "  - Too many colors make it visually overwhelming.\n",
    "  - **Solution**: Simplify color scheme or group by role/salary range."
   ]
  },
  {
   "cell_type": "markdown",
   "id": "07ae880f-abcd-4077-b0d4-193bf7b2f946",
   "metadata": {
    "editable": true,
    "slideshow": {
     "slide_type": "fragment"
    },
    "tags": []
   },
   "source": [
    "- **Inconsistent Layout**:\n",
    "  - Bar lengths vary, making it hard to compare teams.\n",
    "  - **Solution**: Use a consistent scale for bars."
   ]
  },
  {
   "cell_type": "markdown",
   "id": "79c59edf-3544-4d34-9618-0e3b4e68ef7c",
   "metadata": {
    "editable": true,
    "slideshow": {
     "slide_type": "fragment"
    },
    "tags": []
   },
   "source": [
    "- **Lack of Data Labels**:\n",
    "  - Small blocks lack player details, making interpretation difficult.\n",
    "  - **Solution**: Add labels or interactive tooltips for player name and salary."
   ]
  },
  {
   "cell_type": "markdown",
   "id": "a610c39c-48cc-42bd-935b-36b5e21d5dff",
   "metadata": {
    "editable": true,
    "slideshow": {
     "slide_type": "fragment"
    },
    "tags": []
   },
   "source": [
    "- **Tiny Legend**:\n",
    "  - Legend is small and hard to read.\n",
    "  - **Solution**: Enlarge legend with clearer labels."
   ]
  },
  {
   "cell_type": "markdown",
   "id": "4a02eb64-d02e-418c-8bbf-7539d7954e35",
   "metadata": {
    "editable": true,
    "slideshow": {
     "slide_type": "subslide"
    },
    "tags": []
   },
   "source": [
    "- **Excessive Text on Right**:\n",
    "  - Title and text crowd the visualization area.\n",
    "  - **Solution**: Move title and explanation above chart."
   ]
  },
  {
   "cell_type": "markdown",
   "id": "d5242a9b-d399-44a6-8098-50edc2a174cf",
   "metadata": {
    "editable": true,
    "slideshow": {
     "slide_type": "fragment"
    },
    "tags": []
   },
   "source": [
    "- **Hard to Compare Across Teams**:\n",
    "  - Difficult to understand team salary distribution.\n",
    "  - **Solution**: Group players by salary range or create a separate summary chart."
   ]
  },
  {
   "cell_type": "markdown",
   "id": "409044a9-34eb-4fc6-8d86-5588eacd769e",
   "metadata": {
    "editable": true,
    "slideshow": {
     "slide_type": "fragment"
    },
    "tags": []
   },
   "source": [
    "### Recommendation\n",
    "Streamline the design with a simpler color scheme, clearer labels, consistent scales, and more space for data to enhance readability and comparison."
   ]
  },
  {
   "cell_type": "markdown",
   "id": "ee49a8a0-d3a5-4cac-8da6-3ae1eb6125a3",
   "metadata": {
    "editable": true,
    "slideshow": {
     "slide_type": "subslide"
    },
    "tags": []
   },
   "source": [
    "<table>\n",
    "  <tr>\n",
    "    <td width=\"60%\">\n",
    "      <img src=\"./pics/bad-wtf-corrected.png\" alt=\"Player Scores Chart\" width=\"100%\">\n",
    "    </td>\n",
    "    <td width=\"40%\">\n",
    "      <h3>Critique & Improvements</h3>\n",
    "      <ul style=\"font-size: 2em;\">\n",
    "        <li style=\"font-size: 1em;\"><strong>Individual Player Representation</strong>: Each segment represents an individual player's salary, maintaining the original intent to display salaries within each team.</li>\n",
    "        <li style=\"font-size: 1em;\"><strong>Color Scheme</strong>: Used a limited, colorblind-friendly palette to distinguish players without overwhelming the viewer.</li>\n",
    "        <li style=\"font-size: 1em;\"><strong>Consistent Scale Across Teams</strong>: Each team’s bar has the same scale, making comparisons across teams easier.</li>\n",
    "        <li style=\"font-size: 1em;\"><strong>Simplified Legend</strong>: The legend is clear and concise, improving readability and focusing on essential information.</li>\n",
    "      </ul>\n",
    "      <h3>Benefits</h3>\n",
    "      <p style=\"font-size: 2em;\">This design enhances clarity, accessibility, and facilitates straightforward comparisons of player salaries across MLS teams.</p>\n",
    "    </td>\n",
    "  </tr>\n",
    "</table>"
   ]
  },
  {
   "cell_type": "markdown",
   "id": "b351c914-6947-49ee-8f30-27da224b4e6c",
   "metadata": {
    "editable": true,
    "slideshow": {
     "slide_type": "subslide"
    },
    "tags": []
   },
   "source": [
    "<table>\n",
    "  <tr>\n",
    "    <td>\n",
    "      <img src=\"./pics/bad-bubble-graph.png\" alt=\"data-viz.png\" width=\"2000\"/>\n",
    "    </td>\n",
    "    <td>\n",
    "      <h1>A bubble chart gone wrong</h1>\n",
    "    </td>\n",
    "  </tr>\n",
    "</table>"
   ]
  },
  {
   "cell_type": "markdown",
   "id": "f9ff08b5-9f17-48ea-a010-3f80aedea33a",
   "metadata": {
    "editable": true,
    "slideshow": {
     "slide_type": "subslide"
    },
    "tags": []
   },
   "source": [
    "# More bad viz"
   ]
  },
  {
   "cell_type": "code",
   "execution_count": 2,
   "id": "d130f77e-e870-412b-9995-cf5d3b311555",
   "metadata": {
    "editable": true,
    "slideshow": {
     "slide_type": ""
    },
    "tags": []
   },
   "outputs": [
    {
     "data": {
      "text/html": [
       "\n",
       "        <iframe\n",
       "            width=\"100%\"\n",
       "            height=\"700\"\n",
       "            src=\"https://viz.wtf/\"\n",
       "            frameborder=\"0\"\n",
       "            allowfullscreen\n",
       "            \n",
       "        ></iframe>\n",
       "        "
      ],
      "text/plain": [
       "<IPython.lib.display.IFrame at 0x1259ce750>"
      ]
     },
     "execution_count": 2,
     "metadata": {},
     "output_type": "execute_result"
    }
   ],
   "source": [
    "url ='https://viz.wtf/'\n",
    "IFrame(url, width=\"100%\", height=\"700\")"
   ]
  },
  {
   "cell_type": "markdown",
   "id": "53e4800b-8f64-4939-b2de-9cc2370715fd",
   "metadata": {
    "editable": true,
    "slideshow": {
     "slide_type": "subslide"
    },
    "tags": []
   },
   "source": [
    "# Bad viz or lying with graphs?"
   ]
  },
  {
   "cell_type": "markdown",
   "id": "5e758283-8838-4752-b266-584c3425ad74",
   "metadata": {
    "editable": true,
    "slideshow": {
     "slide_type": ""
    },
    "tags": []
   },
   "source": [
    "<table>\n",
    "    <h1>Truncated Y-Axis</h1>\n",
    "  <tr>\n",
    "    <td width=\"50%\">\n",
    "      <img src=\"./pics/blog-misleading-y-axis.avif\" alt=\"Lying yaxis Chart - source: https://www.heap.io/blog/how-to-lie-with-data-visualization\" width=\"100%\">\n",
    "    </td>\n",
    "    <td width=\"50%\">\n",
    "      <img src=\"./pics/blog-misleading-tax-rate-graph.avif\" alt=\"Lying yaxis Chart 2\" width=\"100%\">\n",
    "    </td>\n",
    "    <td width=\"50%\">\n",
    "      <img src=\"./pics/blog-misleading-baseball-graph.avif\" alt=\"Lying yaxis Chart 3\" width=\"100%\">\n",
    "    </td>\n",
    "  </tr>\n",
    "</table>"
   ]
  },
  {
   "cell_type": "markdown",
   "id": "27cb2028-05ef-450b-95f4-ebc9ce1f3bef",
   "metadata": {
    "editable": true,
    "slideshow": {
     "slide_type": "subslide"
    },
    "tags": []
   },
   "source": [
    "<table>\n",
    "    <h1>Cumulative graphs</h1>\n",
    "  <tr>\n",
    "    <td width=\"50%\">\n",
    "      <img src=\"./pics/blog-cumulative-annual-revenue.avif\" alt=\"Cumulative Chart\" width=\"100%\">\n",
    "    </td>\n",
    "    <td width=\"50%\">\n",
    "      <img src=\"./pics/blog-misleading-annual-revenue-graph.avif\" alt=\"Changes Chart\" width=\"100%\">\n",
    "    </td>\n",
    "    <td width=\"50%\">\n",
    "      <img src=\"./pics/blog-misleading-annual-revenue-graph.avif\" alt=\"Changes Chart\" width=\"100%\">\n",
    "    </td>\n",
    "  </tr>\n",
    "</table>"
   ]
  },
  {
   "cell_type": "markdown",
   "id": "90cd5aff-c463-456e-a89c-97acf8c0b7ae",
   "metadata": {
    "editable": true,
    "slideshow": {
     "slide_type": "subslide"
    },
    "tags": []
   },
   "source": [
    "<table>\n",
    "    <h1>Ignoring conventions</h1>\n",
    "  <tr>\n",
    "    <td width=\"50%\">\n",
    "      <img src=\"./pics/blog-misleading-presidential-results.avif\" alt=\"Conventions Chart\" width=\"100%\">\n",
    "    </td>\n",
    "    <td width=\"50%\">\n",
    "      <img src=\"./pics/blog-misleading-gun-deaths-graph.avif\" alt=\"Conventions Chart\" width=\"100%\">\n",
    "    </td>\n",
    "    <td width=\"50%\">\n",
    "      <img src=\"./pics/blog-misleading-gun-deaths-graph.avif\" alt=\"Conventions Chart\" width=\"100%\">\n",
    "    </td>\n",
    "  </tr>\n",
    "</table>"
   ]
  },
  {
   "cell_type": "markdown",
   "id": "b158c222-b26c-4670-bbfe-af3169cb7b1f",
   "metadata": {
    "editable": true,
    "slideshow": {
     "slide_type": "subslide"
    },
    "tags": []
   },
   "source": [
    "# Further Examples\n",
    "- [How to Spot Visualization Lies](https://flowingdata.com/2017/02/09/how-to-spot-visualization-lies/)\n",
    "- [How charts lie](https://www.youtube.com/watch?v=oX74Nge8Wkw)\n",
    "- [Lies, Distortions, and Misrepresentations in Visualization](https://www.youtube.com/watch?v=IFA-3uXEcb0)\n",
    "- [How People Actually Lie With Charts](https://vdl.sci.utah.edu/blog/2023/04/17/misleading/)\n",
    "- [VisLies](https://www.vislies.org/)"
   ]
  },
  {
   "cell_type": "markdown",
   "id": "add5de6a-ec42-4d00-9e7c-b4ab7867e765",
   "metadata": {
    "editable": true,
    "slideshow": {
     "slide_type": "slide"
    },
    "tags": []
   },
   "source": [
    "# Examples of Good Data Visualizations"
   ]
  },
  {
   "cell_type": "markdown",
   "id": "e36138be-64b3-44c0-9729-b4aeae1618fe",
   "metadata": {
    "editable": true,
    "slideshow": {
     "slide_type": "subslide"
    },
    "tags": []
   },
   "source": [
    "<center> ![](./pics/good-measles-chart.jpeg)</center>"
   ]
  },
  {
   "cell_type": "code",
   "execution_count": 65,
   "id": "dd244264-8570-44ea-84de-5a938a386927",
   "metadata": {
    "editable": true,
    "slideshow": {
     "slide_type": "subslide"
    },
    "tags": []
   },
   "outputs": [
    {
     "data": {
      "text/html": [
       "\n",
       "    <div style=\"display: flex; justify-content: center;\">\n",
       "        <iframe src=\"./pics/good-measles-chart.jpeg\" width=\"100%\" height=\"700\" style=\"border: none;\"></iframe>\n",
       "    </div>\n"
      ],
      "text/plain": [
       "<IPython.core.display.HTML object>"
      ]
     },
     "metadata": {},
     "output_type": "display_data"
    }
   ],
   "source": [
    "display(HTML(\"\"\"\n",
    "    <div style=\"text-align: center;\">\n",
    "        <img src=\"./pics/good-measles-chart.jpeg\" width=\"40%\" height=\"300\">\n",
    "    </div>\n",
    "\"\"\"))"
   ]
  },
  {
   "cell_type": "code",
   "execution_count": 31,
   "id": "1cf2d72e-a89f-44cf-90b9-7ce3572fd4d9",
   "metadata": {
    "editable": true,
    "slideshow": {
     "slide_type": "subslide"
    },
    "tags": []
   },
   "outputs": [
    {
     "data": {
      "text/html": [
       "\n",
       "        <iframe\n",
       "            width=\"100%\"\n",
       "            height=\"700\"\n",
       "            src=\"https://informationisbeautiful.net/\"\n",
       "            frameborder=\"0\"\n",
       "            allowfullscreen\n",
       "            \n",
       "        ></iframe>\n",
       "        "
      ],
      "text/plain": [
       "<IPython.lib.display.IFrame at 0x121548ad0>"
      ]
     },
     "execution_count": 31,
     "metadata": {},
     "output_type": "execute_result"
    }
   ],
   "source": [
    "IFrame(\"https://informationisbeautiful.net/\", width=\"100%\", height=\"700\")"
   ]
  },
  {
   "cell_type": "markdown",
   "id": "e2084068-0e89-4af5-bd6b-7bee98ae2a94",
   "metadata": {
    "editable": true,
    "slideshow": {
     "slide_type": "subslide"
    },
    "tags": []
   },
   "source": [
    "# NYTimes"
   ]
  },
  {
   "cell_type": "code",
   "execution_count": 37,
   "id": "a3e320d0-9b7c-4a5e-8596-c7c308feb9f5",
   "metadata": {
    "editable": true,
    "slideshow": {
     "slide_type": ""
    },
    "tags": []
   },
   "outputs": [
    {
     "data": {
      "text/html": [
       "\n",
       "        <iframe\n",
       "            width=\"100%\"\n",
       "            height=\"700\"\n",
       "            src=\"https://www.nytimes.com/newsgraphics/2014/01/05/poverty-map/index.html\"\n",
       "            frameborder=\"0\"\n",
       "            allowfullscreen\n",
       "            \n",
       "        ></iframe>\n",
       "        "
      ],
      "text/plain": [
       "<IPython.lib.display.IFrame at 0x1259e9cd0>"
      ]
     },
     "execution_count": 37,
     "metadata": {},
     "output_type": "execute_result"
    }
   ],
   "source": [
    "IFrame(\"https://www.nytimes.com/newsgraphics/2014/01/05/poverty-map/index.html\", width=\"100%\", height=\"700\")"
   ]
  },
  {
   "cell_type": "markdown",
   "id": "3cfcebf3-3e76-404d-aa03-2605376d11e4",
   "metadata": {
    "editable": true,
    "slideshow": {
     "slide_type": "subslide"
    },
    "tags": []
   },
   "source": [
    "# The Economist"
   ]
  },
  {
   "cell_type": "code",
   "execution_count": 41,
   "id": "566a61e7-8e3c-4a2e-8879-c89f87c10abf",
   "metadata": {
    "editable": true,
    "slideshow": {
     "slide_type": ""
    },
    "tags": []
   },
   "outputs": [
    {
     "data": {
      "text/html": [
       "\n",
       "        <iframe\n",
       "            width=\"100%\"\n",
       "            height=\"300\"\n",
       "            src=\"./pics/economist.webp\"\n",
       "            frameborder=\"0\"\n",
       "            allowfullscreen\n",
       "            \n",
       "        ></iframe>\n",
       "        "
      ],
      "text/plain": [
       "<IPython.lib.display.IFrame at 0x126e8b9d0>"
      ]
     },
     "execution_count": 41,
     "metadata": {},
     "output_type": "execute_result"
    }
   ],
   "source": [
    "IFrame(\"./pics/economist.webp\", width=\"100%\", height=\"300\")"
   ]
  },
  {
   "cell_type": "markdown",
   "id": "bfa48bdc-4c61-4cbf-acb8-f09626afc97d",
   "metadata": {
    "editable": true,
    "slideshow": {
     "slide_type": "slide"
    },
    "tags": []
   },
   "source": [
    "# Tools and Advice for Data Visualization"
   ]
  },
  {
   "cell_type": "markdown",
   "id": "4d626502-de1c-4781-aa3c-2717eeed5a4f",
   "metadata": {
    "editable": true,
    "slideshow": {
     "slide_type": "subslide"
    },
    "tags": []
   },
   "source": [
    "- **[Data to Viz](https://www.data-to-viz.com/)**: A comprehensive guide that helps users choose the most effective chart type based on their dataset's structure. It provides examples, best practices, and explanations for a wide range of visualizations."
   ]
  },
  {
   "cell_type": "code",
   "execution_count": 20,
   "id": "8cb772bb-d4a9-4970-b320-390734e18fe1",
   "metadata": {
    "editable": true,
    "slideshow": {
     "slide_type": ""
    },
    "tags": []
   },
   "outputs": [
    {
     "data": {
      "text/html": [
       "\n",
       "        <iframe\n",
       "            width=\"100%\"\n",
       "            height=\"700\"\n",
       "            src=\"https://www.data-to-viz.com/\"\n",
       "            frameborder=\"0\"\n",
       "            allowfullscreen\n",
       "            \n",
       "        ></iframe>\n",
       "        "
      ],
      "text/plain": [
       "<IPython.lib.display.IFrame at 0x1259c1190>"
      ]
     },
     "execution_count": 20,
     "metadata": {},
     "output_type": "execute_result"
    }
   ],
   "source": [
    "IFrame(\"https://www.data-to-viz.com/\", width=\"100%\", height=\"700\")"
   ]
  },
  {
   "cell_type": "markdown",
   "id": "07e9bfd0-a206-43f5-b4c3-cf06b7cbd124",
   "metadata": {
    "editable": true,
    "slideshow": {
     "slide_type": "subslide"
    },
    "tags": []
   },
   "source": [
    "- **[Data Viz Project](https://datavizproject.com/)**: A comprehensive collection of data visualization types, categorized and explained in detail. It offers inspiration and guidance on choosing the right visualization based on data type and intended message."
   ]
  },
  {
   "cell_type": "code",
   "execution_count": 21,
   "id": "96e0774e-fbbe-4095-856a-8ee44a1fd1ab",
   "metadata": {
    "editable": true,
    "slideshow": {
     "slide_type": ""
    },
    "tags": []
   },
   "outputs": [
    {
     "data": {
      "text/html": [
       "\n",
       "        <iframe\n",
       "            width=\"100%\"\n",
       "            height=\"700\"\n",
       "            src=\"https://datavizproject.com/\"\n",
       "            frameborder=\"0\"\n",
       "            allowfullscreen\n",
       "            \n",
       "        ></iframe>\n",
       "        "
      ],
      "text/plain": [
       "<IPython.lib.display.IFrame at 0x1259de350>"
      ]
     },
     "execution_count": 21,
     "metadata": {},
     "output_type": "execute_result"
    }
   ],
   "source": [
    "IFrame(\"https://datavizproject.com/\", width=\"100%\", height=\"700\")"
   ]
  },
  {
   "cell_type": "markdown",
   "id": "5eddf8ec-c8d1-4767-ac6d-28ac6992f46a",
   "metadata": {
    "editable": true,
    "slideshow": {
     "slide_type": "subslide"
    },
    "tags": []
   },
   "source": [
    "- **[Datawrapper](https://www.datawrapper.de/)**: A user-friendly online tool for creating professional charts, maps, and tables. Datawrapper is popular for data journalists and anyone looking to create clean, interactive visualizations without coding."
   ]
  },
  {
   "cell_type": "code",
   "execution_count": 22,
   "id": "1a62655b-8835-4db3-b07f-bcd11780b63b",
   "metadata": {
    "editable": true,
    "slideshow": {
     "slide_type": ""
    },
    "tags": []
   },
   "outputs": [
    {
     "data": {
      "text/html": [
       "\n",
       "        <iframe\n",
       "            width=\"100%\"\n",
       "            height=\"700\"\n",
       "            src=\"https://www.datawrapper.de/\"\n",
       "            frameborder=\"0\"\n",
       "            allowfullscreen\n",
       "            \n",
       "        ></iframe>\n",
       "        "
      ],
      "text/plain": [
       "<IPython.lib.display.IFrame at 0x1259c2810>"
      ]
     },
     "execution_count": 22,
     "metadata": {},
     "output_type": "execute_result"
    }
   ],
   "source": [
    "IFrame(\"https://www.datawrapper.de/\", width=\"100%\", height=\"700\")"
   ]
  },
  {
   "cell_type": "markdown",
   "id": "d178a4f8-a71d-4644-8366-0d9895abc011",
   "metadata": {
    "editable": true,
    "slideshow": {
     "slide_type": "subslide"
    },
    "tags": []
   },
   "source": [
    "- **[Python Graph Gallery](https://python-graph-gallery.com/)**: A resource for creating visualizations in Python, with code examples and tutorials for various chart types, including bar charts, line charts, and advanced data visualizations."
   ]
  },
  {
   "cell_type": "code",
   "execution_count": 6,
   "id": "6e500846-b624-4d4f-9e16-6c18a1d535b0",
   "metadata": {
    "editable": true,
    "slideshow": {
     "slide_type": ""
    },
    "tags": []
   },
   "outputs": [
    {
     "data": {
      "text/html": [
       "\n",
       "        <iframe\n",
       "            width=\"100%\"\n",
       "            height=\"700\"\n",
       "            src=\"https://python-graph-gallery.com/\"\n",
       "            frameborder=\"0\"\n",
       "            allowfullscreen\n",
       "            \n",
       "        ></iframe>\n",
       "        "
      ],
      "text/plain": [
       "<IPython.lib.display.IFrame at 0x1215398d0>"
      ]
     },
     "execution_count": 6,
     "metadata": {},
     "output_type": "execute_result"
    }
   ],
   "source": [
    "IFrame(\"https://python-graph-gallery.com/\", width=\"100%\", height=\"700\")"
   ]
  },
  {
   "cell_type": "markdown",
   "id": "808754ab-406a-42a4-8347-d98746e510d0",
   "metadata": {
    "editable": true,
    "slideshow": {
     "slide_type": "subslide"
    },
    "tags": []
   },
   "source": [
    "# Tools for Visualization in Python"
   ]
  },
  {
   "cell_type": "markdown",
   "id": "e46cae31-f002-4af8-a736-871afae11900",
   "metadata": {
    "editable": true,
    "slideshow": {
     "slide_type": "subslide"
    },
    "tags": []
   },
   "source": [
    "- **[matplotlib](https://matplotlib.org/)**: The foundational Python library for creating static, animated, and interactive visualizations.\n",
    "<iframe src=\"https://matplotlib.org/\" width=\"100%\" height=\"400\"></iframe>"
   ]
  },
  {
   "cell_type": "code",
   "execution_count": 7,
   "id": "49b22506-0b93-4c26-a7e6-c2b9f0646e05",
   "metadata": {
    "editable": true,
    "slideshow": {
     "slide_type": ""
    },
    "tags": []
   },
   "outputs": [
    {
     "data": {
      "text/html": [
       "\n",
       "        <iframe\n",
       "            width=\"100%\"\n",
       "            height=\"700\"\n",
       "            src=\"https://matplotlib.org/\"\n",
       "            frameborder=\"0\"\n",
       "            allowfullscreen\n",
       "            \n",
       "        ></iframe>\n",
       "        "
      ],
      "text/plain": [
       "<IPython.lib.display.IFrame at 0x1259eaed0>"
      ]
     },
     "execution_count": 7,
     "metadata": {},
     "output_type": "execute_result"
    }
   ],
   "source": [
    "# @hidden_cell\n",
    "# Display an iframe with the specified URL\n",
    "IFrame(\"https://matplotlib.org/\", width=\"100%\", height=\"700\")"
   ]
  },
  {
   "cell_type": "markdown",
   "id": "a1acfe20-62a9-4494-84bb-df61db8ef0df",
   "metadata": {
    "editable": true,
    "slideshow": {
     "slide_type": "subslide"
    },
    "tags": []
   },
   "source": [
    "- **[pandas plotting](https://pandas.pydata.org/pandas-docs/stable/user_guide/visualization.html)**: The Pandas library includes simple plotting capabilities built on matplotlib, making it easy to create basic visualizations directly from DataFrames."
   ]
  },
  {
   "cell_type": "code",
   "execution_count": 30,
   "id": "4d7273e8-2ba2-4f7b-b5d5-fd7fb9b30d42",
   "metadata": {
    "editable": true,
    "slideshow": {
     "slide_type": ""
    },
    "tags": []
   },
   "outputs": [
    {
     "data": {
      "text/html": [
       "\n",
       "        <iframe\n",
       "            width=\"100%\"\n",
       "            height=\"700\"\n",
       "            src=\"https://pandas.pydata.org/pandas-docs/stable/user_guide/visualization.html#basic-plotting-plot\"\n",
       "            frameborder=\"0\"\n",
       "            allowfullscreen\n",
       "            \n",
       "        ></iframe>\n",
       "        "
      ],
      "text/plain": [
       "<IPython.lib.display.IFrame at 0x1259c13d0>"
      ]
     },
     "execution_count": 30,
     "metadata": {},
     "output_type": "execute_result"
    }
   ],
   "source": [
    "# Pandas Plotting\n",
    "IFrame(\"https://pandas.pydata.org/pandas-docs/stable/user_guide/visualization.html#basic-plotting-plot\", width=\"100%\", height=\"700\")"
   ]
  },
  {
   "cell_type": "markdown",
   "id": "b4626c10-8999-4dfd-a2f9-492cc5444d5e",
   "metadata": {
    "editable": true,
    "slideshow": {
     "slide_type": "subslide"
    },
    "tags": []
   },
   "source": [
    "- **[Geopandas](https://geopandas.org/)**: Extends Pandas to work with geospatial data and provides easy-to-use tools for plotting maps and geospatial data."
   ]
  },
  {
   "cell_type": "code",
   "execution_count": 29,
   "id": "cfffcb80-fa94-4272-864b-b5200999753a",
   "metadata": {
    "editable": true,
    "slideshow": {
     "slide_type": ""
    },
    "tags": []
   },
   "outputs": [
    {
     "data": {
      "text/html": [
       "\n",
       "        <iframe\n",
       "            width=\"100%\"\n",
       "            height=\"700\"\n",
       "            src=\"https://geopandas.org/en/stable/getting_started/introduction.html#Making-maps\"\n",
       "            frameborder=\"0\"\n",
       "            allowfullscreen\n",
       "            \n",
       "        ></iframe>\n",
       "        "
      ],
      "text/plain": [
       "<IPython.lib.display.IFrame at 0x1259f9d50>"
      ]
     },
     "execution_count": 29,
     "metadata": {},
     "output_type": "execute_result"
    }
   ],
   "source": [
    "# Geopandas\n",
    "IFrame(\"https://geopandas.org/en/stable/getting_started/introduction.html#Making-maps\", width=\"100%\", height=\"700\")"
   ]
  },
  {
   "cell_type": "markdown",
   "id": "798e2713-bfd7-42bb-b74e-99e433381e43",
   "metadata": {
    "editable": true,
    "slideshow": {
     "slide_type": "subslide"
    },
    "tags": []
   },
   "source": [
    "- **[seaborn](https://seaborn.pydata.org/)**: Built on top of matplotlib, seaborn provides a high-level interface for drawing attractive statistical graphics."
   ]
  },
  {
   "cell_type": "code",
   "execution_count": 10,
   "id": "8fbc7fef-cce4-4530-9e47-2e26e562e0eb",
   "metadata": {
    "editable": true,
    "slideshow": {
     "slide_type": ""
    },
    "tags": []
   },
   "outputs": [
    {
     "data": {
      "text/html": [
       "\n",
       "        <iframe\n",
       "            width=\"100%\"\n",
       "            height=\"700\"\n",
       "            src=\"https://seaborn.pydata.org/\"\n",
       "            frameborder=\"0\"\n",
       "            allowfullscreen\n",
       "            \n",
       "        ></iframe>\n",
       "        "
      ],
      "text/plain": [
       "<IPython.lib.display.IFrame at 0x1259f9350>"
      ]
     },
     "execution_count": 10,
     "metadata": {},
     "output_type": "execute_result"
    }
   ],
   "source": [
    "# Seaborn\n",
    "IFrame(\"https://seaborn.pydata.org/\", width=\"100%\", height=\"700\")"
   ]
  },
  {
   "cell_type": "markdown",
   "id": "7be21b93-fe05-47f3-96f7-d13efa7b5f44",
   "metadata": {
    "editable": true,
    "slideshow": {
     "slide_type": "subslide"
    },
    "tags": []
   },
   "source": [
    "- **[geoplot](https://residentmario.github.io/geoplot/)**: A high-level Python geospatial plotting library, designed to work with geopandas and matplotlib. It simplifies the creation of thematic maps and allows for various types of geographic data visualization, such as choropleths, cartograms, and point maps."
   ]
  },
  {
   "cell_type": "code",
   "execution_count": 11,
   "id": "6d405d98-2991-4a4a-be80-bc889741fb3c",
   "metadata": {
    "editable": true,
    "slideshow": {
     "slide_type": ""
    },
    "tags": []
   },
   "outputs": [
    {
     "data": {
      "text/html": [
       "\n",
       "        <iframe\n",
       "            width=\"100%\"\n",
       "            height=\"700\"\n",
       "            src=\"https://residentmario.github.io/geoplot/\"\n",
       "            frameborder=\"0\"\n",
       "            allowfullscreen\n",
       "            \n",
       "        ></iframe>\n",
       "        "
      ],
      "text/plain": [
       "<IPython.lib.display.IFrame at 0x1259b2f10>"
      ]
     },
     "execution_count": 11,
     "metadata": {},
     "output_type": "execute_result"
    }
   ],
   "source": [
    "# Geoplot\n",
    "IFrame(\"https://residentmario.github.io/geoplot/\", width=\"100%\", height=\"700\")"
   ]
  },
  {
   "cell_type": "markdown",
   "id": "ee02043d-6d92-4525-9484-0dfc4a084b03",
   "metadata": {
    "editable": true,
    "slideshow": {
     "slide_type": "subslide"
    },
    "tags": []
   },
   "source": [
    "- **[Plotly](https://plotly.com/python/)**: A versatile library for creating interactive and web-based plots. Plotly Express, a part of Plotly, offers a simple syntax for creating complex visualizations quickly."
   ]
  },
  {
   "cell_type": "code",
   "execution_count": 12,
   "id": "b47beaf6-20b3-4f0e-af5c-f122ff11a97a",
   "metadata": {
    "editable": true,
    "slideshow": {
     "slide_type": ""
    },
    "tags": []
   },
   "outputs": [
    {
     "data": {
      "text/html": [
       "\n",
       "        <iframe\n",
       "            width=\"100%\"\n",
       "            height=\"700\"\n",
       "            src=\"https://plotly.com/python/\"\n",
       "            frameborder=\"0\"\n",
       "            allowfullscreen\n",
       "            \n",
       "        ></iframe>\n",
       "        "
      ],
      "text/plain": [
       "<IPython.lib.display.IFrame at 0x1259fa2d0>"
      ]
     },
     "execution_count": 12,
     "metadata": {},
     "output_type": "execute_result"
    }
   ],
   "source": [
    "# Plotly\n",
    "IFrame(\"https://plotly.com/python/\", width=\"100%\", height=\"700\")"
   ]
  },
  {
   "cell_type": "markdown",
   "id": "6732acb5-f282-4283-9bad-72d7ce0a1d09",
   "metadata": {
    "editable": true,
    "slideshow": {
     "slide_type": "subslide"
    },
    "tags": []
   },
   "source": [
    "- **[lets-plot](https://lets-plot.org/)**: A plotting library developed by JetBrains that brings the ggplot2-like API to Python. It supports interactive and static visualizations and is particularly suited for data scientists familiar with the grammar of graphics approach."
   ]
  },
  {
   "cell_type": "code",
   "execution_count": 13,
   "id": "ade56dca-c8f3-4f3c-a367-18fa77056e56",
   "metadata": {
    "editable": true,
    "slideshow": {
     "slide_type": ""
    },
    "tags": []
   },
   "outputs": [
    {
     "data": {
      "text/html": [
       "\n",
       "        <iframe\n",
       "            width=\"100%\"\n",
       "            height=\"700\"\n",
       "            src=\"https://lets-plot.org/\"\n",
       "            frameborder=\"0\"\n",
       "            allowfullscreen\n",
       "            \n",
       "        ></iframe>\n",
       "        "
      ],
      "text/plain": [
       "<IPython.lib.display.IFrame at 0x1259fad10>"
      ]
     },
     "execution_count": 13,
     "metadata": {},
     "output_type": "execute_result"
    }
   ],
   "source": [
    "# Lets-Plot\n",
    "IFrame(\"https://lets-plot.org/\", width=\"100%\", height=\"700\")"
   ]
  },
  {
   "cell_type": "markdown",
   "id": "eecbd6b0-f7c2-4216-a256-551be5346b5c",
   "metadata": {
    "editable": true,
    "slideshow": {
     "slide_type": "subslide"
    },
    "tags": []
   },
   "source": [
    "- **[plotnine](https://plotnine.readthedocs.io/)**: A Python library that replicates the ggplot2 syntax from R. Based on the grammar of graphics, plotnine makes it easy to create complex and layered visualizations, especially for users with an R or ggplot2 background."
   ]
  },
  {
   "cell_type": "code",
   "execution_count": 14,
   "id": "c6fefa4d-2ecc-480d-9f43-6d2508faef72",
   "metadata": {
    "editable": true,
    "slideshow": {
     "slide_type": ""
    },
    "tags": []
   },
   "outputs": [
    {
     "data": {
      "text/html": [
       "\n",
       "        <iframe\n",
       "            width=\"100%\"\n",
       "            height=\"700\"\n",
       "            src=\"https://plotnine.readthedocs.io/\"\n",
       "            frameborder=\"0\"\n",
       "            allowfullscreen\n",
       "            \n",
       "        ></iframe>\n",
       "        "
      ],
      "text/plain": [
       "<IPython.lib.display.IFrame at 0x1259fbb10>"
      ]
     },
     "execution_count": 14,
     "metadata": {},
     "output_type": "execute_result"
    }
   ],
   "source": [
    "# Plotnine\n",
    "IFrame(\"https://plotnine.readthedocs.io/\", width=\"100%\", height=\"700\")"
   ]
  },
  {
   "cell_type": "markdown",
   "id": "b3d73cbc-fbf7-4778-9a59-315c49001dc0",
   "metadata": {
    "editable": true,
    "slideshow": {
     "slide_type": "subslide"
    },
    "tags": []
   },
   "source": [
    "- **[Bokeh](https://bokeh.org/)**: Designed for creating interactive visualizations that are ideal for web applications, Bokeh allows detailed control over both visual presentation and interactivity."
   ]
  },
  {
   "cell_type": "code",
   "execution_count": 15,
   "id": "3ed91990-d0c1-44e6-8ba7-d7bc278d02f3",
   "metadata": {
    "editable": true,
    "slideshow": {
     "slide_type": ""
    },
    "tags": []
   },
   "outputs": [
    {
     "data": {
      "text/html": [
       "\n",
       "        <iframe\n",
       "            width=\"100%\"\n",
       "            height=\"700\"\n",
       "            src=\"https://bokeh.org/\"\n",
       "            frameborder=\"0\"\n",
       "            allowfullscreen\n",
       "            \n",
       "        ></iframe>\n",
       "        "
      ],
      "text/plain": [
       "<IPython.lib.display.IFrame at 0x12463d790>"
      ]
     },
     "execution_count": 15,
     "metadata": {},
     "output_type": "execute_result"
    }
   ],
   "source": [
    "# Bokeh\n",
    "IFrame(\"https://bokeh.org/\", width=\"100%\", height=\"700\")"
   ]
  },
  {
   "cell_type": "markdown",
   "id": "b8c22188-6bc8-4967-9770-75ac7be14416",
   "metadata": {
    "editable": true,
    "slideshow": {
     "slide_type": "subslide"
    },
    "tags": []
   },
   "source": [
    "- **[Altair](https://altair-viz.github.io/)**: A declarative statistical visualization library based on the Vega and Vega-Lite visualization grammars, known for its simplicity and effectiveness for creating statistical plots."
   ]
  },
  {
   "cell_type": "code",
   "execution_count": 16,
   "id": "aed0dcb0-2009-4192-a534-ac4bc2e8f5e4",
   "metadata": {
    "editable": true,
    "slideshow": {
     "slide_type": ""
    },
    "tags": []
   },
   "outputs": [
    {
     "data": {
      "text/html": [
       "\n",
       "        <iframe\n",
       "            width=\"100%\"\n",
       "            height=\"700\"\n",
       "            src=\"https://altair-viz.github.io/\"\n",
       "            frameborder=\"0\"\n",
       "            allowfullscreen\n",
       "            \n",
       "        ></iframe>\n",
       "        "
      ],
      "text/plain": [
       "<IPython.lib.display.IFrame at 0x1259ea310>"
      ]
     },
     "execution_count": 16,
     "metadata": {},
     "output_type": "execute_result"
    }
   ],
   "source": [
    "# Altair\n",
    "IFrame(\"https://altair-viz.github.io/\", width=\"100%\", height=\"700\")"
   ]
  },
  {
   "cell_type": "markdown",
   "id": "a8559765-d2cc-4201-8ad2-cf774a89d3b2",
   "metadata": {
    "editable": true,
    "slideshow": {
     "slide_type": "subslide"
    },
    "tags": []
   },
   "source": [
    "- **[Holoviews](https://holoviews.org/)**: A high-level library for interactive data exploration, built on top of Bokeh and Matplotlib. It allows users to create complex visualizations with minimal code."
   ]
  },
  {
   "cell_type": "code",
   "execution_count": 17,
   "id": "2d5b428b-ce7d-4092-83ba-378dd88aebf1",
   "metadata": {
    "editable": true,
    "slideshow": {
     "slide_type": ""
    },
    "tags": []
   },
   "outputs": [
    {
     "data": {
      "text/html": [
       "\n",
       "        <iframe\n",
       "            width=\"100%\"\n",
       "            height=\"700\"\n",
       "            src=\"https://holoviews.org/\"\n",
       "            frameborder=\"0\"\n",
       "            allowfullscreen\n",
       "            \n",
       "        ></iframe>\n",
       "        "
      ],
      "text/plain": [
       "<IPython.lib.display.IFrame at 0x1259c0150>"
      ]
     },
     "execution_count": 17,
     "metadata": {},
     "output_type": "execute_result"
    }
   ],
   "source": [
    "# Holoviews\n",
    "IFrame(\"https://holoviews.org/\", width=\"100%\", height=\"700\")"
   ]
  },
  {
   "cell_type": "markdown",
   "id": "d7e062c4-bae1-4737-917f-b356c72b278f",
   "metadata": {
    "editable": true,
    "slideshow": {
     "slide_type": "subslide"
    },
    "tags": []
   },
   "source": [
    "- **[Dash](https://dash.plotly.com/)**: A framework by Plotly for building interactive web applications with Python. Dash is especially useful for creating interactive, data-driven web apps with complex visualizations."
   ]
  },
  {
   "cell_type": "code",
   "execution_count": 18,
   "id": "add2e495-ce89-4f46-b416-75df1833912b",
   "metadata": {
    "editable": true,
    "slideshow": {
     "slide_type": ""
    },
    "tags": []
   },
   "outputs": [
    {
     "data": {
      "text/html": [
       "\n",
       "        <iframe\n",
       "            width=\"100%\"\n",
       "            height=\"700\"\n",
       "            src=\"https://dash.plotly.com/\"\n",
       "            frameborder=\"0\"\n",
       "            allowfullscreen\n",
       "            \n",
       "        ></iframe>\n",
       "        "
      ],
      "text/plain": [
       "<IPython.lib.display.IFrame at 0x1259e93d0>"
      ]
     },
     "execution_count": 18,
     "metadata": {},
     "output_type": "execute_result"
    }
   ],
   "source": [
    "# Dash\n",
    "IFrame(\"https://dash.plotly.com/\", width=\"100%\", height=\"700\")"
   ]
  },
  {
   "cell_type": "markdown",
   "id": "8bbda174-7939-4c06-b1df-036a32111c9c",
   "metadata": {
    "editable": true,
    "slideshow": {
     "slide_type": "slide"
    },
    "tags": []
   },
   "source": [
    "# Creating a Simple Visualization in Python"
   ]
  },
  {
   "cell_type": "code",
   "execution_count": 19,
   "id": "c818d1a8-9941-4986-8f95-536c0841c6d3",
   "metadata": {
    "editable": true,
    "slideshow": {
     "slide_type": "subslide"
    },
    "tags": []
   },
   "outputs": [
    {
     "data": {
      "image/png": "[encoded data removed]",
      "text/plain": [
       "<Figure size 640x480 with 1 Axes>"
      ]
     },
     "metadata": {},
     "output_type": "display_data"
    }
   ],
   "source": [
    "import matplotlib.pyplot as plt\n",
    "\n",
    "# Sample data\n",
    "x = [1, 2, 3, 4, 5]\n",
    "y = [10, 20, 25, 30, 40]\n",
    "\n",
    "# Plotting a basic line chart\n",
    "plt.plot(x, y, marker='o')\n",
    "plt.title(\"Sample Line Chart\")\n",
    "plt.xlabel(\"X Axis\")\n",
    "plt.ylabel(\"Y Axis\")\n",
    "plt.grid(True)\n",
    "plt.show()"
   ]
  },
  {
   "cell_type": "code",
   "execution_count": 50,
   "id": "3afeacf7-491c-46dc-b597-6cec6b87316c",
   "metadata": {
    "editable": true,
    "slideshow": {
     "slide_type": "subslide"
    },
    "tags": []
   },
   "outputs": [
    {
     "data": {
      "image/png": "[encoded data removed]",
      "text/plain": [
       "<Figure size 1000x600 with 1 Axes>"
      ]
     },
     "metadata": {},
     "output_type": "display_data"
    }
   ],
   "source": [
    "# Enhanced line chart with gray background and red line\n",
    "import seaborn as sns\n",
    "import matplotlib.pyplot as plt\n",
    "\n",
    "# Set Seaborn style for a darker background\n",
    "sns.set(style=\"darkgrid\", context=\"talk\")  # \"darkgrid\" for gray background\n",
    "sns.set(rc={'figure.figsize':(11.7,8.27)})\n",
    "sns.set_context(\"talk\")\n",
    "\n",
    "# Create the plot with a red line and customized labels\n",
    "plt.figure(figsize=(10, 6))\n",
    "sns.lineplot(x=x, y=y, marker='o', color='red', linewidth=2.5)\n",
    "\n",
    "# Customizing title and axis labels\n",
    "plt.title(\"Sample Line Chart\", fontsize=20, fontweight='bold')\n",
    "plt.xlabel(\"X Axis\", fontsize=16, fontweight='bold')\n",
    "plt.ylabel(\"Y Axis\", fontsize=16, fontweight='bold')\n",
    "\n",
    "# Customize tick parameters to make them smaller relative to the axis labels\n",
    "plt.tick_params(axis='both', labelsize=12)\n",
    "\n",
    "# Adjust grid appearance with thicker white lines for visibility on a gray background\n",
    "plt.grid(True, linestyle='-', linewidth=1.2, color='white', alpha=0.6)\n",
    "\n",
    "# Show the plot\n",
    "plt.show()"
   ]
  },
  {
   "cell_type": "code",
   "execution_count": 57,
   "id": "884332ff-a482-43d8-b0cb-c952ed8f6ab5",
   "metadata": {
    "editable": true,
    "slideshow": {
     "slide_type": "subslide"
    },
    "tags": []
   },
   "outputs": [
    {
     "data": {
      "application/vnd.plotly.v1+json": {
       "config": {
        "plotlyServerURL": "https://plot.ly"
       },
       "data": [
        {
         "line": {
          "color": "red",
          "width": 2.5
         },
         "marker": {
          "color": "red",
          "size": 8
         },
         "mode": "lines+markers",
         "type": "scatter",
         "x": [
          1,
          2,
          3,
          4,
          5
         ],
         "y": [
          10,
          20,
          25,
          30,
          40
         ]
        }
       ],
       "layout": {
        "height": 578.9,
        "paper_bgcolor": "white",
        "plot_bgcolor": "white",
        "template": {
         "data": {
          "bar": [
           {
            "error_x": {
             "color": "#2a3f5f"
            },
            "error_y": {
             "color": "#2a3f5f"
            },
            "marker": {
             "line": {
              "color": "#E5ECF6",
              "width": 0.5
             },
             "pattern": {
              "fillmode": "overlay",
              "size": 10,
              "solidity": 0.2
             }
            },
            "type": "bar"
           }
          ],
          "barpolar": [
           {
            "marker": {
             "line": {
              "color": "#E5ECF6",
              "width": 0.5
             },
             "pattern": {
              "fillmode": "overlay",
              "size": 10,
              "solidity": 0.2
             }
            },
            "type": "barpolar"
           }
          ],
          "carpet": [
           {
            "aaxis": {
             "endlinecolor": "#2a3f5f",
             "gridcolor": "white",
             "linecolor": "white",
             "minorgridcolor": "white",
             "startlinecolor": "#2a3f5f"
            },
            "baxis": {
             "endlinecolor": "#2a3f5f",
             "gridcolor": "white",
             "linecolor": "white",
             "minorgridcolor": "white",
             "startlinecolor": "#2a3f5f"
            },
            "type": "carpet"
           }
          ],
          "choropleth": [
           {
            "colorbar": {
             "outlinewidth": 0,
             "ticks": ""
            },
            "type": "choropleth"
           }
          ],
          "contour": [
           {
            "colorbar": {
             "outlinewidth": 0,
             "ticks": ""
            },
            "colorscale": [
             [
              0,
              "#0d0887"
             ],
             [
              0.1111111111111111,
              "#46039f"
             ],
             [
              0.2222222222222222,
              "#7201a8"
             ],
             [
              0.3333333333333333,
              "#9c179e"
             ],
             [
              0.4444444444444444,
              "#bd3786"
             ],
             [
              0.5555555555555556,
              "#d8576b"
             ],
             [
              0.6666666666666666,
              "#ed7953"
             ],
             [
              0.7777777777777778,
              "#fb9f3a"
             ],
             [
              0.8888888888888888,
              "#fdca26"
             ],
             [
              1,
              "#f0f921"
             ]
            ],
            "type": "contour"
           }
          ],
          "contourcarpet": [
           {
            "colorbar": {
             "outlinewidth": 0,
             "ticks": ""
            },
            "type": "contourcarpet"
           }
          ],
          "heatmap": [
           {
            "colorbar": {
             "outlinewidth": 0,
             "ticks": ""
            },
            "colorscale": [
             [
              0,
              "#0d0887"
             ],
             [
              0.1111111111111111,
              "#46039f"
             ],
             [
              0.2222222222222222,
              "#7201a8"
             ],
             [
              0.3333333333333333,
              "#9c179e"
             ],
             [
              0.4444444444444444,
              "#bd3786"
             ],
             [
              0.5555555555555556,
              "#d8576b"
             ],
             [
              0.6666666666666666,
              "#ed7953"
             ],
             [
              0.7777777777777778,
              "#fb9f3a"
             ],
             [
              0.8888888888888888,
              "#fdca26"
             ],
             [
              1,
              "#f0f921"
             ]
            ],
            "type": "heatmap"
           }
          ],
          "heatmapgl": [
           {
            "colorbar": {
             "outlinewidth": 0,
             "ticks": ""
            },
            "colorscale": [
             [
              0,
              "#0d0887"
             ],
             [
              0.1111111111111111,
              "#46039f"
             ],
             [
              0.2222222222222222,
              "#7201a8"
             ],
             [
              0.3333333333333333,
              "#9c179e"
             ],
             [
              0.4444444444444444,
              "#bd3786"
             ],
             [
              0.5555555555555556,
              "#d8576b"
             ],
             [
              0.6666666666666666,
              "#ed7953"
             ],
             [
              0.7777777777777778,
              "#fb9f3a"
             ],
             [
              0.8888888888888888,
              "#fdca26"
             ],
             [
              1,
              "#f0f921"
             ]
            ],
            "type": "heatmapgl"
           }
          ],
          "histogram": [
           {
            "marker": {
             "pattern": {
              "fillmode": "overlay",
              "size": 10,
              "solidity": 0.2
             }
            },
            "type": "histogram"
           }
          ],
          "histogram2d": [
           {
            "colorbar": {
             "outlinewidth": 0,
             "ticks": ""
            },
            "colorscale": [
             [
              0,
              "#0d0887"
             ],
             [
              0.1111111111111111,
              "#46039f"
             ],
             [
              0.2222222222222222,
              "#7201a8"
             ],
             [
              0.3333333333333333,
              "#9c179e"
             ],
             [
              0.4444444444444444,
              "#bd3786"
             ],
             [
              0.5555555555555556,
              "#d8576b"
             ],
             [
              0.6666666666666666,
              "#ed7953"
             ],
             [
              0.7777777777777778,
              "#fb9f3a"
             ],
             [
              0.8888888888888888,
              "#fdca26"
             ],
             [
              1,
              "#f0f921"
             ]
            ],
            "type": "histogram2d"
           }
          ],
          "histogram2dcontour": [
           {
            "colorbar": {
             "outlinewidth": 0,
             "ticks": ""
            },
            "colorscale": [
             [
              0,
              "#0d0887"
             ],
             [
              0.1111111111111111,
              "#46039f"
             ],
             [
              0.2222222222222222,
              "#7201a8"
             ],
             [
              0.3333333333333333,
              "#9c179e"
             ],
             [
              0.4444444444444444,
              "#bd3786"
             ],
             [
              0.5555555555555556,
              "#d8576b"
             ],
             [
              0.6666666666666666,
              "#ed7953"
             ],
             [
              0.7777777777777778,
              "#fb9f3a"
             ],
             [
              0.8888888888888888,
              "#fdca26"
             ],
             [
              1,
              "#f0f921"
             ]
            ],
            "type": "histogram2dcontour"
           }
          ],
          "mesh3d": [
           {
            "colorbar": {
             "outlinewidth": 0,
             "ticks": ""
            },
            "type": "mesh3d"
           }
          ],
          "parcoords": [
           {
            "line": {
             "colorbar": {
              "outlinewidth": 0,
              "ticks": ""
             }
            },
            "type": "parcoords"
           }
          ],
          "pie": [
           {
            "automargin": true,
            "type": "pie"
           }
          ],
          "scatter": [
           {
            "fillpattern": {
             "fillmode": "overlay",
             "size": 10,
             "solidity": 0.2
            },
            "type": "scatter"
           }
          ],
          "scatter3d": [
           {
            "line": {
             "colorbar": {
              "outlinewidth": 0,
              "ticks": ""
             }
            },
            "marker": {
             "colorbar": {
              "outlinewidth": 0,
              "ticks": ""
             }
            },
            "type": "scatter3d"
           }
          ],
          "scattercarpet": [
           {
            "marker": {
             "colorbar": {
              "outlinewidth": 0,
              "ticks": ""
             }
            },
            "type": "scattercarpet"
           }
          ],
          "scattergeo": [
           {
            "marker": {
             "colorbar": {
              "outlinewidth": 0,
              "ticks": ""
             }
            },
            "type": "scattergeo"
           }
          ],
          "scattergl": [
           {
            "marker": {
             "colorbar": {
              "outlinewidth": 0,
              "ticks": ""
             }
            },
            "type": "scattergl"
           }
          ],
          "scattermapbox": [
           {
            "marker": {
             "colorbar": {
              "outlinewidth": 0,
              "ticks": ""
             }
            },
            "type": "scattermapbox"
           }
          ],
          "scatterpolar": [
           {
            "marker": {
             "colorbar": {
              "outlinewidth": 0,
              "ticks": ""
             }
            },
            "type": "scatterpolar"
           }
          ],
          "scatterpolargl": [
           {
            "marker": {
             "colorbar": {
              "outlinewidth": 0,
              "ticks": ""
             }
            },
            "type": "scatterpolargl"
           }
          ],
          "scatterternary": [
           {
            "marker": {
             "colorbar": {
              "outlinewidth": 0,
              "ticks": ""
             }
            },
            "type": "scatterternary"
           }
          ],
          "surface": [
           {
            "colorbar": {
             "outlinewidth": 0,
             "ticks": ""
            },
            "colorscale": [
             [
              0,
              "#0d0887"
             ],
             [
              0.1111111111111111,
              "#46039f"
             ],
             [
              0.2222222222222222,
              "#7201a8"
             ],
             [
              0.3333333333333333,
              "#9c179e"
             ],
             [
              0.4444444444444444,
              "#bd3786"
             ],
             [
              0.5555555555555556,
              "#d8576b"
             ],
             [
              0.6666666666666666,
              "#ed7953"
             ],
             [
              0.7777777777777778,
              "#fb9f3a"
             ],
             [
              0.8888888888888888,
              "#fdca26"
             ],
             [
              1,
              "#f0f921"
             ]
            ],
            "type": "surface"
           }
          ],
          "table": [
           {
            "cells": {
             "fill": {
              "color": "#EBF0F8"
             },
             "line": {
              "color": "white"
             }
            },
            "header": {
             "fill": {
              "color": "#C8D4E3"
             },
             "line": {
              "color": "white"
             }
            },
            "type": "table"
           }
          ]
         },
         "layout": {
          "annotationdefaults": {
           "arrowcolor": "#2a3f5f",
           "arrowhead": 0,
           "arrowwidth": 1
          },
          "autotypenumbers": "strict",
          "coloraxis": {
           "colorbar": {
            "outlinewidth": 0,
            "ticks": ""
           }
          },
          "colorscale": {
           "diverging": [
            [
             0,
             "#8e0152"
            ],
            [
             0.1,
             "#c51b7d"
            ],
            [
             0.2,
             "#de77ae"
            ],
            [
             0.3,
             "#f1b6da"
            ],
            [
             0.4,
             "#fde0ef"
            ],
            [
             0.5,
             "#f7f7f7"
            ],
            [
             0.6,
             "#e6f5d0"
            ],
            [
             0.7,
             "#b8e186"
            ],
            [
             0.8,
             "#7fbc41"
            ],
            [
             0.9,
             "#4d9221"
            ],
            [
             1,
             "#276419"
            ]
           ],
           "sequential": [
            [
             0,
             "#0d0887"
            ],
            [
             0.1111111111111111,
             "#46039f"
            ],
            [
             0.2222222222222222,
             "#7201a8"
            ],
            [
             0.3333333333333333,
             "#9c179e"
            ],
            [
             0.4444444444444444,
             "#bd3786"
            ],
            [
             0.5555555555555556,
             "#d8576b"
            ],
            [
             0.6666666666666666,
             "#ed7953"
            ],
            [
             0.7777777777777778,
             "#fb9f3a"
            ],
            [
             0.8888888888888888,
             "#fdca26"
            ],
            [
             1,
             "#f0f921"
            ]
           ],
           "sequentialminus": [
            [
             0,
             "#0d0887"
            ],
            [
             0.1111111111111111,
             "#46039f"
            ],
            [
             0.2222222222222222,
             "#7201a8"
            ],
            [
             0.3333333333333333,
             "#9c179e"
            ],
            [
             0.4444444444444444,
             "#bd3786"
            ],
            [
             0.5555555555555556,
             "#d8576b"
            ],
            [
             0.6666666666666666,
             "#ed7953"
            ],
            [
             0.7777777777777778,
             "#fb9f3a"
            ],
            [
             0.8888888888888888,
             "#fdca26"
            ],
            [
             1,
             "#f0f921"
            ]
           ]
          },
          "colorway": [
           "#636efa",
           "#EF553B",
           "#00cc96",
           "#ab63fa",
           "#FFA15A",
           "#19d3f3",
           "#FF6692",
           "#B6E880",
           "#FF97FF",
           "#FECB52"
          ],
          "font": {
           "color": "#2a3f5f"
          },
          "geo": {
           "bgcolor": "white",
           "lakecolor": "white",
           "landcolor": "#E5ECF6",
           "showlakes": true,
           "showland": true,
           "subunitcolor": "white"
          },
          "hoverlabel": {
           "align": "left"
          },
          "hovermode": "closest",
          "mapbox": {
           "style": "light"
          },
          "paper_bgcolor": "white",
          "plot_bgcolor": "#E5ECF6",
          "polar": {
           "angularaxis": {
            "gridcolor": "white",
            "linecolor": "white",
            "ticks": ""
           },
           "bgcolor": "#E5ECF6",
           "radialaxis": {
            "gridcolor": "white",
            "linecolor": "white",
            "ticks": ""
           }
          },
          "scene": {
           "xaxis": {
            "backgroundcolor": "#E5ECF6",
            "gridcolor": "white",
            "gridwidth": 2,
            "linecolor": "white",
            "showbackground": true,
            "ticks": "",
            "zerolinecolor": "white"
           },
           "yaxis": {
            "backgroundcolor": "#E5ECF6",
            "gridcolor": "white",
            "gridwidth": 2,
            "linecolor": "white",
            "showbackground": true,
            "ticks": "",
            "zerolinecolor": "white"
           },
           "zaxis": {
            "backgroundcolor": "#E5ECF6",
            "gridcolor": "white",
            "gridwidth": 2,
            "linecolor": "white",
            "showbackground": true,
            "ticks": "",
            "zerolinecolor": "white"
           }
          },
          "shapedefaults": {
           "line": {
            "color": "#2a3f5f"
           }
          },
          "ternary": {
           "aaxis": {
            "gridcolor": "white",
            "linecolor": "white",
            "ticks": ""
           },
           "baxis": {
            "gridcolor": "white",
            "linecolor": "white",
            "ticks": ""
           },
           "bgcolor": "#E5ECF6",
           "caxis": {
            "gridcolor": "white",
            "linecolor": "white",
            "ticks": ""
           }
          },
          "title": {
           "x": 0.05
          },
          "xaxis": {
           "automargin": true,
           "gridcolor": "white",
           "linecolor": "white",
           "ticks": "",
           "title": {
            "standoff": 15
           },
           "zerolinecolor": "white",
           "zerolinewidth": 2
          },
          "yaxis": {
           "automargin": true,
           "gridcolor": "white",
           "linecolor": "white",
           "ticks": "",
           "title": {
            "standoff": 15
           },
           "zerolinecolor": "white",
           "zerolinewidth": 2
          }
         }
        },
        "title": {
         "font": {
          "color": "black",
          "family": "Arial",
          "size": 20
         },
         "text": "Sample Line Chart"
        },
        "width": 819,
        "xaxis": {
         "autorange": true,
         "gridcolor": "lightgray",
         "range": [
          0.7396672954896244,
          5.260332704510375
         ],
         "showgrid": true,
         "tickfont": {
          "color": "black",
          "size": 12
         },
         "title": {
          "font": {
           "color": "black",
           "size": 16
          },
          "text": "X Axis"
         },
         "type": "linear"
        },
        "yaxis": {
         "autorange": true,
         "gridcolor": "lightgray",
         "range": [
          7.855915210541392,
          42.14408478945861
         ],
         "showgrid": true,
         "tickfont": {
          "color": "black",
          "size": 12
         },
         "title": {
          "font": {
           "color": "black",
           "size": 16
          },
          "text": "Y Axis"
         },
         "type": "linear"
        }
       }
      },
      "image/png": "[encoded data removed]",
      "text/html": [
       "<div>                            <div id=\"6c7d6c24-4bde-4a64-a823-5074a7a38c2e\" class=\"plotly-graph-div\" style=\"height:578.9px; width:819.0px;\"></div>            <script type=\"text/javascript\">                require([\"plotly\"], function(Plotly) {                    window.PLOTLYENV=window.PLOTLYENV || {};                                    if (document.getElementById(\"6c7d6c24-4bde-4a64-a823-5074a7a38c2e\")) {                    Plotly.newPlot(                        \"6c7d6c24-4bde-4a64-a823-5074a7a38c2e\",                        [{\"line\":{\"color\":\"red\",\"width\":2.5},\"marker\":{\"color\":\"red\",\"size\":8},\"mode\":\"lines+markers\",\"x\":[1,2,3,4,5],\"y\":[10,20,25,30,40],\"type\":\"scatter\"}],                        {\"template\":{\"data\":{\"histogram2dcontour\":[{\"type\":\"histogram2dcontour\",\"colorbar\":{\"outlinewidth\":0,\"ticks\":\"\"},\"colorscale\":[[0.0,\"#0d0887\"],[0.1111111111111111,\"#46039f\"],[0.2222222222222222,\"#7201a8\"],[0.3333333333333333,\"#9c179e\"],[0.4444444444444444,\"#bd3786\"],[0.5555555555555556,\"#d8576b\"],[0.6666666666666666,\"#ed7953\"],[0.7777777777777778,\"#fb9f3a\"],[0.8888888888888888,\"#fdca26\"],[1.0,\"#f0f921\"]]}],\"choropleth\":[{\"type\":\"choropleth\",\"colorbar\":{\"outlinewidth\":0,\"ticks\":\"\"}}],\"histogram2d\":[{\"type\":\"histogram2d\",\"colorbar\":{\"outlinewidth\":0,\"ticks\":\"\"},\"colorscale\":[[0.0,\"#0d0887\"],[0.1111111111111111,\"#46039f\"],[0.2222222222222222,\"#7201a8\"],[0.3333333333333333,\"#9c179e\"],[0.4444444444444444,\"#bd3786\"],[0.5555555555555556,\"#d8576b\"],[0.6666666666666666,\"#ed7953\"],[0.7777777777777778,\"#fb9f3a\"],[0.8888888888888888,\"#fdca26\"],[1.0,\"#f0f921\"]]}],\"heatmap\":[{\"type\":\"heatmap\",\"colorbar\":{\"outlinewidth\":0,\"ticks\":\"\"},\"colorscale\":[[0.0,\"#0d0887\"],[0.1111111111111111,\"#46039f\"],[0.2222222222222222,\"#7201a8\"],[0.3333333333333333,\"#9c179e\"],[0.4444444444444444,\"#bd3786\"],[0.5555555555555556,\"#d8576b\"],[0.6666666666666666,\"#ed7953\"],[0.7777777777777778,\"#fb9f3a\"],[0.8888888888888888,\"#fdca26\"],[1.0,\"#f0f921\"]]}],\"heatmapgl\":[{\"type\":\"heatmapgl\",\"colorbar\":{\"outlinewidth\":0,\"ticks\":\"\"},\"colorscale\":[[0.0,\"#0d0887\"],[0.1111111111111111,\"#46039f\"],[0.2222222222222222,\"#7201a8\"],[0.3333333333333333,\"#9c179e\"],[0.4444444444444444,\"#bd3786\"],[0.5555555555555556,\"#d8576b\"],[0.6666666666666666,\"#ed7953\"],[0.7777777777777778,\"#fb9f3a\"],[0.8888888888888888,\"#fdca26\"],[1.0,\"#f0f921\"]]}],\"contourcarpet\":[{\"type\":\"contourcarpet\",\"colorbar\":{\"outlinewidth\":0,\"ticks\":\"\"}}],\"contour\":[{\"type\":\"contour\",\"colorbar\":{\"outlinewidth\":0,\"ticks\":\"\"},\"colorscale\":[[0.0,\"#0d0887\"],[0.1111111111111111,\"#46039f\"],[0.2222222222222222,\"#7201a8\"],[0.3333333333333333,\"#9c179e\"],[0.4444444444444444,\"#bd3786\"],[0.5555555555555556,\"#d8576b\"],[0.6666666666666666,\"#ed7953\"],[0.7777777777777778,\"#fb9f3a\"],[0.8888888888888888,\"#fdca26\"],[1.0,\"#f0f921\"]]}],\"surface\":[{\"type\":\"surface\",\"colorbar\":{\"outlinewidth\":0,\"ticks\":\"\"},\"colorscale\":[[0.0,\"#0d0887\"],[0.1111111111111111,\"#46039f\"],[0.2222222222222222,\"#7201a8\"],[0.3333333333333333,\"#9c179e\"],[0.4444444444444444,\"#bd3786\"],[0.5555555555555556,\"#d8576b\"],[0.6666666666666666,\"#ed7953\"],[0.7777777777777778,\"#fb9f3a\"],[0.8888888888888888,\"#fdca26\"],[1.0,\"#f0f921\"]]}],\"mesh3d\":[{\"type\":\"mesh3d\",\"colorbar\":{\"outlinewidth\":0,\"ticks\":\"\"}}],\"scatter\":[{\"fillpattern\":{\"fillmode\":\"overlay\",\"size\":10,\"solidity\":0.2},\"type\":\"scatter\"}],\"parcoords\":[{\"type\":\"parcoords\",\"line\":{\"colorbar\":{\"outlinewidth\":0,\"ticks\":\"\"}}}],\"scatterpolargl\":[{\"type\":\"scatterpolargl\",\"marker\":{\"colorbar\":{\"outlinewidth\":0,\"ticks\":\"\"}}}],\"bar\":[{\"error_x\":{\"color\":\"#2a3f5f\"},\"error_y\":{\"color\":\"#2a3f5f\"},\"marker\":{\"line\":{\"color\":\"#E5ECF6\",\"width\":0.5},\"pattern\":{\"fillmode\":\"overlay\",\"size\":10,\"solidity\":0.2}},\"type\":\"bar\"}],\"scattergeo\":[{\"type\":\"scattergeo\",\"marker\":{\"colorbar\":{\"outlinewidth\":0,\"ticks\":\"\"}}}],\"scatterpolar\":[{\"type\":\"scatterpolar\",\"marker\":{\"colorbar\":{\"outlinewidth\":0,\"ticks\":\"\"}}}],\"histogram\":[{\"marker\":{\"pattern\":{\"fillmode\":\"overlay\",\"size\":10,\"solidity\":0.2}},\"type\":\"histogram\"}],\"scattergl\":[{\"type\":\"scattergl\",\"marker\":{\"colorbar\":{\"outlinewidth\":0,\"ticks\":\"\"}}}],\"scatter3d\":[{\"type\":\"scatter3d\",\"line\":{\"colorbar\":{\"outlinewidth\":0,\"ticks\":\"\"}},\"marker\":{\"colorbar\":{\"outlinewidth\":0,\"ticks\":\"\"}}}],\"scattermapbox\":[{\"type\":\"scattermapbox\",\"marker\":{\"colorbar\":{\"outlinewidth\":0,\"ticks\":\"\"}}}],\"scatterternary\":[{\"type\":\"scatterternary\",\"marker\":{\"colorbar\":{\"outlinewidth\":0,\"ticks\":\"\"}}}],\"scattercarpet\":[{\"type\":\"scattercarpet\",\"marker\":{\"colorbar\":{\"outlinewidth\":0,\"ticks\":\"\"}}}],\"carpet\":[{\"aaxis\":{\"endlinecolor\":\"#2a3f5f\",\"gridcolor\":\"white\",\"linecolor\":\"white\",\"minorgridcolor\":\"white\",\"startlinecolor\":\"#2a3f5f\"},\"baxis\":{\"endlinecolor\":\"#2a3f5f\",\"gridcolor\":\"white\",\"linecolor\":\"white\",\"minorgridcolor\":\"white\",\"startlinecolor\":\"#2a3f5f\"},\"type\":\"carpet\"}],\"table\":[{\"cells\":{\"fill\":{\"color\":\"#EBF0F8\"},\"line\":{\"color\":\"white\"}},\"header\":{\"fill\":{\"color\":\"#C8D4E3\"},\"line\":{\"color\":\"white\"}},\"type\":\"table\"}],\"barpolar\":[{\"marker\":{\"line\":{\"color\":\"#E5ECF6\",\"width\":0.5},\"pattern\":{\"fillmode\":\"overlay\",\"size\":10,\"solidity\":0.2}},\"type\":\"barpolar\"}],\"pie\":[{\"automargin\":true,\"type\":\"pie\"}]},\"layout\":{\"autotypenumbers\":\"strict\",\"colorway\":[\"#636efa\",\"#EF553B\",\"#00cc96\",\"#ab63fa\",\"#FFA15A\",\"#19d3f3\",\"#FF6692\",\"#B6E880\",\"#FF97FF\",\"#FECB52\"],\"font\":{\"color\":\"#2a3f5f\"},\"hovermode\":\"closest\",\"hoverlabel\":{\"align\":\"left\"},\"paper_bgcolor\":\"white\",\"plot_bgcolor\":\"#E5ECF6\",\"polar\":{\"bgcolor\":\"#E5ECF6\",\"angularaxis\":{\"gridcolor\":\"white\",\"linecolor\":\"white\",\"ticks\":\"\"},\"radialaxis\":{\"gridcolor\":\"white\",\"linecolor\":\"white\",\"ticks\":\"\"}},\"ternary\":{\"bgcolor\":\"#E5ECF6\",\"aaxis\":{\"gridcolor\":\"white\",\"linecolor\":\"white\",\"ticks\":\"\"},\"baxis\":{\"gridcolor\":\"white\",\"linecolor\":\"white\",\"ticks\":\"\"},\"caxis\":{\"gridcolor\":\"white\",\"linecolor\":\"white\",\"ticks\":\"\"}},\"coloraxis\":{\"colorbar\":{\"outlinewidth\":0,\"ticks\":\"\"}},\"colorscale\":{\"sequential\":[[0.0,\"#0d0887\"],[0.1111111111111111,\"#46039f\"],[0.2222222222222222,\"#7201a8\"],[0.3333333333333333,\"#9c179e\"],[0.4444444444444444,\"#bd3786\"],[0.5555555555555556,\"#d8576b\"],[0.6666666666666666,\"#ed7953\"],[0.7777777777777778,\"#fb9f3a\"],[0.8888888888888888,\"#fdca26\"],[1.0,\"#f0f921\"]],\"sequentialminus\":[[0.0,\"#0d0887\"],[0.1111111111111111,\"#46039f\"],[0.2222222222222222,\"#7201a8\"],[0.3333333333333333,\"#9c179e\"],[0.4444444444444444,\"#bd3786\"],[0.5555555555555556,\"#d8576b\"],[0.6666666666666666,\"#ed7953\"],[0.7777777777777778,\"#fb9f3a\"],[0.8888888888888888,\"#fdca26\"],[1.0,\"#f0f921\"]],\"diverging\":[[0,\"#8e0152\"],[0.1,\"#c51b7d\"],[0.2,\"#de77ae\"],[0.3,\"#f1b6da\"],[0.4,\"#fde0ef\"],[0.5,\"#f7f7f7\"],[0.6,\"#e6f5d0\"],[0.7,\"#b8e186\"],[0.8,\"#7fbc41\"],[0.9,\"#4d9221\"],[1,\"#276419\"]]},\"xaxis\":{\"gridcolor\":\"white\",\"linecolor\":\"white\",\"ticks\":\"\",\"title\":{\"standoff\":15},\"zerolinecolor\":\"white\",\"automargin\":true,\"zerolinewidth\":2},\"yaxis\":{\"gridcolor\":\"white\",\"linecolor\":\"white\",\"ticks\":\"\",\"title\":{\"standoff\":15},\"zerolinecolor\":\"white\",\"automargin\":true,\"zerolinewidth\":2},\"scene\":{\"xaxis\":{\"backgroundcolor\":\"#E5ECF6\",\"gridcolor\":\"white\",\"linecolor\":\"white\",\"showbackground\":true,\"ticks\":\"\",\"zerolinecolor\":\"white\",\"gridwidth\":2},\"yaxis\":{\"backgroundcolor\":\"#E5ECF6\",\"gridcolor\":\"white\",\"linecolor\":\"white\",\"showbackground\":true,\"ticks\":\"\",\"zerolinecolor\":\"white\",\"gridwidth\":2},\"zaxis\":{\"backgroundcolor\":\"#E5ECF6\",\"gridcolor\":\"white\",\"linecolor\":\"white\",\"showbackground\":true,\"ticks\":\"\",\"zerolinecolor\":\"white\",\"gridwidth\":2}},\"shapedefaults\":{\"line\":{\"color\":\"#2a3f5f\"}},\"annotationdefaults\":{\"arrowcolor\":\"#2a3f5f\",\"arrowhead\":0,\"arrowwidth\":1},\"geo\":{\"bgcolor\":\"white\",\"landcolor\":\"#E5ECF6\",\"subunitcolor\":\"white\",\"showland\":true,\"showlakes\":true,\"lakecolor\":\"white\"},\"title\":{\"x\":0.05},\"mapbox\":{\"style\":\"light\"}}},\"title\":{\"font\":{\"size\":20,\"family\":\"Arial\",\"color\":\"black\"},\"text\":\"Sample Line Chart\"},\"xaxis\":{\"title\":{\"text\":\"X Axis\",\"font\":{\"size\":16,\"color\":\"black\"}},\"tickfont\":{\"size\":12,\"color\":\"black\"},\"showgrid\":true,\"gridcolor\":\"lightgray\"},\"yaxis\":{\"title\":{\"text\":\"Y Axis\",\"font\":{\"size\":16,\"color\":\"black\"}},\"tickfont\":{\"size\":12,\"color\":\"black\"},\"showgrid\":true,\"gridcolor\":\"lightgray\"},\"plot_bgcolor\":\"white\",\"paper_bgcolor\":\"white\",\"width\":819.0,\"height\":578.9},                        {\"responsive\": true}                    ).then(function(){\n",
       "                            \n",
       "var gd = document.getElementById('6c7d6c24-4bde-4a64-a823-5074a7a38c2e');\n",
       "var x = new MutationObserver(function (mutations, observer) {{\n",
       "        var display = window.getComputedStyle(gd).display;\n",
       "        if (!display || display === 'none') {{\n",
       "            console.log([gd, 'removed!']);\n",
       "            Plotly.purge(gd);\n",
       "            observer.disconnect();\n",
       "        }}\n",
       "}});\n",
       "\n",
       "// Listen for the removal of the full notebook cells\n",
       "var notebookContainer = gd.closest('#notebook-container');\n",
       "if (notebookContainer) {{\n",
       "    x.observe(notebookContainer, {childList: true});\n",
       "}}\n",
       "\n",
       "// Listen for the clearing of the current output cell\n",
       "var outputEl = gd.closest('.output');\n",
       "if (outputEl) {{\n",
       "    x.observe(outputEl, {childList: true});\n",
       "}}\n",
       "\n",
       "                        })                };                });            </script>        </div>"
      ]
     },
     "metadata": {},
     "output_type": "display_data"
    }
   ],
   "source": [
    "import plotly.graph_objects as go\n",
    "\n",
    "# Sample data\n",
    "x = [1, 2, 3, 4, 5]\n",
    "y = [10, 20, 25, 30, 40]\n",
    "\n",
    "# Create the line chart using Plotly with adjusted aspect ratio\n",
    "fig = go.Figure()\n",
    "\n",
    "# Add trace for the line with markers\n",
    "fig.add_trace(go.Scatter(\n",
    "    x=x, y=y, mode='lines+markers', marker=dict(color='red', size=8), line=dict(color='red', width=2.5)\n",
    "))\n",
    "\n",
    "# Customize layout for a white background with gray grid lines and square aspect ratio\n",
    "fig.update_layout(\n",
    "    title=dict(text=\"Sample Line Chart\", font=dict(size=20, family='Arial', color='black')),\n",
    "    xaxis=dict(title=\"X Axis\", titlefont=dict(size=16, color='black'), tickfont=dict(size=12, color='black')),\n",
    "    yaxis=dict(title=\"Y Axis\", titlefont=dict(size=16, color='black'), tickfont=dict(size=12, color='black')),\n",
    "    plot_bgcolor='white',\n",
    "    paper_bgcolor='white',\n",
    "    xaxis_showgrid=True, \n",
    "    yaxis_showgrid=True,\n",
    "    xaxis_gridcolor='lightgray',\n",
    "    yaxis_gridcolor='lightgray',\n",
    "    width=1170*.7,  # Set width and height to be equal for a square aspect ratio\n",
    "    height=827*.7\n",
    ")\n",
    "\n",
    "# Display the plot\n",
    "fig.show()"
   ]
  },
  {
   "cell_type": "code",
   "execution_count": 61,
   "id": "39df4484-4a88-4afc-9495-8b368a2da309",
   "metadata": {
    "editable": true,
    "slideshow": {
     "slide_type": "subslide"
    },
    "tags": []
   },
   "outputs": [
    {
     "data": {
      "text/html": [
       "\n",
       "            <div id=\"H1aLaI\"></div>\n",
       "            <script type=\"text/javascript\" data-lets-plot-script=\"library\">\n",
       "                if(!window.letsPlotCallQueue) {\n",
       "                    window.letsPlotCallQueue = [];\n",
       "                }; \n",
       "                window.letsPlotCall = function(f) {\n",
       "                    window.letsPlotCallQueue.push(f);\n",
       "                };\n",
       "                (function() {\n",
       "                    var script = document.createElement(\"script\");\n",
       "                    script.type = \"text/javascript\";\n",
       "                    script.src = \"https://cdn.jsdelivr.net/gh/JetBrains/lets-plot@v4.2.0/js-package/distr/lets-plot.min.js\";\n",
       "                    script.onload = function() {\n",
       "                        window.letsPlotCall = function(f) {f();};\n",
       "                        window.letsPlotCallQueue.forEach(function(f) {f();});\n",
       "                        window.letsPlotCallQueue = [];\n",
       "                        \n",
       "                    };\n",
       "                    script.onerror = function(event) {\n",
       "                        window.letsPlotCall = function(f) {};    // noop\n",
       "                        window.letsPlotCallQueue = [];\n",
       "                        var div = document.createElement(\"div\");\n",
       "                        div.style.color = 'darkred';\n",
       "                        div.textContent = 'Error loading Lets-Plot JS';\n",
       "                        document.getElementById(\"H1aLaI\").appendChild(div);\n",
       "                    };\n",
       "                    var e = document.getElementById(\"H1aLaI\");\n",
       "                    e.appendChild(script);\n",
       "                })()\n",
       "            </script>\n",
       "            "
      ]
     },
     "metadata": {},
     "output_type": "display_data"
    },
    {
     "data": {
      "text/html": [
       "   <div id=\"pa7OXI\"></div>\n",
       "   <script type=\"text/javascript\" data-lets-plot-script=\"plot\">\n",
       "       (function() {\n",
       "           var plotSpec={\n",
       "\"data\":{\n",
       "\"x\":[1.0,2.0,3.0,4.0,5.0],\n",
       "\"y\":[10.0,20.0,25.0,30.0,40.0]\n",
       "},\n",
       "\"mapping\":{\n",
       "\"x\":\"x\",\n",
       "\"y\":\"y\"\n",
       "},\n",
       "\"data_meta\":{\n",
       "},\n",
       "\"ggtitle\":{\n",
       "\"text\":\"Sample Line Chart\"\n",
       "},\n",
       "\"theme\":{\n",
       "\"axis_title_x\":{\n",
       "\"color\":\"black\",\n",
       "\"face\":\"bold\",\n",
       "\"size\":16.0,\n",
       "\"blank\":false\n",
       "},\n",
       "\"axis_title_y\":{\n",
       "\"color\":\"black\",\n",
       "\"face\":\"bold\",\n",
       "\"size\":16.0,\n",
       "\"blank\":false\n",
       "},\n",
       "\"axis_text\":{\n",
       "\"color\":\"black\",\n",
       "\"size\":12.0,\n",
       "\"blank\":false\n",
       "},\n",
       "\"panel_background\":{\n",
       "\"fill\":\"white\",\n",
       "\"blank\":false\n",
       "},\n",
       "\"panel_grid_major\":{\n",
       "\"color\":\"lightgray\",\n",
       "\"size\":0.7,\n",
       "\"blank\":false\n",
       "},\n",
       "\"plot_background\":{\n",
       "\"fill\":\"white\",\n",
       "\"blank\":false\n",
       "},\n",
       "\"plot_title\":{\n",
       "\"color\":\"black\",\n",
       "\"face\":\"bold\",\n",
       "\"size\":20.0,\n",
       "\"blank\":false\n",
       "}\n",
       "},\n",
       "\"ggsize\":{\n",
       "\"width\":819.0,\n",
       "\"height\":578.0\n",
       "},\n",
       "\"kind\":\"plot\",\n",
       "\"scales\":[{\n",
       "\"name\":\"X Axis\",\n",
       "\"aesthetic\":\"x\"\n",
       "},{\n",
       "\"name\":\"Y Axis\",\n",
       "\"aesthetic\":\"y\"\n",
       "}],\n",
       "\"layers\":[{\n",
       "\"geom\":\"line\",\n",
       "\"mapping\":{\n",
       "},\n",
       "\"data_meta\":{\n",
       "},\n",
       "\"color\":\"red\",\n",
       "\"size\":1.5,\n",
       "\"data\":{\n",
       "}\n",
       "},{\n",
       "\"geom\":\"point\",\n",
       "\"mapping\":{\n",
       "},\n",
       "\"data_meta\":{\n",
       "},\n",
       "\"color\":\"red\",\n",
       "\"size\":3.0,\n",
       "\"data\":{\n",
       "}\n",
       "}],\n",
       "\"metainfo_list\":[]\n",
       "};\n",
       "           var plotContainer = document.getElementById(\"pa7OXI\");\n",
       "           window.letsPlotCall(function() {{\n",
       "               LetsPlot.buildPlotFromProcessedSpecs(plotSpec, -1, -1, plotContainer);\n",
       "           }});\n",
       "       })();    \n",
       "   </script>"
      ]
     },
     "metadata": {},
     "output_type": "display_data"
    }
   ],
   "source": [
    "from lets_plot import *\n",
    "import pandas as pd\n",
    "\n",
    "# Initialize Lets-Plot for display\n",
    "LetsPlot.setup_html()\n",
    "\n",
    "# Sample data\n",
    "x = [1, 2, 3, 4, 5]\n",
    "y = [10, 20, 25, 30, 40]\n",
    "data = pd.DataFrame({'x': x, 'y': y})\n",
    "\n",
    "# Set width and height based on the specified dimensions\n",
    "width = int(1170 * 0.7)\n",
    "height = int(827 * 0.7)\n",
    "\n",
    "# Create the plot with labeled axes\n",
    "p = (ggplot(data, aes(x='x', y='y'))\n",
    "     + geom_line(color='red', size=1.5)\n",
    "     + geom_point(color='red', size=3)\n",
    "     + ggtitle(\"Sample Line Chart\")\n",
    "     + xlab(\"X Axis\")   # Label for X-axis\n",
    "     + ylab(\"Y Axis\")   # Label for Y-axis\n",
    "     + theme(\n",
    "         plot_background=element_rect(fill='white'),       # Set overall background to white\n",
    "         panel_background=element_rect(fill='white'),      # Background behind the plot area\n",
    "         panel_grid_major=element_line(color='lightgray', size=0.7),  # Light gray grid lines\n",
    "         plot_title=element_text(size=20, face='bold', color='black'), # Title styling\n",
    "         axis_title_x=element_text(size=16, face='bold', color='black'), # X-axis label styling\n",
    "         axis_title_y=element_text(size=16, face='bold', color='black'), # Y-axis label styling\n",
    "         axis_text=element_text(size=12, color='black')    # Axis tick labels\n",
    "     )\n",
    "     + ggsize(width, height)  # Adjust the size of the plot\n",
    ")\n",
    "\n",
    "# Display the plot\n",
    "p.show()"
   ]
  },
  {
   "cell_type": "code",
   "execution_count": null,
   "id": "ca9f7bdf-caaa-4344-ab28-9d70c80e24c2",
   "metadata": {
    "editable": true,
    "slideshow": {
     "slide_type": ""
    },
    "tags": []
   },
   "outputs": [],
   "source": []
  }
 ],
 "metadata": {
  "kernelspec": {
   "display_name": "Python 3 (ipykernel)",
   "language": "python",
   "name": "python3"
  },
  "language_info": {
   "codemirror_mode": {
    "name": "ipython",
    "version": 3
   },
   "file_extension": ".py",
   "mimetype": "text/x-python",
   "name": "python",
   "nbconvert_exporter": "python",
   "pygments_lexer": "ipython3",
   "version": "3.11.8"
  },
  "widgets": {
   "application/vnd.jupyter.widget-state+json": {
    "state": {},
    "version_major": 2,
    "version_minor": 0
   }
  }
 },
 "nbformat": 4,
 "nbformat_minor": 5
}
