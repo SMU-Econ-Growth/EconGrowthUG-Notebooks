{
 "cells": [
  {
   "cell_type": "markdown",
   "metadata": {
    "editable": true,
    "slideshow": {
     "slide_type": "slide"
    },
    "tags": []
   },
   "source": [
    "#\n",
    "# <center>Introduction to</center> \n",
    "<center><img src=\"./pics/jupyter-logo.png\" alt=\"Jupyter\" width=300/></center>"
   ]
  },
  {
   "cell_type": "markdown",
   "metadata": {
    "slideshow": {
     "slide_type": "slide"
    }
   },
   "source": [
    "**[Jupyter](http://jupyter.org/)** is a \n",
    "\n",
    "* free software\n",
    "* open standards\n",
    "* web services \n",
    "\n",
    "for **interactive computing** across all programming languages."
   ]
  },
  {
   "cell_type": "markdown",
   "metadata": {
    "slideshow": {
     "slide_type": "subslide"
    }
   },
   "source": [
    "Very powerful tool to produce reproducible code and analyses:\n",
    "\n",
    "* Powerful interactive shells:\n",
    "\n",
    "    * Terminal - `jupyter console`\n",
    "    \n",
    "    * Qt-based - `jupyter qtconsole`\n",
    "    \n",
    "    * Notebooks - `jupyter notebook` or `jupyter lab`"
   ]
  },
  {
   "cell_type": "markdown",
   "metadata": {
    "slideshow": {
     "slide_type": "subslide"
    }
   },
   "source": [
    "* A browser-based notebook with support for \n",
    "    * code\n",
    "    * text\n",
    "    * mathematical expressions\n",
    "    * inline plots\n",
    "    * other rich media\n",
    "    * interactive data visualization \n",
    "    * use of GUI toolkits\n",
    "* Flexible, embeddable interpreters to load into your own projects.\n",
    "* Easy to use, high performance tools for parallel computing."
   ]
  },
  {
   "cell_type": "markdown",
   "metadata": {
    "slideshow": {
     "slide_type": "subslide"
    }
   },
   "source": [
    "**Jupyter** is an open-source project that provides open-standards, and services for interactive computing across dozens of programming languages, including ``Python``, ``R``, ``Stata`` and many others used by economists."
   ]
  },
  {
   "cell_type": "markdown",
   "metadata": {
    "slideshow": {
     "slide_type": "slide"
    }
   },
   "source": [
    "# <center>Markdown</center>"
   ]
  },
  {
   "cell_type": "code",
   "execution_count": 1,
   "metadata": {
    "code_folding": [],
    "slideshow": {
     "slide_type": "slide"
    }
   },
   "outputs": [
    {
     "data": {
      "text/html": [
       "\n",
       "        <iframe\n",
       "            width=\"800\"\n",
       "            height=\"400\"\n",
       "            src=\"https://commonmark.org/help/\"\n",
       "            frameborder=\"0\"\n",
       "            allowfullscreen\n",
       "            \n",
       "        ></iframe>\n",
       "        "
      ],
      "text/plain": [
       "<IPython.lib.display.IFrame at 0x1400d27d0>"
      ]
     },
     "execution_count": 1,
     "metadata": {},
     "output_type": "execute_result"
    }
   ],
   "source": [
    "# Import display options for showing websites\n",
    "from IPython.display import IFrame\n",
    "\n",
    "url = 'https://commonmark.org/help/'\n",
    "IFrame(url, width=800, height=400)\n"
   ]
  },
  {
   "cell_type": "markdown",
   "metadata": {
    "slideshow": {
     "slide_type": "subslide"
    }
   },
   "source": [
    "Let's learn some basics of markdown [here](https://commonmark.org/help/tutorial/index.html)"
   ]
  },
  {
   "cell_type": "markdown",
   "metadata": {
    "slideshow": {
     "slide_type": "slide"
    }
   },
   "source": [
    "# <center> Customizing Some elements </center>"
   ]
  },
  {
   "cell_type": "markdown",
   "metadata": {
    "slideshow": {
     "slide_type": "subslide"
    }
   },
   "source": [
    "# <center> Headers </center>"
   ]
  },
  {
   "cell_type": "markdown",
   "metadata": {
    "slideshow": {
     "slide_type": "fragment"
    }
   },
   "source": [
    "```\n",
    "# Header 1\n",
    "## Header 2\n",
    "#### Header 3\n",
    "##### Header 4\n",
    "```"
   ]
  },
  {
   "cell_type": "markdown",
   "metadata": {
    "slideshow": {
     "slide_type": "subslide"
    }
   },
   "source": [
    "# Header 1\n",
    "## Header 2\n",
    "#### Header 3\n",
    "##### Header 4"
   ]
  },
  {
   "cell_type": "markdown",
   "metadata": {
    "slideshow": {
     "slide_type": "subslide"
    }
   },
   "source": [
    "# <center> Text Alignment </center>"
   ]
  },
  {
   "cell_type": "markdown",
   "metadata": {
    "slideshow": {
     "slide_type": "fragment"
    }
   },
   "source": [
    "Use `<center> Text </center>` to center your `Text`. Like so,\n",
    "\n",
    "<center> My Text </center>"
   ]
  },
  {
   "cell_type": "markdown",
   "metadata": {
    "slideshow": {
     "slide_type": "subslide"
    }
   },
   "source": [
    "# <center> Font Colors </center>"
   ]
  },
  {
   "cell_type": "markdown",
   "metadata": {
    "slideshow": {
     "slide_type": "fragment"
    }
   },
   "source": [
    "* Use `<font color='red'> Red text </font>` to write <font color='red'>Red text</font>.\n",
    "\n",
    "* Any of the [following color names can be used](https://www.w3schools.com/colors/colors_names.asp)"
   ]
  },
  {
   "cell_type": "markdown",
   "metadata": {
    "slideshow": {
     "slide_type": "subslide"
    }
   },
   "source": [
    "# <center> Font Size </center>"
   ]
  },
  {
   "cell_type": "markdown",
   "metadata": {
    "slideshow": {
     "slide_type": "fragment"
    }
   },
   "source": [
    "Use `<font size=\"N\"> text of size N</font>` to get text of size N pixels. E.g.,\n",
    "\n",
    "* `<font size=\"1\"> Text of size 1</font>` becomes <font size=\"1\"> Text of size 1</font>\n",
    "\n",
    "* `<font size=\"3\"> Text of size 3</font>` becomes <font size=\"3\"> Text of size 3</font>\n",
    "\n",
    "\n",
    "\n",
    "* `<font size=\"5\"> Text of size 5</font>` becomes <font size=\"5\"> Text of size 5</font>\n",
    "\n",
    "\n",
    "* `<font size=\"10\"> Text of size 10</font>` becomes <font size=\"10\"> Text of size 10</font>\n",
    "\n",
    "\n",
    "\n",
    "\n",
    "* `<font size=\"20\"> Text of size 20</font>` becomes <font size=\"20\"> Text of size 20</font>"
   ]
  },
  {
   "cell_type": "markdown",
   "metadata": {
    "slideshow": {
     "slide_type": "subslide"
    }
   },
   "source": [
    "# <center> Multiple Attributes Simultaneously </center>"
   ]
  },
  {
   "cell_type": "markdown",
   "metadata": {
    "slideshow": {
     "slide_type": "fragment"
    }
   },
   "source": [
    "Use `<span style='property1:value; property2:value; property3:value; property4:value;...'> Our nice text </span>` to produce text with different attributes.\n",
    "\n",
    "\n",
    "<center><span style='background:aqua; color:red; font-family:times; font-size:300%; '> Our nice modified text </span></center>\n",
    "\n",
    "\n",
    "You can see some of the properties and values [here](https://www.w3schools.com/html/html_styles.asp). Markdown can be extended using HTML, so you can personalize and change even more things using HTML code."
   ]
  },
  {
   "cell_type": "markdown",
   "metadata": {
    "slideshow": {
     "slide_type": "subslide"
    }
   },
   "source": [
    "# <center> Alert Cells </center>"
   ]
  },
  {
   "cell_type": "markdown",
   "metadata": {
    "slideshow": {
     "slide_type": "fragment"
    }
   },
   "source": [
    "```html\n",
    "<div class=\"alert alert-block alert-info\">\n",
    "<b>Tip:</b> Use blue boxes (alert-info) for tips and notes. \n",
    "If it’s a note, you don’t have to include the word “Note”.\n",
    "</div>\n",
    "```\n",
    "\n",
    "<div class=\"alert alert-block alert-info\">\n",
    "<b>Tip:</b> Use blue boxes (alert-info) for tips and notes. \n",
    "If it’s a note, you don’t have to include the word “Note”.\n",
    "</div>"
   ]
  },
  {
   "cell_type": "markdown",
   "metadata": {
    "slideshow": {
     "slide_type": "subslide"
    }
   },
   "source": [
    "```html\n",
    "<div class=\"alert alert-block alert-warning\">\n",
    "<b>Example:</b> Use yellow boxes for examples that are not \n",
    "inside code cells, or use for mathematical formulas if needed.\n",
    "</div>\n",
    "```\n",
    "\n",
    "<div class=\"alert alert-block alert-warning\">\n",
    "<b>Example:</b> Use yellow boxes for examples that are not \n",
    "inside code cells, or use for mathematical formulas if needed.\n",
    "</div>"
   ]
  },
  {
   "cell_type": "markdown",
   "metadata": {
    "slideshow": {
     "slide_type": "subslide"
    }
   },
   "source": [
    "```html\n",
    "<div class=\"alert alert-block alert-success\">\n",
    "<b>Up to you:</b> Use green boxes sparingly, and only for some specific \n",
    "purpose that the other boxes can't cover. For example, if you have a lot \n",
    "of related content to link to, maybe you decide to use green boxes for \n",
    "related links from each section of a notebook.\n",
    "</div>\n",
    "```\n",
    "\n",
    "<div class=\"alert alert-block alert-success\">\n",
    "<b>Up to you:</b> Use green boxes sparingly, and only for some specific \n",
    "purpose that the other boxes can't cover. For example, if you have a lot \n",
    "of related content to link to, maybe you decide to use green boxes for \n",
    "related links from each section of a notebook.\n",
    "</div>"
   ]
  },
  {
   "cell_type": "markdown",
   "metadata": {
    "slideshow": {
     "slide_type": "subslide"
    }
   },
   "source": [
    "```html\n",
    "<div class=\"alert alert-block alert-danger\">\n",
    "<b>Just don't:</b> In general, avoid the red boxes. These should only be\n",
    "used for actions that might cause data loss or another major issue.\n",
    "</div>\n",
    "```\n",
    "<div class=\"alert alert-block alert-danger\">\n",
    "<b>Just don't:</b> In general, avoid the red boxes. These should only be\n",
    "used for actions that might cause data loss or another major issue.\n",
    "</div>"
   ]
  },
  {
   "cell_type": "markdown",
   "metadata": {
    "slideshow": {
     "slide_type": "slide"
    }
   },
   "source": [
    "# <center> Creating Tables in Markdown </center>"
   ]
  },
  {
   "cell_type": "markdown",
   "metadata": {
    "slideshow": {
     "slide_type": "fragment"
    }
   },
   "source": [
    "We can create tables very easily\n",
    "```code\n",
    "| Item         | Price     | # In stock |\n",
    "|--------------|-----------|------------|\n",
    "| Juicy Apples | 1.99      | *7*        |\n",
    "| Bananas      | **1.89**  | 5234       |\n",
    "```"
   ]
  },
  {
   "cell_type": "markdown",
   "metadata": {
    "slideshow": {
     "slide_type": "fragment"
    }
   },
   "source": [
    "Becomes\n",
    "\n",
    "| Item         | Price     | # In stock |\n",
    "|--------------|-----------|------------|\n",
    "| Juicy Apples | 1.99      | *7*        |\n",
    "| Bananas      | **1.89**  | 5234       |"
   ]
  },
  {
   "cell_type": "markdown",
   "metadata": {
    "slideshow": {
     "slide_type": "subslide"
    }
   },
   "source": [
    "We can also choose alignment of each column by using `:` in the second line. \n",
    "\n",
    "Left aligned: `:---`\n",
    "Centered: `:---:`\n",
    "Right aligned: `---:`\n",
    "\n",
    "```code\n",
    "| Item         | Price     | # In stock |\n",
    "|:--------------|:-----------:|------------:|\n",
    "| Juicy Apples | 1.99      | *7*        |\n",
    "| Bananas      | **1.89**  | 5234       |\n",
    "```"
   ]
  },
  {
   "cell_type": "markdown",
   "metadata": {
    "slideshow": {
     "slide_type": "fragment"
    }
   },
   "source": [
    "Becomes\n",
    "\n",
    "| Item         | Price     | # In stock |\n",
    "|:--------------|:-----------:|------------:|\n",
    "| Juicy Apples | 1.99      | *7*        |\n",
    "| Bananas      | **1.89**  | 5234       |"
   ]
  },
  {
   "cell_type": "markdown",
   "metadata": {
    "slideshow": {
     "slide_type": "slide"
    }
   },
   "source": [
    "# <center> Math in Markdown </center>"
   ]
  },
  {
   "cell_type": "markdown",
   "metadata": {
    "slideshow": {
     "slide_type": "fragment"
    }
   },
   "source": [
    "We can write math in markdown using $\\LaTeX$. There are two types of math objects:\n",
    "\n",
    "* Inline math: `$a=1$` displays $a=1$\n",
    "\n",
    "* Displayed math: `$$ a=1 $$` displays $$ a=1 $$\n"
   ]
  },
  {
   "cell_type": "markdown",
   "metadata": {
    "slideshow": {
     "slide_type": "subslide"
    }
   },
   "source": [
    "You can write very nice and complex formulas and show your steps using the many options from $\\LaTeX$.\n",
    "\n",
    "* Greek symbols: `$\\greek_symbol_name$`, e.g., \n",
    "\n",
    "    * `$\\alpha$` for $\\alpha$,\n",
    "    * `$\\beta$` for $\\beta$, \n",
    "    * `$\\Gamma$` for $\\Gamma$"
   ]
  },
  {
   "cell_type": "markdown",
   "metadata": {
    "slideshow": {
     "slide_type": "subslide"
    }
   },
   "source": [
    "* Mathematical symbols: \n",
    "\n",
    "    * Sum: `\\sum_{k=0}^N x_k` for $$\\sum_{k=0}^N x_k$$\n",
    "    \n",
    "    * Product: `\\prod_{k=0}^N  x_k` for $$\\prod_{k=0}^N  x_k$$\n",
    "    \n",
    "    * Fractions: `\\frac{x}{y}` for $$\\frac{x}{y}$$"
   ]
  },
  {
   "cell_type": "markdown",
   "metadata": {
    "slideshow": {
     "slide_type": "subslide"
    }
   },
   "source": [
    "* Aligned equations:\n",
    "\n",
    "    Can be created with `\\eqalign{math}` command, e.g.,\n",
    "    \n",
    "    ```$$\\eqalign{\n",
    "(a-b)^2 &= (a-b)(a-b) \\\\\n",
    "        &= a^2 - ab - ba + b^2 \\\\\n",
    "        &= a^2 - 2ab + b^2\n",
    "}$$```\n",
    "\n",
    "produces \n",
    "\n",
    "$$\\eqalign{\n",
    "(a-b)^2 &= (a-b)(a-b) \\\\\n",
    "        &= a^2 - ab - ba + b^2 \\\\\n",
    "        &= a^2 - 2ab + b^2\n",
    "}$$"
   ]
  },
  {
   "cell_type": "markdown",
   "metadata": {
    "slideshow": {
     "slide_type": "subslide"
    }
   },
   "source": [
    "Or as in $\\LaTeX$, using the  `\\begin{align}` and \n",
    "\n",
    "`\\end{align}` commands.\n",
    "\n",
    "```\n",
    "$$\n",
    "\\begin{align}\n",
    "(a-b)^2 &= (a-b)(a-b) \\\\\n",
    "        &= a^2 - ab - ba + b^2 \\\\\n",
    "        &= a^2 - 2ab + b^2\n",
    "\\end{align}\n",
    "$$\n",
    "```\n",
    "\n",
    "produces\n",
    "\n",
    "$$\n",
    "\\begin{align}\n",
    "(a-b)^2 &= (a-b)(a-b) \\\\\n",
    "        &= a^2 - ab - ba + b^2 \\\\\n",
    "        &= a^2 - 2ab + b^2\n",
    "\\end{align}\n",
    "$$\n"
   ]
  },
  {
   "cell_type": "markdown",
   "metadata": {
    "slideshow": {
     "slide_type": "slide"
    }
   },
   "source": [
    "# Want to learn more <img src=\"https://www.markdownguide.org/assets/images/markdown-guide-og.jpg\" alt=\"markdownguide.com\" style=\"width:400px;\"/>"
   ]
  },
  {
   "cell_type": "markdown",
   "metadata": {
    "slideshow": {
     "slide_type": "fragment"
    }
   },
   "source": [
    "Check out [markdownguide.org](https://www.markdownguide.org/)."
   ]
  },
  {
   "cell_type": "markdown",
   "metadata": {
    "slideshow": {
     "slide_type": "slide"
    }
   },
   "source": [
    "# <center> Free Markdown Editor </center>\n",
    "\n",
    "# <center> [https://dillinger.io/](https://dillinger.io/) </center>"
   ]
  },
  {
   "cell_type": "markdown",
   "metadata": {
    "slideshow": {
     "slide_type": "slide"
    }
   },
   "source": [
    "# Exercises"
   ]
  },
  {
   "cell_type": "markdown",
   "metadata": {
    "slideshow": {
     "slide_type": "subslide"
    }
   },
   "source": [
    "<div class=\"alert alert-block alert-warning\">\n",
    "<b>Exercise 1:</b> Write your CV or Resume in markdown. For this, use the <a href=\"https://dillinger.io/\" >dillinger.io editor </a> to create your first Markdown document. Once you are done, download the <b>.md</b> file into a new subdirectory called <b>CV</b> in your <b>EconGrowthUG/notebooks/</b> directory. Export it also as a <b>.pdf</b> file and save it in the same directory.\n",
    "</div>"
   ]
  },
  {
   "cell_type": "markdown",
   "metadata": {
    "slideshow": {
     "slide_type": "fragment"
    }
   },
   "source": [
    "<div class=\"alert alert-block alert-warning\">\n",
    "<b>Exercise 2:</b> Use the markdown document of your CV/Resume to create your first Jupyter Notebook, which you should create and save in the same directory as in Exercise 1. </br>\n",
    "<b> Hint:</b> Copy and paste the whole document into one markdown cell, and split the cell into parts.\n",
    "</div>"
   ]
  },
  {
   "cell_type": "markdown",
   "metadata": {
    "slideshow": {
     "slide_type": "fragment"
    }
   },
   "source": [
    "<div class=\"alert alert-block alert-warning\">\n",
    "<b>Exercise 3:</b> Convert your notebook into a slide deck using RISE. Once you have created it and tested inside Jupyter, download it as <u>Reveal.js slides</u> and save it in the same directory. Add a link to this webpage on your CV.md file. \n",
    "</div>"
   ]
  },
  {
   "cell_type": "markdown",
   "metadata": {
    "slideshow": {
     "slide_type": "subslide"
    }
   },
   "source": [
    "<div class=\"alert alert-block alert-warning\">\n",
    "<b>Exercise 4:</b> Create a new Github repository using this directory, commit, and push your changes.\n",
    "</div>"
   ]
  },
  {
   "cell_type": "markdown",
   "metadata": {
    "slideshow": {
     "slide_type": "fragment"
    }
   },
   "source": [
    "<div class=\"alert alert-block alert-warning\">\n",
    "    <b>Exercise 5:</b> Create a new branch in that Github repository called <b>gh-pages</b>. Rename the <b>CV.html</b> file to <b>index.html</b>. Commit, and push your changes. This will create a website for your slides, which shoudl be located at <a href=\"\"> https://your-github-user.github.io/Name-of-CV-repo/</a>.\n",
    "</div>"
   ]
  },
  {
   "cell_type": "markdown",
   "metadata": {
    "slideshow": {
     "slide_type": "slide"
    },
    "tags": []
   },
   "source": [
    "Notebook written by [Ömer Özak](http://omerozak.com) for his students and anyone wanting to learn. Feel free to use, distribute, or contribute."
   ]
  },
  {
   "cell_type": "markdown",
   "metadata": {
    "slideshow": {
     "slide_type": "-"
    },
    "tags": []
   },
   "source": [
    "[<center><img src=\"https://github.com/measuring-culture/Expanding-Measurement-Culture-Facebook-JRSI/blob/main/pics/SMUlogowWordmarkRB.jpg?raw=true\" width=\"250\"></center>](http://omerozak.com)"
   ]
  }
 ],
 "metadata": {
  "celltoolbar": "Slideshow",
  "kernelspec": {
   "display_name": "Python 3 (ipykernel)",
   "language": "python",
   "name": "python3"
  },
  "language_info": {
   "codemirror_mode": {
    "name": "ipython",
    "version": 3
   },
   "file_extension": ".py",
   "mimetype": "text/x-python",
   "name": "python",
   "nbconvert_exporter": "python",
   "pygments_lexer": "ipython3",
   "version": "3.11.8"
  },
  "nbTranslate": {
   "displayLangs": [
    "*"
   ],
   "hotkey": "alt-t",
   "langInMainMenu": true,
   "sourceLang": "en",
   "targetLang": "fr",
   "useGoogleTranslate": true
  },
  "widgets": {
   "application/vnd.jupyter.widget-state+json": {
    "state": {},
    "version_major": 2,
    "version_minor": 0
   }
  }
 },
 "nbformat": 4,
 "nbformat_minor": 4
}
